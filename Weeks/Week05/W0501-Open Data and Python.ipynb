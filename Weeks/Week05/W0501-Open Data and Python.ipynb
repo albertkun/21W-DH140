{
 "cells": [
  {
   "cell_type": "markdown",
   "metadata": {
    "toc": true
   },
   "source": [
    "<h1>Table of Contents<span class=\"tocSkip\"></span></h1>\n",
    "<div class=\"toc\"><ul class=\"toc-item\"><li><span><a href=\"#Take-notice!\" data-toc-modified-id=\"Take-notice!-1\"><span class=\"toc-item-num\">1&nbsp;&nbsp;</span>Take notice!</a></span></li><li><span><a href=\"#An-Open-Data-case-study:--Hot-spots-for-Arrests-in-LA-over-time\" data-toc-modified-id=\"An-Open-Data-case-study:--Hot-spots-for-Arrests-in-LA-over-time-2\"><span class=\"toc-item-num\">2&nbsp;&nbsp;</span>An Open Data case study:  Hot-spots for Arrests in LA over time</a></span><ul class=\"toc-item\"><li><span><a href=\"#What-is-an-API?\" data-toc-modified-id=\"What-is-an-API?-2.1\"><span class=\"toc-item-num\">2.1&nbsp;&nbsp;</span>What is an API?</a></span></li><li><span><a href=\"#Mini-project:-Mapping-LA-metro-stops\" data-toc-modified-id=\"Mini-project:-Mapping-LA-metro-stops-2.2\"><span class=\"toc-item-num\">2.2&nbsp;&nbsp;</span>Mini project: Mapping LA metro stops</a></span></li><li><span><a href=\"#Data-acquisition\" data-toc-modified-id=\"Data-acquisition-2.3\"><span class=\"toc-item-num\">2.3&nbsp;&nbsp;</span>Data acquisition</a></span><ul class=\"toc-item\"><li><span><a href=\"#Question:\" data-toc-modified-id=\"Question:-2.3.1\"><span class=\"toc-item-num\">2.3.1&nbsp;&nbsp;</span>Question:</a></span></li><li><span><a href=\"#It's-time-to-start-coding:-importing-libraries\" data-toc-modified-id=\"It's-time-to-start-coding:-importing-libraries-2.3.2\"><span class=\"toc-item-num\">2.3.2&nbsp;&nbsp;</span>It's time to start coding: importing libraries</a></span></li><li><span><a href=\"#Creating-a-socrata-client\" data-toc-modified-id=\"Creating-a-socrata-client-2.3.3\"><span class=\"toc-item-num\">2.3.3&nbsp;&nbsp;</span>Creating a socrata client</a></span></li></ul></li><li><span><a href=\"#Import-data-based-on-a-query-string\" data-toc-modified-id=\"Import-data-based-on-a-query-string-2.4\"><span class=\"toc-item-num\">2.4&nbsp;&nbsp;</span>Import data based on a query string</a></span></li><li><span><a href=\"#Data-Exploration-and-Analysis\" data-toc-modified-id=\"Data-Exploration-and-Analysis-2.5\"><span class=\"toc-item-num\">2.5&nbsp;&nbsp;</span>Data Exploration and Analysis</a></span><ul class=\"toc-item\"><li><span><a href=\"#Bar-charts-with-plotly\" data-toc-modified-id=\"Bar-charts-with-plotly-2.5.1\"><span class=\"toc-item-num\">2.5.1&nbsp;&nbsp;</span>Bar charts with plotly</a></span></li></ul></li><li><span><a href=\"#Label-axis\" data-toc-modified-id=\"Label-axis-2.6\"><span class=\"toc-item-num\">2.6&nbsp;&nbsp;</span>Label axis</a></span><ul class=\"toc-item\"><li><span><a href=\"#Stacked-bar-charts\" data-toc-modified-id=\"Stacked-bar-charts-2.6.1\"><span class=\"toc-item-num\">2.6.1&nbsp;&nbsp;</span>Stacked bar charts</a></span></li></ul></li><li><span><a href=\"#Data-prep:-subsetting-your-data\" data-toc-modified-id=\"Data-prep:-subsetting-your-data-2.7\"><span class=\"toc-item-num\">2.7&nbsp;&nbsp;</span>Data prep: subsetting your data</a></span></li><li><span><a href=\"#Data-visualization:-Mapping-with-plotly\" data-toc-modified-id=\"Data-visualization:-Mapping-with-plotly-2.8\"><span class=\"toc-item-num\">2.8&nbsp;&nbsp;</span>Data visualization: Mapping with plotly</a></span></li></ul></li><li><span><a href=\"#Create-a-function\" data-toc-modified-id=\"Create-a-function-3\"><span class=\"toc-item-num\">3&nbsp;&nbsp;</span>Create a function</a></span><ul class=\"toc-item\"><li><span><a href=\"#Bonus:-interactive-dropdowns\" data-toc-modified-id=\"Bonus:-interactive-dropdowns-3.1\"><span class=\"toc-item-num\">3.1&nbsp;&nbsp;</span>Bonus: interactive dropdowns</a></span></li><li><span><a href=\"#Advanced-visualizations:-3D-mapping\" data-toc-modified-id=\"Advanced-visualizations:-3D-mapping-3.2\"><span class=\"toc-item-num\">3.2&nbsp;&nbsp;</span>Advanced visualizations: 3D mapping</a></span><ul class=\"toc-item\"><li><span><a href=\"#Saving-your-kepler-map-as-an-html-page\" data-toc-modified-id=\"Saving-your-kepler-map-as-an-html-page-3.2.1\"><span class=\"toc-item-num\">3.2.1&nbsp;&nbsp;</span>Saving your kepler map as an html page</a></span></li></ul></li></ul></li></ul></div>"
   ]
  },
  {
   "cell_type": "markdown",
   "metadata": {},
   "source": [
    "<div class=\"alert alert-danger\">\n",
    "\n",
    "<h1>Take notice!</h1>\n",
    "<ul>\n",
    "    <li>This class will be recorded</li>\n",
    "</ul>\n",
    "    \n",
    "</div>"
   ]
  },
  {
   "cell_type": "markdown",
   "metadata": {
    "slideshow": {
     "slide_type": "slide"
    }
   },
   "source": [
    "# An Open Data case study:  Hot-spots for Arrests in LA over time\n"
   ]
  },
  {
   "cell_type": "markdown",
   "metadata": {
    "slideshow": {
     "slide_type": "slide"
    }
   },
   "source": [
    "## What is an API?\n",
    "\n",
    "Some examples:\n",
    "\n",
    "Mapping API's\n",
    "\n",
    "- [Google Maps API](https://developers.google.com/maps/documentation/javascript/overview#maps_map_simple-javascript)\n",
    "- [Leaflet](https://leafletjs.com/)\n",
    "- [Mapbox](https://docs.mapbox.com/mapbox-gl-js/example/)\n",
    "\n",
    "Data API's\n",
    "- [Twitter API](https://developer.twitter.com/en)\n",
    "- [Metro API](https://developer.metro.net/api/)\n"
   ]
  },
  {
   "cell_type": "markdown",
   "metadata": {
    "slideshow": {
     "slide_type": "slide"
    }
   },
   "source": [
    "## Mini project: Mapping LA metro stops\n",
    "\n",
    "\n",
    "Let's look at a python approach to working with the Metro API."
   ]
  },
  {
   "cell_type": "code",
   "execution_count": null,
   "metadata": {
    "slideshow": {
     "slide_type": "fragment"
    }
   },
   "outputs": [],
   "source": [
    "# libraries\n",
    "import urllib.request, json \n",
    "import pandas as pd\n",
    "import geopandas as gpd\n",
    "import contextily as ctx\n",
    "import matplotlib.pyplot as plt"
   ]
  },
  {
   "cell_type": "code",
   "execution_count": null,
   "metadata": {
    "slideshow": {
     "slide_type": "slide"
    }
   },
   "outputs": [],
   "source": [
    "# api url for metro stops\n",
    "metro_url = 'https://api.metro.net/agencies/lametro/routes/2/stops/'\n",
    "\n",
    "# call the api and bring the data in\n",
    "with urllib.request.urlopen(metro_url) as url:\n",
    "    data = json.loads(url.read().decode())\n",
    "\n",
    "# convert the data to a dataframe\n",
    "df = pd.json_normalize(data, 'items')\n",
    "df"
   ]
  },
  {
   "cell_type": "code",
   "execution_count": null,
   "metadata": {
    "slideshow": {
     "slide_type": "slide"
    }
   },
   "outputs": [],
   "source": [
    "# convert df to gdf\n",
    "# since data is in lat/lon's assign the crs to WGS84 (epsg:4326)\n",
    "gdf = gpd.GeoDataFrame(df, \n",
    "                       crs='epsg:4326',\n",
    "                       geometry=gpd.points_from_xy(df.longitude, df.latitude))"
   ]
  },
  {
   "cell_type": "code",
   "execution_count": null,
   "metadata": {
    "slideshow": {
     "slide_type": "fragment"
    }
   },
   "outputs": [],
   "source": [
    "gdf.crs"
   ]
  },
  {
   "cell_type": "code",
   "execution_count": null,
   "metadata": {
    "slideshow": {
     "slide_type": "fragment"
    }
   },
   "outputs": [],
   "source": [
    "# reproject to web mercator\n",
    "gdf_web_mercator = gdf.to_crs(epsg=3857)"
   ]
  },
  {
   "cell_type": "code",
   "execution_count": null,
   "metadata": {
    "slideshow": {
     "slide_type": "slide"
    }
   },
   "outputs": [],
   "source": [
    "# map it\n",
    "fig, ax = plt.subplots(figsize=(15,5))\n",
    "\n",
    "gdf_web_mercator.plot(ax=ax, marker='s', color='red')\n",
    "\n",
    "ax.axis('off')\n",
    "\n",
    "ax.set_title('Metro Bus Route 20')\n",
    "\n",
    "ctx.add_basemap(ax)"
   ]
  },
  {
   "cell_type": "markdown",
   "metadata": {
    "slideshow": {
     "slide_type": "slide"
    }
   },
   "source": [
    "Nice. What makes this process **powerful**? And what are potential **pitfalls**?"
   ]
  },
  {
   "cell_type": "markdown",
   "metadata": {
    "slideshow": {
     "slide_type": "slide"
    }
   },
   "source": [
    "## Data acquisition\n",
    "\n",
    "Many governments use <a href=\"https://dev.socrata.com/\" target=\"_blank\">socrata</a> as their platform to serve data to the public. \n",
    "<img src=\"../images/socrata.png\" width=600>"
   ]
  },
  {
   "cell_type": "markdown",
   "metadata": {
    "slideshow": {
     "slide_type": "slide"
    }
   },
   "source": [
    "<table>\n",
    "    <tr>\n",
    "        <td><a href=\"https://opendata.cityofnewyork.us/\" target=\"_blank\"><img src=\"images/ny.png\" width=400></a></td>\n",
    "        <td><a href=\"https://datasf.org/opendata/\" target=\"_blank\"><img src=\"images/sf.png\" width=400></a></td>\n",
    "    </tr>\n",
    "    <tr>\n",
    "        <td><a href=\"https://data.cityofchicago.org/\" target=\"_blank\"><img src=\"images/ch.png\" width=400></a></td>\n",
    "        <td><a href=\"https://data.lacity.org/\" target=\"_blank\"><img src=\"images/la.png\" width=400></a></td>\n",
    "    </tr>\n",
    "</table>"
   ]
  },
  {
   "cell_type": "markdown",
   "metadata": {
    "slideshow": {
     "slide_type": "slide"
    }
   },
   "source": [
    "For this tutorial, we will look at LAPD's arrest data:\n",
    "\n",
    "https://data.lacity.org/A-Safe-City/Arrest-Data-from-2020-to-Present/amvf-fr72"
   ]
  },
  {
   "cell_type": "markdown",
   "metadata": {
    "slideshow": {
     "slide_type": "fragment"
    }
   },
   "source": [
    "The <a href=\"https://dev.socrata.com/docs/endpoints.html\" target=\"_blank\">Socrata API</a> allows direct and real-time access to open data."
   ]
  },
  {
   "cell_type": "markdown",
   "metadata": {
    "slideshow": {
     "slide_type": "fragment"
    }
   },
   "source": [
    "To access the data, we will use the `sodapy` library: https://github.com/xmunoz/sodapy"
   ]
  },
  {
   "cell_type": "markdown",
   "metadata": {
    "slideshow": {
     "slide_type": "slide"
    }
   },
   "source": [
    "Instructions on how to use `sodapy` to access data for this dataset:\n",
    "\n",
    "<a href=\"https://data.lacity.org/A-Safe-City/Arrest-Data-from-2020-to-Present/amvf-fr72\" target=\"_blank\"><img src=\"images/ladata.png\"></a>\n",
    "\n",
    "https://dev.socrata.com/foundry/data.lacity.org/amvf-fr72"
   ]
  },
  {
   "cell_type": "markdown",
   "metadata": {
    "slideshow": {
     "slide_type": "slide"
    }
   },
   "source": [
    "### Question:\n",
    "- What is the difference between exporting the data and using the API?"
   ]
  },
  {
   "cell_type": "markdown",
   "metadata": {
    "slideshow": {
     "slide_type": "slide"
    }
   },
   "source": [
    "### It's time to start coding: importing libraries\n",
    "\n",
    "Let's begin our python journey. First, we identify the libraries we will use, and import them into our project:\n",
    "- `pandas`\n",
    "- `plotly express` - [documentation](https://plotly.com/python/plotly-express/)\n",
    "- `sodapy` - [documentation](https://github.com/xmunoz/sodapy)\n",
    "\n",
    "*Notice that we will NOT be using geopandas! Don't worry, there will still be very rewarding maps in this session*"
   ]
  },
  {
   "cell_type": "code",
   "execution_count": null,
   "metadata": {
    "slideshow": {
     "slide_type": "slide"
    }
   },
   "outputs": [],
   "source": [
    "# for data wrangling\n",
    "import pandas as pd\n",
    "\n",
    "# for interactive plots\n",
    "import plotly.express as px\n",
    "\n",
    "# to import open data\n",
    "from sodapy import Socrata"
   ]
  },
  {
   "cell_type": "markdown",
   "metadata": {
    "slideshow": {
     "slide_type": "slide"
    }
   },
   "source": [
    "### Creating a socrata client\n",
    "Next, we acquire the data using the socrata API. Use the socrata documentation to grab the code syntax for our crime data.\n",
    "- https://dev.socrata.com/foundry/data.lacity.org/amvf-fr72"
   ]
  },
  {
   "cell_type": "code",
   "execution_count": null,
   "metadata": {
    "slideshow": {
     "slide_type": "slide"
    }
   },
   "outputs": [],
   "source": [
    "# connect to the data portal\n",
    "client = Socrata(\"data.lacity.org\", None)\n",
    "\n",
    "# First 2000 results, returned as JSON from API / converted to Python list of\n",
    "# dictionaries by sodapy.\n",
    "results = client.get(\"amvf-fr72\", limit=2000)\n",
    "\n",
    "# Convert to pandas DataFrame\n",
    "df = pd.DataFrame.from_records(results)\n",
    "\n",
    "# print it with .sample, which gives you random rows\n",
    "df.sample(2)"
   ]
  },
  {
   "cell_type": "markdown",
   "metadata": {
    "slideshow": {
     "slide_type": "slide"
    }
   },
   "source": [
    "## Import data based on a query string\n",
    "That's great! But what if you wanted something specific, like \"all arrests in November, 2020?\""
   ]
  },
  {
   "cell_type": "code",
   "execution_count": null,
   "metadata": {
    "slideshow": {
     "slide_type": "fragment"
    }
   },
   "outputs": [],
   "source": [
    "# add a \"where\" statement\n",
    "results = client.get(\"amvf-fr72\", \n",
    "                     limit = 10000, # putting an arbitrary high number (otherwise defaults to 1000)\n",
    "                     where = \"arst_date between '2020-11-01T00:00:00' and '2020-11-30T00:00:00'\"\n",
    "                    )"
   ]
  },
  {
   "cell_type": "code",
   "execution_count": null,
   "metadata": {
    "scrolled": true,
    "slideshow": {
     "slide_type": "fragment"
    }
   },
   "outputs": [],
   "source": [
    "# Convert to pandas DataFrame\n",
    "df = pd.DataFrame.from_records(results)"
   ]
  },
  {
   "cell_type": "markdown",
   "metadata": {
    "slideshow": {
     "slide_type": "slide"
    }
   },
   "source": [
    "## Data Exploration and Analysis"
   ]
  },
  {
   "cell_type": "code",
   "execution_count": null,
   "metadata": {
    "slideshow": {
     "slide_type": "fragment"
    }
   },
   "outputs": [],
   "source": [
    "# how many rows and columns?\n"
   ]
  },
  {
   "cell_type": "code",
   "execution_count": null,
   "metadata": {
    "scrolled": true,
    "slideshow": {
     "slide_type": "fragment"
    }
   },
   "outputs": [],
   "source": [
    "# what fields and datatypes?\n"
   ]
  },
  {
   "cell_type": "code",
   "execution_count": null,
   "metadata": {
    "slideshow": {
     "slide_type": "fragment"
    }
   },
   "outputs": [],
   "source": [
    "# what are the first 5 rows?\n"
   ]
  },
  {
   "cell_type": "markdown",
   "metadata": {
    "slideshow": {
     "slide_type": "slide"
    }
   },
   "source": [
    "### Bar charts with plotly\n",
    "\n",
    "Now, use plotly express to create a bar chart.\n",
    "\n",
    "- https://plotly.com/python/bar-charts/\n",
    "\n",
    "What are the differences between matplotlib and plotly?"
   ]
  },
  {
   "cell_type": "code",
   "execution_count": null,
   "metadata": {
    "slideshow": {
     "slide_type": "slide"
    }
   },
   "outputs": [],
   "source": [
    "# a simple bar chart, putting date on the x-axis\n",
    "px.bar(df,\n",
    "       x='arst_date',\n",
    "       title='LAPD Arrests by Charge Type in November, 2020'\n",
    "      )"
   ]
  },
  {
   "cell_type": "markdown",
   "metadata": {
    "slideshow": {
     "slide_type": "slide"
    }
   },
   "source": [
    "## Label axis\n",
    "\n",
    "In plotly, you can relabel text by providing a dictionary as shown below:"
   ]
  },
  {
   "cell_type": "code",
   "execution_count": null,
   "metadata": {
    "slideshow": {
     "slide_type": "fragment"
    }
   },
   "outputs": [],
   "source": [
    "# add labels by providing a dict\n",
    "px.bar(df,\n",
    "       x='arst_date',\n",
    "       title='LAPD Arrests by Charge Type in November, 2020',\n",
    "       labels={'arst_date':'Arrest date','count':'Number of arrests'}\n",
    "      )"
   ]
  },
  {
   "cell_type": "markdown",
   "metadata": {
    "slideshow": {
     "slide_type": "slide"
    }
   },
   "source": [
    "Let's dig in further... what if we want to see the distribution of charge types by day?"
   ]
  },
  {
   "cell_type": "code",
   "execution_count": null,
   "metadata": {
    "scrolled": true,
    "slideshow": {
     "slide_type": "fragment"
    }
   },
   "outputs": [],
   "source": [
    "# show me distinct value of charges\n",
    "df.grp_description.unique().tolist()"
   ]
  },
  {
   "cell_type": "code",
   "execution_count": null,
   "metadata": {
    "scrolled": true,
    "slideshow": {
     "slide_type": "slide"
    }
   },
   "outputs": [],
   "source": [
    "# show me distinct value of charges\n",
    "arrest_by_charge = df.grp_description.value_counts().reset_index()\n",
    "arrest_by_charge"
   ]
  },
  {
   "cell_type": "code",
   "execution_count": null,
   "metadata": {
    "scrolled": true,
    "slideshow": {
     "slide_type": "slide"
    }
   },
   "outputs": [],
   "source": [
    "# rename the columns\n",
    "arrest_by_charge.columns=['charge','count']\n",
    "arrest_by_charge"
   ]
  },
  {
   "cell_type": "code",
   "execution_count": null,
   "metadata": {
    "scrolled": false,
    "slideshow": {
     "slide_type": "slide"
    }
   },
   "outputs": [],
   "source": [
    "# plot it\n",
    "px.bar(arrest_by_charge,\n",
    "       x='charge',\n",
    "       y='count',\n",
    "       title='LAPD Arrests by Charge Type in November, 2020')"
   ]
  },
  {
   "cell_type": "markdown",
   "metadata": {
    "slideshow": {
     "slide_type": "slide"
    }
   },
   "source": [
    "Now it's your turn!\n",
    "\n",
    "Create a [horizontal chart](https://plotly.com/python/horizontal-bar-charts/) for the same data."
   ]
  },
  {
   "cell_type": "markdown",
   "metadata": {
    "slideshow": {
     "slide_type": "slide"
    }
   },
   "source": [
    "### Stacked bar charts\n",
    "\n",
    "What if you wanted to find out the distribution of crime types per day?"
   ]
  },
  {
   "cell_type": "code",
   "execution_count": null,
   "metadata": {
    "scrolled": true
   },
   "outputs": [],
   "source": [
    "# show me how many arrests per day\n",
    "df.groupby(['arst_date']).rpt_id.count()"
   ]
  },
  {
   "cell_type": "markdown",
   "metadata": {
    "slideshow": {
     "slide_type": "fragment"
    }
   },
   "source": [
    "Why so many columns and numbers? "
   ]
  },
  {
   "cell_type": "markdown",
   "metadata": {
    "slideshow": {
     "slide_type": "slide"
    }
   },
   "source": [
    "The `groupby` function is very powerful. You can group by multiple columns. Here, we create a new variable to find arrest types for each day of the month. Also notice that we are only outputting the `rpt_id` column, the unique identifyer.\n",
    "\n",
    "- [pandas groupby](https://pandas.pydata.org/pandas-docs/stable/reference/api/pandas.DataFrame.groupby.html)"
   ]
  },
  {
   "cell_type": "code",
   "execution_count": null,
   "metadata": {
    "scrolled": true,
    "slideshow": {
     "slide_type": "slide"
    }
   },
   "outputs": [],
   "source": [
    "# ok, group by date and charge, and let's get a count for each\n",
    "df_grouped=df.groupby(['arst_date','grp_description']).count()[['rpt_id']]\n",
    "df_grouped.head(50)"
   ]
  },
  {
   "cell_type": "code",
   "execution_count": null,
   "metadata": {
    "scrolled": true,
    "slideshow": {
     "slide_type": "slide"
    }
   },
   "outputs": [],
   "source": [
    "# ok, group by date and charge, and let's get a count for each\n",
    "df.groupby(['arst_date','grp_description']).rpt_id.count().to_frame()"
   ]
  },
  {
   "cell_type": "markdown",
   "metadata": {},
   "source": [
    "The result is a multi-level, multi-index dataframe! The `rpt_id` column in this output represents \"how many records that were not null.\" Since we know that the `rpt_id` column has no nulls, this represents the count for each crime type per day."
   ]
  },
  {
   "cell_type": "code",
   "execution_count": null,
   "metadata": {
    "slideshow": {
     "slide_type": "slide"
    }
   },
   "outputs": [],
   "source": [
    "# flatten the multi-index, multi-level dataframe\n",
    "df_flat = df_grouped.reset_index()\n",
    "df_flat"
   ]
  },
  {
   "cell_type": "code",
   "execution_count": null,
   "metadata": {},
   "outputs": [],
   "source": [
    "# rename the rpt_id column to count\n",
    "df_flat = df_flat.rename(columns={'rpt_id':'count'})"
   ]
  },
  {
   "cell_type": "code",
   "execution_count": null,
   "metadata": {
    "slideshow": {
     "slide_type": "slide"
    }
   },
   "outputs": [],
   "source": [
    "# make a bar chart\n",
    "px.bar(df_flat,\n",
    "       x='arst_date',\n",
    "       y='count'\n",
    "      )"
   ]
  },
  {
   "cell_type": "code",
   "execution_count": null,
   "metadata": {
    "slideshow": {
     "slide_type": "slide"
    }
   },
   "outputs": [],
   "source": [
    "# make a stacked bar chart\n",
    "px.bar(df_flat,\n",
    "       x='arst_date',\n",
    "       y='count',\n",
    "       color='grp_description' # this creates the \"stack\"\n",
    "      )"
   ]
  },
  {
   "cell_type": "markdown",
   "metadata": {
    "slideshow": {
     "slide_type": "slide"
    }
   },
   "source": [
    "Now it's your turn!\n",
    "\n",
    "* Add a title\n",
    "* Clean up the labels (arst_date, grp_description, etc)"
   ]
  },
  {
   "cell_type": "markdown",
   "metadata": {
    "slideshow": {
     "slide_type": "slide"
    }
   },
   "source": [
    "## Data prep: subsetting your data\n",
    "\n",
    "Let's go back to the original dataset."
   ]
  },
  {
   "cell_type": "code",
   "execution_count": null,
   "metadata": {
    "scrolled": true,
    "slideshow": {
     "slide_type": "fragment"
    }
   },
   "outputs": [],
   "source": [
    "df.info()"
   ]
  },
  {
   "cell_type": "markdown",
   "metadata": {
    "slideshow": {
     "slide_type": "slide"
    }
   },
   "source": [
    "That's a lot of fields. Let's create a subset of the data with just the following fields:\n",
    "\n",
    "- `arst_date`\n",
    "- `age`\n",
    "- `descent_cd`\n",
    "- `grp_description`\n",
    "- `lat`\n",
    "- `lon`\n"
   ]
  },
  {
   "cell_type": "code",
   "execution_count": null,
   "metadata": {
    "slideshow": {
     "slide_type": "slide"
    }
   },
   "outputs": [],
   "source": [
    "# subset the data below (don't forget to add .copy at the end)\n",
    "df_mini = "
   ]
  },
  {
   "cell_type": "code",
   "execution_count": null,
   "metadata": {
    "slideshow": {
     "slide_type": "slide"
    }
   },
   "outputs": [],
   "source": [
    "# get info for our subset data\n",
    "df_mini.info()"
   ]
  },
  {
   "cell_type": "markdown",
   "metadata": {
    "slideshow": {
     "slide_type": "slide"
    }
   },
   "source": [
    "Our `lat` and `lon` columns need to be of data type float. Let's convert them."
   ]
  },
  {
   "cell_type": "code",
   "execution_count": null,
   "metadata": {
    "slideshow": {
     "slide_type": "fragment"
    }
   },
   "outputs": [],
   "source": [
    "# convert lat/lon's to floats\n",
    "df_mini['lat'] = df_mini['lat'].astype(float)\n",
    "df_mini['lon'] = df_mini['lon'].astype(float)\n",
    "df_mini.info()"
   ]
  },
  {
   "cell_type": "markdown",
   "metadata": {
    "slideshow": {
     "slide_type": "slide"
    }
   },
   "source": [
    "What happens if we create a scatter plot, placing `lon` in the x-axis `lat` in the y-axis?"
   ]
  },
  {
   "cell_type": "code",
   "execution_count": null,
   "metadata": {
    "scrolled": false,
    "slideshow": {
     "slide_type": "fragment"
    }
   },
   "outputs": [],
   "source": [
    "px.scatter(df_mini,\n",
    "           x='lon',\n",
    "           y='lat'\n",
    "          )"
   ]
  },
  {
   "cell_type": "markdown",
   "metadata": {
    "slideshow": {
     "slide_type": "slide"
    }
   },
   "source": [
    "Uh oh. We have an outlier. What is it?"
   ]
  },
  {
   "cell_type": "code",
   "execution_count": null,
   "metadata": {
    "slideshow": {
     "slide_type": "fragment"
    }
   },
   "outputs": [],
   "source": [
    "# identify the outlier\n",
    "df_mini[df_mini.lon == 0]"
   ]
  },
  {
   "cell_type": "code",
   "execution_count": null,
   "metadata": {
    "slideshow": {
     "slide_type": "fragment"
    }
   },
   "outputs": [],
   "source": [
    "# in order to drop the outlier, we can \"keep\" the other rows\n",
    "df_mini = df_mini[df_mini.lon != 0]"
   ]
  },
  {
   "cell_type": "code",
   "execution_count": null,
   "metadata": {
    "scrolled": false,
    "slideshow": {
     "slide_type": "slide"
    }
   },
   "outputs": [],
   "source": [
    "# check the plot again\n",
    "px.scatter(df_mini,\n",
    "           x='lon',\n",
    "           y='lat'\n",
    "          )"
   ]
  },
  {
   "cell_type": "markdown",
   "metadata": {
    "slideshow": {
     "slide_type": "slide"
    }
   },
   "source": [
    "## Data visualization: Mapping with plotly\n",
    "Plotly has support for a mapbox slippy map. Have fun with this, and change the `mapbox_style` attribute to any of the following:\n",
    "\n",
    "* `open-street-map`\n",
    "* `white-bg`\n",
    "* `carto-positron`\n",
    "* `carto-darkmatter`\n",
    "* `stamen-terrain`\n",
    "* `stamen-toner`\n",
    "* `stamen-watercolor`\n"
   ]
  },
  {
   "cell_type": "code",
   "execution_count": null,
   "metadata": {
    "slideshow": {
     "slide_type": "slide"
    }
   },
   "outputs": [],
   "source": [
    "fig = px.scatter_mapbox(df_mini,\n",
    "                        lat='lat',\n",
    "                        lon='lon',\n",
    "                        mapbox_style=\"stamen-terrain\")\n",
    "fig.show()"
   ]
  },
  {
   "cell_type": "code",
   "execution_count": null,
   "metadata": {
    "scrolled": false,
    "slideshow": {
     "slide_type": "slide"
    }
   },
   "outputs": [],
   "source": [
    "# before you run this cell, what do you think it will produce?\n",
    "fig = px.scatter_mapbox(df_mini, \n",
    "                        lat=\"lat\", \n",
    "                        lon=\"lon\", \n",
    "                        color=\"descent_cd\",\n",
    "                        labels={'descent_cd':'Race'}\n",
    "                       )\n",
    "\n",
    "fig.update_layout(mapbox_style=\"carto-darkmatter\")\n",
    "\n",
    "fig.show()"
   ]
  },
  {
   "cell_type": "markdown",
   "metadata": {
    "slideshow": {
     "slide_type": "slide"
    }
   },
   "source": [
    "# Create a function\n",
    "\n",
    "As \"cool\" as that map is, it's a jumbled mess. Too many dots of different colors, intermigled in a tight space. The end result? The map does not inform much of any value. Ideally, we would want to create a separate map per race category. We can do so by replicating the cell and changing the value for each category, but that process is *repetitive*. \n",
    "\n",
    "Welcome to the world of functions. According to [W3Schools](https://www.w3schools.com/python/python_functions.asp), a python function is:\n",
    "* A function is a block of code which only runs when it is called.\n",
    "* You can pass data, known as parameters, into a function.\n",
    "* A function can return data as a result.\n",
    "\n",
    "In other words, you create a function (a block of code that does something), and it remains dormant until you call on it. For this lab, let's create a function that creates a map for each race category."
   ]
  },
  {
   "cell_type": "markdown",
   "metadata": {
    "slideshow": {
     "slide_type": "slide"
    }
   },
   "source": [
    "Do you have the hang of it now? Aren't functions *fun*?\n",
    "\n",
    "Look at the function below, and see if you can figure out what it is meant to do:"
   ]
  },
  {
   "cell_type": "code",
   "execution_count": null,
   "metadata": {
    "slideshow": {
     "slide_type": "fragment"
    }
   },
   "outputs": [],
   "source": [
    "def race_map(race='H'):\n",
    "    \n",
    "    fig = px.scatter_mapbox(df_mini[df_mini.descent_cd==race], \n",
    "                            lat=\"lat\", \n",
    "                            lon=\"lon\", \n",
    "                            color=\"descent_cd\",\n",
    "                            labels={'descent_cd':'Race'}\n",
    "                           )\n",
    "\n",
    "    fig.update_layout(mapbox_style=\"carto-darkmatter\")\n",
    "\n",
    "    fig.show()"
   ]
  },
  {
   "cell_type": "code",
   "execution_count": null,
   "metadata": {
    "slideshow": {
     "slide_type": "slide"
    }
   },
   "outputs": [],
   "source": [
    "# call the function (try other values)\n",
    "race_map(race='B')"
   ]
  },
  {
   "cell_type": "markdown",
   "metadata": {
    "slideshow": {
     "slide_type": "slide"
    }
   },
   "source": [
    "## Bonus: interactive dropdowns\n"
   ]
  },
  {
   "cell_type": "code",
   "execution_count": null,
   "metadata": {
    "slideshow": {
     "slide_type": "fragment"
    }
   },
   "outputs": [],
   "source": [
    "from ipywidgets import interact"
   ]
  },
  {
   "cell_type": "code",
   "execution_count": null,
   "metadata": {
    "slideshow": {
     "slide_type": "fragment"
    }
   },
   "outputs": [],
   "source": [
    "race_list = df_mini.descent_cd.unique().tolist()\n",
    "race_list"
   ]
  },
  {
   "cell_type": "code",
   "execution_count": null,
   "metadata": {
    "slideshow": {
     "slide_type": "slide"
    }
   },
   "outputs": [],
   "source": [
    "@interact\n",
    "def race_map(race=race_list):\n",
    "    \n",
    "    fig = px.scatter_mapbox(df_mini[df_mini.descent_cd==race], \n",
    "                            lat=\"lat\", \n",
    "                            lon=\"lon\", \n",
    "                            color=\"descent_cd\",\n",
    "                            labels={'descent_cd':'Race'}\n",
    "                           )\n",
    "\n",
    "    fig.update_layout(mapbox_style=\"carto-darkmatter\")\n",
    "\n",
    "    fig.show()"
   ]
  },
  {
   "cell_type": "markdown",
   "metadata": {
    "slideshow": {
     "slide_type": "slide"
    }
   },
   "source": [
    "## Advanced visualizations: 3D mapping\n",
    "- https://kepler.gl/"
   ]
  },
  {
   "cell_type": "markdown",
   "metadata": {
    "slideshow": {
     "slide_type": "fragment"
    }
   },
   "source": [
    "<img src=\"images/kepler.png\" width=800>"
   ]
  },
  {
   "cell_type": "markdown",
   "metadata": {
    "slideshow": {
     "slide_type": "slide"
    }
   },
   "source": [
    "Import the keplergl library."
   ]
  },
  {
   "cell_type": "code",
   "execution_count": null,
   "metadata": {
    "slideshow": {
     "slide_type": "fragment"
    }
   },
   "outputs": [],
   "source": [
    "from keplergl import KeplerGl"
   ]
  },
  {
   "cell_type": "markdown",
   "metadata": {
    "slideshow": {
     "slide_type": "slide"
    }
   },
   "source": [
    "Create a default kepler map."
   ]
  },
  {
   "cell_type": "code",
   "execution_count": null,
   "metadata": {
    "scrolled": false,
    "slideshow": {
     "slide_type": "slide"
    }
   },
   "outputs": [],
   "source": [
    "map = KeplerGl(height=600,width=800)\n",
    "map"
   ]
  },
  {
   "cell_type": "markdown",
   "metadata": {
    "slideshow": {
     "slide_type": "slide"
    }
   },
   "source": [
    "Add our `df_mini` as a data layer on the map. Within the kepler widget, manipulate the map \n",
    "- change points to grid cells or hexbins\n",
    "- change the color palette so that hot spots are red\n",
    "- change the color scale from `quantile` to `quansize`\n",
    "- add height to your data\n",
    "- switch to 3D map view\n",
    "- adjust the height of the data cells\n",
    "- add `arst_date` as a filter"
   ]
  },
  {
   "cell_type": "code",
   "execution_count": null,
   "metadata": {
    "slideshow": {
     "slide_type": "fragment"
    }
   },
   "outputs": [],
   "source": [
    "map.add_data(data=df_mini,name='arrests')"
   ]
  },
  {
   "cell_type": "markdown",
   "metadata": {
    "slideshow": {
     "slide_type": "slide"
    }
   },
   "source": [
    "### Saving your kepler map as an html page"
   ]
  },
  {
   "cell_type": "code",
   "execution_count": null,
   "metadata": {
    "slideshow": {
     "slide_type": "-"
    }
   },
   "outputs": [],
   "source": [
    "map.save_to_html(file_name='la_arrests.html',read_only=True)"
   ]
  },
  {
   "cell_type": "markdown",
   "metadata": {},
   "source": [
    "<div class=\"alert alert-info\">\n",
    "Now it's your turn!\n",
    "\n",
    "* Find a socrata based open dataset\n",
    "* Use the sodapy library and import it\n",
    "* Conduct data exploration and analysis\n",
    "* Create two or more plots using the plotly express library\n",
    "* Create map visualization using plotly and/or the KeplerGL libraries\n",
    "* Submit your results to our [Week 5 Gallery Google Doc](https://docs.google.com/document/d/1-l3roBF-234txMJyMDft-KTDzd0p6K10NTGFKvIhaEc/edit?usp=sharing)\n",
    "\n",
    "</div>"
   ]
  },
  {
   "cell_type": "code",
   "execution_count": null,
   "metadata": {},
   "outputs": [],
   "source": []
  }
 ],
 "metadata": {
  "celltoolbar": "Slideshow",
  "kernelspec": {
   "display_name": "Python 3",
   "language": "python",
   "name": "python3"
  },
  "language_info": {
   "codemirror_mode": {
    "name": "ipython",
    "version": 3
   },
   "file_extension": ".py",
   "mimetype": "text/x-python",
   "name": "python",
   "nbconvert_exporter": "python",
   "pygments_lexer": "ipython3",
   "version": "3.8.5"
  },
  "toc": {
   "base_numbering": 1,
   "nav_menu": {},
   "number_sections": true,
   "sideBar": true,
   "skip_h1_title": false,
   "title_cell": "Table of Contents",
   "title_sidebar": "Contents",
   "toc_cell": true,
   "toc_position": {
    "height": "calc(100% - 180px)",
    "left": "10px",
    "top": "150px",
    "width": "198px"
   },
   "toc_section_display": true,
   "toc_window_display": false
  }
 },
 "nbformat": 4,
 "nbformat_minor": 4
}
