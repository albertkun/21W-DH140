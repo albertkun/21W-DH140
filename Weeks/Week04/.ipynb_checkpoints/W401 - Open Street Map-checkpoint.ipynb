{
 "cells": [
  {
   "cell_type": "markdown",
   "metadata": {
    "toc": true
   },
   "source": [
    "<h1>Table of Contents<span class=\"tocSkip\"></span></h1>\n",
    "<div class=\"toc\"><ul class=\"toc-item\"><li><span><a href=\"#Take-notice!\" data-toc-modified-id=\"Take-notice!-1\"><span class=\"toc-item-num\">1&nbsp;&nbsp;</span>Take notice!</a></span><ul class=\"toc-item\"><li><span><a href=\"#What-is-open-street-map?\" data-toc-modified-id=\"What-is-open-street-map?-1.1\"><span class=\"toc-item-num\">1.1&nbsp;&nbsp;</span>What is open street map?</a></span></li><li><span><a href=\"#OSMnx\" data-toc-modified-id=\"OSMnx-1.2\"><span class=\"toc-item-num\">1.2&nbsp;&nbsp;</span>OSMnx</a></span></li></ul></li><li><span><a href=\"#Open-Street-Map\" data-toc-modified-id=\"Open-Street-Map-2\"><span class=\"toc-item-num\">2&nbsp;&nbsp;</span>Open Street Map</a></span><ul class=\"toc-item\"><li><span><a href=\"#Download-visualizing-Open-Street-Map-data\" data-toc-modified-id=\"Download-visualizing-Open-Street-Map-data-2.1\"><span class=\"toc-item-num\">2.1&nbsp;&nbsp;</span>Download visualizing Open Street Map data</a></span></li><li><span><a href=\"#Import-the-libraries\" data-toc-modified-id=\"Import-the-libraries-2.2\"><span class=\"toc-item-num\">2.2&nbsp;&nbsp;</span>Import the libraries</a></span></li><li><span><a href=\"#Define-an-area-of-interest\" data-toc-modified-id=\"Define-an-area-of-interest-2.3\"><span class=\"toc-item-num\">2.3&nbsp;&nbsp;</span>Define an area of interest</a></span></li><li><span><a href=\"#Be-careful!\" data-toc-modified-id=\"Be-careful!-2.4\"><span class=\"toc-item-num\">2.4&nbsp;&nbsp;</span>Be careful!</a></span></li><li><span><a href=\"#Eliminate-unnecessary-columns\" data-toc-modified-id=\"Eliminate-unnecessary-columns-2.5\"><span class=\"toc-item-num\">2.5&nbsp;&nbsp;</span>Eliminate unnecessary columns</a></span></li><li><span><a href=\"#Some-simple-stats\" data-toc-modified-id=\"Some-simple-stats-2.6\"><span class=\"toc-item-num\">2.6&nbsp;&nbsp;</span>Some simple stats</a></span></li><li><span><a href=\"#Make-a-time-chart\" data-toc-modified-id=\"Make-a-time-chart-2.7\"><span class=\"toc-item-num\">2.7&nbsp;&nbsp;</span>Make a time chart</a></span></li></ul></li><li><span><a href=\"#Make-a-building-type-chart\" data-toc-modified-id=\"Make-a-building-type-chart-3\"><span class=\"toc-item-num\">3&nbsp;&nbsp;</span>Make a building type chart</a></span><ul class=\"toc-item\"><li><span><a href=\"#Create-a-horizontal-bar-chart\" data-toc-modified-id=\"Create-a-horizontal-bar-chart-3.1\"><span class=\"toc-item-num\">3.1&nbsp;&nbsp;</span>Create a horizontal bar chart</a></span></li><li><span><a href=\"#Sorting-a-dataframe\" data-toc-modified-id=\"Sorting-a-dataframe-3.2\"><span class=\"toc-item-num\">3.2&nbsp;&nbsp;</span>Sorting a dataframe</a></span></li></ul></li><li><span><a href=\"#Geopandas-Map-Plots\" data-toc-modified-id=\"Geopandas-Map-Plots-4\"><span class=\"toc-item-num\">4&nbsp;&nbsp;</span>Geopandas Map Plots</a></span><ul class=\"toc-item\"><li><span><a href=\"#Color-coding-buildings\" data-toc-modified-id=\"Color-coding-buildings-4.1\"><span class=\"toc-item-num\">4.1&nbsp;&nbsp;</span>Color coding buildings</a></span></li><li><span><a href=\"#Clean-up:-Add-a-title,-move-the-legend,-remove-axis\" data-toc-modified-id=\"Clean-up:-Add-a-title,-move-the-legend,-remove-axis-4.2\"><span class=\"toc-item-num\">4.2&nbsp;&nbsp;</span>Clean up: Add a title, move the legend, remove axis</a></span><ul class=\"toc-item\"><li><span><a href=\"#Move-the-legend\" data-toc-modified-id=\"Move-the-legend-4.2.1\"><span class=\"toc-item-num\">4.2.1&nbsp;&nbsp;</span>Move the legend</a></span></li><li><span><a href=\"#Add-a-title\" data-toc-modified-id=\"Add-a-title-4.2.2\"><span class=\"toc-item-num\">4.2.2&nbsp;&nbsp;</span>Add a title</a></span></li><li><span><a href=\"#Remove-the-axis\" data-toc-modified-id=\"Remove-the-axis-4.2.3\"><span class=\"toc-item-num\">4.2.3&nbsp;&nbsp;</span>Remove the axis</a></span></li></ul></li><li><span><a href=\"#Add-a-basemap\" data-toc-modified-id=\"Add-a-basemap-4.3\"><span class=\"toc-item-num\">4.3&nbsp;&nbsp;</span>Add a basemap</a></span></li></ul></li><li><span><a href=\"#Create-a-function\" data-toc-modified-id=\"Create-a-function-5\"><span class=\"toc-item-num\">5&nbsp;&nbsp;</span>Create a function</a></span></li><li><span><a href=\"#Looping-through-it\" data-toc-modified-id=\"Looping-through-it-6\"><span class=\"toc-item-num\">6&nbsp;&nbsp;</span>Looping through it</a></span></li><li><span><a href=\"#Doing-other-searches\" data-toc-modified-id=\"Doing-other-searches-7\"><span class=\"toc-item-num\">7&nbsp;&nbsp;</span>Doing other searches</a></span></li></ul></div>"
   ]
  },
  {
   "cell_type": "markdown",
   "metadata": {
    "slideshow": {
     "slide_type": "slide"
    }
   },
   "source": [
    "<div class=\"alert alert-danger\">\n",
    "\n",
    "<h1>Take notice!</h1>\n",
    "<ul>\n",
    "    <li>This class will be recorded</li>\n",
    "</ul>\n",
    "    \n",
    "</div>"
   ]
  },
  {
   "cell_type": "markdown",
   "metadata": {
    "slideshow": {
     "slide_type": "slide"
    }
   },
   "source": [
    "## What is open street map?\n",
    "\n",
    "![osm](images/OSM.png)\n",
    "\n",
    "OpenStreetMap (OSM) is a global collaborative (crowd-sourced) dataset and project that aims at creating a free editable map of the world containing a lot of information about our environment. It contains data for example about streets, buildings, different services, and landuse to mention a few. You can view the map at www.openstreetmap.org. You can also sign up as a contributor if you want to edit the map. More details about OpenStreetMap and its contents are available in the OpenStreetMap Wiki.\n",
    "\n",
    "OSM has a large userbase with more than 7 million users and over a million contributers that update actively the OSM database with 3 million changesets per day. In total OSM contains 6.5 billion nodes and counting! (stats from January 2021).\n",
    "\n",
    "OpenStreetMap is used not only for integrating the OSM maps as background maps to visualizations or online maps, but also for many other purposes such as routing, geocoding, education, and research. OSM is also widely used for humanitarian response e.g. in crisis areas (e.g. after natural disasters) and for fostering economic development. Read more about humanitarian projects that use OSM data from the [Humanitarian OpenStreetMap Team (HOTOSM) website](https://www.hotosm.org/).\n",
    "\n",
    "\n",
    "- https://www.openstreetmap.org/\n",
    "- [OSM stats](https://wiki.openstreetmap.org/wiki/Stats)"
   ]
  },
  {
   "cell_type": "markdown",
   "metadata": {
    "slideshow": {
     "slide_type": "slide"
    }
   },
   "source": [
    "## OSMnx\n",
    "\n",
    "<a href=\"https://www.spur.org/publications/urbanist-article/2012-11-09/grand-reductions-10-diagrams-changed-city-planning\" target=\"_blank\"><img src=\"https://www.spur.org/sites/default/files/migrated/images/F22.jpg\" width=400></a>\n",
    "\n",
    "[[Image source]](https://www.spur.org/publications/urbanist-article/2012-11-09/grand-reductions-10-diagrams-changed-city-planning)\n",
    "\n",
    "Allan Jacobs’ seminal treatise Great Streets (1993) takes figure-ground analysis to a new level, showing 50 one-mile-square maps of cities around the world, all drawn to the same scale."
   ]
  },
  {
   "cell_type": "markdown",
   "metadata": {
    "slideshow": {
     "slide_type": "slide"
    }
   },
   "source": [
    "\n",
    "This week we will explore a Python module called OSMnx that can be used to retrieve, construct, analyze, and visualize street networks from OpenStreetMap, and also retrieve data about Points of Interest such as restaurants, schools, and lots of different kind of services. It is also easy to conduct network routing based on walking, cycling or driving by combining OSMnx functionalities with a package called NetworkX.\n",
    "\n",
    "<img src=\"https://i2.wp.com/geoffboeing.com/wp-content/uploads/2017/04/square-mile-street-networks.jpg?resize=768%2C617&ssl=1\" width=400>\n",
    "\n",
    "  - [Overview of OSMnx](http://geoffboeing.com/2016/11/osmnx-python-street-networks/)\n",
    "  - [GitHub repo](https://github.com/gboeing/osmnx)\n",
    "  - [Examples, demos, tutorials](https://github.com/gboeing/osmnx-examples)\n",
    "  - [Documentation](https://osmnx.readthedocs.io/en/stable/)\n",
    "  "
   ]
  },
  {
   "cell_type": "markdown",
   "metadata": {
    "slideshow": {
     "slide_type": "slide"
    }
   },
   "source": [
    "# Open Street Map\n",
    "\n",
    "In this lab, you will learn how to:\n",
    "* use various python libraries to search for and download Open Street Map *building* data\n",
    "* categorize buildings by type\n",
    "* visualize buildings on a map\n",
    "* create a function to produce building maps\n",
    "* create a loop to produce building maps for multiple locations"
   ]
  },
  {
   "cell_type": "markdown",
   "metadata": {
    "slideshow": {
     "slide_type": "slide"
    }
   },
   "source": [
    "## Download visualizing Open Street Map data\n",
    "\n",
    "OSMnx lets you download data from Open Street Map.\n",
    "\n",
    "You can download OSM data by providing OSMnx any of the following:\n",
    "  - a bounding box\n",
    "  - a lat-long point plus a distance\n",
    "  - an address plus a distance\n",
    "  - a place name or list of place names (to automatically geocode and get the boundary of)\n",
    "  - a polygon of the desired street network's boundaries\n",
    "  - a .osm formatted xml file\n"
   ]
  },
  {
   "cell_type": "markdown",
   "metadata": {
    "slideshow": {
     "slide_type": "slide"
    }
   },
   "source": [
    "<div class=\"alert alert-info\">\n",
    "    \n",
    "`osmnx` uses nominatim to geocode and find places. Make sure that the geography you search for is searchable here first:\n",
    "\n",
    "https://nominatim.openstreetmap.org/ui/search.html\n",
    "\n",
    "</div>"
   ]
  },
  {
   "cell_type": "markdown",
   "metadata": {},
   "source": [
    "For the sake of clarity, and effective use of a workshop setting, let's use the \"address plus a distance\" method to download a street network dataset."
   ]
  },
  {
   "cell_type": "markdown",
   "metadata": {
    "slideshow": {
     "slide_type": "slide"
    }
   },
   "source": [
    "## Import the libraries"
   ]
  },
  {
   "cell_type": "code",
   "execution_count": null,
   "metadata": {
    "ExecuteTime": {
     "end_time": "2020-10-21T06:55:52.751236Z",
     "start_time": "2020-10-21T06:55:51.028079Z"
    }
   },
   "outputs": [],
   "source": [
    "# to download osm data\n",
    "import osmnx as ox\n",
    "\n",
    "# to manipulate data\n",
    "import pandas as pd\n",
    "\n",
    "# to manipulate and visualize spatial data\n",
    "import geopandas as gpd\n",
    "\n",
    "# to provide basemaps \n",
    "import contextily as ctx\n",
    "\n",
    "# \n",
    "import matplotlib.pyplot as plt"
   ]
  },
  {
   "cell_type": "markdown",
   "metadata": {
    "slideshow": {
     "slide_type": "slide"
    }
   },
   "source": [
    "## Define an area of interest\n",
    "\n",
    "To import data from Open Street Map, we will use the [geometries_from_address](https://osmnx.readthedocs.io/en/stable/osmnx.html?highlight=geometries_from_address#osmnx.geometries.geometries_from_address) command from OSMnx.\n",
    "\n",
    "First, set some initial search parameters:"
   ]
  },
  {
   "cell_type": "code",
   "execution_count": null,
   "metadata": {
    "slideshow": {
     "slide_type": "fragment"
    }
   },
   "outputs": [],
   "source": [
    "# location\n",
    "address = 'Los Angeles, CA'\n",
    "\n",
    "# tags for what type of data we are getting\n",
    "tags = {'building':True}\n",
    "\n",
    "# distance from location point in meters\n",
    "dist = 1000 "
   ]
  },
  {
   "cell_type": "code",
   "execution_count": null,
   "metadata": {
    "slideshow": {
     "slide_type": "slide"
    }
   },
   "outputs": [],
   "source": [
    "%%time\n",
    "# %%time is a magic command to see how long it takes this cell to run \n",
    "\n",
    "# get the data from OSM \n",
    "osm = ox.geometries_from_address(address,\n",
    "                                 tags=tags,\n",
    "                                 dist=dist)"
   ]
  },
  {
   "cell_type": "markdown",
   "metadata": {
    "slideshow": {
     "slide_type": "slide"
    }
   },
   "source": [
    "<div class=\"alert alert-danger\">\n",
    "    \n",
    "<h2>Be careful!</h2>\n",
    "\n",
    "Buildings are the \"heaviest\" data types to download, as they often encompass thousands of polygons. While you are technically capable of downloading buildings for entire neighborhoods and cities, doing so can easily overwhelm your notebook. Start small, and scale up!\n",
    "</div>"
   ]
  },
  {
   "cell_type": "code",
   "execution_count": null,
   "metadata": {
    "slideshow": {
     "slide_type": "slide"
    }
   },
   "outputs": [],
   "source": [
    "# quick plot\n",
    "osm.plot(figsize=(10,10))"
   ]
  },
  {
   "cell_type": "code",
   "execution_count": null,
   "metadata": {
    "slideshow": {
     "slide_type": "slide"
    }
   },
   "outputs": [],
   "source": [
    "# how many rows and columns?\n",
    "osm.shape"
   ]
  },
  {
   "cell_type": "code",
   "execution_count": null,
   "metadata": {
    "slideshow": {
     "slide_type": "fragment"
    }
   },
   "outputs": [],
   "source": [
    "# what is the datatype?\n",
    "type(osm)"
   ]
  },
  {
   "cell_type": "code",
   "execution_count": null,
   "metadata": {
    "scrolled": true,
    "slideshow": {
     "slide_type": "fragment"
    }
   },
   "outputs": [],
   "source": [
    "# show me 10 random rows\n",
    "osm.sample(10)"
   ]
  },
  {
   "cell_type": "markdown",
   "metadata": {
    "slideshow": {
     "slide_type": "slide"
    }
   },
   "source": [
    "## Eliminate unnecessary columns\n",
    "The dataframe has 85 columns. Let's explore what these are, and which ones are necessary for our use."
   ]
  },
  {
   "cell_type": "code",
   "execution_count": null,
   "metadata": {
    "scrolled": true,
    "slideshow": {
     "slide_type": "fragment"
    }
   },
   "outputs": [],
   "source": [
    "# Get a full list of columns\n",
    "list(osm)"
   ]
  },
  {
   "cell_type": "markdown",
   "metadata": {
    "slideshow": {
     "slide_type": "slide"
    }
   },
   "source": [
    "What are the datatypes and count of null values?"
   ]
  },
  {
   "cell_type": "code",
   "execution_count": null,
   "metadata": {
    "scrolled": true,
    "slideshow": {
     "slide_type": "fragment"
    }
   },
   "outputs": [],
   "source": [
    "# if you have a looooot of columns, add the argument verbose=True\n",
    "osm.info(verbose=True, null_counts=True)"
   ]
  },
  {
   "cell_type": "markdown",
   "metadata": {
    "slideshow": {
     "slide_type": "slide"
    }
   },
   "source": [
    "Really, what we need is just..."
   ]
  },
  {
   "cell_type": "code",
   "execution_count": null,
   "metadata": {
    "slideshow": {
     "slide_type": "fragment"
    }
   },
   "outputs": [],
   "source": [
    "## subset it\n",
    "columns_to_keep = ['geometry','building','height','start_date']\n",
    "osm = osm[columns_to_keep]\n",
    "osm.sample(10)"
   ]
  },
  {
   "cell_type": "markdown",
   "metadata": {
    "slideshow": {
     "slide_type": "slide"
    }
   },
   "source": [
    "## Some simple stats"
   ]
  },
  {
   "cell_type": "code",
   "execution_count": null,
   "metadata": {},
   "outputs": [],
   "source": [
    "osm.info()"
   ]
  },
  {
   "cell_type": "code",
   "execution_count": null,
   "metadata": {
    "slideshow": {
     "slide_type": "slide"
    }
   },
   "outputs": [],
   "source": [
    "# convert height to float\n",
    "osm['height'] = osm['height'].astype(float)\n",
    "osm.info()"
   ]
  },
  {
   "cell_type": "code",
   "execution_count": null,
   "metadata": {
    "slideshow": {
     "slide_type": "slide"
    }
   },
   "outputs": [],
   "source": [
    "osm['height'].describe()"
   ]
  },
  {
   "cell_type": "code",
   "execution_count": null,
   "metadata": {
    "slideshow": {
     "slide_type": "slide"
    }
   },
   "outputs": [],
   "source": [
    "osm['height'].plot.hist(figsize=(10,5),bins=100)"
   ]
  },
  {
   "cell_type": "markdown",
   "metadata": {
    "slideshow": {
     "slide_type": "slide"
    }
   },
   "source": [
    "## Make a time chart"
   ]
  },
  {
   "cell_type": "code",
   "execution_count": null,
   "metadata": {},
   "outputs": [],
   "source": [
    "# summarize data by year and put the results in a dataframe using reset_index\n",
    "osm_date = osm['start_date'].value_counts().reset_index()\n",
    "osm_date"
   ]
  },
  {
   "cell_type": "code",
   "execution_count": null,
   "metadata": {
    "slideshow": {
     "slide_type": "slide"
    }
   },
   "outputs": [],
   "source": [
    "# rename columns (notice the new syntax for renaming specific columns)\n",
    "osm_date = osm_date.rename(columns={'index':'year','start_date':'count'})\n",
    "osm_date"
   ]
  },
  {
   "cell_type": "code",
   "execution_count": null,
   "metadata": {
    "slideshow": {
     "slide_type": "slide"
    }
   },
   "outputs": [],
   "source": [
    "# sort by year\n",
    "osm_date = osm_date.sort_values(by='year')"
   ]
  },
  {
   "cell_type": "code",
   "execution_count": null,
   "metadata": {
    "slideshow": {
     "slide_type": "fragment"
    }
   },
   "outputs": [],
   "source": [
    "# plot it\n",
    "osm_date.plot(figsize=(10,5), x='year', title='Count of buildings and when they were built in ' + address)"
   ]
  },
  {
   "cell_type": "markdown",
   "metadata": {
    "slideshow": {
     "slide_type": "slide"
    }
   },
   "source": [
    "# Make a building type chart\n",
    "Count the unique buildings"
   ]
  },
  {
   "cell_type": "code",
   "execution_count": null,
   "metadata": {
    "scrolled": true
   },
   "outputs": [],
   "source": [
    "osm.building.value_counts()"
   ]
  },
  {
   "cell_type": "code",
   "execution_count": null,
   "metadata": {
    "slideshow": {
     "slide_type": "slide"
    }
   },
   "outputs": [],
   "source": [
    "# replace 'yes'\n",
    "osm.loc[osm['building']=='yes','building'] = 'unassigned'\n",
    "osm.sample(10)"
   ]
  },
  {
   "cell_type": "code",
   "execution_count": null,
   "metadata": {
    "slideshow": {
     "slide_type": "slide"
    }
   },
   "outputs": [],
   "source": [
    "# create a new variable of building counts and put it in a dataframe\n",
    "osm_building_counts = osm.building.value_counts().reset_index()\n",
    "osm_building_counts"
   ]
  },
  {
   "cell_type": "code",
   "execution_count": null,
   "metadata": {
    "scrolled": true,
    "slideshow": {
     "slide_type": "slide"
    }
   },
   "outputs": [],
   "source": [
    "# rename the columns\n",
    "osm_building_counts = osm_building_counts.rename(columns={'index':'building_type','building':'count'})\n",
    "osm_building_counts"
   ]
  },
  {
   "cell_type": "markdown",
   "metadata": {
    "slideshow": {
     "slide_type": "slide"
    }
   },
   "source": [
    "## Create a horizontal bar chart\n",
    "\n",
    "First, let's plot it and see what happens:"
   ]
  },
  {
   "cell_type": "code",
   "execution_count": null,
   "metadata": {
    "scrolled": true
   },
   "outputs": [],
   "source": [
    "osm_building_counts.plot()"
   ]
  },
  {
   "cell_type": "markdown",
   "metadata": {
    "slideshow": {
     "slide_type": "slide"
    }
   },
   "source": [
    "What is it doing? What does it choose to plot by default?\n",
    "\n",
    "Let's change this by specifying a horizontal bar graph `.barh` and adding arguments for size `figsize` and `x`:"
   ]
  },
  {
   "cell_type": "code",
   "execution_count": null,
   "metadata": {
    "scrolled": false
   },
   "outputs": [],
   "source": [
    "osm_building_counts.plot.barh(figsize=(12,6),\n",
    "                                x='building_type')"
   ]
  },
  {
   "cell_type": "markdown",
   "metadata": {
    "slideshow": {
     "slide_type": "slide"
    }
   },
   "source": [
    "## Sorting a dataframe"
   ]
  },
  {
   "cell_type": "markdown",
   "metadata": {},
   "source": [
    "oops! A horizontal bar reverses the order of the values on the y axis. Let's fix that."
   ]
  },
  {
   "cell_type": "code",
   "execution_count": null,
   "metadata": {
    "slideshow": {
     "slide_type": "fragment"
    }
   },
   "outputs": [],
   "source": [
    "# sort it the other way\n",
    "osm_building_counts = osm_building_counts.sort_values(by='count', ascending=True)\n",
    "osm_building_counts"
   ]
  },
  {
   "cell_type": "markdown",
   "metadata": {
    "slideshow": {
     "slide_type": "slide"
    }
   },
   "source": [
    "Now output it again, but this time, only show the \"Top 10\""
   ]
  },
  {
   "cell_type": "code",
   "execution_count": null,
   "metadata": {
    "scrolled": false,
    "slideshow": {
     "slide_type": "fragment"
    }
   },
   "outputs": [],
   "source": [
    "osm_building_counts[-10:].plot.barh(figsize=(12,4),\n",
    "                                      x='building_type',\n",
    "                                      y='count',\n",
    "                                      title=\"Top 10 building types in \"+address)"
   ]
  },
  {
   "cell_type": "code",
   "execution_count": null,
   "metadata": {},
   "outputs": [],
   "source": []
  },
  {
   "cell_type": "markdown",
   "metadata": {
    "slideshow": {
     "slide_type": "slide"
    }
   },
   "source": [
    "<div class=\"alert alert-info\">\n",
    "\n",
    "Now it's your turn! Search for an area of interest, anywhere in the world, create a temporal chart of buildings, and a horizontal bar plot of building types.\n",
    "    \n",
    "Right click on the resulting plots, and paste them into this <a href=\"https://docs.google.com/document/d/1BsJ8QEPzmMno-HeRIMWsZixBH2aKMws8jZqxaz4Vom8/edit#heading=h.hrsjmohvhncw\" target=\"_blank\">Google Document</a>.\n",
    "</div>"
   ]
  },
  {
   "cell_type": "markdown",
   "metadata": {
    "slideshow": {
     "slide_type": "slide"
    }
   },
   "source": [
    "# Geopandas Map Plots\n",
    "\n",
    "Let's return to the original OSM data we downloaded. Remember that the OSMnx `geometries_from_address` command returned a geodataframe of buildings. Let's plot them:"
   ]
  },
  {
   "cell_type": "code",
   "execution_count": null,
   "metadata": {
    "slideshow": {
     "slide_type": "fragment"
    }
   },
   "outputs": [],
   "source": [
    "# check the data type\n",
    "type(osm)"
   ]
  },
  {
   "cell_type": "code",
   "execution_count": null,
   "metadata": {
    "scrolled": false,
    "slideshow": {
     "slide_type": "slide"
    }
   },
   "outputs": [],
   "source": [
    "# plot entire dataset\n",
    "osm.plot(figsize=(10,10))"
   ]
  },
  {
   "cell_type": "code",
   "execution_count": null,
   "metadata": {
    "slideshow": {
     "slide_type": "slide"
    }
   },
   "outputs": [],
   "source": [
    "# plot a single random building\n",
    "osm.sample(1).plot()"
   ]
  },
  {
   "cell_type": "markdown",
   "metadata": {
    "slideshow": {
     "slide_type": "slide"
    }
   },
   "source": [
    "## Color coding buildings\n",
    "Use the `column` argument to assign a column in the dataframe to color the polygons. If the column is numerical, it will poduce a numerically sequential map. If the column is categorical, it will produce a categorically colored map (a different color assigned to each distinct category).\n",
    "\n",
    "You can use the `cmap` argument to assign a color palette. Find all the available options for `cmap` here:\n",
    "- https://matplotlib.org/3.1.1/gallery/color/colormap_reference.html"
   ]
  },
  {
   "cell_type": "code",
   "execution_count": null,
   "metadata": {
    "scrolled": false,
    "slideshow": {
     "slide_type": "slide"
    }
   },
   "outputs": [],
   "source": [
    "osm.plot(figsize=(10,10),\n",
    "         column='building',\n",
    "         cmap='tab20',\n",
    "         legend=True)"
   ]
  },
  {
   "cell_type": "markdown",
   "metadata": {
    "slideshow": {
     "slide_type": "slide"
    }
   },
   "source": [
    "## Clean up: Add a title, move the legend, remove axis\n",
    "\n",
    "### Move the legend\n",
    "\n",
    "Moving the legend is surprisingly difficult to do. There are two key/value pairs that you need to pass using the `legend_kwds` argument. The `loc` and `bbox_to_anchor` values allow you to locate the legend outside the plot. Here is a good explanation of how that is done:\n",
    "\n",
    "* https://stackoverflow.com/questions/4700614/how-to-put-the-legend-out-of-the-plot/43439132#43439132\n",
    "\n",
    "### Add a title\n",
    "Use `ax.set_title()` to add a title to the chart.\n",
    "\n",
    "### Remove the axis\n",
    "\n",
    "Turn off the axis with the `ax.axis('off')` statement.\n",
    "\n"
   ]
  },
  {
   "cell_type": "code",
   "execution_count": null,
   "metadata": {
    "scrolled": false,
    "slideshow": {
     "slide_type": "slide"
    }
   },
   "outputs": [],
   "source": [
    "# use subplots to set up the canvas\n",
    "fig, ax = plt.subplots(figsize=(10,10))\n",
    "\n",
    "# create the map plot\n",
    "osm.plot(ax = ax,\n",
    "         figsize=(10,10),\n",
    "         column='building',\n",
    "         cmap='tab20',\n",
    "         legend=True,\n",
    "         legend_kwds={'loc':'upper left','bbox_to_anchor':(1,1)})\n",
    "\n",
    "# add a title\n",
    "ax.set_title('Building types in ' + address)\n",
    "\n",
    "# get rid of the axis\n",
    "ax.axis('off')"
   ]
  },
  {
   "cell_type": "markdown",
   "metadata": {
    "slideshow": {
     "slide_type": "slide"
    }
   },
   "source": [
    "<div class=\"alert alert-info\">\n",
    "Now it's your turn! Create a colored geopandas map of your area of interest, and post your results in this <a href=\"https://docs.google.com/document/d/1TX3Nte81QD8xg-XFv1c-OcsYy9NnIdMyNwBKgolugVU/edit?usp=sharing\" target=\"_blank\">Google Document</a>.\n",
    "    \n",
    "<b>Challenge yourself!</b>\n",
    "Create a choropleth map of buildings by height. Hint: the current cmap value of 'tab20' is for categorical data. Consider changing it to a sequential color map.   \n",
    "</div>\n"
   ]
  },
  {
   "cell_type": "markdown",
   "metadata": {
    "slideshow": {
     "slide_type": "slide"
    }
   },
   "source": [
    "## Add a basemap\n",
    "\n",
    "Adding a basemap to a geopandas plot can be done using the contextily library. To do so, you must:\n",
    "\n",
    "* reproject your geodataframe to Web Mercator (epsg: 3857)\n",
    "* add a basemap, use the following guidelines: https://github.com/geopandas/contextily"
   ]
  },
  {
   "cell_type": "code",
   "execution_count": null,
   "metadata": {
    "slideshow": {
     "slide_type": "fragment"
    }
   },
   "outputs": [],
   "source": [
    "# reproject to Web Mercator\n",
    "osm_web_mercator = osm.to_crs(epsg=3857)"
   ]
  },
  {
   "cell_type": "code",
   "execution_count": null,
   "metadata": {
    "scrolled": false,
    "slideshow": {
     "slide_type": "slide"
    }
   },
   "outputs": [],
   "source": [
    "# set up the plot\n",
    "fig, ax = plt.subplots(figsize=(10,10))\n",
    "\n",
    "# add layer\n",
    "osm_web_mercator.plot(ax=ax,\n",
    "                        column='building',\n",
    "                        cmap='tab20',\n",
    "                        legend=True,\n",
    "                        legend_kwds={'loc':'upper left','bbox_to_anchor':(1,1)})\n",
    "\n",
    "# no axis\n",
    "ax.axis('off')\n",
    "\n",
    "# basemap from carto that has a dark background (easier to see)\n",
    "ctx.add_basemap(ax,source=ctx.providers.CartoDB.DarkMatter)"
   ]
  },
  {
   "cell_type": "markdown",
   "metadata": {
    "slideshow": {
     "slide_type": "slide"
    }
   },
   "source": [
    "# Create a function\n",
    "\n",
    "Whew! That was a lot of work to finally get our building map for a given location. But what if you wanted to repeat this process for *multiple* locations?\n",
    "\n",
    "Welcome to the world of functions. According to [W3Schools](https://www.w3schools.com/python/python_functions.asp), a python function is:\n",
    "* A function is a block of code which only runs when it is called.\n",
    "* You can pass data, known as parameters, into a function.\n",
    "* A function can return data as a result.\n",
    "\n",
    "In other words, you create a function (a block of code that does something), and it remains dormant until you call on it. For this lab, let's create a function that creates a building map based on location data that you pass into it."
   ]
  },
  {
   "cell_type": "code",
   "execution_count": null,
   "metadata": {
    "slideshow": {
     "slide_type": "slide"
    }
   },
   "outputs": [],
   "source": [
    "# let's make this function together\n",
    "def your_name():\n",
    "    print('My name is Kai')"
   ]
  },
  {
   "cell_type": "code",
   "execution_count": null,
   "metadata": {
    "slideshow": {
     "slide_type": "fragment"
    }
   },
   "outputs": [],
   "source": [
    "# call it\n",
    "your_name()"
   ]
  },
  {
   "cell_type": "code",
   "execution_count": null,
   "metadata": {
    "slideshow": {
     "slide_type": "slide"
    }
   },
   "outputs": [],
   "source": [
    "# modify the function to accept arguments\n",
    "def your_name(name):\n",
    "    print('My name is ' + name)"
   ]
  },
  {
   "cell_type": "code",
   "execution_count": null,
   "metadata": {
    "slideshow": {
     "slide_type": "fragment"
    }
   },
   "outputs": [],
   "source": [
    "# call it\n",
    "your_name()"
   ]
  },
  {
   "cell_type": "code",
   "execution_count": null,
   "metadata": {
    "slideshow": {
     "slide_type": "fragment"
    }
   },
   "outputs": [],
   "source": [
    "# call it correctly\n",
    "your_name('Paige')\n",
    "\n",
    "# or (does the same thing)\n",
    "your_name(name='Paige')"
   ]
  },
  {
   "cell_type": "code",
   "execution_count": null,
   "metadata": {
    "slideshow": {
     "slide_type": "slide"
    }
   },
   "outputs": [],
   "source": [
    "# add additional parameters\n",
    "def your_name(firstname, lastname):\n",
    "    print('My name is ' + firstname + ' ' + lastname)"
   ]
  },
  {
   "cell_type": "code",
   "execution_count": null,
   "metadata": {
    "slideshow": {
     "slide_type": "fragment"
    }
   },
   "outputs": [],
   "source": [
    "your_name('Richard','Garcia')"
   ]
  },
  {
   "cell_type": "code",
   "execution_count": null,
   "metadata": {
    "slideshow": {
     "slide_type": "slide"
    }
   },
   "outputs": [],
   "source": [
    "# provide default values\n",
    "def your_name(firstname = 'Michael', lastname = 'Jordan'):\n",
    "    print('My name is ' + firstname + ' ' + lastname)"
   ]
  },
  {
   "cell_type": "code",
   "execution_count": null,
   "metadata": {
    "slideshow": {
     "slide_type": "fragment"
    }
   },
   "outputs": [],
   "source": [
    "# call it with no arguments\n",
    "your_name()"
   ]
  },
  {
   "cell_type": "code",
   "execution_count": null,
   "metadata": {
    "slideshow": {
     "slide_type": "fragment"
    }
   },
   "outputs": [],
   "source": [
    "# call it with one argument\n",
    "your_name(firstname = 'Adam')"
   ]
  },
  {
   "cell_type": "code",
   "execution_count": null,
   "metadata": {
    "slideshow": {
     "slide_type": "slide"
    }
   },
   "outputs": [],
   "source": [
    "# here is the function\n",
    "def make_building_map(location = 'Los Angeles, USA'):\n",
    "    \n",
    "    # get the data from osm\n",
    "    osm = ox.geometries_from_address(location,\n",
    "                                     tags={'building':True},\n",
    "                                     dist=1000)\n",
    "    \n",
    "    # reproject to Web Mercator\n",
    "    osm_web_mercator = osm.to_crs(epsg=3857)\n",
    "    \n",
    "    # set up the plot\n",
    "    fig, ax = plt.subplots(figsize=(10,10))\n",
    "    \n",
    "    # create the map\n",
    "    osm_web_mercator.plot(ax=ax,\n",
    "                          figsize=(10,10),\n",
    "                          column='building',\n",
    "                          cmap='tab20',\n",
    "                          legend=True,\n",
    "                          legend_kwds={'loc':'upper left','bbox_to_anchor':(1,1)})\n",
    "    \n",
    "    # add a title\n",
    "    ax.set_title('Building types in ' + location)\n",
    "\n",
    "    # get rid of the axis\n",
    "    ax.axis('off')\n",
    "    \n",
    "    # add a dark basemap\n",
    "    ctx.add_basemap(ax,source=ctx.providers.CartoDB.DarkMatter)"
   ]
  },
  {
   "cell_type": "code",
   "execution_count": null,
   "metadata": {
    "slideshow": {
     "slide_type": "slide"
    }
   },
   "outputs": [],
   "source": [
    "%%time\n",
    "# run the function once\n",
    "make_building_map('Yokohama, Japan')"
   ]
  },
  {
   "cell_type": "markdown",
   "metadata": {
    "slideshow": {
     "slide_type": "slide"
    }
   },
   "source": [
    "# Looping through it\n",
    "\n",
    "To make the use of functions even more effective, let's create a list of addresses."
   ]
  },
  {
   "cell_type": "code",
   "execution_count": null,
   "metadata": {
    "slideshow": {
     "slide_type": "fragment"
    }
   },
   "outputs": [],
   "source": [
    "address_list = ['Washington DC, USA','London, England','Rome, Italy','Yokohama, Japan']"
   ]
  },
  {
   "cell_type": "code",
   "execution_count": null,
   "metadata": {
    "scrolled": false,
    "slideshow": {
     "slide_type": "slide"
    }
   },
   "outputs": [],
   "source": [
    "%%time\n",
    "# run our function for every address in our list\n",
    "for address in address_list:\n",
    "    make_building_map(address)"
   ]
  },
  {
   "cell_type": "markdown",
   "metadata": {
    "slideshow": {
     "slide_type": "slide"
    }
   },
   "source": [
    "# Doing other searches\n",
    "\n",
    "For this lab, we used the tags argument: `'building':True`. This indicates a desire to download *all* buildings for the given geography. There are many other options to filter what you download from OSM. \n",
    "\n",
    "* https://wiki.openstreetmap.org/wiki/Map_Features\n",
    "\n",
    "Examples calls to intake features from OSM:\n",
    "\n",
    "```python\n",
    "# for all buildings (could be a very large query)\n",
    "features = ox.geometries_from_address(place, tags={'building': True})\n",
    "\n",
    "# for specific buildings\n",
    "features = ox.geometries_from_address(place, tags={'building': ['retail','industrial','commercial']})\n",
    "\n",
    "# for amenities\n",
    "features = ox.geometries_from_address(place, tags={'amenity': ['restaurant','fast_food']})\n",
    "\n",
    "# for leisure spaces\n",
    "features = ox.geometries_from_address(place, tags={'leisure': ['park']})\n",
    "```\n",
    "\n",
    "Note that when you perform a different search based on a different type of tag, **you may not get the same columns back**. You will need to adjust the code in this lab to reflect the columns that are returned. For example, a tag for \"leisure\" may not return \"buildings\", and instead, you may want to color code the map by the column \"leisure.\""
   ]
  },
  {
   "cell_type": "code",
   "execution_count": null,
   "metadata": {},
   "outputs": [],
   "source": []
  }
 ],
 "metadata": {
  "celltoolbar": "Slideshow",
  "kernelspec": {
   "display_name": "Python 3",
   "language": "python",
   "name": "python3"
  },
  "language_info": {
   "codemirror_mode": {
    "name": "ipython",
    "version": 3
   },
   "file_extension": ".py",
   "mimetype": "text/x-python",
   "name": "python",
   "nbconvert_exporter": "python",
   "pygments_lexer": "ipython3",
   "version": "3.8.5"
  },
  "toc": {
   "base_numbering": 1,
   "nav_menu": {},
   "number_sections": true,
   "sideBar": true,
   "skip_h1_title": false,
   "title_cell": "Table of Contents",
   "title_sidebar": "Contents",
   "toc_cell": true,
   "toc_position": {
    "height": "calc(100% - 180px)",
    "left": "10px",
    "top": "150px",
    "width": "383.969px"
   },
   "toc_section_display": true,
   "toc_window_display": false
  }
 },
 "nbformat": 4,
 "nbformat_minor": 4
}
