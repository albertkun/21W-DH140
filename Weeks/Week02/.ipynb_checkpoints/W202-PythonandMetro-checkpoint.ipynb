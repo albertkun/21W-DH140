{
 "cells": [
  {
   "cell_type": "markdown",
   "metadata": {
    "toc": true
   },
   "source": [
    "<h1>Table of Contents<span class=\"tocSkip\"></span></h1>\n",
    "<div class=\"toc\"><ul class=\"toc-item\"><li><span><a href=\"#Week-2:-Python-and-Metro\" data-toc-modified-id=\"Week-2:-Python-and-Metro-1\"><span class=\"toc-item-num\">1&nbsp;&nbsp;</span>Week 2: Python and Metro</a></span><ul class=\"toc-item\"><li><span><a href=\"#A-quick-geopandas-teaser\" data-toc-modified-id=\"A-quick-geopandas-teaser-1.1\"><span class=\"toc-item-num\">1.1&nbsp;&nbsp;</span>A quick geopandas teaser</a></span></li><li><span><a href=\"#Pandas-Data-Types\" data-toc-modified-id=\"Pandas-Data-Types-1.2\"><span class=\"toc-item-num\">1.2&nbsp;&nbsp;</span>Pandas Data Types</a></span></li><li><span><a href=\"#Data-exploration\" data-toc-modified-id=\"Data-exploration-1.3\"><span class=\"toc-item-num\">1.3&nbsp;&nbsp;</span>Data exploration</a></span><ul class=\"toc-item\"><li><span><a href=\"#Counting-unique-values-in-a-column\" data-toc-modified-id=\"Counting-unique-values-in-a-column-1.3.1\"><span class=\"toc-item-num\">1.3.1&nbsp;&nbsp;</span>Counting unique values in a column</a></span></li><li><span><a href=\"#Rename-columns\" data-toc-modified-id=\"Rename-columns-1.3.2\"><span class=\"toc-item-num\">1.3.2&nbsp;&nbsp;</span>Rename columns</a></span></li><li><span><a href=\"#A-quick-bar-plot\" data-toc-modified-id=\"A-quick-bar-plot-1.3.3\"><span class=\"toc-item-num\">1.3.3&nbsp;&nbsp;</span>A quick bar plot</a></span></li><li><span><a href=\"#Trimming-the-data\" data-toc-modified-id=\"Trimming-the-data-1.3.4\"><span class=\"toc-item-num\">1.3.4&nbsp;&nbsp;</span>Trimming the data</a></span></li><li><span><a href=\"#Subsetting/querying/filtering-the-data\" data-toc-modified-id=\"Subsetting/querying/filtering-the-data-1.3.5\"><span class=\"toc-item-num\">1.3.5&nbsp;&nbsp;</span>Subsetting/querying/filtering the data</a></span></li></ul></li><li><span><a href=\"#Plotting\" data-toc-modified-id=\"Plotting-1.4\"><span class=\"toc-item-num\">1.4&nbsp;&nbsp;</span>Plotting</a></span><ul class=\"toc-item\"><li><span><a href=\"#A-prettier-plot\" data-toc-modified-id=\"A-prettier-plot-1.4.1\"><span class=\"toc-item-num\">1.4.1&nbsp;&nbsp;</span>A prettier plot</a></span></li></ul></li><li><span><a href=\"#Mapping-with-folium\" data-toc-modified-id=\"Mapping-with-folium-1.5\"><span class=\"toc-item-num\">1.5&nbsp;&nbsp;</span>Mapping with folium</a></span><ul class=\"toc-item\"><li><span><a href=\"#Get-average-lat/lon's\" data-toc-modified-id=\"Get-average-lat/lon's-1.5.1\"><span class=\"toc-item-num\">1.5.1&nbsp;&nbsp;</span>Get average lat/lon's</a></span></li><li><span><a href=\"#Folium-map-with-arguments\" data-toc-modified-id=\"Folium-map-with-arguments-1.5.2\"><span class=\"toc-item-num\">1.5.2&nbsp;&nbsp;</span>Folium map with arguments</a></span></li><li><span><a href=\"#Adding-point-markers\" data-toc-modified-id=\"Adding-point-markers-1.5.3\"><span class=\"toc-item-num\">1.5.3&nbsp;&nbsp;</span>Adding point markers</a></span></li><li><span><a href=\"#Color-code-markers\" data-toc-modified-id=\"Color-code-markers-1.5.4\"><span class=\"toc-item-num\">1.5.4&nbsp;&nbsp;</span>Color code markers</a></span></li><li><span><a href=\"#Find-unique-values-in-a-column\" data-toc-modified-id=\"Find-unique-values-in-a-column-1.5.5\"><span class=\"toc-item-num\">1.5.5&nbsp;&nbsp;</span>Find unique values in a column</a></span></li><li><span><a href=\"#Update-column-based-on-a-query-on-another-column\" data-toc-modified-id=\"Update-column-based-on-a-query-on-another-column-1.5.6\"><span class=\"toc-item-num\">1.5.6&nbsp;&nbsp;</span>Update column based on a query on another column</a></span></li><li><span><a href=\"#Saving-your-folium-map-as-an-HTML-file\" data-toc-modified-id=\"Saving-your-folium-map-as-an-HTML-file-1.5.7\"><span class=\"toc-item-num\">1.5.7&nbsp;&nbsp;</span>Saving your folium map as an HTML file</a></span></li></ul></li></ul></li></ul></div>"
   ]
  },
  {
   "cell_type": "markdown",
   "metadata": {
    "slideshow": {
     "slide_type": "slide"
    }
   },
   "source": [
    "<div class=\"alert alert-danger\">\n",
    "\n",
    "Take notice:\n",
    "<ul>\n",
    "    <li>This class will be recorded</li>\n",
    "</ul>\n",
    "    \n",
    "</div>"
   ]
  },
  {
   "cell_type": "markdown",
   "metadata": {
    "slideshow": {
     "slide_type": "slide"
    }
   },
   "source": [
    "# Week 2: Python and Metro"
   ]
  },
  {
   "cell_type": "markdown",
   "metadata": {},
   "source": [
    "## A quick geopandas teaser\n",
    "Following our Python bootcamp last week (was it boring? exhilerating? a bit of both?), let's put that programming knowledge into action, using and creating data that reflects a real urban situation.\n",
    "\n",
    "We start by importing a new module `geopandas`. This is a pretty high level geospatial library, widely used by spatial data scientists all over the world. Don't worry about it too much for now, but know that it allows us to import a variety of spatial data formats, and plot them on a map.\n",
    "\n",
    "* [geopandas documentation](https://geopandas.readthedocs.io/en/latest/index.html)"
   ]
  },
  {
   "cell_type": "code",
   "execution_count": 1,
   "metadata": {},
   "outputs": [],
   "source": [
    "import geopandas as gpd"
   ]
  },
  {
   "cell_type": "markdown",
   "metadata": {
    "slideshow": {
     "slide_type": "slide"
    }
   },
   "source": [
    "Next, we import some data. In this case, it is a [shapefile](https://desktop.arcgis.com/en/arcmap/latest/manage-data/shapefiles/what-is-a-shapefile.htm) I downloaded from the [LA Metro's Developer web portal](https://developer.metro.net/bus-rail-gis-data/). Notice that I am using relative paths to point to where the data is located in. the `../` indicates that it is one folder level above, so `../../` takes us two levels above (the project root), and then into the data folder there.\n",
    "\n",
    "* [read_file](https://geopandas.readthedocs.io/en/latest/docs/user_guide/io.html)"
   ]
  },
  {
   "cell_type": "code",
   "execution_count": 2,
   "metadata": {},
   "outputs": [],
   "source": [
    "metro = gpd.read_file('data/Stations_All_0715.shp')"
   ]
  },
  {
   "cell_type": "markdown",
   "metadata": {
    "slideshow": {
     "slide_type": "slide"
    }
   },
   "source": [
    "<div class=\"alert alert-info\">\n",
    "\n",
    "Note that the reason we use `geopandas` instead of `pandas` (other than the fact that we love maps) is that `pandas` cannot read shapefiles, whereas `geopandas` can.\n",
    "    \n",
    "</div>"
   ]
  },
  {
   "cell_type": "code",
   "execution_count": 3,
   "metadata": {},
   "outputs": [
    {
     "data": {
      "text/plain": [
       "geopandas.geodataframe.GeoDataFrame"
      ]
     },
     "execution_count": 3,
     "metadata": {},
     "output_type": "execute_result"
    }
   ],
   "source": [
    "# what's the data type?\n",
    "type(metro)"
   ]
  },
  {
   "cell_type": "code",
   "execution_count": 4,
   "metadata": {},
   "outputs": [
    {
     "data": {
      "text/html": [
       "<div>\n",
       "<style scoped>\n",
       "    .dataframe tbody tr th:only-of-type {\n",
       "        vertical-align: middle;\n",
       "    }\n",
       "\n",
       "    .dataframe tbody tr th {\n",
       "        vertical-align: top;\n",
       "    }\n",
       "\n",
       "    .dataframe thead th {\n",
       "        text-align: right;\n",
       "    }\n",
       "</style>\n",
       "<table border=\"1\" class=\"dataframe\">\n",
       "  <thead>\n",
       "    <tr style=\"text-align: right;\">\n",
       "      <th></th>\n",
       "      <th>LINE</th>\n",
       "      <th>LINENUM</th>\n",
       "      <th>LINENUM2</th>\n",
       "      <th>STNSEQ</th>\n",
       "      <th>STNSEQ2</th>\n",
       "      <th>DIR</th>\n",
       "      <th>STOPNUM</th>\n",
       "      <th>STATION</th>\n",
       "      <th>LAT</th>\n",
       "      <th>LONG</th>\n",
       "      <th>TPIS_NAME</th>\n",
       "      <th>POINT_X</th>\n",
       "      <th>POINT_Y</th>\n",
       "      <th>geometry</th>\n",
       "    </tr>\n",
       "  </thead>\n",
       "  <tbody>\n",
       "    <tr>\n",
       "      <th>0</th>\n",
       "      <td>Blue</td>\n",
       "      <td>801</td>\n",
       "      <td>0</td>\n",
       "      <td>21</td>\n",
       "      <td>0</td>\n",
       "      <td>None</td>\n",
       "      <td>80101</td>\n",
       "      <td>Downtown Long Beach Station</td>\n",
       "      <td>33.768071</td>\n",
       "      <td>-118.192921</td>\n",
       "      <td>Long Bch</td>\n",
       "      <td>6.503030e+06</td>\n",
       "      <td>1.738034e+06</td>\n",
       "      <td>POINT (6503030.095 1738033.828)</td>\n",
       "    </tr>\n",
       "    <tr>\n",
       "      <th>1</th>\n",
       "      <td>Blue</td>\n",
       "      <td>801</td>\n",
       "      <td>0</td>\n",
       "      <td>22</td>\n",
       "      <td>0</td>\n",
       "      <td>North</td>\n",
       "      <td>80102</td>\n",
       "      <td>Pacific Ave Station</td>\n",
       "      <td>33.772258</td>\n",
       "      <td>-118.193700</td>\n",
       "      <td>Pacific</td>\n",
       "      <td>6.502796e+06</td>\n",
       "      <td>1.739558e+06</td>\n",
       "      <td>POINT (6502796.262 1739558.050)</td>\n",
       "    </tr>\n",
       "    <tr>\n",
       "      <th>2</th>\n",
       "      <td>Blue</td>\n",
       "      <td>801</td>\n",
       "      <td>0</td>\n",
       "      <td>18</td>\n",
       "      <td>0</td>\n",
       "      <td>None</td>\n",
       "      <td>80105</td>\n",
       "      <td>Anaheim Street Station</td>\n",
       "      <td>33.781830</td>\n",
       "      <td>-118.189384</td>\n",
       "      <td>Anaheim</td>\n",
       "      <td>6.504115e+06</td>\n",
       "      <td>1.743039e+06</td>\n",
       "      <td>POINT (6504114.567 1743039.068)</td>\n",
       "    </tr>\n",
       "    <tr>\n",
       "      <th>3</th>\n",
       "      <td>Blue</td>\n",
       "      <td>801</td>\n",
       "      <td>0</td>\n",
       "      <td>17</td>\n",
       "      <td>0</td>\n",
       "      <td>None</td>\n",
       "      <td>80106</td>\n",
       "      <td>Pacific Coast Hwy Station</td>\n",
       "      <td>33.789090</td>\n",
       "      <td>-118.189382</td>\n",
       "      <td>PCH</td>\n",
       "      <td>6.504120e+06</td>\n",
       "      <td>1.745681e+06</td>\n",
       "      <td>POINT (6504120.152 1745681.179)</td>\n",
       "    </tr>\n",
       "    <tr>\n",
       "      <th>4</th>\n",
       "      <td>Blue</td>\n",
       "      <td>801</td>\n",
       "      <td>0</td>\n",
       "      <td>16</td>\n",
       "      <td>0</td>\n",
       "      <td>None</td>\n",
       "      <td>80107</td>\n",
       "      <td>Willow Street Station</td>\n",
       "      <td>33.807079</td>\n",
       "      <td>-118.189834</td>\n",
       "      <td>Willow</td>\n",
       "      <td>6.503995e+06</td>\n",
       "      <td>1.752228e+06</td>\n",
       "      <td>POINT (6503995.170 1752228.119)</td>\n",
       "    </tr>\n",
       "  </tbody>\n",
       "</table>\n",
       "</div>"
      ],
      "text/plain": [
       "   LINE  LINENUM  LINENUM2  STNSEQ  STNSEQ2    DIR  STOPNUM  \\\n",
       "0  Blue      801         0      21        0   None    80101   \n",
       "1  Blue      801         0      22        0  North    80102   \n",
       "2  Blue      801         0      18        0   None    80105   \n",
       "3  Blue      801         0      17        0   None    80106   \n",
       "4  Blue      801         0      16        0   None    80107   \n",
       "\n",
       "                       STATION        LAT        LONG TPIS_NAME       POINT_X  \\\n",
       "0  Downtown Long Beach Station  33.768071 -118.192921  Long Bch  6.503030e+06   \n",
       "1          Pacific Ave Station  33.772258 -118.193700   Pacific  6.502796e+06   \n",
       "2       Anaheim Street Station  33.781830 -118.189384   Anaheim  6.504115e+06   \n",
       "3    Pacific Coast Hwy Station  33.789090 -118.189382       PCH  6.504120e+06   \n",
       "4        Willow Street Station  33.807079 -118.189834    Willow  6.503995e+06   \n",
       "\n",
       "        POINT_Y                         geometry  \n",
       "0  1.738034e+06  POINT (6503030.095 1738033.828)  \n",
       "1  1.739558e+06  POINT (6502796.262 1739558.050)  \n",
       "2  1.743039e+06  POINT (6504114.567 1743039.068)  \n",
       "3  1.745681e+06  POINT (6504120.152 1745681.179)  \n",
       "4  1.752228e+06  POINT (6503995.170 1752228.119)  "
      ]
     },
     "execution_count": 4,
     "metadata": {},
     "output_type": "execute_result"
    }
   ],
   "source": [
    "# what does the data look like? \n",
    "metro.head()"
   ]
  },
  {
   "attachments": {
    "image.png": {
     "image/png": "[encoded data removed]"
    }
   },
   "cell_type": "markdown",
   "metadata": {
    "slideshow": {
     "slide_type": "slide"
    }
   },
   "source": [
    "Ah! Surprise, surprise. Welcome to your first look at a pandas dataframe. We will cover dataframes more extensively in later sessions, but know that a python dataframe is like an excel spreadsheet. \n",
    "\n",
    "![image.png](attachment:image.png)\n",
    "[(source)](https://www.geeksforgeeks.org/python-pandas-dataframe/?ref=lbp)\n",
    "\n",
    "The `head()` command shows us the first 5 rows of the dataframe. You can also use `tail()` and `sample()`. Try these commands in the cells below:"
   ]
  },
  {
   "cell_type": "code",
   "execution_count": 5,
   "metadata": {},
   "outputs": [],
   "source": [
    "# try tail()\n"
   ]
  },
  {
   "cell_type": "code",
   "execution_count": 6,
   "metadata": {},
   "outputs": [],
   "source": [
    "# try sample()\n"
   ]
  },
  {
   "cell_type": "markdown",
   "metadata": {
    "slideshow": {
     "slide_type": "slide"
    }
   },
   "source": [
    "## Pandas Data Types\n",
    "\n",
    "Let's look at the data types for each column. You can collectively get all the datatypes for each column in a dataframe using the `dtypes` command."
   ]
  },
  {
   "cell_type": "code",
   "execution_count": 7,
   "metadata": {
    "scrolled": true
   },
   "outputs": [
    {
     "data": {
      "text/plain": [
       "LINE           object\n",
       "LINENUM         int64\n",
       "LINENUM2        int64\n",
       "STNSEQ          int64\n",
       "STNSEQ2         int64\n",
       "DIR            object\n",
       "STOPNUM         int64\n",
       "STATION        object\n",
       "LAT           float64\n",
       "LONG          float64\n",
       "TPIS_NAME      object\n",
       "POINT_X       float64\n",
       "POINT_Y       float64\n",
       "geometry     geometry\n",
       "dtype: object"
      ]
     },
     "execution_count": 7,
     "metadata": {},
     "output_type": "execute_result"
    }
   ],
   "source": [
    "metro.dtypes"
   ]
  },
  {
   "cell_type": "markdown",
   "metadata": {
    "slideshow": {
     "slide_type": "slide"
    }
   },
   "source": [
    "But there is better command that will get you more info. Yes, the `info` command."
   ]
  },
  {
   "cell_type": "code",
   "execution_count": 8,
   "metadata": {
    "slideshow": {
     "slide_type": "fragment"
    }
   },
   "outputs": [
    {
     "name": "stdout",
     "output_type": "stream",
     "text": [
      "<class 'geopandas.geodataframe.GeoDataFrame'>\n",
      "RangeIndex: 83 entries, 0 to 82\n",
      "Data columns (total 14 columns):\n",
      " #   Column     Non-Null Count  Dtype   \n",
      "---  ------     --------------  -----   \n",
      " 0   LINE       83 non-null     object  \n",
      " 1   LINENUM    83 non-null     int64   \n",
      " 2   LINENUM2   83 non-null     int64   \n",
      " 3   STNSEQ     83 non-null     int64   \n",
      " 4   STNSEQ2    83 non-null     int64   \n",
      " 5   DIR        3 non-null      object  \n",
      " 6   STOPNUM    83 non-null     int64   \n",
      " 7   STATION    83 non-null     object  \n",
      " 8   LAT        83 non-null     float64 \n",
      " 9   LONG       83 non-null     float64 \n",
      " 10  TPIS_NAME  83 non-null     object  \n",
      " 11  POINT_X    83 non-null     float64 \n",
      " 12  POINT_Y    83 non-null     float64 \n",
      " 13  geometry   83 non-null     geometry\n",
      "dtypes: float64(4), geometry(1), int64(5), object(4)\n",
      "memory usage: 9.2+ KB\n"
     ]
    }
   ],
   "source": [
    "# dataframe info\n",
    "metro.info()"
   ]
  },
  {
   "cell_type": "markdown",
   "metadata": {
    "slideshow": {
     "slide_type": "slide"
    }
   },
   "source": [
    "Wait. That looks different from what we have worked on! As it turns out, pandas datatypes are slightly different from the raw python datatypes. Check out the table below:"
   ]
  },
  {
   "cell_type": "markdown",
   "metadata": {
    "slideshow": {
     "slide_type": "fragment"
    }
   },
   "source": [
    "<table class=\"table table-striped\">\n",
    "  <thead>\n",
    "    <tr>\n",
    "      <th>Pandas Type</th>\n",
    "      <th>Native Python Type</th>\n",
    "      <th>Description</th>\n",
    "    </tr>\n",
    "  </thead>\n",
    "  <tbody>\n",
    "    <tr>\n",
    "      <td>object</td>\n",
    "      <td>string</td>\n",
    "      <td>The most general dtype. Will be assigned to your column if column has mixed types (numbers and strings).</td>\n",
    "    </tr>\n",
    "    <tr>\n",
    "      <td>int64</td>\n",
    "      <td>int</td>\n",
    "      <td>Numeric characters. 64 refers to the memory allocated to hold this character.</td>\n",
    "    </tr>\n",
    "    <tr>\n",
    "      <td>float64</td>\n",
    "      <td>float</td>\n",
    "      <td>Numeric characters with decimals. If a column contains numbers and NaNs (see below), pandas will default to float64, in case your missing value has a decimal.</td>\n",
    "    </tr>\n",
    "    <tr>\n",
    "      <td>datetime64, timedelta[ns]</td>\n",
    "      <td>N/A (but see the <a href=\"http://doc.python.org/2/library/datetime.html\">datetime</a> module in Python’s standard library)</td>\n",
    "      <td>Values meant to hold time data. Look into these for time series experiments.</td>\n",
    "    </tr>\n",
    "  </tbody>\n",
    "</table>"
   ]
  },
  {
   "cell_type": "markdown",
   "metadata": {
    "slideshow": {
     "slide_type": "slide"
    }
   },
   "source": [
    "## Data exploration\n",
    "\n",
    "Part of data exploration is learning what is in your data. How many rows are there? What are the columns? How many rows represent a particular slice of the data?"
   ]
  },
  {
   "cell_type": "code",
   "execution_count": 9,
   "metadata": {
    "slideshow": {
     "slide_type": "fragment"
    }
   },
   "outputs": [
    {
     "data": {
      "text/plain": [
       "(83, 14)"
      ]
     },
     "execution_count": 9,
     "metadata": {},
     "output_type": "execute_result"
    }
   ],
   "source": [
    "# how many rows and columns?\n",
    "metro.shape"
   ]
  },
  {
   "cell_type": "code",
   "execution_count": 10,
   "metadata": {
    "slideshow": {
     "slide_type": "fragment"
    }
   },
   "outputs": [
    {
     "data": {
      "text/plain": [
       "['LINE',\n",
       " 'LINENUM',\n",
       " 'LINENUM2',\n",
       " 'STNSEQ',\n",
       " 'STNSEQ2',\n",
       " 'DIR',\n",
       " 'STOPNUM',\n",
       " 'STATION',\n",
       " 'LAT',\n",
       " 'LONG',\n",
       " 'TPIS_NAME',\n",
       " 'POINT_X',\n",
       " 'POINT_Y',\n",
       " 'geometry']"
      ]
     },
     "execution_count": 10,
     "metadata": {},
     "output_type": "execute_result"
    }
   ],
   "source": [
    "# what are the columns?\n",
    "metro.columns.to_list()"
   ]
  },
  {
   "cell_type": "markdown",
   "metadata": {
    "slideshow": {
     "slide_type": "slide"
    }
   },
   "source": [
    "### Counting unique values in a column\n",
    "\n",
    "First, learn how to get values for a single column."
   ]
  },
  {
   "cell_type": "code",
   "execution_count": 11,
   "metadata": {
    "slideshow": {
     "slide_type": "fragment"
    }
   },
   "outputs": [
    {
     "data": {
      "text/plain": [
       "0     Blue\n",
       "1     Blue\n",
       "2     Blue\n",
       "3     Blue\n",
       "4     Blue\n",
       "      ... \n",
       "78    Gold\n",
       "79    Gold\n",
       "80    Gold\n",
       "81    Gold\n",
       "82    Gold\n",
       "Name: LINE, Length: 83, dtype: object"
      ]
     },
     "execution_count": 11,
     "metadata": {},
     "output_type": "execute_result"
    }
   ],
   "source": [
    "# single column\n",
    "metro['LINE']"
   ]
  },
  {
   "cell_type": "code",
   "execution_count": 12,
   "metadata": {
    "slideshow": {
     "slide_type": "fragment"
    }
   },
   "outputs": [
    {
     "data": {
      "text/plain": [
       "0     Blue\n",
       "1     Blue\n",
       "2     Blue\n",
       "3     Blue\n",
       "4     Blue\n",
       "      ... \n",
       "78    Gold\n",
       "79    Gold\n",
       "80    Gold\n",
       "81    Gold\n",
       "82    Gold\n",
       "Name: LINE, Length: 83, dtype: object"
      ]
     },
     "execution_count": 12,
     "metadata": {},
     "output_type": "execute_result"
    }
   ],
   "source": [
    "# another way\n",
    "metro.LINE"
   ]
  },
  {
   "attachments": {
    "image.png": {
     "image/png": "[encoded data removed]"
    }
   },
   "cell_type": "markdown",
   "metadata": {},
   "source": [
    "This returns what is called a python series.\n",
    "![image.png](attachment:image.png)"
   ]
  },
  {
   "cell_type": "markdown",
   "metadata": {
    "slideshow": {
     "slide_type": "slide"
    }
   },
   "source": [
    "But what if you want to know how many stations there are for each line?"
   ]
  },
  {
   "cell_type": "code",
   "execution_count": 13,
   "metadata": {
    "scrolled": false,
    "slideshow": {
     "slide_type": "fragment"
    }
   },
   "outputs": [
    {
     "data": {
      "text/plain": [
       "Gold          21\n",
       "Blue          20\n",
       "Green         14\n",
       "EXPO          10\n",
       "Red            8\n",
       "Red/Purple     6\n",
       "Blue/EXPO      2\n",
       "Purple         2\n",
       "Name: LINE, dtype: int64"
      ]
     },
     "execution_count": 13,
     "metadata": {},
     "output_type": "execute_result"
    }
   ],
   "source": [
    "metro['LINE'].value_counts()"
   ]
  },
  {
   "cell_type": "code",
   "execution_count": 14,
   "metadata": {},
   "outputs": [
    {
     "data": {
      "text/plain": [
       "Gold          21\n",
       "Blue          20\n",
       "Green         14\n",
       "EXPO          10\n",
       "Red            8\n",
       "Red/Purple     6\n",
       "Blue/EXPO      2\n",
       "Purple         2\n",
       "Name: LINE, dtype: int64"
      ]
     },
     "execution_count": 14,
     "metadata": {},
     "output_type": "execute_result"
    }
   ],
   "source": [
    "# save it as a variable\n",
    "line_count = metro['LINE'].value_counts()\n",
    "line_count"
   ]
  },
  {
   "cell_type": "code",
   "execution_count": 15,
   "metadata": {
    "scrolled": true,
    "slideshow": {
     "slide_type": "fragment"
    }
   },
   "outputs": [
    {
     "data": {
      "text/html": [
       "<div>\n",
       "<style scoped>\n",
       "    .dataframe tbody tr th:only-of-type {\n",
       "        vertical-align: middle;\n",
       "    }\n",
       "\n",
       "    .dataframe tbody tr th {\n",
       "        vertical-align: top;\n",
       "    }\n",
       "\n",
       "    .dataframe thead th {\n",
       "        text-align: right;\n",
       "    }\n",
       "</style>\n",
       "<table border=\"1\" class=\"dataframe\">\n",
       "  <thead>\n",
       "    <tr style=\"text-align: right;\">\n",
       "      <th></th>\n",
       "      <th>index</th>\n",
       "      <th>LINE</th>\n",
       "    </tr>\n",
       "  </thead>\n",
       "  <tbody>\n",
       "    <tr>\n",
       "      <th>0</th>\n",
       "      <td>Gold</td>\n",
       "      <td>21</td>\n",
       "    </tr>\n",
       "    <tr>\n",
       "      <th>1</th>\n",
       "      <td>Blue</td>\n",
       "      <td>20</td>\n",
       "    </tr>\n",
       "    <tr>\n",
       "      <th>2</th>\n",
       "      <td>Green</td>\n",
       "      <td>14</td>\n",
       "    </tr>\n",
       "    <tr>\n",
       "      <th>3</th>\n",
       "      <td>EXPO</td>\n",
       "      <td>10</td>\n",
       "    </tr>\n",
       "    <tr>\n",
       "      <th>4</th>\n",
       "      <td>Red</td>\n",
       "      <td>8</td>\n",
       "    </tr>\n",
       "    <tr>\n",
       "      <th>5</th>\n",
       "      <td>Red/Purple</td>\n",
       "      <td>6</td>\n",
       "    </tr>\n",
       "    <tr>\n",
       "      <th>6</th>\n",
       "      <td>Blue/EXPO</td>\n",
       "      <td>2</td>\n",
       "    </tr>\n",
       "    <tr>\n",
       "      <th>7</th>\n",
       "      <td>Purple</td>\n",
       "      <td>2</td>\n",
       "    </tr>\n",
       "  </tbody>\n",
       "</table>\n",
       "</div>"
      ],
      "text/plain": [
       "        index  LINE\n",
       "0        Gold    21\n",
       "1        Blue    20\n",
       "2       Green    14\n",
       "3        EXPO    10\n",
       "4         Red     8\n",
       "5  Red/Purple     6\n",
       "6   Blue/EXPO     2\n",
       "7      Purple     2"
      ]
     },
     "execution_count": 15,
     "metadata": {},
     "output_type": "execute_result"
    }
   ],
   "source": [
    "# let's convert the series into a dataframe\n",
    "line_count = line_count.reset_index()\n",
    "line_count"
   ]
  },
  {
   "cell_type": "code",
   "execution_count": 16,
   "metadata": {},
   "outputs": [
    {
     "data": {
      "text/plain": [
       "pandas.core.frame.DataFrame"
      ]
     },
     "execution_count": 16,
     "metadata": {},
     "output_type": "execute_result"
    }
   ],
   "source": [
    "type(line_count)"
   ]
  },
  {
   "cell_type": "markdown",
   "metadata": {},
   "source": [
    "### Rename columns"
   ]
  },
  {
   "cell_type": "code",
   "execution_count": 20,
   "metadata": {},
   "outputs": [
    {
     "data": {
      "text/plain": [
       "['index', 'LINE']"
      ]
     },
     "execution_count": 20,
     "metadata": {},
     "output_type": "execute_result"
    }
   ],
   "source": [
    "# current columns as a list\n",
    "line_count.columns.to_list()"
   ]
  },
  {
   "cell_type": "markdown",
   "metadata": {},
   "source": [
    "To rename columns, simply give it a list of column names"
   ]
  },
  {
   "cell_type": "code",
   "execution_count": 21,
   "metadata": {},
   "outputs": [],
   "source": [
    "line_count.columns = ['line', 'count']"
   ]
  },
  {
   "cell_type": "code",
   "execution_count": 22,
   "metadata": {},
   "outputs": [
    {
     "data": {
      "text/html": [
       "<div>\n",
       "<style scoped>\n",
       "    .dataframe tbody tr th:only-of-type {\n",
       "        vertical-align: middle;\n",
       "    }\n",
       "\n",
       "    .dataframe tbody tr th {\n",
       "        vertical-align: top;\n",
       "    }\n",
       "\n",
       "    .dataframe thead th {\n",
       "        text-align: right;\n",
       "    }\n",
       "</style>\n",
       "<table border=\"1\" class=\"dataframe\">\n",
       "  <thead>\n",
       "    <tr style=\"text-align: right;\">\n",
       "      <th></th>\n",
       "      <th>line</th>\n",
       "      <th>count</th>\n",
       "    </tr>\n",
       "  </thead>\n",
       "  <tbody>\n",
       "    <tr>\n",
       "      <th>0</th>\n",
       "      <td>Gold</td>\n",
       "      <td>21</td>\n",
       "    </tr>\n",
       "    <tr>\n",
       "      <th>1</th>\n",
       "      <td>Blue</td>\n",
       "      <td>20</td>\n",
       "    </tr>\n",
       "    <tr>\n",
       "      <th>2</th>\n",
       "      <td>Green</td>\n",
       "      <td>14</td>\n",
       "    </tr>\n",
       "    <tr>\n",
       "      <th>3</th>\n",
       "      <td>EXPO</td>\n",
       "      <td>10</td>\n",
       "    </tr>\n",
       "    <tr>\n",
       "      <th>4</th>\n",
       "      <td>Red</td>\n",
       "      <td>8</td>\n",
       "    </tr>\n",
       "    <tr>\n",
       "      <th>5</th>\n",
       "      <td>Red/Purple</td>\n",
       "      <td>6</td>\n",
       "    </tr>\n",
       "    <tr>\n",
       "      <th>6</th>\n",
       "      <td>Blue/EXPO</td>\n",
       "      <td>2</td>\n",
       "    </tr>\n",
       "    <tr>\n",
       "      <th>7</th>\n",
       "      <td>Purple</td>\n",
       "      <td>2</td>\n",
       "    </tr>\n",
       "  </tbody>\n",
       "</table>\n",
       "</div>"
      ],
      "text/plain": [
       "         line  count\n",
       "0        Gold     21\n",
       "1        Blue     20\n",
       "2       Green     14\n",
       "3        EXPO     10\n",
       "4         Red      8\n",
       "5  Red/Purple      6\n",
       "6   Blue/EXPO      2\n",
       "7      Purple      2"
      ]
     },
     "execution_count": 22,
     "metadata": {},
     "output_type": "execute_result"
    }
   ],
   "source": [
    "line_count"
   ]
  },
  {
   "cell_type": "markdown",
   "metadata": {},
   "source": [
    "### A quick bar plot"
   ]
  },
  {
   "cell_type": "markdown",
   "metadata": {
    "slideshow": {
     "slide_type": "slide"
    }
   },
   "source": [
    "Why don't we plot it?\n",
    "\n",
    "* [pandas plot](https://pandas.pydata.org/pandas-docs/stable/reference/api/pandas.DataFrame.plot.html)"
   ]
  },
  {
   "cell_type": "code",
   "execution_count": 26,
   "metadata": {
    "scrolled": false,
    "slideshow": {
     "slide_type": "fragment"
    }
   },
   "outputs": [
    {
     "data": {
      "text/plain": [
       "<matplotlib.axes._subplots.AxesSubplot at 0x7f19f7e3c220>"
      ]
     },
     "execution_count": 26,
     "metadata": {},
     "output_type": "execute_result"
    },
    {
     "data": {
      "image/png": "[encoded data removed]",
      "text/plain": [
       "<Figure size 432x288 with 1 Axes>"
      ]
     },
     "metadata": {
      "needs_background": "light"
     },
     "output_type": "display_data"
    }
   ],
   "source": [
    "line_count.plot.bar(x = 'line', y = 'count', title = 'Number of stops per metro line')"
   ]
  },
  {
   "cell_type": "code",
   "execution_count": null,
   "metadata": {
    "slideshow": {
     "slide_type": "slide"
    }
   },
   "outputs": [],
   "source": [
    "# try it yourself. find the unique values and counts for LINENUM\n"
   ]
  },
  {
   "cell_type": "markdown",
   "metadata": {
    "slideshow": {
     "slide_type": "slide"
    }
   },
   "source": [
    "### Trimming the data\n",
    "Oftentimes, we import data and it has too many columns. It is always good practice to elimnate those rows that you are sure you will not use, and keep your data \"clean\" and \"mean.\"\n",
    "\n"
   ]
  },
  {
   "cell_type": "code",
   "execution_count": 27,
   "metadata": {},
   "outputs": [
    {
     "name": "stdout",
     "output_type": "stream",
     "text": [
      "<class 'geopandas.geodataframe.GeoDataFrame'>\n",
      "RangeIndex: 83 entries, 0 to 82\n",
      "Data columns (total 14 columns):\n",
      " #   Column     Non-Null Count  Dtype   \n",
      "---  ------     --------------  -----   \n",
      " 0   LINE       83 non-null     object  \n",
      " 1   LINENUM    83 non-null     int64   \n",
      " 2   LINENUM2   83 non-null     int64   \n",
      " 3   STNSEQ     83 non-null     int64   \n",
      " 4   STNSEQ2    83 non-null     int64   \n",
      " 5   DIR        3 non-null      object  \n",
      " 6   STOPNUM    83 non-null     int64   \n",
      " 7   STATION    83 non-null     object  \n",
      " 8   LAT        83 non-null     float64 \n",
      " 9   LONG       83 non-null     float64 \n",
      " 10  TPIS_NAME  83 non-null     object  \n",
      " 11  POINT_X    83 non-null     float64 \n",
      " 12  POINT_Y    83 non-null     float64 \n",
      " 13  geometry   83 non-null     geometry\n",
      "dtypes: float64(4), geometry(1), int64(5), object(4)\n",
      "memory usage: 9.2+ KB\n"
     ]
    }
   ],
   "source": [
    "# output the original data's info\n",
    "metro.info()"
   ]
  },
  {
   "cell_type": "code",
   "execution_count": 28,
   "metadata": {
    "slideshow": {
     "slide_type": "fragment"
    }
   },
   "outputs": [
    {
     "data": {
      "text/html": [
       "<div>\n",
       "<style scoped>\n",
       "    .dataframe tbody tr th:only-of-type {\n",
       "        vertical-align: middle;\n",
       "    }\n",
       "\n",
       "    .dataframe tbody tr th {\n",
       "        vertical-align: top;\n",
       "    }\n",
       "\n",
       "    .dataframe thead th {\n",
       "        text-align: right;\n",
       "    }\n",
       "</style>\n",
       "<table border=\"1\" class=\"dataframe\">\n",
       "  <thead>\n",
       "    <tr style=\"text-align: right;\">\n",
       "      <th></th>\n",
       "      <th>LINE</th>\n",
       "      <th>LINENUM</th>\n",
       "      <th>STATION</th>\n",
       "      <th>LAT</th>\n",
       "      <th>LONG</th>\n",
       "      <th>geometry</th>\n",
       "    </tr>\n",
       "  </thead>\n",
       "  <tbody>\n",
       "    <tr>\n",
       "      <th>0</th>\n",
       "      <td>Blue</td>\n",
       "      <td>801</td>\n",
       "      <td>Downtown Long Beach Station</td>\n",
       "      <td>33.768071</td>\n",
       "      <td>-118.192921</td>\n",
       "      <td>POINT (6503030.095 1738033.828)</td>\n",
       "    </tr>\n",
       "    <tr>\n",
       "      <th>1</th>\n",
       "      <td>Blue</td>\n",
       "      <td>801</td>\n",
       "      <td>Pacific Ave Station</td>\n",
       "      <td>33.772258</td>\n",
       "      <td>-118.193700</td>\n",
       "      <td>POINT (6502796.262 1739558.050)</td>\n",
       "    </tr>\n",
       "    <tr>\n",
       "      <th>2</th>\n",
       "      <td>Blue</td>\n",
       "      <td>801</td>\n",
       "      <td>Anaheim Street Station</td>\n",
       "      <td>33.781830</td>\n",
       "      <td>-118.189384</td>\n",
       "      <td>POINT (6504114.567 1743039.068)</td>\n",
       "    </tr>\n",
       "    <tr>\n",
       "      <th>3</th>\n",
       "      <td>Blue</td>\n",
       "      <td>801</td>\n",
       "      <td>Pacific Coast Hwy Station</td>\n",
       "      <td>33.789090</td>\n",
       "      <td>-118.189382</td>\n",
       "      <td>POINT (6504120.152 1745681.179)</td>\n",
       "    </tr>\n",
       "    <tr>\n",
       "      <th>4</th>\n",
       "      <td>Blue</td>\n",
       "      <td>801</td>\n",
       "      <td>Willow Street Station</td>\n",
       "      <td>33.807079</td>\n",
       "      <td>-118.189834</td>\n",
       "      <td>POINT (6503995.170 1752228.119)</td>\n",
       "    </tr>\n",
       "    <tr>\n",
       "      <th>...</th>\n",
       "      <td>...</td>\n",
       "      <td>...</td>\n",
       "      <td>...</td>\n",
       "      <td>...</td>\n",
       "      <td>...</td>\n",
       "      <td>...</td>\n",
       "    </tr>\n",
       "    <tr>\n",
       "      <th>78</th>\n",
       "      <td>Gold</td>\n",
       "      <td>804</td>\n",
       "      <td>Del Mar Station</td>\n",
       "      <td>34.141910</td>\n",
       "      <td>-118.148214</td>\n",
       "      <td>POINT (6516818.973 1874058.989)</td>\n",
       "    </tr>\n",
       "    <tr>\n",
       "      <th>79</th>\n",
       "      <td>Gold</td>\n",
       "      <td>804</td>\n",
       "      <td>Memorial Park Station</td>\n",
       "      <td>34.148356</td>\n",
       "      <td>-118.147512</td>\n",
       "      <td>POINT (6517034.832 1876404.492)</td>\n",
       "    </tr>\n",
       "    <tr>\n",
       "      <th>80</th>\n",
       "      <td>Gold</td>\n",
       "      <td>804</td>\n",
       "      <td>Lake Station</td>\n",
       "      <td>34.151806</td>\n",
       "      <td>-118.131390</td>\n",
       "      <td>POINT (6521914.408 1877653.241)</td>\n",
       "    </tr>\n",
       "    <tr>\n",
       "      <th>81</th>\n",
       "      <td>Gold</td>\n",
       "      <td>804</td>\n",
       "      <td>Allen Station</td>\n",
       "      <td>34.152417</td>\n",
       "      <td>-118.114348</td>\n",
       "      <td>POINT (6527070.744 1877869.293)</td>\n",
       "    </tr>\n",
       "    <tr>\n",
       "      <th>82</th>\n",
       "      <td>Gold</td>\n",
       "      <td>804</td>\n",
       "      <td>Sierra Madre Villa Station</td>\n",
       "      <td>34.147752</td>\n",
       "      <td>-118.081212</td>\n",
       "      <td>POINT (6537094.647 1876161.862)</td>\n",
       "    </tr>\n",
       "  </tbody>\n",
       "</table>\n",
       "<p>83 rows × 6 columns</p>\n",
       "</div>"
      ],
      "text/plain": [
       "    LINE  LINENUM                      STATION        LAT        LONG  \\\n",
       "0   Blue      801  Downtown Long Beach Station  33.768071 -118.192921   \n",
       "1   Blue      801          Pacific Ave Station  33.772258 -118.193700   \n",
       "2   Blue      801       Anaheim Street Station  33.781830 -118.189384   \n",
       "3   Blue      801    Pacific Coast Hwy Station  33.789090 -118.189382   \n",
       "4   Blue      801        Willow Street Station  33.807079 -118.189834   \n",
       "..   ...      ...                          ...        ...         ...   \n",
       "78  Gold      804              Del Mar Station  34.141910 -118.148214   \n",
       "79  Gold      804        Memorial Park Station  34.148356 -118.147512   \n",
       "80  Gold      804                 Lake Station  34.151806 -118.131390   \n",
       "81  Gold      804                Allen Station  34.152417 -118.114348   \n",
       "82  Gold      804   Sierra Madre Villa Station  34.147752 -118.081212   \n",
       "\n",
       "                           geometry  \n",
       "0   POINT (6503030.095 1738033.828)  \n",
       "1   POINT (6502796.262 1739558.050)  \n",
       "2   POINT (6504114.567 1743039.068)  \n",
       "3   POINT (6504120.152 1745681.179)  \n",
       "4   POINT (6503995.170 1752228.119)  \n",
       "..                              ...  \n",
       "78  POINT (6516818.973 1874058.989)  \n",
       "79  POINT (6517034.832 1876404.492)  \n",
       "80  POINT (6521914.408 1877653.241)  \n",
       "81  POINT (6527070.744 1877869.293)  \n",
       "82  POINT (6537094.647 1876161.862)  \n",
       "\n",
       "[83 rows x 6 columns]"
      ]
     },
     "execution_count": 28,
     "metadata": {},
     "output_type": "execute_result"
    }
   ],
   "source": [
    "# show a dataframe with a subset of columns\n",
    "metro[['LINE','LINENUM','STATION','LAT','LONG','geometry']]"
   ]
  },
  {
   "cell_type": "markdown",
   "metadata": {
    "slideshow": {
     "slide_type": "slide"
    }
   },
   "source": [
    "Wait, why the double square brackets? `[[...]]`\n",
    "\n",
    "The reason for this is that we are feeding the dataframe a list of column names. Another way to do the same thing would be:"
   ]
  },
  {
   "cell_type": "code",
   "execution_count": 29,
   "metadata": {
    "slideshow": {
     "slide_type": "fragment"
    }
   },
   "outputs": [
    {
     "data": {
      "text/html": [
       "<div>\n",
       "<style scoped>\n",
       "    .dataframe tbody tr th:only-of-type {\n",
       "        vertical-align: middle;\n",
       "    }\n",
       "\n",
       "    .dataframe tbody tr th {\n",
       "        vertical-align: top;\n",
       "    }\n",
       "\n",
       "    .dataframe thead th {\n",
       "        text-align: right;\n",
       "    }\n",
       "</style>\n",
       "<table border=\"1\" class=\"dataframe\">\n",
       "  <thead>\n",
       "    <tr style=\"text-align: right;\">\n",
       "      <th></th>\n",
       "      <th>LINE</th>\n",
       "      <th>LINENUM</th>\n",
       "      <th>STATION</th>\n",
       "      <th>LAT</th>\n",
       "      <th>LONG</th>\n",
       "      <th>geometry</th>\n",
       "    </tr>\n",
       "  </thead>\n",
       "  <tbody>\n",
       "    <tr>\n",
       "      <th>0</th>\n",
       "      <td>Blue</td>\n",
       "      <td>801</td>\n",
       "      <td>Downtown Long Beach Station</td>\n",
       "      <td>33.768071</td>\n",
       "      <td>-118.192921</td>\n",
       "      <td>POINT (6503030.095 1738033.828)</td>\n",
       "    </tr>\n",
       "    <tr>\n",
       "      <th>1</th>\n",
       "      <td>Blue</td>\n",
       "      <td>801</td>\n",
       "      <td>Pacific Ave Station</td>\n",
       "      <td>33.772258</td>\n",
       "      <td>-118.193700</td>\n",
       "      <td>POINT (6502796.262 1739558.050)</td>\n",
       "    </tr>\n",
       "    <tr>\n",
       "      <th>2</th>\n",
       "      <td>Blue</td>\n",
       "      <td>801</td>\n",
       "      <td>Anaheim Street Station</td>\n",
       "      <td>33.781830</td>\n",
       "      <td>-118.189384</td>\n",
       "      <td>POINT (6504114.567 1743039.068)</td>\n",
       "    </tr>\n",
       "    <tr>\n",
       "      <th>3</th>\n",
       "      <td>Blue</td>\n",
       "      <td>801</td>\n",
       "      <td>Pacific Coast Hwy Station</td>\n",
       "      <td>33.789090</td>\n",
       "      <td>-118.189382</td>\n",
       "      <td>POINT (6504120.152 1745681.179)</td>\n",
       "    </tr>\n",
       "    <tr>\n",
       "      <th>4</th>\n",
       "      <td>Blue</td>\n",
       "      <td>801</td>\n",
       "      <td>Willow Street Station</td>\n",
       "      <td>33.807079</td>\n",
       "      <td>-118.189834</td>\n",
       "      <td>POINT (6503995.170 1752228.119)</td>\n",
       "    </tr>\n",
       "    <tr>\n",
       "      <th>...</th>\n",
       "      <td>...</td>\n",
       "      <td>...</td>\n",
       "      <td>...</td>\n",
       "      <td>...</td>\n",
       "      <td>...</td>\n",
       "      <td>...</td>\n",
       "    </tr>\n",
       "    <tr>\n",
       "      <th>78</th>\n",
       "      <td>Gold</td>\n",
       "      <td>804</td>\n",
       "      <td>Del Mar Station</td>\n",
       "      <td>34.141910</td>\n",
       "      <td>-118.148214</td>\n",
       "      <td>POINT (6516818.973 1874058.989)</td>\n",
       "    </tr>\n",
       "    <tr>\n",
       "      <th>79</th>\n",
       "      <td>Gold</td>\n",
       "      <td>804</td>\n",
       "      <td>Memorial Park Station</td>\n",
       "      <td>34.148356</td>\n",
       "      <td>-118.147512</td>\n",
       "      <td>POINT (6517034.832 1876404.492)</td>\n",
       "    </tr>\n",
       "    <tr>\n",
       "      <th>80</th>\n",
       "      <td>Gold</td>\n",
       "      <td>804</td>\n",
       "      <td>Lake Station</td>\n",
       "      <td>34.151806</td>\n",
       "      <td>-118.131390</td>\n",
       "      <td>POINT (6521914.408 1877653.241)</td>\n",
       "    </tr>\n",
       "    <tr>\n",
       "      <th>81</th>\n",
       "      <td>Gold</td>\n",
       "      <td>804</td>\n",
       "      <td>Allen Station</td>\n",
       "      <td>34.152417</td>\n",
       "      <td>-118.114348</td>\n",
       "      <td>POINT (6527070.744 1877869.293)</td>\n",
       "    </tr>\n",
       "    <tr>\n",
       "      <th>82</th>\n",
       "      <td>Gold</td>\n",
       "      <td>804</td>\n",
       "      <td>Sierra Madre Villa Station</td>\n",
       "      <td>34.147752</td>\n",
       "      <td>-118.081212</td>\n",
       "      <td>POINT (6537094.647 1876161.862)</td>\n",
       "    </tr>\n",
       "  </tbody>\n",
       "</table>\n",
       "<p>83 rows × 6 columns</p>\n",
       "</div>"
      ],
      "text/plain": [
       "    LINE  LINENUM                      STATION        LAT        LONG  \\\n",
       "0   Blue      801  Downtown Long Beach Station  33.768071 -118.192921   \n",
       "1   Blue      801          Pacific Ave Station  33.772258 -118.193700   \n",
       "2   Blue      801       Anaheim Street Station  33.781830 -118.189384   \n",
       "3   Blue      801    Pacific Coast Hwy Station  33.789090 -118.189382   \n",
       "4   Blue      801        Willow Street Station  33.807079 -118.189834   \n",
       "..   ...      ...                          ...        ...         ...   \n",
       "78  Gold      804              Del Mar Station  34.141910 -118.148214   \n",
       "79  Gold      804        Memorial Park Station  34.148356 -118.147512   \n",
       "80  Gold      804                 Lake Station  34.151806 -118.131390   \n",
       "81  Gold      804                Allen Station  34.152417 -118.114348   \n",
       "82  Gold      804   Sierra Madre Villa Station  34.147752 -118.081212   \n",
       "\n",
       "                           geometry  \n",
       "0   POINT (6503030.095 1738033.828)  \n",
       "1   POINT (6502796.262 1739558.050)  \n",
       "2   POINT (6504114.567 1743039.068)  \n",
       "3   POINT (6504120.152 1745681.179)  \n",
       "4   POINT (6503995.170 1752228.119)  \n",
       "..                              ...  \n",
       "78  POINT (6516818.973 1874058.989)  \n",
       "79  POINT (6517034.832 1876404.492)  \n",
       "80  POINT (6521914.408 1877653.241)  \n",
       "81  POINT (6527070.744 1877869.293)  \n",
       "82  POINT (6537094.647 1876161.862)  \n",
       "\n",
       "[83 rows x 6 columns]"
      ]
     },
     "execution_count": 29,
     "metadata": {},
     "output_type": "execute_result"
    }
   ],
   "source": [
    "# list of desired column names\n",
    "desired_columns = ['LINE','LINENUM','STATION','LAT','LONG','geometry']\n",
    "\n",
    "# subset based on desired columns\n",
    "metro[desired_columns]"
   ]
  },
  {
   "cell_type": "markdown",
   "metadata": {
    "slideshow": {
     "slide_type": "slide"
    }
   },
   "source": [
    "If you now print the dataframe, what happens?"
   ]
  },
  {
   "cell_type": "code",
   "execution_count": 30,
   "metadata": {
    "slideshow": {
     "slide_type": "fragment"
    }
   },
   "outputs": [
    {
     "data": {
      "text/html": [
       "<div>\n",
       "<style scoped>\n",
       "    .dataframe tbody tr th:only-of-type {\n",
       "        vertical-align: middle;\n",
       "    }\n",
       "\n",
       "    .dataframe tbody tr th {\n",
       "        vertical-align: top;\n",
       "    }\n",
       "\n",
       "    .dataframe thead th {\n",
       "        text-align: right;\n",
       "    }\n",
       "</style>\n",
       "<table border=\"1\" class=\"dataframe\">\n",
       "  <thead>\n",
       "    <tr style=\"text-align: right;\">\n",
       "      <th></th>\n",
       "      <th>LINE</th>\n",
       "      <th>LINENUM</th>\n",
       "      <th>LINENUM2</th>\n",
       "      <th>STNSEQ</th>\n",
       "      <th>STNSEQ2</th>\n",
       "      <th>DIR</th>\n",
       "      <th>STOPNUM</th>\n",
       "      <th>STATION</th>\n",
       "      <th>LAT</th>\n",
       "      <th>LONG</th>\n",
       "      <th>TPIS_NAME</th>\n",
       "      <th>POINT_X</th>\n",
       "      <th>POINT_Y</th>\n",
       "      <th>geometry</th>\n",
       "    </tr>\n",
       "  </thead>\n",
       "  <tbody>\n",
       "    <tr>\n",
       "      <th>0</th>\n",
       "      <td>Blue</td>\n",
       "      <td>801</td>\n",
       "      <td>0</td>\n",
       "      <td>21</td>\n",
       "      <td>0</td>\n",
       "      <td>None</td>\n",
       "      <td>80101</td>\n",
       "      <td>Downtown Long Beach Station</td>\n",
       "      <td>33.768071</td>\n",
       "      <td>-118.192921</td>\n",
       "      <td>Long Bch</td>\n",
       "      <td>6.503030e+06</td>\n",
       "      <td>1.738034e+06</td>\n",
       "      <td>POINT (6503030.095 1738033.828)</td>\n",
       "    </tr>\n",
       "    <tr>\n",
       "      <th>1</th>\n",
       "      <td>Blue</td>\n",
       "      <td>801</td>\n",
       "      <td>0</td>\n",
       "      <td>22</td>\n",
       "      <td>0</td>\n",
       "      <td>North</td>\n",
       "      <td>80102</td>\n",
       "      <td>Pacific Ave Station</td>\n",
       "      <td>33.772258</td>\n",
       "      <td>-118.193700</td>\n",
       "      <td>Pacific</td>\n",
       "      <td>6.502796e+06</td>\n",
       "      <td>1.739558e+06</td>\n",
       "      <td>POINT (6502796.262 1739558.050)</td>\n",
       "    </tr>\n",
       "    <tr>\n",
       "      <th>2</th>\n",
       "      <td>Blue</td>\n",
       "      <td>801</td>\n",
       "      <td>0</td>\n",
       "      <td>18</td>\n",
       "      <td>0</td>\n",
       "      <td>None</td>\n",
       "      <td>80105</td>\n",
       "      <td>Anaheim Street Station</td>\n",
       "      <td>33.781830</td>\n",
       "      <td>-118.189384</td>\n",
       "      <td>Anaheim</td>\n",
       "      <td>6.504115e+06</td>\n",
       "      <td>1.743039e+06</td>\n",
       "      <td>POINT (6504114.567 1743039.068)</td>\n",
       "    </tr>\n",
       "    <tr>\n",
       "      <th>3</th>\n",
       "      <td>Blue</td>\n",
       "      <td>801</td>\n",
       "      <td>0</td>\n",
       "      <td>17</td>\n",
       "      <td>0</td>\n",
       "      <td>None</td>\n",
       "      <td>80106</td>\n",
       "      <td>Pacific Coast Hwy Station</td>\n",
       "      <td>33.789090</td>\n",
       "      <td>-118.189382</td>\n",
       "      <td>PCH</td>\n",
       "      <td>6.504120e+06</td>\n",
       "      <td>1.745681e+06</td>\n",
       "      <td>POINT (6504120.152 1745681.179)</td>\n",
       "    </tr>\n",
       "    <tr>\n",
       "      <th>4</th>\n",
       "      <td>Blue</td>\n",
       "      <td>801</td>\n",
       "      <td>0</td>\n",
       "      <td>16</td>\n",
       "      <td>0</td>\n",
       "      <td>None</td>\n",
       "      <td>80107</td>\n",
       "      <td>Willow Street Station</td>\n",
       "      <td>33.807079</td>\n",
       "      <td>-118.189834</td>\n",
       "      <td>Willow</td>\n",
       "      <td>6.503995e+06</td>\n",
       "      <td>1.752228e+06</td>\n",
       "      <td>POINT (6503995.170 1752228.119)</td>\n",
       "    </tr>\n",
       "  </tbody>\n",
       "</table>\n",
       "</div>"
      ],
      "text/plain": [
       "   LINE  LINENUM  LINENUM2  STNSEQ  STNSEQ2    DIR  STOPNUM  \\\n",
       "0  Blue      801         0      21        0   None    80101   \n",
       "1  Blue      801         0      22        0  North    80102   \n",
       "2  Blue      801         0      18        0   None    80105   \n",
       "3  Blue      801         0      17        0   None    80106   \n",
       "4  Blue      801         0      16        0   None    80107   \n",
       "\n",
       "                       STATION        LAT        LONG TPIS_NAME       POINT_X  \\\n",
       "0  Downtown Long Beach Station  33.768071 -118.192921  Long Bch  6.503030e+06   \n",
       "1          Pacific Ave Station  33.772258 -118.193700   Pacific  6.502796e+06   \n",
       "2       Anaheim Street Station  33.781830 -118.189384   Anaheim  6.504115e+06   \n",
       "3    Pacific Coast Hwy Station  33.789090 -118.189382       PCH  6.504120e+06   \n",
       "4        Willow Street Station  33.807079 -118.189834    Willow  6.503995e+06   \n",
       "\n",
       "        POINT_Y                         geometry  \n",
       "0  1.738034e+06  POINT (6503030.095 1738033.828)  \n",
       "1  1.739558e+06  POINT (6502796.262 1739558.050)  \n",
       "2  1.743039e+06  POINT (6504114.567 1743039.068)  \n",
       "3  1.745681e+06  POINT (6504120.152 1745681.179)  \n",
       "4  1.752228e+06  POINT (6503995.170 1752228.119)  "
      ]
     },
     "execution_count": 30,
     "metadata": {},
     "output_type": "execute_result"
    }
   ],
   "source": [
    "metro.head()"
   ]
  },
  {
   "cell_type": "markdown",
   "metadata": {
    "slideshow": {
     "slide_type": "fragment"
    }
   },
   "source": [
    "What happened? Why has the dataframe reverted to the original data?"
   ]
  },
  {
   "cell_type": "markdown",
   "metadata": {
    "slideshow": {
     "slide_type": "slide"
    }
   },
   "source": [
    "That's right. In order to preserve your new dataframe, you have to **declare** it as a new variable. And finally, whenever you make a copy of a dataframe, it is **highly recommended** to add the `.copy()` command at the end:"
   ]
  },
  {
   "cell_type": "code",
   "execution_count": 31,
   "metadata": {
    "slideshow": {
     "slide_type": "fragment"
    }
   },
   "outputs": [
    {
     "data": {
      "text/html": [
       "<div>\n",
       "<style scoped>\n",
       "    .dataframe tbody tr th:only-of-type {\n",
       "        vertical-align: middle;\n",
       "    }\n",
       "\n",
       "    .dataframe tbody tr th {\n",
       "        vertical-align: top;\n",
       "    }\n",
       "\n",
       "    .dataframe thead th {\n",
       "        text-align: right;\n",
       "    }\n",
       "</style>\n",
       "<table border=\"1\" class=\"dataframe\">\n",
       "  <thead>\n",
       "    <tr style=\"text-align: right;\">\n",
       "      <th></th>\n",
       "      <th>LINE</th>\n",
       "      <th>LINENUM</th>\n",
       "      <th>STATION</th>\n",
       "      <th>LAT</th>\n",
       "      <th>LONG</th>\n",
       "      <th>geometry</th>\n",
       "    </tr>\n",
       "  </thead>\n",
       "  <tbody>\n",
       "    <tr>\n",
       "      <th>0</th>\n",
       "      <td>Blue</td>\n",
       "      <td>801</td>\n",
       "      <td>Downtown Long Beach Station</td>\n",
       "      <td>33.768071</td>\n",
       "      <td>-118.192921</td>\n",
       "      <td>POINT (6503030.095 1738033.828)</td>\n",
       "    </tr>\n",
       "    <tr>\n",
       "      <th>1</th>\n",
       "      <td>Blue</td>\n",
       "      <td>801</td>\n",
       "      <td>Pacific Ave Station</td>\n",
       "      <td>33.772258</td>\n",
       "      <td>-118.193700</td>\n",
       "      <td>POINT (6502796.262 1739558.050)</td>\n",
       "    </tr>\n",
       "    <tr>\n",
       "      <th>2</th>\n",
       "      <td>Blue</td>\n",
       "      <td>801</td>\n",
       "      <td>Anaheim Street Station</td>\n",
       "      <td>33.781830</td>\n",
       "      <td>-118.189384</td>\n",
       "      <td>POINT (6504114.567 1743039.068)</td>\n",
       "    </tr>\n",
       "    <tr>\n",
       "      <th>3</th>\n",
       "      <td>Blue</td>\n",
       "      <td>801</td>\n",
       "      <td>Pacific Coast Hwy Station</td>\n",
       "      <td>33.789090</td>\n",
       "      <td>-118.189382</td>\n",
       "      <td>POINT (6504120.152 1745681.179)</td>\n",
       "    </tr>\n",
       "    <tr>\n",
       "      <th>4</th>\n",
       "      <td>Blue</td>\n",
       "      <td>801</td>\n",
       "      <td>Willow Street Station</td>\n",
       "      <td>33.807079</td>\n",
       "      <td>-118.189834</td>\n",
       "      <td>POINT (6503995.170 1752228.119)</td>\n",
       "    </tr>\n",
       "    <tr>\n",
       "      <th>...</th>\n",
       "      <td>...</td>\n",
       "      <td>...</td>\n",
       "      <td>...</td>\n",
       "      <td>...</td>\n",
       "      <td>...</td>\n",
       "      <td>...</td>\n",
       "    </tr>\n",
       "    <tr>\n",
       "      <th>78</th>\n",
       "      <td>Gold</td>\n",
       "      <td>804</td>\n",
       "      <td>Del Mar Station</td>\n",
       "      <td>34.141910</td>\n",
       "      <td>-118.148214</td>\n",
       "      <td>POINT (6516818.973 1874058.989)</td>\n",
       "    </tr>\n",
       "    <tr>\n",
       "      <th>79</th>\n",
       "      <td>Gold</td>\n",
       "      <td>804</td>\n",
       "      <td>Memorial Park Station</td>\n",
       "      <td>34.148356</td>\n",
       "      <td>-118.147512</td>\n",
       "      <td>POINT (6517034.832 1876404.492)</td>\n",
       "    </tr>\n",
       "    <tr>\n",
       "      <th>80</th>\n",
       "      <td>Gold</td>\n",
       "      <td>804</td>\n",
       "      <td>Lake Station</td>\n",
       "      <td>34.151806</td>\n",
       "      <td>-118.131390</td>\n",
       "      <td>POINT (6521914.408 1877653.241)</td>\n",
       "    </tr>\n",
       "    <tr>\n",
       "      <th>81</th>\n",
       "      <td>Gold</td>\n",
       "      <td>804</td>\n",
       "      <td>Allen Station</td>\n",
       "      <td>34.152417</td>\n",
       "      <td>-118.114348</td>\n",
       "      <td>POINT (6527070.744 1877869.293)</td>\n",
       "    </tr>\n",
       "    <tr>\n",
       "      <th>82</th>\n",
       "      <td>Gold</td>\n",
       "      <td>804</td>\n",
       "      <td>Sierra Madre Villa Station</td>\n",
       "      <td>34.147752</td>\n",
       "      <td>-118.081212</td>\n",
       "      <td>POINT (6537094.647 1876161.862)</td>\n",
       "    </tr>\n",
       "  </tbody>\n",
       "</table>\n",
       "<p>83 rows × 6 columns</p>\n",
       "</div>"
      ],
      "text/plain": [
       "    LINE  LINENUM                      STATION        LAT        LONG  \\\n",
       "0   Blue      801  Downtown Long Beach Station  33.768071 -118.192921   \n",
       "1   Blue      801          Pacific Ave Station  33.772258 -118.193700   \n",
       "2   Blue      801       Anaheim Street Station  33.781830 -118.189384   \n",
       "3   Blue      801    Pacific Coast Hwy Station  33.789090 -118.189382   \n",
       "4   Blue      801        Willow Street Station  33.807079 -118.189834   \n",
       "..   ...      ...                          ...        ...         ...   \n",
       "78  Gold      804              Del Mar Station  34.141910 -118.148214   \n",
       "79  Gold      804        Memorial Park Station  34.148356 -118.147512   \n",
       "80  Gold      804                 Lake Station  34.151806 -118.131390   \n",
       "81  Gold      804                Allen Station  34.152417 -118.114348   \n",
       "82  Gold      804   Sierra Madre Villa Station  34.147752 -118.081212   \n",
       "\n",
       "                           geometry  \n",
       "0   POINT (6503030.095 1738033.828)  \n",
       "1   POINT (6502796.262 1739558.050)  \n",
       "2   POINT (6504114.567 1743039.068)  \n",
       "3   POINT (6504120.152 1745681.179)  \n",
       "4   POINT (6503995.170 1752228.119)  \n",
       "..                              ...  \n",
       "78  POINT (6516818.973 1874058.989)  \n",
       "79  POINT (6517034.832 1876404.492)  \n",
       "80  POINT (6521914.408 1877653.241)  \n",
       "81  POINT (6527070.744 1877869.293)  \n",
       "82  POINT (6537094.647 1876161.862)  \n",
       "\n",
       "[83 rows x 6 columns]"
      ]
     },
     "execution_count": 31,
     "metadata": {},
     "output_type": "execute_result"
    }
   ],
   "source": [
    "metro_trimmed = metro[desired_columns].copy()\n",
    "metro_trimmed"
   ]
  },
  {
   "cell_type": "markdown",
   "metadata": {
    "slideshow": {
     "slide_type": "slide"
    }
   },
   "source": [
    "### Subsetting/querying/filtering the data\n",
    "\n",
    "What if you only want to see a subset of the data? Or create a new table based on a query?"
   ]
  },
  {
   "cell_type": "code",
   "execution_count": 32,
   "metadata": {
    "slideshow": {
     "slide_type": "fragment"
    }
   },
   "outputs": [
    {
     "data": {
      "text/html": [
       "<div>\n",
       "<style scoped>\n",
       "    .dataframe tbody tr th:only-of-type {\n",
       "        vertical-align: middle;\n",
       "    }\n",
       "\n",
       "    .dataframe tbody tr th {\n",
       "        vertical-align: top;\n",
       "    }\n",
       "\n",
       "    .dataframe thead th {\n",
       "        text-align: right;\n",
       "    }\n",
       "</style>\n",
       "<table border=\"1\" class=\"dataframe\">\n",
       "  <thead>\n",
       "    <tr style=\"text-align: right;\">\n",
       "      <th></th>\n",
       "      <th>LINE</th>\n",
       "      <th>LINENUM</th>\n",
       "      <th>STATION</th>\n",
       "      <th>LAT</th>\n",
       "      <th>LONG</th>\n",
       "      <th>geometry</th>\n",
       "    </tr>\n",
       "  </thead>\n",
       "  <tbody>\n",
       "    <tr>\n",
       "      <th>20</th>\n",
       "      <td>EXPO</td>\n",
       "      <td>806</td>\n",
       "      <td>LATTC / Ortho Institute Station</td>\n",
       "      <td>34.029112</td>\n",
       "      <td>-118.273603</td>\n",
       "      <td>POINT (6478766.175 1833089.413)</td>\n",
       "    </tr>\n",
       "    <tr>\n",
       "      <th>21</th>\n",
       "      <td>EXPO</td>\n",
       "      <td>806</td>\n",
       "      <td>Jefferson / USC Station</td>\n",
       "      <td>34.022123</td>\n",
       "      <td>-118.278118</td>\n",
       "      <td>POINT (6477391.116 1830549.740)</td>\n",
       "    </tr>\n",
       "    <tr>\n",
       "      <th>22</th>\n",
       "      <td>EXPO</td>\n",
       "      <td>806</td>\n",
       "      <td>Expo Park / USC Station</td>\n",
       "      <td>34.018227</td>\n",
       "      <td>-118.285734</td>\n",
       "      <td>POINT (6475079.285 1829138.386)</td>\n",
       "    </tr>\n",
       "    <tr>\n",
       "      <th>23</th>\n",
       "      <td>EXPO</td>\n",
       "      <td>806</td>\n",
       "      <td>Expo / Vermont Station</td>\n",
       "      <td>34.018245</td>\n",
       "      <td>-118.291540</td>\n",
       "      <td>POINT (6473319.888 1829149.989)</td>\n",
       "    </tr>\n",
       "    <tr>\n",
       "      <th>24</th>\n",
       "      <td>EXPO</td>\n",
       "      <td>806</td>\n",
       "      <td>Expo / Western Station</td>\n",
       "      <td>34.018331</td>\n",
       "      <td>-118.308910</td>\n",
       "      <td>POINT (6468056.285 1829197.007)</td>\n",
       "    </tr>\n",
       "    <tr>\n",
       "      <th>25</th>\n",
       "      <td>EXPO</td>\n",
       "      <td>806</td>\n",
       "      <td>Expo / Crenshaw Station</td>\n",
       "      <td>34.022526</td>\n",
       "      <td>-118.335078</td>\n",
       "      <td>POINT (6460131.596 1830749.046)</td>\n",
       "    </tr>\n",
       "    <tr>\n",
       "      <th>26</th>\n",
       "      <td>EXPO</td>\n",
       "      <td>806</td>\n",
       "      <td>Farmdale Station</td>\n",
       "      <td>34.023981</td>\n",
       "      <td>-118.346095</td>\n",
       "      <td>POINT (6456795.070 1831289.858)</td>\n",
       "    </tr>\n",
       "    <tr>\n",
       "      <th>27</th>\n",
       "      <td>EXPO</td>\n",
       "      <td>806</td>\n",
       "      <td>Expo / La Brea / Ethel Bradley Station</td>\n",
       "      <td>34.024803</td>\n",
       "      <td>-118.355159</td>\n",
       "      <td>POINT (6454049.620 1831598.579)</td>\n",
       "    </tr>\n",
       "    <tr>\n",
       "      <th>28</th>\n",
       "      <td>EXPO</td>\n",
       "      <td>806</td>\n",
       "      <td>La Cienega / Jefferson Station</td>\n",
       "      <td>34.026355</td>\n",
       "      <td>-118.372120</td>\n",
       "      <td>POINT (6448912.366 1832181.972)</td>\n",
       "    </tr>\n",
       "    <tr>\n",
       "      <th>29</th>\n",
       "      <td>EXPO</td>\n",
       "      <td>806</td>\n",
       "      <td>Culver City Station</td>\n",
       "      <td>34.027896</td>\n",
       "      <td>-118.388986</td>\n",
       "      <td>POINT (6443804.075 1832762.116)</td>\n",
       "    </tr>\n",
       "  </tbody>\n",
       "</table>\n",
       "</div>"
      ],
      "text/plain": [
       "    LINE  LINENUM                                 STATION        LAT  \\\n",
       "20  EXPO      806         LATTC / Ortho Institute Station  34.029112   \n",
       "21  EXPO      806                 Jefferson / USC Station  34.022123   \n",
       "22  EXPO      806                 Expo Park / USC Station  34.018227   \n",
       "23  EXPO      806                  Expo / Vermont Station  34.018245   \n",
       "24  EXPO      806                  Expo / Western Station  34.018331   \n",
       "25  EXPO      806                 Expo / Crenshaw Station  34.022526   \n",
       "26  EXPO      806                        Farmdale Station  34.023981   \n",
       "27  EXPO      806  Expo / La Brea / Ethel Bradley Station  34.024803   \n",
       "28  EXPO      806          La Cienega / Jefferson Station  34.026355   \n",
       "29  EXPO      806                     Culver City Station  34.027896   \n",
       "\n",
       "          LONG                         geometry  \n",
       "20 -118.273603  POINT (6478766.175 1833089.413)  \n",
       "21 -118.278118  POINT (6477391.116 1830549.740)  \n",
       "22 -118.285734  POINT (6475079.285 1829138.386)  \n",
       "23 -118.291540  POINT (6473319.888 1829149.989)  \n",
       "24 -118.308910  POINT (6468056.285 1829197.007)  \n",
       "25 -118.335078  POINT (6460131.596 1830749.046)  \n",
       "26 -118.346095  POINT (6456795.070 1831289.858)  \n",
       "27 -118.355159  POINT (6454049.620 1831598.579)  \n",
       "28 -118.372120  POINT (6448912.366 1832181.972)  \n",
       "29 -118.388986  POINT (6443804.075 1832762.116)  "
      ]
     },
     "execution_count": 32,
     "metadata": {},
     "output_type": "execute_result"
    }
   ],
   "source": [
    "metro_trimmed[metro_trimmed.LINE == 'EXPO']"
   ]
  },
  {
   "cell_type": "code",
   "execution_count": 33,
   "metadata": {
    "slideshow": {
     "slide_type": "slide"
    }
   },
   "outputs": [
    {
     "data": {
      "text/html": [
       "<div>\n",
       "<style scoped>\n",
       "    .dataframe tbody tr th:only-of-type {\n",
       "        vertical-align: middle;\n",
       "    }\n",
       "\n",
       "    .dataframe tbody tr th {\n",
       "        vertical-align: top;\n",
       "    }\n",
       "\n",
       "    .dataframe thead th {\n",
       "        text-align: right;\n",
       "    }\n",
       "</style>\n",
       "<table border=\"1\" class=\"dataframe\">\n",
       "  <thead>\n",
       "    <tr style=\"text-align: right;\">\n",
       "      <th></th>\n",
       "      <th>LINE</th>\n",
       "      <th>LINENUM</th>\n",
       "      <th>STATION</th>\n",
       "      <th>LAT</th>\n",
       "      <th>LONG</th>\n",
       "      <th>geometry</th>\n",
       "    </tr>\n",
       "  </thead>\n",
       "  <tbody>\n",
       "    <tr>\n",
       "      <th>20</th>\n",
       "      <td>EXPO</td>\n",
       "      <td>806</td>\n",
       "      <td>LATTC / Ortho Institute Station</td>\n",
       "      <td>34.029112</td>\n",
       "      <td>-118.273603</td>\n",
       "      <td>POINT (6478766.175 1833089.413)</td>\n",
       "    </tr>\n",
       "    <tr>\n",
       "      <th>21</th>\n",
       "      <td>EXPO</td>\n",
       "      <td>806</td>\n",
       "      <td>Jefferson / USC Station</td>\n",
       "      <td>34.022123</td>\n",
       "      <td>-118.278118</td>\n",
       "      <td>POINT (6477391.116 1830549.740)</td>\n",
       "    </tr>\n",
       "    <tr>\n",
       "      <th>22</th>\n",
       "      <td>EXPO</td>\n",
       "      <td>806</td>\n",
       "      <td>Expo Park / USC Station</td>\n",
       "      <td>34.018227</td>\n",
       "      <td>-118.285734</td>\n",
       "      <td>POINT (6475079.285 1829138.386)</td>\n",
       "    </tr>\n",
       "    <tr>\n",
       "      <th>23</th>\n",
       "      <td>EXPO</td>\n",
       "      <td>806</td>\n",
       "      <td>Expo / Vermont Station</td>\n",
       "      <td>34.018245</td>\n",
       "      <td>-118.291540</td>\n",
       "      <td>POINT (6473319.888 1829149.989)</td>\n",
       "    </tr>\n",
       "    <tr>\n",
       "      <th>24</th>\n",
       "      <td>EXPO</td>\n",
       "      <td>806</td>\n",
       "      <td>Expo / Western Station</td>\n",
       "      <td>34.018331</td>\n",
       "      <td>-118.308910</td>\n",
       "      <td>POINT (6468056.285 1829197.007)</td>\n",
       "    </tr>\n",
       "    <tr>\n",
       "      <th>25</th>\n",
       "      <td>EXPO</td>\n",
       "      <td>806</td>\n",
       "      <td>Expo / Crenshaw Station</td>\n",
       "      <td>34.022526</td>\n",
       "      <td>-118.335078</td>\n",
       "      <td>POINT (6460131.596 1830749.046)</td>\n",
       "    </tr>\n",
       "    <tr>\n",
       "      <th>26</th>\n",
       "      <td>EXPO</td>\n",
       "      <td>806</td>\n",
       "      <td>Farmdale Station</td>\n",
       "      <td>34.023981</td>\n",
       "      <td>-118.346095</td>\n",
       "      <td>POINT (6456795.070 1831289.858)</td>\n",
       "    </tr>\n",
       "    <tr>\n",
       "      <th>27</th>\n",
       "      <td>EXPO</td>\n",
       "      <td>806</td>\n",
       "      <td>Expo / La Brea / Ethel Bradley Station</td>\n",
       "      <td>34.024803</td>\n",
       "      <td>-118.355159</td>\n",
       "      <td>POINT (6454049.620 1831598.579)</td>\n",
       "    </tr>\n",
       "    <tr>\n",
       "      <th>28</th>\n",
       "      <td>EXPO</td>\n",
       "      <td>806</td>\n",
       "      <td>La Cienega / Jefferson Station</td>\n",
       "      <td>34.026355</td>\n",
       "      <td>-118.372120</td>\n",
       "      <td>POINT (6448912.366 1832181.972)</td>\n",
       "    </tr>\n",
       "    <tr>\n",
       "      <th>29</th>\n",
       "      <td>EXPO</td>\n",
       "      <td>806</td>\n",
       "      <td>Culver City Station</td>\n",
       "      <td>34.027896</td>\n",
       "      <td>-118.388986</td>\n",
       "      <td>POINT (6443804.075 1832762.116)</td>\n",
       "    </tr>\n",
       "  </tbody>\n",
       "</table>\n",
       "</div>"
      ],
      "text/plain": [
       "    LINE  LINENUM                                 STATION        LAT  \\\n",
       "20  EXPO      806         LATTC / Ortho Institute Station  34.029112   \n",
       "21  EXPO      806                 Jefferson / USC Station  34.022123   \n",
       "22  EXPO      806                 Expo Park / USC Station  34.018227   \n",
       "23  EXPO      806                  Expo / Vermont Station  34.018245   \n",
       "24  EXPO      806                  Expo / Western Station  34.018331   \n",
       "25  EXPO      806                 Expo / Crenshaw Station  34.022526   \n",
       "26  EXPO      806                        Farmdale Station  34.023981   \n",
       "27  EXPO      806  Expo / La Brea / Ethel Bradley Station  34.024803   \n",
       "28  EXPO      806          La Cienega / Jefferson Station  34.026355   \n",
       "29  EXPO      806                     Culver City Station  34.027896   \n",
       "\n",
       "          LONG                         geometry  \n",
       "20 -118.273603  POINT (6478766.175 1833089.413)  \n",
       "21 -118.278118  POINT (6477391.116 1830549.740)  \n",
       "22 -118.285734  POINT (6475079.285 1829138.386)  \n",
       "23 -118.291540  POINT (6473319.888 1829149.989)  \n",
       "24 -118.308910  POINT (6468056.285 1829197.007)  \n",
       "25 -118.335078  POINT (6460131.596 1830749.046)  \n",
       "26 -118.346095  POINT (6456795.070 1831289.858)  \n",
       "27 -118.355159  POINT (6454049.620 1831598.579)  \n",
       "28 -118.372120  POINT (6448912.366 1832181.972)  \n",
       "29 -118.388986  POINT (6443804.075 1832762.116)  "
      ]
     },
     "execution_count": 33,
     "metadata": {},
     "output_type": "execute_result"
    }
   ],
   "source": [
    "# another way\n",
    "metro_trimmed.loc[metro_trimmed['LINE'] == 'EXPO']"
   ]
  },
  {
   "cell_type": "code",
   "execution_count": 34,
   "metadata": {
    "slideshow": {
     "slide_type": "slide"
    }
   },
   "outputs": [
    {
     "data": {
      "text/html": [
       "<div>\n",
       "<style scoped>\n",
       "    .dataframe tbody tr th:only-of-type {\n",
       "        vertical-align: middle;\n",
       "    }\n",
       "\n",
       "    .dataframe tbody tr th {\n",
       "        vertical-align: top;\n",
       "    }\n",
       "\n",
       "    .dataframe thead th {\n",
       "        text-align: right;\n",
       "    }\n",
       "</style>\n",
       "<table border=\"1\" class=\"dataframe\">\n",
       "  <thead>\n",
       "    <tr style=\"text-align: right;\">\n",
       "      <th></th>\n",
       "      <th>LINE</th>\n",
       "      <th>LINENUM</th>\n",
       "      <th>STATION</th>\n",
       "      <th>LAT</th>\n",
       "      <th>LONG</th>\n",
       "      <th>geometry</th>\n",
       "    </tr>\n",
       "  </thead>\n",
       "  <tbody>\n",
       "    <tr>\n",
       "      <th>20</th>\n",
       "      <td>EXPO</td>\n",
       "      <td>806</td>\n",
       "      <td>LATTC / Ortho Institute Station</td>\n",
       "      <td>34.029112</td>\n",
       "      <td>-118.273603</td>\n",
       "      <td>POINT (6478766.175 1833089.413)</td>\n",
       "    </tr>\n",
       "    <tr>\n",
       "      <th>21</th>\n",
       "      <td>EXPO</td>\n",
       "      <td>806</td>\n",
       "      <td>Jefferson / USC Station</td>\n",
       "      <td>34.022123</td>\n",
       "      <td>-118.278118</td>\n",
       "      <td>POINT (6477391.116 1830549.740)</td>\n",
       "    </tr>\n",
       "    <tr>\n",
       "      <th>22</th>\n",
       "      <td>EXPO</td>\n",
       "      <td>806</td>\n",
       "      <td>Expo Park / USC Station</td>\n",
       "      <td>34.018227</td>\n",
       "      <td>-118.285734</td>\n",
       "      <td>POINT (6475079.285 1829138.386)</td>\n",
       "    </tr>\n",
       "    <tr>\n",
       "      <th>23</th>\n",
       "      <td>EXPO</td>\n",
       "      <td>806</td>\n",
       "      <td>Expo / Vermont Station</td>\n",
       "      <td>34.018245</td>\n",
       "      <td>-118.291540</td>\n",
       "      <td>POINT (6473319.888 1829149.989)</td>\n",
       "    </tr>\n",
       "    <tr>\n",
       "      <th>24</th>\n",
       "      <td>EXPO</td>\n",
       "      <td>806</td>\n",
       "      <td>Expo / Western Station</td>\n",
       "      <td>34.018331</td>\n",
       "      <td>-118.308910</td>\n",
       "      <td>POINT (6468056.285 1829197.007)</td>\n",
       "    </tr>\n",
       "    <tr>\n",
       "      <th>25</th>\n",
       "      <td>EXPO</td>\n",
       "      <td>806</td>\n",
       "      <td>Expo / Crenshaw Station</td>\n",
       "      <td>34.022526</td>\n",
       "      <td>-118.335078</td>\n",
       "      <td>POINT (6460131.596 1830749.046)</td>\n",
       "    </tr>\n",
       "    <tr>\n",
       "      <th>26</th>\n",
       "      <td>EXPO</td>\n",
       "      <td>806</td>\n",
       "      <td>Farmdale Station</td>\n",
       "      <td>34.023981</td>\n",
       "      <td>-118.346095</td>\n",
       "      <td>POINT (6456795.070 1831289.858)</td>\n",
       "    </tr>\n",
       "    <tr>\n",
       "      <th>27</th>\n",
       "      <td>EXPO</td>\n",
       "      <td>806</td>\n",
       "      <td>Expo / La Brea / Ethel Bradley Station</td>\n",
       "      <td>34.024803</td>\n",
       "      <td>-118.355159</td>\n",
       "      <td>POINT (6454049.620 1831598.579)</td>\n",
       "    </tr>\n",
       "    <tr>\n",
       "      <th>28</th>\n",
       "      <td>EXPO</td>\n",
       "      <td>806</td>\n",
       "      <td>La Cienega / Jefferson Station</td>\n",
       "      <td>34.026355</td>\n",
       "      <td>-118.372120</td>\n",
       "      <td>POINT (6448912.366 1832181.972)</td>\n",
       "    </tr>\n",
       "    <tr>\n",
       "      <th>29</th>\n",
       "      <td>EXPO</td>\n",
       "      <td>806</td>\n",
       "      <td>Culver City Station</td>\n",
       "      <td>34.027896</td>\n",
       "      <td>-118.388986</td>\n",
       "      <td>POINT (6443804.075 1832762.116)</td>\n",
       "    </tr>\n",
       "  </tbody>\n",
       "</table>\n",
       "</div>"
      ],
      "text/plain": [
       "    LINE  LINENUM                                 STATION        LAT  \\\n",
       "20  EXPO      806         LATTC / Ortho Institute Station  34.029112   \n",
       "21  EXPO      806                 Jefferson / USC Station  34.022123   \n",
       "22  EXPO      806                 Expo Park / USC Station  34.018227   \n",
       "23  EXPO      806                  Expo / Vermont Station  34.018245   \n",
       "24  EXPO      806                  Expo / Western Station  34.018331   \n",
       "25  EXPO      806                 Expo / Crenshaw Station  34.022526   \n",
       "26  EXPO      806                        Farmdale Station  34.023981   \n",
       "27  EXPO      806  Expo / La Brea / Ethel Bradley Station  34.024803   \n",
       "28  EXPO      806          La Cienega / Jefferson Station  34.026355   \n",
       "29  EXPO      806                     Culver City Station  34.027896   \n",
       "\n",
       "          LONG                         geometry  \n",
       "20 -118.273603  POINT (6478766.175 1833089.413)  \n",
       "21 -118.278118  POINT (6477391.116 1830549.740)  \n",
       "22 -118.285734  POINT (6475079.285 1829138.386)  \n",
       "23 -118.291540  POINT (6473319.888 1829149.989)  \n",
       "24 -118.308910  POINT (6468056.285 1829197.007)  \n",
       "25 -118.335078  POINT (6460131.596 1830749.046)  \n",
       "26 -118.346095  POINT (6456795.070 1831289.858)  \n",
       "27 -118.355159  POINT (6454049.620 1831598.579)  \n",
       "28 -118.372120  POINT (6448912.366 1832181.972)  \n",
       "29 -118.388986  POINT (6443804.075 1832762.116)  "
      ]
     },
     "execution_count": 34,
     "metadata": {},
     "output_type": "execute_result"
    }
   ],
   "source": [
    "# another way\n",
    "metro_trimmed.query(\"LINE == 'EXPO'\")"
   ]
  },
  {
   "cell_type": "code",
   "execution_count": 35,
   "metadata": {
    "slideshow": {
     "slide_type": "slide"
    }
   },
   "outputs": [],
   "source": [
    "# try it yourself. Query the dataframe for other properties of interest\n"
   ]
  },
  {
   "cell_type": "markdown",
   "metadata": {
    "slideshow": {
     "slide_type": "slide"
    }
   },
   "source": [
    "## Plotting\n",
    "\n",
    "We have now imported a shapefile, trimmed it, and created a series of queried subsets. Let's visualize our data. First, simply pass it the `plot()` command to see what it looks like."
   ]
  },
  {
   "cell_type": "code",
   "execution_count": 36,
   "metadata": {
    "slideshow": {
     "slide_type": "fragment"
    }
   },
   "outputs": [
    {
     "data": {
      "text/plain": [
       "<matplotlib.axes._subplots.AxesSubplot at 0x7f19f7deb8b0>"
      ]
     },
     "execution_count": 36,
     "metadata": {},
     "output_type": "execute_result"
    },
    {
     "data": {
      "image/png": "[encoded data removed]",
      "text/plain": [
       "<Figure size 432x288 with 1 Axes>"
      ]
     },
     "metadata": {
      "needs_background": "light"
     },
     "output_type": "display_data"
    }
   ],
   "source": [
    "metro_trimmed.plot()"
   ]
  },
  {
   "cell_type": "markdown",
   "metadata": {
    "slideshow": {
     "slide_type": "slide"
    }
   },
   "source": [
    "That's great! Very rewarding, with a single command. The reason it is able to plot the station points is because of the `geometry` column that is created from the shapefile. This is a unique geopandas feature."
   ]
  },
  {
   "cell_type": "code",
   "execution_count": 37,
   "metadata": {
    "slideshow": {
     "slide_type": "fragment"
    }
   },
   "outputs": [
    {
     "data": {
      "text/plain": [
       "0     POINT (6503030.095 1738033.828)\n",
       "1     POINT (6502796.262 1739558.050)\n",
       "2     POINT (6504114.567 1743039.068)\n",
       "3     POINT (6504120.152 1745681.179)\n",
       "4     POINT (6503995.170 1752228.119)\n",
       "                   ...               \n",
       "78    POINT (6516818.973 1874058.989)\n",
       "79    POINT (6517034.832 1876404.492)\n",
       "80    POINT (6521914.408 1877653.241)\n",
       "81    POINT (6527070.744 1877869.293)\n",
       "82    POINT (6537094.647 1876161.862)\n",
       "Name: geometry, Length: 83, dtype: geometry"
      ]
     },
     "execution_count": 37,
     "metadata": {},
     "output_type": "execute_result"
    }
   ],
   "source": [
    "metro_trimmed.geometry"
   ]
  },
  {
   "cell_type": "markdown",
   "metadata": {
    "slideshow": {
     "slide_type": "slide"
    }
   },
   "source": [
    "### A prettier plot\n",
    "\n",
    "You can add additional arguments to make the plot prettier: change the size, add legends, etc."
   ]
  },
  {
   "cell_type": "code",
   "execution_count": 38,
   "metadata": {},
   "outputs": [
    {
     "data": {
      "text/plain": [
       "<matplotlib.axes._subplots.AxesSubplot at 0x7f19f7528a60>"
      ]
     },
     "execution_count": 38,
     "metadata": {},
     "output_type": "execute_result"
    },
    {
     "data": {
      "image/png": "[encoded data removed]",
      "text/plain": [
       "<Figure size 1440x864 with 1 Axes>"
      ]
     },
     "metadata": {
      "needs_background": "light"
     },
     "output_type": "display_data"
    }
   ],
   "source": [
    "metro_trimmed.plot(\n",
    "            figsize=(20,12),   #size of the plot (a bit bigger than the default)\n",
    "            column = 'LINE',   # column that defines the color of the dots\n",
    "            legend = True,     # add a legend           \n",
    "            legend_kwds={\n",
    "               'loc': 'upper right',\n",
    "               'bbox_to_anchor':(1.3,1)\n",
    "            }                  # this puts the legend to the side\n",
    ") "
   ]
  },
  {
   "cell_type": "markdown",
   "metadata": {
    "slideshow": {
     "slide_type": "slide"
    }
   },
   "source": [
    "## Mapping with folium"
   ]
  },
  {
   "cell_type": "markdown",
   "metadata": {
    "slideshow": {
     "slide_type": "-"
    }
   },
   "source": [
    "Now it's time for another module. Everybody, please welcome `folium`. Folium brings leaflet, an open source javascript mapping library into our Python environment, allowing you to create instant interactive maps. Try it:"
   ]
  },
  {
   "cell_type": "code",
   "execution_count": 40,
   "metadata": {},
   "outputs": [],
   "source": [
    "import folium"
   ]
  },
  {
   "cell_type": "code",
   "execution_count": 43,
   "metadata": {
    "slideshow": {
     "slide_type": "slide"
    }
   },
   "outputs": [
    {
     "data": {
      "text/html": [
       "<div style=\"width:100%;\"><div style=\"position:relative;width:100%;height:0;padding-bottom:60%;\"><span style=\"color:#565656\">Make this Notebook Trusted to load map: File -> Trust Notebook</span><iframe src=\"about:blank\" style=\"position:absolute;width:100%;height:100%;left:0;top:0;border:none !important;\" data-html=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 onload=\"this.contentDocument.open();this.contentDocument.write(atob(this.getAttribute('data-html')));this.contentDocument.close();\" allowfullscreen webkitallowfullscreen mozallowfullscreen></iframe></div></div>"
      ],
      "text/plain": [
       "<folium.folium.Map at 0x7f19f6a461f0>"
      ]
     },
     "execution_count": 43,
     "metadata": {},
     "output_type": "execute_result"
    }
   ],
   "source": [
    "# default folium map\n",
    "m = folium.Map()\n",
    "m"
   ]
  },
  {
   "cell_type": "markdown",
   "metadata": {},
   "source": [
    "A world map is cool... but let's add arguments to the `folium.map` command. Specifically, we can feed it a center latitude value, a center longitude value, and a default zoom level."
   ]
  },
  {
   "cell_type": "markdown",
   "metadata": {
    "slideshow": {
     "slide_type": "slide"
    }
   },
   "source": [
    "### Get average lat/lon's"
   ]
  },
  {
   "cell_type": "code",
   "execution_count": 44,
   "metadata": {
    "slideshow": {
     "slide_type": "fragment"
    }
   },
   "outputs": [
    {
     "data": {
      "text/plain": [
       "34.00158291566265"
      ]
     },
     "execution_count": 44,
     "metadata": {},
     "output_type": "execute_result"
    }
   ],
   "source": [
    "# average latitude\n",
    "latitude = metro_trimmed.LAT.mean()\n",
    "latitude"
   ]
  },
  {
   "cell_type": "code",
   "execution_count": 45,
   "metadata": {
    "slideshow": {
     "slide_type": "fragment"
    }
   },
   "outputs": [
    {
     "data": {
      "text/plain": [
       "-118.251045313253"
      ]
     },
     "execution_count": 45,
     "metadata": {},
     "output_type": "execute_result"
    }
   ],
   "source": [
    "# average longitude\n",
    "longitude = metro_trimmed.LONG.mean()\n",
    "longitude"
   ]
  },
  {
   "cell_type": "markdown",
   "metadata": {},
   "source": [
    "### Folium map with arguments\n",
    "\n",
    "Complete the code cell below with arguments to center the map based on the metro coordinates calculated above, and adjust the zoom level accordingly. Refer the folium documentation as necessary."
   ]
  },
  {
   "cell_type": "code",
   "execution_count": 47,
   "metadata": {
    "slideshow": {
     "slide_type": "slide"
    }
   },
   "outputs": [
    {
     "data": {
      "text/html": [
       "<div style=\"width:100%;\"><div style=\"position:relative;width:100%;height:0;padding-bottom:60%;\"><span style=\"color:#565656\">Make this Notebook Trusted to load map: File -> Trust Notebook</span><iframe src=\"about:blank\" style=\"position:absolute;width:100%;height:100%;left:0;top:0;border:none !important;\" data-html=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 onload=\"this.contentDocument.open();this.contentDocument.write(atob(this.getAttribute('data-html')));this.contentDocument.close();\" allowfullscreen webkitallowfullscreen mozallowfullscreen></iframe></div></div>"
      ],
      "text/plain": [
       "<folium.folium.Map at 0x7f19f5a03d00>"
      ]
     },
     "execution_count": 47,
     "metadata": {},
     "output_type": "execute_result"
    }
   ],
   "source": [
    "# complete this code so that the map will show up \n",
    "# centered based on the average lat/lon calculated above\n",
    "# adjust the zoom level accordingly\n",
    "m = folium.Map()\n",
    "m"
   ]
  },
  {
   "cell_type": "markdown",
   "metadata": {
    "slideshow": {
     "slide_type": "slide"
    }
   },
   "source": [
    "### Adding point markers\n",
    "\n",
    "How do you add a marker to a folium map?\n",
    "\n",
    "* [Folium quickstart](https://python-visualization.github.io/folium/quickstart.html)\n",
    "\n",
    "```\n",
    "folium.Marker([45.3288, -121.6625], popup='<i>Mt. Hood Meadows</i>', tooltip=tooltip).add_to(m)\n",
    "```\n",
    "\n",
    "Since we want to add a marker *for each station* in our dataframe, we do a for loop, and add the marker within the loop."
   ]
  },
  {
   "cell_type": "code",
   "execution_count": 53,
   "metadata": {
    "scrolled": true
   },
   "outputs": [
    {
     "name": "stdout",
     "output_type": "stream",
     "text": [
      "Downtown Long Beach Station 33.768071 -118.192921\n",
      "Pacific Ave Station 33.772258 -118.1937\n",
      "Anaheim Street Station 33.78183 -118.189384\n",
      "Pacific Coast Hwy Station 33.78909 -118.189382\n",
      "Willow Street Station 33.807079 -118.189834\n",
      "Wardlow Station 33.819865 -118.19609\n",
      "Del Amo Station 33.848222 -118.211017\n",
      "Artesia Station 33.876082 -118.222503\n",
      "Compton Station 33.89749 -118.224249\n",
      "Willowbrook - Rosa Parks Station - Metro Blue Line 33.928048 -118.237555\n",
      "103rd Street / Watts Towers  Station 33.94222 -118.243159\n",
      "Firestone Station 33.959611 -118.243205\n",
      "Florence Station 33.97374 -118.243271\n",
      "Slauson Station 33.98876 -118.243398\n",
      "Vernon Station 34.00292 -118.243303\n",
      "Washington Station 34.01965 -118.243084\n",
      "San Pedro Street Station 34.026807 -118.255505\n",
      "Grand / LATTC Station 34.033155 -118.269333\n",
      "Pico Station 34.040735 -118.266118\n",
      "7th Street / Metro Center Station - Metro Blue & Expo Lines 34.04861 -118.258822\n",
      "LATTC / Ortho Institute Station 34.029112 -118.273603\n",
      "Jefferson / USC Station 34.022123 -118.278118\n",
      "Expo Park / USC Station 34.018227 -118.285734\n",
      "Expo / Vermont Station 34.018245 -118.29154\n",
      "Expo / Western Station 34.018331 -118.30891\n",
      "Expo / Crenshaw Station 34.022526 -118.335078\n",
      "Farmdale Station 34.023981 -118.346095\n",
      "Expo / La Brea / Ethel Bradley Station 34.024803 -118.355159\n",
      "La Cienega / Jefferson Station 34.026355 -118.37212\n",
      "Culver City Station 34.027896 -118.388986\n",
      "1st Street Station 33.76874 -118.189362\n",
      "5th Street Station 33.773598 -118.189412\n",
      "North Hollywood Station 34.168504 -118.376808\n",
      "Universal / Studio City Station 34.140002 -118.362699\n",
      "Hollywood / Highland Station 34.101547 -118.338549\n",
      "Hollywood / Vine Station 34.10163 -118.32518\n",
      "Hollywood / Western Station 34.101737 -118.308117\n",
      "Vermont / Sunset Station 34.097708 -118.291756\n",
      "Vermont / Santa Monica Station 34.08991 -118.29173\n",
      "Vermont / Beverly Station 34.076526 -118.291686\n",
      "Wilshire / Vermont Station 34.062701 -118.290082\n",
      "Westlake / MacArthur Park Station 34.056368 -118.274879\n",
      "7th Street / Metro Center Station - Metro Red & Purple Lines 34.048634 -118.258682\n",
      "Pershing Square Station 34.049316 -118.251259\n",
      "Civic Center / Grand Park Station 34.0549 -118.246057\n",
      "Union Station - Metro Red & Purple Lines 34.056197 -118.234249\n",
      "Wilshire / Normandie Station 34.061753 -118.301458\n",
      "Wilshire / Western Station 34.061689 -118.308756\n",
      "Redondo Beach Station 33.89464 -118.369196\n",
      "Douglas Station 33.905299 -118.383113\n",
      "El Segundo Station 33.916063 -118.386539\n",
      "Mariposa Station 33.9232 -118.387572\n",
      "Aviation / LAX Station 33.929621 -118.377134\n",
      "Hawthorne / Lennox Station 33.933408 -118.351602\n",
      "Crenshaw Station 33.925201 -118.32655\n",
      "Vermont / Athens Station 33.928683 -118.291733\n",
      "Harbor Freeway Station 33.928714 -118.2811\n",
      "Avalon Station 33.927465 -118.265217\n",
      "Willowbrook - Rosa Parks Station - Metro Green Line 33.928258 -118.238052\n",
      "Long Beach Blvd Station 33.92488 -118.209945\n",
      "Lakewood Blvd Station 33.91307 -118.1406\n",
      "Norwalk Station 33.914033 -118.104717\n",
      "Atlantic Station 34.033398 -118.154469\n",
      "East LA Civic Center Station 34.033364 -118.161206\n",
      "Maravilla Station 34.033319 -118.16814\n",
      "Indiana Station 34.0343 -118.192182\n",
      "Soto Station 34.043747 -118.210061\n",
      "Mariachi Plaza / Boyle Heights Station 34.047215 -118.219648\n",
      "Pico / Aliso Station 34.047634 -118.22594\n",
      "Little Tokyo / Arts District Station 34.0501 -118.237901\n",
      "Union Station - Metro Gold Line 34.056061 -118.234759\n",
      "Chinatown Station 34.063861 -118.23584\n",
      "Lincoln Heights / Cypress Park Station 34.080949 -118.220429\n",
      "Heritage Square / Arroyo Station 34.087227 -118.213213\n",
      "Southwest Museum Station 34.098243 -118.206712\n",
      "Highland Park Station 34.111179 -118.192606\n",
      "South Pasadena Station 34.115186 -118.157886\n",
      "Fillmore Station 34.133521 -118.148126\n",
      "Del Mar Station 34.14191 -118.148214\n",
      "Memorial Park Station 34.148356 -118.147512\n",
      "Lake Station 34.151806 -118.13139\n",
      "Allen Station 34.152417 -118.114348\n",
      "Sierra Madre Villa Station 34.147752 -118.081212\n"
     ]
    }
   ],
   "source": [
    "# first, note how to loop through a dataframe:\n",
    "for index, row in metro_trimmed.iterrows():\n",
    "    print(row.STATION, row.LAT, row.LONG)"
   ]
  },
  {
   "cell_type": "markdown",
   "metadata": {},
   "source": [
    "Using the for loop logic above, create a folium marker for each row in the dataframe."
   ]
  },
  {
   "cell_type": "code",
   "execution_count": 54,
   "metadata": {
    "scrolled": false,
    "slideshow": {
     "slide_type": "slide"
    }
   },
   "outputs": [
    {
     "data": {
      "text/html": [
       "<div style=\"width:100%;\"><div style=\"position:relative;width:100%;height:0;padding-bottom:60%;\"><span style=\"color:#565656\">Make this Notebook Trusted to load map: File -> Trust Notebook</span><iframe src=\"about:blank\" style=\"position:absolute;width:100%;height:100%;left:0;top:0;border:none !important;\" data-html=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 onload=\"this.contentDocument.open();this.contentDocument.write(atob(this.getAttribute('data-html')));this.contentDocument.close();\" allowfullscreen webkitallowfullscreen mozallowfullscreen></iframe></div></div>"
      ],
      "text/plain": [
       "<folium.folium.Map at 0x7f19f5a03d00>"
      ]
     },
     "execution_count": 54,
     "metadata": {},
     "output_type": "execute_result"
    }
   ],
   "source": [
    "# add the stations\n",
    "for index, row in metro_trimmed.iterrows():\n",
    "    folium.Marker(\n",
    "        [row.LAT,row.LONG], \n",
    "        tooltip=row.STATION\n",
    "    ).add_to(m)\n",
    "m"
   ]
  },
  {
   "cell_type": "markdown",
   "metadata": {
    "slideshow": {
     "slide_type": "slide"
    }
   },
   "source": [
    "### Color code markers\n",
    "That's great, but can we color code the markers so that they correspond to their metro lines?\n",
    "\n",
    "To do so:\n",
    "\n",
    "1. create a new column `color`\n",
    "1. add a color of choice based on the LINE that each row represents"
   ]
  },
  {
   "cell_type": "code",
   "execution_count": 55,
   "metadata": {
    "slideshow": {
     "slide_type": "slide"
    }
   },
   "outputs": [],
   "source": [
    "# add a new column\n",
    "metro_trimmed['color'] = ''"
   ]
  },
  {
   "cell_type": "code",
   "execution_count": 56,
   "metadata": {
    "slideshow": {
     "slide_type": "fragment"
    }
   },
   "outputs": [
    {
     "data": {
      "text/html": [
       "<div>\n",
       "<style scoped>\n",
       "    .dataframe tbody tr th:only-of-type {\n",
       "        vertical-align: middle;\n",
       "    }\n",
       "\n",
       "    .dataframe tbody tr th {\n",
       "        vertical-align: top;\n",
       "    }\n",
       "\n",
       "    .dataframe thead th {\n",
       "        text-align: right;\n",
       "    }\n",
       "</style>\n",
       "<table border=\"1\" class=\"dataframe\">\n",
       "  <thead>\n",
       "    <tr style=\"text-align: right;\">\n",
       "      <th></th>\n",
       "      <th>LINE</th>\n",
       "      <th>LINENUM</th>\n",
       "      <th>STATION</th>\n",
       "      <th>LAT</th>\n",
       "      <th>LONG</th>\n",
       "      <th>geometry</th>\n",
       "      <th>color</th>\n",
       "    </tr>\n",
       "  </thead>\n",
       "  <tbody>\n",
       "    <tr>\n",
       "      <th>0</th>\n",
       "      <td>Blue</td>\n",
       "      <td>801</td>\n",
       "      <td>Downtown Long Beach Station</td>\n",
       "      <td>33.768071</td>\n",
       "      <td>-118.192921</td>\n",
       "      <td>POINT (6503030.095 1738033.828)</td>\n",
       "      <td></td>\n",
       "    </tr>\n",
       "    <tr>\n",
       "      <th>1</th>\n",
       "      <td>Blue</td>\n",
       "      <td>801</td>\n",
       "      <td>Pacific Ave Station</td>\n",
       "      <td>33.772258</td>\n",
       "      <td>-118.193700</td>\n",
       "      <td>POINT (6502796.262 1739558.050)</td>\n",
       "      <td></td>\n",
       "    </tr>\n",
       "    <tr>\n",
       "      <th>2</th>\n",
       "      <td>Blue</td>\n",
       "      <td>801</td>\n",
       "      <td>Anaheim Street Station</td>\n",
       "      <td>33.781830</td>\n",
       "      <td>-118.189384</td>\n",
       "      <td>POINT (6504114.567 1743039.068)</td>\n",
       "      <td></td>\n",
       "    </tr>\n",
       "    <tr>\n",
       "      <th>3</th>\n",
       "      <td>Blue</td>\n",
       "      <td>801</td>\n",
       "      <td>Pacific Coast Hwy Station</td>\n",
       "      <td>33.789090</td>\n",
       "      <td>-118.189382</td>\n",
       "      <td>POINT (6504120.152 1745681.179)</td>\n",
       "      <td></td>\n",
       "    </tr>\n",
       "    <tr>\n",
       "      <th>4</th>\n",
       "      <td>Blue</td>\n",
       "      <td>801</td>\n",
       "      <td>Willow Street Station</td>\n",
       "      <td>33.807079</td>\n",
       "      <td>-118.189834</td>\n",
       "      <td>POINT (6503995.170 1752228.119)</td>\n",
       "      <td></td>\n",
       "    </tr>\n",
       "  </tbody>\n",
       "</table>\n",
       "</div>"
      ],
      "text/plain": [
       "   LINE  LINENUM                      STATION        LAT        LONG  \\\n",
       "0  Blue      801  Downtown Long Beach Station  33.768071 -118.192921   \n",
       "1  Blue      801          Pacific Ave Station  33.772258 -118.193700   \n",
       "2  Blue      801       Anaheim Street Station  33.781830 -118.189384   \n",
       "3  Blue      801    Pacific Coast Hwy Station  33.789090 -118.189382   \n",
       "4  Blue      801        Willow Street Station  33.807079 -118.189834   \n",
       "\n",
       "                          geometry color  \n",
       "0  POINT (6503030.095 1738033.828)        \n",
       "1  POINT (6502796.262 1739558.050)        \n",
       "2  POINT (6504114.567 1743039.068)        \n",
       "3  POINT (6504120.152 1745681.179)        \n",
       "4  POINT (6503995.170 1752228.119)        "
      ]
     },
     "execution_count": 56,
     "metadata": {},
     "output_type": "execute_result"
    }
   ],
   "source": [
    "metro_trimmed.head()"
   ]
  },
  {
   "cell_type": "markdown",
   "metadata": {
    "slideshow": {
     "slide_type": "slide"
    }
   },
   "source": [
    "### Find unique values in a column"
   ]
  },
  {
   "cell_type": "code",
   "execution_count": 57,
   "metadata": {
    "slideshow": {
     "slide_type": "fragment"
    }
   },
   "outputs": [
    {
     "data": {
      "text/plain": [
       "array(['Blue', 'Blue/EXPO', 'EXPO', 'Red', 'Red/Purple', 'Purple',\n",
       "       'Green', 'Gold'], dtype=object)"
      ]
     },
     "execution_count": 57,
     "metadata": {},
     "output_type": "execute_result"
    }
   ],
   "source": [
    "# find unique values in the LINE column\n",
    "metro_trimmed.LINE.unique()"
   ]
  },
  {
   "cell_type": "markdown",
   "metadata": {
    "slideshow": {
     "slide_type": "slide"
    }
   },
   "source": [
    "### Update column based on a query on another column\n",
    "We now want to populate the newly created `color` column with values based on the LINE.\n",
    "\n",
    "Remember how you used the `loc` command to query the data. "
   ]
  },
  {
   "cell_type": "code",
   "execution_count": 58,
   "metadata": {
    "scrolled": true,
    "slideshow": {
     "slide_type": "slide"
    }
   },
   "outputs": [
    {
     "data": {
      "text/html": [
       "<div>\n",
       "<style scoped>\n",
       "    .dataframe tbody tr th:only-of-type {\n",
       "        vertical-align: middle;\n",
       "    }\n",
       "\n",
       "    .dataframe tbody tr th {\n",
       "        vertical-align: top;\n",
       "    }\n",
       "\n",
       "    .dataframe thead th {\n",
       "        text-align: right;\n",
       "    }\n",
       "</style>\n",
       "<table border=\"1\" class=\"dataframe\">\n",
       "  <thead>\n",
       "    <tr style=\"text-align: right;\">\n",
       "      <th></th>\n",
       "      <th>LINE</th>\n",
       "      <th>LINENUM</th>\n",
       "      <th>STATION</th>\n",
       "      <th>LAT</th>\n",
       "      <th>LONG</th>\n",
       "      <th>geometry</th>\n",
       "      <th>color</th>\n",
       "    </tr>\n",
       "  </thead>\n",
       "  <tbody>\n",
       "    <tr>\n",
       "      <th>20</th>\n",
       "      <td>EXPO</td>\n",
       "      <td>806</td>\n",
       "      <td>LATTC / Ortho Institute Station</td>\n",
       "      <td>34.029112</td>\n",
       "      <td>-118.273603</td>\n",
       "      <td>POINT (6478766.175 1833089.413)</td>\n",
       "      <td></td>\n",
       "    </tr>\n",
       "    <tr>\n",
       "      <th>21</th>\n",
       "      <td>EXPO</td>\n",
       "      <td>806</td>\n",
       "      <td>Jefferson / USC Station</td>\n",
       "      <td>34.022123</td>\n",
       "      <td>-118.278118</td>\n",
       "      <td>POINT (6477391.116 1830549.740)</td>\n",
       "      <td></td>\n",
       "    </tr>\n",
       "    <tr>\n",
       "      <th>22</th>\n",
       "      <td>EXPO</td>\n",
       "      <td>806</td>\n",
       "      <td>Expo Park / USC Station</td>\n",
       "      <td>34.018227</td>\n",
       "      <td>-118.285734</td>\n",
       "      <td>POINT (6475079.285 1829138.386)</td>\n",
       "      <td></td>\n",
       "    </tr>\n",
       "    <tr>\n",
       "      <th>23</th>\n",
       "      <td>EXPO</td>\n",
       "      <td>806</td>\n",
       "      <td>Expo / Vermont Station</td>\n",
       "      <td>34.018245</td>\n",
       "      <td>-118.291540</td>\n",
       "      <td>POINT (6473319.888 1829149.989)</td>\n",
       "      <td></td>\n",
       "    </tr>\n",
       "    <tr>\n",
       "      <th>24</th>\n",
       "      <td>EXPO</td>\n",
       "      <td>806</td>\n",
       "      <td>Expo / Western Station</td>\n",
       "      <td>34.018331</td>\n",
       "      <td>-118.308910</td>\n",
       "      <td>POINT (6468056.285 1829197.007)</td>\n",
       "      <td></td>\n",
       "    </tr>\n",
       "    <tr>\n",
       "      <th>25</th>\n",
       "      <td>EXPO</td>\n",
       "      <td>806</td>\n",
       "      <td>Expo / Crenshaw Station</td>\n",
       "      <td>34.022526</td>\n",
       "      <td>-118.335078</td>\n",
       "      <td>POINT (6460131.596 1830749.046)</td>\n",
       "      <td></td>\n",
       "    </tr>\n",
       "    <tr>\n",
       "      <th>26</th>\n",
       "      <td>EXPO</td>\n",
       "      <td>806</td>\n",
       "      <td>Farmdale Station</td>\n",
       "      <td>34.023981</td>\n",
       "      <td>-118.346095</td>\n",
       "      <td>POINT (6456795.070 1831289.858)</td>\n",
       "      <td></td>\n",
       "    </tr>\n",
       "    <tr>\n",
       "      <th>27</th>\n",
       "      <td>EXPO</td>\n",
       "      <td>806</td>\n",
       "      <td>Expo / La Brea / Ethel Bradley Station</td>\n",
       "      <td>34.024803</td>\n",
       "      <td>-118.355159</td>\n",
       "      <td>POINT (6454049.620 1831598.579)</td>\n",
       "      <td></td>\n",
       "    </tr>\n",
       "    <tr>\n",
       "      <th>28</th>\n",
       "      <td>EXPO</td>\n",
       "      <td>806</td>\n",
       "      <td>La Cienega / Jefferson Station</td>\n",
       "      <td>34.026355</td>\n",
       "      <td>-118.372120</td>\n",
       "      <td>POINT (6448912.366 1832181.972)</td>\n",
       "      <td></td>\n",
       "    </tr>\n",
       "    <tr>\n",
       "      <th>29</th>\n",
       "      <td>EXPO</td>\n",
       "      <td>806</td>\n",
       "      <td>Culver City Station</td>\n",
       "      <td>34.027896</td>\n",
       "      <td>-118.388986</td>\n",
       "      <td>POINT (6443804.075 1832762.116)</td>\n",
       "      <td></td>\n",
       "    </tr>\n",
       "  </tbody>\n",
       "</table>\n",
       "</div>"
      ],
      "text/plain": [
       "    LINE  LINENUM                                 STATION        LAT  \\\n",
       "20  EXPO      806         LATTC / Ortho Institute Station  34.029112   \n",
       "21  EXPO      806                 Jefferson / USC Station  34.022123   \n",
       "22  EXPO      806                 Expo Park / USC Station  34.018227   \n",
       "23  EXPO      806                  Expo / Vermont Station  34.018245   \n",
       "24  EXPO      806                  Expo / Western Station  34.018331   \n",
       "25  EXPO      806                 Expo / Crenshaw Station  34.022526   \n",
       "26  EXPO      806                        Farmdale Station  34.023981   \n",
       "27  EXPO      806  Expo / La Brea / Ethel Bradley Station  34.024803   \n",
       "28  EXPO      806          La Cienega / Jefferson Station  34.026355   \n",
       "29  EXPO      806                     Culver City Station  34.027896   \n",
       "\n",
       "          LONG                         geometry color  \n",
       "20 -118.273603  POINT (6478766.175 1833089.413)        \n",
       "21 -118.278118  POINT (6477391.116 1830549.740)        \n",
       "22 -118.285734  POINT (6475079.285 1829138.386)        \n",
       "23 -118.291540  POINT (6473319.888 1829149.989)        \n",
       "24 -118.308910  POINT (6468056.285 1829197.007)        \n",
       "25 -118.335078  POINT (6460131.596 1830749.046)        \n",
       "26 -118.346095  POINT (6456795.070 1831289.858)        \n",
       "27 -118.355159  POINT (6454049.620 1831598.579)        \n",
       "28 -118.372120  POINT (6448912.366 1832181.972)        \n",
       "29 -118.388986  POINT (6443804.075 1832762.116)        "
      ]
     },
     "execution_count": 58,
     "metadata": {},
     "output_type": "execute_result"
    }
   ],
   "source": [
    "# display rows that match a query\n",
    "metro_trimmed.loc[metro_trimmed['LINE'] == 'EXPO']"
   ]
  },
  {
   "attachments": {
    "image.png": {
     "image/png": "[encoded data removed]"
    }
   },
   "cell_type": "markdown",
   "metadata": {
    "slideshow": {
     "slide_type": "slide"
    }
   },
   "source": [
    "The `loc` command has additional functionalities. You can use it to update a field based on a query on *another* field. But first, note that folium accepts only a few named colors, according to their [documentation](https://python-visualization.github.io/folium/modules.html): \n",
    "\n",
    "```\n",
    "[‘red’, ‘blue’, ‘green’, ‘purple’, ‘orange’, ‘darkred’,’lightred’, ‘beige’, ‘darkblue’, ‘darkgreen’, ‘cadetblue’, ‘darkpurple’, ‘white’, ‘pink’, ‘lightblue’, ‘lightgreen’, ‘gray’, ‘black’, ‘lightgray’]\n",
    "```\n",
    "\n",
    "Using the `loc` command, we can update the color column for a single LINE:\n",
    "![image.png](attachment:image.png)"
   ]
  },
  {
   "cell_type": "code",
   "execution_count": 59,
   "metadata": {
    "slideshow": {
     "slide_type": "fragment"
    }
   },
   "outputs": [],
   "source": [
    "metro_trimmed.loc[metro_trimmed['LINE'] == 'EXPO', 'color'] = 'orange'"
   ]
  },
  {
   "cell_type": "markdown",
   "metadata": {
    "slideshow": {
     "slide_type": "slide"
    }
   },
   "source": [
    "Now it's your turn. Update the color column for all other metro LINE's in the cell below:"
   ]
  },
  {
   "cell_type": "code",
   "execution_count": 60,
   "metadata": {
    "slideshow": {
     "slide_type": "fragment"
    }
   },
   "outputs": [],
   "source": [
    "metro_trimmed.loc[metro_trimmed['LINE'] == 'Blue', 'color'] = 'blue'\n",
    "metro_trimmed.loc[metro_trimmed['LINE'] == 'Blue/EXPO', 'color'] = 'cadetblue'\n",
    "metro_trimmed.loc[metro_trimmed['LINE'] == 'Red', 'color'] = 'red'\n",
    "metro_trimmed.loc[metro_trimmed['LINE'] == 'Red/Purple', 'color'] = 'darkred'\n",
    "metro_trimmed.loc[metro_trimmed['LINE'] == 'Purple', 'color'] = 'purple'\n",
    "metro_trimmed.loc[metro_trimmed['LINE'] == 'Green', 'color'] = 'green'\n",
    "metro_trimmed.loc[metro_trimmed['LINE'] == 'Gold', 'color'] = 'beige'"
   ]
  },
  {
   "cell_type": "code",
   "execution_count": 61,
   "metadata": {
    "slideshow": {
     "slide_type": "fragment"
    }
   },
   "outputs": [
    {
     "data": {
      "text/html": [
       "<div>\n",
       "<style scoped>\n",
       "    .dataframe tbody tr th:only-of-type {\n",
       "        vertical-align: middle;\n",
       "    }\n",
       "\n",
       "    .dataframe tbody tr th {\n",
       "        vertical-align: top;\n",
       "    }\n",
       "\n",
       "    .dataframe thead th {\n",
       "        text-align: right;\n",
       "    }\n",
       "</style>\n",
       "<table border=\"1\" class=\"dataframe\">\n",
       "  <thead>\n",
       "    <tr style=\"text-align: right;\">\n",
       "      <th></th>\n",
       "      <th>LINE</th>\n",
       "      <th>LINENUM</th>\n",
       "      <th>STATION</th>\n",
       "      <th>LAT</th>\n",
       "      <th>LONG</th>\n",
       "      <th>geometry</th>\n",
       "      <th>color</th>\n",
       "    </tr>\n",
       "  </thead>\n",
       "  <tbody>\n",
       "    <tr>\n",
       "      <th>69</th>\n",
       "      <td>Gold</td>\n",
       "      <td>804</td>\n",
       "      <td>Little Tokyo / Arts District Station</td>\n",
       "      <td>34.050100</td>\n",
       "      <td>-118.237901</td>\n",
       "      <td>POINT (6489601.777 1840699.814)</td>\n",
       "      <td>beige</td>\n",
       "    </tr>\n",
       "    <tr>\n",
       "      <th>59</th>\n",
       "      <td>Green</td>\n",
       "      <td>803</td>\n",
       "      <td>Long Beach Blvd Station</td>\n",
       "      <td>33.924880</td>\n",
       "      <td>-118.209945</td>\n",
       "      <td>POINT (6497975.006 1795110.871)</td>\n",
       "      <td>green</td>\n",
       "    </tr>\n",
       "    <tr>\n",
       "      <th>51</th>\n",
       "      <td>Green</td>\n",
       "      <td>803</td>\n",
       "      <td>Mariposa Station</td>\n",
       "      <td>33.923200</td>\n",
       "      <td>-118.387572</td>\n",
       "      <td>POINT (6444085.605 1794659.650)</td>\n",
       "      <td>green</td>\n",
       "    </tr>\n",
       "    <tr>\n",
       "      <th>78</th>\n",
       "      <td>Gold</td>\n",
       "      <td>804</td>\n",
       "      <td>Del Mar Station</td>\n",
       "      <td>34.141910</td>\n",
       "      <td>-118.148214</td>\n",
       "      <td>POINT (6516818.973 1874058.989)</td>\n",
       "      <td>beige</td>\n",
       "    </tr>\n",
       "    <tr>\n",
       "      <th>58</th>\n",
       "      <td>Green</td>\n",
       "      <td>803</td>\n",
       "      <td>Willowbrook - Rosa Parks Station - Metro Green...</td>\n",
       "      <td>33.928258</td>\n",
       "      <td>-118.238052</td>\n",
       "      <td>POINT (6489451.025 1796359.200)</td>\n",
       "      <td>green</td>\n",
       "    </tr>\n",
       "  </tbody>\n",
       "</table>\n",
       "</div>"
      ],
      "text/plain": [
       "     LINE  LINENUM                                            STATION  \\\n",
       "69   Gold      804               Little Tokyo / Arts District Station   \n",
       "59  Green      803                            Long Beach Blvd Station   \n",
       "51  Green      803                                   Mariposa Station   \n",
       "78   Gold      804                                    Del Mar Station   \n",
       "58  Green      803  Willowbrook - Rosa Parks Station - Metro Green...   \n",
       "\n",
       "          LAT        LONG                         geometry  color  \n",
       "69  34.050100 -118.237901  POINT (6489601.777 1840699.814)  beige  \n",
       "59  33.924880 -118.209945  POINT (6497975.006 1795110.871)  green  \n",
       "51  33.923200 -118.387572  POINT (6444085.605 1794659.650)  green  \n",
       "78  34.141910 -118.148214  POINT (6516818.973 1874058.989)  beige  \n",
       "58  33.928258 -118.238052  POINT (6489451.025 1796359.200)  green  "
      ]
     },
     "execution_count": 61,
     "metadata": {},
     "output_type": "execute_result"
    }
   ],
   "source": [
    "metro_trimmed.sample(5)"
   ]
  },
  {
   "cell_type": "code",
   "execution_count": null,
   "metadata": {
    "slideshow": {
     "slide_type": "slide"
    }
   },
   "outputs": [],
   "source": [
    "# reset the map (you need to do this to erase previous layers)\n",
    "m = folium.Map(location=[latitude,longitude], tiles='Stamen Terrain', zoom_start=10)"
   ]
  },
  {
   "cell_type": "code",
   "execution_count": 62,
   "metadata": {
    "slideshow": {
     "slide_type": "slide"
    }
   },
   "outputs": [
    {
     "data": {
      "text/html": [
       "<div style=\"width:100%;\"><div style=\"position:relative;width:100%;height:0;padding-bottom:60%;\"><span style=\"color:#565656\">Make this Notebook Trusted to load map: File -> Trust Notebook</span><iframe src=\"about:blank\" style=\"position:absolute;width:100%;height:100%;left:0;top:0;border:none !important;\" data-html=PCFET0NUWVBFIGh0bWw+CjxoZWFkPiAgICAKICAgIDxtZXRhIGh0dHAtZXF1aXY9ImNvbnRlbnQtdHlwZSIgY29udGVudD0idGV4dC9odG1sOyBjaGFyc2V0PVVURi04IiAvPgogICAgCiAgICAgICAgPHNjcmlwdD4KICAgICAgICAgICAgTF9OT19UT1VDSCA9IGZhbHNlOwogICAgICAgICAgICBMX0RJU0FCTEVfM0QgPSBmYWxzZTsKICAgICAgICA8L3NjcmlwdD4KICAgIAogICAgPHNjcmlwdCBzcmM9Imh0dHBzOi8vY2RuLmpzZGVsaXZyLm5ldC9ucG0vbGVhZmxldEAxLjYuMC9kaXN0L2xlYWZsZXQuanMiPjwvc2NyaXB0PgogICAgPHNjcmlwdCBzcmM9Imh0dHBzOi8vY29kZS5qcXVlcnkuY29tL2pxdWVyeS0xLjEyLjQubWluLmpzIj48L3NjcmlwdD4KICAgIDxzY3JpcHQgc3JjPSJodHRwczovL21heGNkbi5ib290c3RyYXBjZG4uY29tL2Jvb3RzdHJhcC8zLjIuMC9qcy9ib290c3RyYXAubWluLmpzIj48L3NjcmlwdD4KICAgIDxzY3JpcHQgc3JjPSJodHRwczovL2NkbmpzLmNsb3VkZmxhcmUuY29tL2FqYXgvbGlicy9MZWFmbGV0LmF3ZXNvbWUtbWFya2Vycy8yLjAuMi9sZWFmbGV0LmF3ZXNvbWUtbWFya2Vycy5qcyI+PC9zY3JpcHQ+CiAgICA8bGluayByZWw9InN0eWxlc2hlZXQiIGhyZWY9Imh0dHBzOi8vY2RuLmpzZGVsaXZyLm5ldC9ucG0vbGVhZmxldEAxLjYuMC9kaXN0L2xlYWZsZXQuY3NzIi8+CiAgICA8bGluayByZWw9InN0eWxlc2hlZXQiIGhyZWY9Imh0dHBzOi8vbWF4Y2RuLmJvb3RzdHJhcGNkbi5jb20vYm9vdHN0cmFwLzMuMi4wL2Nzcy9ib290c3RyYXAubWluLmNzcyIvPgogICAgPGxpbmsgcmVsPSJzdHlsZXNoZWV0IiBocmVmPSJodHRwczovL21heGNkbi5ib290c3RyYXBjZG4uY29tL2Jvb3RzdHJhcC8zLjIuMC9jc3MvYm9vdHN0cmFwLXRoZW1lLm1pbi5jc3MiLz4KICAgIDxsaW5rIHJlbD0ic3R5bGVzaGVldCIgaHJlZj0iaHR0cHM6Ly9tYXhjZG4uYm9vdHN0cmFwY2RuLmNvbS9mb250LWF3ZXNvbWUvNC42LjMvY3NzL2ZvbnQtYXdlc29tZS5taW4uY3NzIi8+CiAgICA8bGluayByZWw9InN0eWxlc2hlZXQiIGhyZWY9Imh0dHBzOi8vY2RuanMuY2xvdWRmbGFyZS5jb20vYWpheC9saWJzL0xlYWZsZXQuYXdlc29tZS1tYXJrZXJzLzIuMC4yL2xlYWZsZXQuYXdlc29tZS1tYXJrZXJzLmNzcyIvPgogICAgPGxpbmsgcmVsPSJzdHlsZXNoZWV0IiBocmVmPSJodHRwczovL3Jhd2Nkbi5naXRoYWNrLmNvbS9weXRob24tdmlzdWFsaXphdGlvbi9mb2xpdW0vbWFzdGVyL2ZvbGl1bS90ZW1wbGF0ZXMvbGVhZmxldC5hd2Vzb21lLnJvdGF0ZS5jc3MiLz4KICAgIDxzdHlsZT5odG1sLCBib2R5IHt3aWR0aDogMTAwJTtoZWlnaHQ6IDEwMCU7bWFyZ2luOiAwO3BhZGRpbmc6IDA7fTwvc3R5bGU+CiAgICA8c3R5bGU+I21hcCB7cG9zaXRpb246YWJzb2x1dGU7dG9wOjA7Ym90dG9tOjA7cmlnaHQ6MDtsZWZ0OjA7fTwvc3R5bGU+CiAgICAKICAgICAgICAgICAgPG1ldGEgbmFtZT0idmlld3BvcnQiIGNvbnRlbnQ9IndpZHRoPWRldmljZS13aWR0aCwKICAgICAgICAgICAgICAgIGluaXRpYWwtc2NhbGU9MS4wLCBtYXhpbXVtLXNjYWxlPTEuMCwgdXNlci1zY2FsYWJsZT1ubyIgLz4KICAgICAgICAgICAgPHN0eWxlPgogICAgICAgICAgICAgICAgI21hcF9jNDljODNkZjA0Mzk0MGQ2YmJkNzQ0OWZlZjMzZTgxZiB7CiAgICAgICAgICAgICAgICAgICAgcG9zaXRpb246IHJlbGF0aXZlOwogICAgICAgICAgICAgICAgICAgIHdpZHRoOiAxMDAuMCU7CiAgICAgICAgICAgICAgICAgICAgaGVpZ2h0OiAxMDAuMCU7CiAgICAgICAgICAgICAgICAgICAgbGVmdDogMC4wJTsKICAgICAgICAgICAgICAgICAgICB0b3A6IDAuMCU7CiAgICAgICAgICAgICAgICB9CiAgICAgICAgICAgIDwvc3R5bGU+CiAgICAgICAgCjwvaGVhZD4KPGJvZHk+ICAgIAogICAgCiAgICAgICAgICAgIDxkaXYgY2xhc3M9ImZvbGl1bS1tYXAiIGlkPSJtYXBfYzQ5YzgzZGYwNDM5NDBkNmJiZDc0NDlmZWYzM2U4MWYiID48L2Rpdj4KICAgICAgICAKPC9ib2R5Pgo8c2NyaXB0PiAgICAKICAgIAogICAgICAgICAgICB2YXIgbWFwX2M0OWM4M2RmMDQzOTQwZDZiYmQ3NDQ5ZmVmMzNlODFmID0gTC5tYXAoCiAgICAgICAgICAgICAgICAibWFwX2M0OWM4M2RmMDQzOTQwZDZiYmQ3NDQ5ZmVmMzNlODFmIiwKICAgICAgICAgICAgICAgIHsKICAgICAgICAgICAgICAgICAgICBjZW50ZXI6IFszNC4wMDE1ODI5MTU2NjI2NSwgLTExOC4yNTEwNDUzMTMyNTNdLAogICAgICAgICAgICAgICAgICAgIGNyczogTC5DUlMuRVBTRzM4NTcsCiAgICAgICAgICAgICAgICAgICAgem9vbTogMTAsCiAgICAgICAgICAgICAgICAgICAgem9vbUNvbnRyb2w6IHRydWUsCiAgICAgICAgICAgICAgICAgICAgcHJlZmVyQ2FudmFzOiBmYWxzZSwKICAgICAgICAgICAgICAgIH0KICAgICAgICAgICAgKTsKCiAgICAgICAgICAgIAoKICAgICAgICAKICAgIAogICAgICAgICAgICB2YXIgdGlsZV9sYXllcl9kYWIxNjFjN2ZjZWU0MDAxYTU2NjVkNGRkOTFhNzQzMCA9IEwudGlsZUxheWVyKAogICAgICAgICAgICAgICAgImh0dHBzOi8vc3RhbWVuLXRpbGVzLXtzfS5hLnNzbC5mYXN0bHkubmV0L3RlcnJhaW4ve3p9L3t4fS97eX0uanBnIiwKICAgICAgICAgICAgICAgIHsiYXR0cmlidXRpb24iOiAiTWFwIHRpbGVzIGJ5IFx1MDAzY2EgaHJlZj1cImh0dHA6Ly9zdGFtZW4uY29tXCJcdTAwM2VTdGFtZW4gRGVzaWduXHUwMDNjL2FcdTAwM2UsIHVuZGVyIFx1MDAzY2EgaHJlZj1cImh0dHA6Ly9jcmVhdGl2ZWNvbW1vbnMub3JnL2xpY2Vuc2VzL2J5LzMuMFwiXHUwMDNlQ0MgQlkgMy4wXHUwMDNjL2FcdTAwM2UuIERhdGEgYnkgXHUwMDI2Y29weTsgXHUwMDNjYSBocmVmPVwiaHR0cDovL29wZW5zdHJlZXRtYXAub3JnXCJcdTAwM2VPcGVuU3RyZWV0TWFwXHUwMDNjL2FcdTAwM2UsIHVuZGVyIFx1MDAzY2EgaHJlZj1cImh0dHA6Ly9jcmVhdGl2ZWNvbW1vbnMub3JnL2xpY2Vuc2VzL2J5LXNhLzMuMFwiXHUwMDNlQ0MgQlkgU0FcdTAwM2MvYVx1MDAzZS4iLCAiZGV0ZWN0UmV0aW5hIjogZmFsc2UsICJtYXhOYXRpdmVab29tIjogMTgsICJtYXhab29tIjogMTgsICJtaW5ab29tIjogMCwgIm5vV3JhcCI6IGZhbHNlLCAib3BhY2l0eSI6IDEsICJzdWJkb21haW5zIjogImFiYyIsICJ0bXMiOiBmYWxzZX0KICAgICAgICAgICAgKS5hZGRUbyhtYXBfYzQ5YzgzZGYwNDM5NDBkNmJiZDc0NDlmZWYzM2U4MWYpOwogICAgICAgIAogICAgCiAgICAgICAgICAgIHZhciBtYXJrZXJfODFhMWY0MGI0Njc3NDFkYzk0OGIxZGM3YTg3YWQ1ZTkgPSBMLm1hcmtlcigKICAgICAgICAgICAgICAgIFszMy43NjgwNzEsIC0xMTguMTkyOTIxXSwKICAgICAgICAgICAgICAgIHt9CiAgICAgICAgICAgICkuYWRkVG8obWFwX2M0OWM4M2RmMDQzOTQwZDZiYmQ3NDQ5ZmVmMzNlODFmKTsKICAgICAgICAKICAgIAogICAgICAgICAgICB2YXIgaWNvbl9iMjU3Njc5ZWQwZGE0NTY5YjIyMWY2NGRhOWEzMzY3NCA9IEwuQXdlc29tZU1hcmtlcnMuaWNvbigKICAgICAgICAgICAgICAgIHsiZXh0cmFDbGFzc2VzIjogImZhLXJvdGF0ZS0wIiwgImljb24iOiAiaW5mby1zaWduIiwgImljb25Db2xvciI6ICJ3aGl0ZSIsICJtYXJrZXJDb2xvciI6ICJibHVlIiwgInByZWZpeCI6ICJnbHlwaGljb24ifQogICAgICAgICAgICApOwogICAgICAgICAgICBtYXJrZXJfODFhMWY0MGI0Njc3NDFkYzk0OGIxZGM3YTg3YWQ1ZTkuc2V0SWNvbihpY29uX2IyNTc2NzllZDBkYTQ1NjliMjIxZjY0ZGE5YTMzNjc0KTsKICAgICAgICAKICAgIAogICAgICAgIHZhciBwb3B1cF84NjQzNjE2ZDEzZDY0ZGNjYmUyNTNiNWM5NTFjZDkxZiA9IEwucG9wdXAoeyJtYXhXaWR0aCI6ICIxMDAlIn0pOwoKICAgICAgICAKICAgICAgICAgICAgdmFyIGh0bWxfNjg3Yzg2YzliNGQ2NDg1M2JhOTZhNDlkMWUzOGYyNjAgPSAkKGA8ZGl2IGlkPSJodG1sXzY4N2M4NmM5YjRkNjQ4NTNiYTk2YTQ5ZDFlMzhmMjYwIiBzdHlsZT0id2lkdGg6IDEwMC4wJTsgaGVpZ2h0OiAxMDAuMCU7Ij5Eb3dudG93biBMb25nIEJlYWNoIFN0YXRpb248L2Rpdj5gKVswXTsKICAgICAgICAgICAgcG9wdXBfODY0MzYxNmQxM2Q2NGRjY2JlMjUzYjVjOTUxY2Q5MWYuc2V0Q29udGVudChodG1sXzY4N2M4NmM5YjRkNjQ4NTNiYTk2YTQ5ZDFlMzhmMjYwKTsKICAgICAgICAKCiAgICAgICAgbWFya2VyXzgxYTFmNDBiNDY3NzQxZGM5NDhiMWRjN2E4N2FkNWU5LmJpbmRQb3B1cChwb3B1cF84NjQzNjE2ZDEzZDY0ZGNjYmUyNTNiNWM5NTFjZDkxZikKICAgICAgICA7CgogICAgICAgIAogICAgCiAgICAKICAgICAgICAgICAgbWFya2VyXzgxYTFmNDBiNDY3NzQxZGM5NDhiMWRjN2E4N2FkNWU5LmJpbmRUb29sdGlwKAogICAgICAgICAgICAgICAgYDxkaXY+CiAgICAgICAgICAgICAgICAgICAgIEJsdWUgTGluZTogRG93bnRvd24gTG9uZyBCZWFjaCBTdGF0aW9uCiAgICAgICAgICAgICAgICAgPC9kaXY+YCwKICAgICAgICAgICAgICAgIHsic3RpY2t5IjogdHJ1ZX0KICAgICAgICAgICAgKTsKICAgICAgICAKICAgIAogICAgICAgICAgICB2YXIgbWFya2VyXzQyZWIxNjkxZjc1YTQzOTI4OTlkMWYwYTExZjk0ZmY1ID0gTC5tYXJrZXIoCiAgICAgICAgICAgICAgICBbMzMuNzcyMjU4LCAtMTE4LjE5MzddLAogICAgICAgICAgICAgICAge30KICAgICAgICAgICAgKS5hZGRUbyhtYXBfYzQ5YzgzZGYwNDM5NDBkNmJiZDc0NDlmZWYzM2U4MWYpOwogICAgICAgIAogICAgCiAgICAgICAgICAgIHZhciBpY29uXzVkNDlkNWFhOTM0NDRmMDg5MWZlMWZiNjQwNDA4ODJjID0gTC5Bd2Vzb21lTWFya2Vycy5pY29uKAogICAgICAgICAgICAgICAgeyJleHRyYUNsYXNzZXMiOiAiZmEtcm90YXRlLTAiLCAiaWNvbiI6ICJpbmZvLXNpZ24iLCAiaWNvbkNvbG9yIjogIndoaXRlIiwgIm1hcmtlckNvbG9yIjogImJsdWUiLCAicHJlZml4IjogImdseXBoaWNvbiJ9CiAgICAgICAgICAgICk7CiAgICAgICAgICAgIG1hcmtlcl80MmViMTY5MWY3NWE0MzkyODk5ZDFmMGExMWY5NGZmNS5zZXRJY29uKGljb25fNWQ0OWQ1YWE5MzQ0NGYwODkxZmUxZmI2NDA0MDg4MmMpOwogICAgICAgIAogICAgCiAgICAgICAgdmFyIHBvcHVwX2FmZTJmZjBlNDM0NjQyZTg4MDIwYmQxMTg5NGUxYjE0ID0gTC5wb3B1cCh7Im1heFdpZHRoIjogIjEwMCUifSk7CgogICAgICAgIAogICAgICAgICAgICB2YXIgaHRtbF85M2NkNTdkMmMyYzA0OTg1ODZhMzBjYmE2YjlmOWE3NiA9ICQoYDxkaXYgaWQ9Imh0bWxfOTNjZDU3ZDJjMmMwNDk4NTg2YTMwY2JhNmI5ZjlhNzYiIHN0eWxlPSJ3aWR0aDogMTAwLjAlOyBoZWlnaHQ6IDEwMC4wJTsiPlBhY2lmaWMgQXZlIFN0YXRpb248L2Rpdj5gKVswXTsKICAgICAgICAgICAgcG9wdXBfYWZlMmZmMGU0MzQ2NDJlODgwMjBiZDExODk0ZTFiMTQuc2V0Q29udGVudChodG1sXzkzY2Q1N2QyYzJjMDQ5ODU4NmEzMGNiYTZiOWY5YTc2KTsKICAgICAgICAKCiAgICAgICAgbWFya2VyXzQyZWIxNjkxZjc1YTQzOTI4OTlkMWYwYTExZjk0ZmY1LmJpbmRQb3B1cChwb3B1cF9hZmUyZmYwZTQzNDY0MmU4ODAyMGJkMTE4OTRlMWIxNCkKICAgICAgICA7CgogICAgICAgIAogICAgCiAgICAKICAgICAgICAgICAgbWFya2VyXzQyZWIxNjkxZjc1YTQzOTI4OTlkMWYwYTExZjk0ZmY1LmJpbmRUb29sdGlwKAogICAgICAgICAgICAgICAgYDxkaXY+CiAgICAgICAgICAgICAgICAgICAgIEJsdWUgTGluZTogUGFjaWZpYyBBdmUgU3RhdGlvbgogICAgICAgICAgICAgICAgIDwvZGl2PmAsCiAgICAgICAgICAgICAgICB7InN0aWNreSI6IHRydWV9CiAgICAgICAgICAgICk7CiAgICAgICAgCiAgICAKICAgICAgICAgICAgdmFyIG1hcmtlcl9jMzFhY2U4ZTg3ZjU0ZDcxYmNlYTU2MzM0MWU5Y2Y2NyA9IEwubWFya2VyKAogICAgICAgICAgICAgICAgWzMzLjc4MTgzLCAtMTE4LjE4OTM4NF0sCiAgICAgICAgICAgICAgICB7fQogICAgICAgICAgICApLmFkZFRvKG1hcF9jNDljODNkZjA0Mzk0MGQ2YmJkNzQ0OWZlZjMzZTgxZik7CiAgICAgICAgCiAgICAKICAgICAgICAgICAgdmFyIGljb25fOTc4NjExYjc3MjkxNGNjMTg0NDQxMDMwM2UxMzE4YjAgPSBMLkF3ZXNvbWVNYXJrZXJzLmljb24oCiAgICAgICAgICAgICAgICB7ImV4dHJhQ2xhc3NlcyI6ICJmYS1yb3RhdGUtMCIsICJpY29uIjogImluZm8tc2lnbiIsICJpY29uQ29sb3IiOiAid2hpdGUiLCAibWFya2VyQ29sb3IiOiAiYmx1ZSIsICJwcmVmaXgiOiAiZ2x5cGhpY29uIn0KICAgICAgICAgICAgKTsKICAgICAgICAgICAgbWFya2VyX2MzMWFjZThlODdmNTRkNzFiY2VhNTYzMzQxZTljZjY3LnNldEljb24oaWNvbl85Nzg2MTFiNzcyOTE0Y2MxODQ0NDEwMzAzZTEzMThiMCk7CiAgICAgICAgCiAgICAKICAgICAgICB2YXIgcG9wdXBfMjFlNTU0M2JlOTIzNDhhY2I3YmQ3NTI3NmY2MjFkNTEgPSBMLnBvcHVwKHsibWF4V2lkdGgiOiAiMTAwJSJ9KTsKCiAgICAgICAgCiAgICAgICAgICAgIHZhciBodG1sXzgzYmFmYWFiMWZlMTQzOTk5YjVhNDIyZDI3YTE0ZDUyID0gJChgPGRpdiBpZD0iaHRtbF84M2JhZmFhYjFmZTE0Mzk5OWI1YTQyMmQyN2ExNGQ1MiIgc3R5bGU9IndpZHRoOiAxMDAuMCU7IGhlaWdodDogMTAwLjAlOyI+QW5haGVpbSBTdHJlZXQgU3RhdGlvbjwvZGl2PmApWzBdOwogICAgICAgICAgICBwb3B1cF8yMWU1NTQzYmU5MjM0OGFjYjdiZDc1Mjc2ZjYyMWQ1MS5zZXRDb250ZW50KGh0bWxfODNiYWZhYWIxZmUxNDM5OTliNWE0MjJkMjdhMTRkNTIpOwogICAgICAgIAoKICAgICAgICBtYXJrZXJfYzMxYWNlOGU4N2Y1NGQ3MWJjZWE1NjMzNDFlOWNmNjcuYmluZFBvcHVwKHBvcHVwXzIxZTU1NDNiZTkyMzQ4YWNiN2JkNzUyNzZmNjIxZDUxKQogICAgICAgIDsKCiAgICAgICAgCiAgICAKICAgIAogICAgICAgICAgICBtYXJrZXJfYzMxYWNlOGU4N2Y1NGQ3MWJjZWE1NjMzNDFlOWNmNjcuYmluZFRvb2x0aXAoCiAgICAgICAgICAgICAgICBgPGRpdj4KICAgICAgICAgICAgICAgICAgICAgQmx1ZSBMaW5lOiBBbmFoZWltIFN0cmVldCBTdGF0aW9uCiAgICAgICAgICAgICAgICAgPC9kaXY+YCwKICAgICAgICAgICAgICAgIHsic3RpY2t5IjogdHJ1ZX0KICAgICAgICAgICAgKTsKICAgICAgICAKICAgIAogICAgICAgICAgICB2YXIgbWFya2VyX2QzOWFjNmQ0ZmVjMzQyZTBhMTY3OGJkNWQ1Y2U4NDNiID0gTC5tYXJrZXIoCiAgICAgICAgICAgICAgICBbMzMuNzg5MDksIC0xMTguMTg5MzgyXSwKICAgICAgICAgICAgICAgIHt9CiAgICAgICAgICAgICkuYWRkVG8obWFwX2M0OWM4M2RmMDQzOTQwZDZiYmQ3NDQ5ZmVmMzNlODFmKTsKICAgICAgICAKICAgIAogICAgICAgICAgICB2YXIgaWNvbl9iMTI3ZWVmNWRlM2Q0NWQxYmRlMjI1ZmVlYTdlNzBjYyA9IEwuQXdlc29tZU1hcmtlcnMuaWNvbigKICAgICAgICAgICAgICAgIHsiZXh0cmFDbGFzc2VzIjogImZhLXJvdGF0ZS0wIiwgImljb24iOiAiaW5mby1zaWduIiwgImljb25Db2xvciI6ICJ3aGl0ZSIsICJtYXJrZXJDb2xvciI6ICJibHVlIiwgInByZWZpeCI6ICJnbHlwaGljb24ifQogICAgICAgICAgICApOwogICAgICAgICAgICBtYXJrZXJfZDM5YWM2ZDRmZWMzNDJlMGExNjc4YmQ1ZDVjZTg0M2Iuc2V0SWNvbihpY29uX2IxMjdlZWY1ZGUzZDQ1ZDFiZGUyMjVmZWVhN2U3MGNjKTsKICAgICAgICAKICAgIAogICAgICAgIHZhciBwb3B1cF83YTljMDM2N2E5MzI0YWYwODM0YTRiZmU5MWU0MGQ5NiA9IEwucG9wdXAoeyJtYXhXaWR0aCI6ICIxMDAlIn0pOwoKICAgICAgICAKICAgICAgICAgICAgdmFyIGh0bWxfMjJiODYwZDc2NmQ0NDQ3MGI5MzYwNGRjMTNkMWI2NmQgPSAkKGA8ZGl2IGlkPSJodG1sXzIyYjg2MGQ3NjZkNDQ0NzBiOTM2MDRkYzEzZDFiNjZkIiBzdHlsZT0id2lkdGg6IDEwMC4wJTsgaGVpZ2h0OiAxMDAuMCU7Ij5QYWNpZmljIENvYXN0IEh3eSBTdGF0aW9uPC9kaXY+YClbMF07CiAgICAgICAgICAgIHBvcHVwXzdhOWMwMzY3YTkzMjRhZjA4MzRhNGJmZTkxZTQwZDk2LnNldENvbnRlbnQoaHRtbF8yMmI4NjBkNzY2ZDQ0NDcwYjkzNjA0ZGMxM2QxYjY2ZCk7CiAgICAgICAgCgogICAgICAgIG1hcmtlcl9kMzlhYzZkNGZlYzM0MmUwYTE2NzhiZDVkNWNlODQzYi5iaW5kUG9wdXAocG9wdXBfN2E5YzAzNjdhOTMyNGFmMDgzNGE0YmZlOTFlNDBkOTYpCiAgICAgICAgOwoKICAgICAgICAKICAgIAogICAgCiAgICAgICAgICAgIG1hcmtlcl9kMzlhYzZkNGZlYzM0MmUwYTE2NzhiZDVkNWNlODQzYi5iaW5kVG9vbHRpcCgKICAgICAgICAgICAgICAgIGA8ZGl2PgogICAgICAgICAgICAgICAgICAgICBCbHVlIExpbmU6IFBhY2lmaWMgQ29hc3QgSHd5IFN0YXRpb24KICAgICAgICAgICAgICAgICA8L2Rpdj5gLAogICAgICAgICAgICAgICAgeyJzdGlja3kiOiB0cnVlfQogICAgICAgICAgICApOwogICAgICAgIAogICAgCiAgICAgICAgICAgIHZhciBtYXJrZXJfYTBkMDA2NWE1ZjljNGZjZGFkMmMwM2UwZjMxYjMxMzkgPSBMLm1hcmtlcigKICAgICAgICAgICAgICAgIFszMy44MDcwNzksIC0xMTguMTg5ODM0XSwKICAgICAgICAgICAgICAgIHt9CiAgICAgICAgICAgICkuYWRkVG8obWFwX2M0OWM4M2RmMDQzOTQwZDZiYmQ3NDQ5ZmVmMzNlODFmKTsKICAgICAgICAKICAgIAogICAgICAgICAgICB2YXIgaWNvbl81MDYyMzY3NTk1NGU0MTZiYjBiZjk3OGRjZTQ3ZGZiMiA9IEwuQXdlc29tZU1hcmtlcnMuaWNvbigKICAgICAgICAgICAgICAgIHsiZXh0cmFDbGFzc2VzIjogImZhLXJvdGF0ZS0wIiwgImljb24iOiAiaW5mby1zaWduIiwgImljb25Db2xvciI6ICJ3aGl0ZSIsICJtYXJrZXJDb2xvciI6ICJibHVlIiwgInByZWZpeCI6ICJnbHlwaGljb24ifQogICAgICAgICAgICApOwogICAgICAgICAgICBtYXJrZXJfYTBkMDA2NWE1ZjljNGZjZGFkMmMwM2UwZjMxYjMxMzkuc2V0SWNvbihpY29uXzUwNjIzNjc1OTU0ZTQxNmJiMGJmOTc4ZGNlNDdkZmIyKTsKICAgICAgICAKICAgIAogICAgICAgIHZhciBwb3B1cF9iZDRiODQyOGM4ZmU0NWIwOTMwMjc0ODczNWJmYmU3YSA9IEwucG9wdXAoeyJtYXhXaWR0aCI6ICIxMDAlIn0pOwoKICAgICAgICAKICAgICAgICAgICAgdmFyIGh0bWxfNGIxMTVmNmVkMmM3NGI1OGFmZmRhMWEyNGVmODhlMzIgPSAkKGA8ZGl2IGlkPSJodG1sXzRiMTE1ZjZlZDJjNzRiNThhZmZkYTFhMjRlZjg4ZTMyIiBzdHlsZT0id2lkdGg6IDEwMC4wJTsgaGVpZ2h0OiAxMDAuMCU7Ij5XaWxsb3cgU3RyZWV0IFN0YXRpb248L2Rpdj5gKVswXTsKICAgICAgICAgICAgcG9wdXBfYmQ0Yjg0MjhjOGZlNDViMDkzMDI3NDg3MzViZmJlN2Euc2V0Q29udGVudChodG1sXzRiMTE1ZjZlZDJjNzRiNThhZmZkYTFhMjRlZjg4ZTMyKTsKICAgICAgICAKCiAgICAgICAgbWFya2VyX2EwZDAwNjVhNWY5YzRmY2RhZDJjMDNlMGYzMWIzMTM5LmJpbmRQb3B1cChwb3B1cF9iZDRiODQyOGM4ZmU0NWIwOTMwMjc0ODczNWJmYmU3YSkKICAgICAgICA7CgogICAgICAgIAogICAgCiAgICAKICAgICAgICAgICAgbWFya2VyX2EwZDAwNjVhNWY5YzRmY2RhZDJjMDNlMGYzMWIzMTM5LmJpbmRUb29sdGlwKAogICAgICAgICAgICAgICAgYDxkaXY+CiAgICAgICAgICAgICAgICAgICAgIEJsdWUgTGluZTogV2lsbG93IFN0cmVldCBTdGF0aW9uCiAgICAgICAgICAgICAgICAgPC9kaXY+YCwKICAgICAgICAgICAgICAgIHsic3RpY2t5IjogdHJ1ZX0KICAgICAgICAgICAgKTsKICAgICAgICAKICAgIAogICAgICAgICAgICB2YXIgbWFya2VyX2FjYTJjZmRmMGRiNDQzZmZhMWZlMTg1OGQ3MDM4MGQwID0gTC5tYXJrZXIoCiAgICAgICAgICAgICAgICBbMzMuODE5ODY1LCAtMTE4LjE5NjA5XSwKICAgICAgICAgICAgICAgIHt9CiAgICAgICAgICAgICkuYWRkVG8obWFwX2M0OWM4M2RmMDQzOTQwZDZiYmQ3NDQ5ZmVmMzNlODFmKTsKICAgICAgICAKICAgIAogICAgICAgICAgICB2YXIgaWNvbl8xMTI1NmI5OGQ4ZWQ0NWU0Yjc4ODZmNTg4OTAyMWJlNyA9IEwuQXdlc29tZU1hcmtlcnMuaWNvbigKICAgICAgICAgICAgICAgIHsiZXh0cmFDbGFzc2VzIjogImZhLXJvdGF0ZS0wIiwgImljb24iOiAiaW5mby1zaWduIiwgImljb25Db2xvciI6ICJ3aGl0ZSIsICJtYXJrZXJDb2xvciI6ICJibHVlIiwgInByZWZpeCI6ICJnbHlwaGljb24ifQogICAgICAgICAgICApOwogICAgICAgICAgICBtYXJrZXJfYWNhMmNmZGYwZGI0NDNmZmExZmUxODU4ZDcwMzgwZDAuc2V0SWNvbihpY29uXzExMjU2Yjk4ZDhlZDQ1ZTRiNzg4NmY1ODg5MDIxYmU3KTsKICAgICAgICAKICAgIAogICAgICAgIHZhciBwb3B1cF83MmE4Y2M1ZTYwY2Q0M2E0ODhiODI0ZDQ1Mjg2MWQ2ZSA9IEwucG9wdXAoeyJtYXhXaWR0aCI6ICIxMDAlIn0pOwoKICAgICAgICAKICAgICAgICAgICAgdmFyIGh0bWxfMjJlNTk5MWQxMmNlNDVmN2EyNDM4YTU1ZmQ1MDVjNTIgPSAkKGA8ZGl2IGlkPSJodG1sXzIyZTU5OTFkMTJjZTQ1ZjdhMjQzOGE1NWZkNTA1YzUyIiBzdHlsZT0id2lkdGg6IDEwMC4wJTsgaGVpZ2h0OiAxMDAuMCU7Ij5XYXJkbG93IFN0YXRpb248L2Rpdj5gKVswXTsKICAgICAgICAgICAgcG9wdXBfNzJhOGNjNWU2MGNkNDNhNDg4YjgyNGQ0NTI4NjFkNmUuc2V0Q29udGVudChodG1sXzIyZTU5OTFkMTJjZTQ1ZjdhMjQzOGE1NWZkNTA1YzUyKTsKICAgICAgICAKCiAgICAgICAgbWFya2VyX2FjYTJjZmRmMGRiNDQzZmZhMWZlMTg1OGQ3MDM4MGQwLmJpbmRQb3B1cChwb3B1cF83MmE4Y2M1ZTYwY2Q0M2E0ODhiODI0ZDQ1Mjg2MWQ2ZSkKICAgICAgICA7CgogICAgICAgIAogICAgCiAgICAKICAgICAgICAgICAgbWFya2VyX2FjYTJjZmRmMGRiNDQzZmZhMWZlMTg1OGQ3MDM4MGQwLmJpbmRUb29sdGlwKAogICAgICAgICAgICAgICAgYDxkaXY+CiAgICAgICAgICAgICAgICAgICAgIEJsdWUgTGluZTogV2FyZGxvdyBTdGF0aW9uCiAgICAgICAgICAgICAgICAgPC9kaXY+YCwKICAgICAgICAgICAgICAgIHsic3RpY2t5IjogdHJ1ZX0KICAgICAgICAgICAgKTsKICAgICAgICAKICAgIAogICAgICAgICAgICB2YXIgbWFya2VyXzgxNWU0YjliYjMxYzRjZDBhYzVmMDEwOWEzNjBlOGE3ID0gTC5tYXJrZXIoCiAgICAgICAgICAgICAgICBbMzMuODQ4MjIyLCAtMTE4LjIxMTAxN10sCiAgICAgICAgICAgICAgICB7fQogICAgICAgICAgICApLmFkZFRvKG1hcF9jNDljODNkZjA0Mzk0MGQ2YmJkNzQ0OWZlZjMzZTgxZik7CiAgICAgICAgCiAgICAKICAgICAgICAgICAgdmFyIGljb25fYTUyY2QxNDNkODg1NDA3NDlkMzY3YzI0ODI4YWMzNTggPSBMLkF3ZXNvbWVNYXJrZXJzLmljb24oCiAgICAgICAgICAgICAgICB7ImV4dHJhQ2xhc3NlcyI6ICJmYS1yb3RhdGUtMCIsICJpY29uIjogImluZm8tc2lnbiIsICJpY29uQ29sb3IiOiAid2hpdGUiLCAibWFya2VyQ29sb3IiOiAiYmx1ZSIsICJwcmVmaXgiOiAiZ2x5cGhpY29uIn0KICAgICAgICAgICAgKTsKICAgICAgICAgICAgbWFya2VyXzgxNWU0YjliYjMxYzRjZDBhYzVmMDEwOWEzNjBlOGE3LnNldEljb24oaWNvbl9hNTJjZDE0M2Q4ODU0MDc0OWQzNjdjMjQ4MjhhYzM1OCk7CiAgICAgICAgCiAgICAKICAgICAgICB2YXIgcG9wdXBfNjlhMWNjZWYxYzJmNDM4NmExN2ZiMTQ3YTEyZjRjZWQgPSBMLnBvcHVwKHsibWF4V2lkdGgiOiAiMTAwJSJ9KTsKCiAgICAgICAgCiAgICAgICAgICAgIHZhciBodG1sXzkwMjhkODExNmUwZDQ3OWNiNGRlYjc2YzA4ODMzNzZlID0gJChgPGRpdiBpZD0iaHRtbF85MDI4ZDgxMTZlMGQ0NzljYjRkZWI3NmMwODgzMzc2ZSIgc3R5bGU9IndpZHRoOiAxMDAuMCU7IGhlaWdodDogMTAwLjAlOyI+RGVsIEFtbyBTdGF0aW9uPC9kaXY+YClbMF07CiAgICAgICAgICAgIHBvcHVwXzY5YTFjY2VmMWMyZjQzODZhMTdmYjE0N2ExMmY0Y2VkLnNldENvbnRlbnQoaHRtbF85MDI4ZDgxMTZlMGQ0NzljYjRkZWI3NmMwODgzMzc2ZSk7CiAgICAgICAgCgogICAgICAgIG1hcmtlcl84MTVlNGI5YmIzMWM0Y2QwYWM1ZjAxMDlhMzYwZThhNy5iaW5kUG9wdXAocG9wdXBfNjlhMWNjZWYxYzJmNDM4NmExN2ZiMTQ3YTEyZjRjZWQpCiAgICAgICAgOwoKICAgICAgICAKICAgIAogICAgCiAgICAgICAgICAgIG1hcmtlcl84MTVlNGI5YmIzMWM0Y2QwYWM1ZjAxMDlhMzYwZThhNy5iaW5kVG9vbHRpcCgKICAgICAgICAgICAgICAgIGA8ZGl2PgogICAgICAgICAgICAgICAgICAgICBCbHVlIExpbmU6IERlbCBBbW8gU3RhdGlvbgogICAgICAgICAgICAgICAgIDwvZGl2PmAsCiAgICAgICAgICAgICAgICB7InN0aWNreSI6IHRydWV9CiAgICAgICAgICAgICk7CiAgICAgICAgCiAgICAKICAgICAgICAgICAgdmFyIG1hcmtlcl9hODU2YjIzNWVhZDg0ODhkOTZmZmJkOGE1MjEwMjk0MSA9IEwubWFya2VyKAogICAgICAgICAgICAgICAgWzMzLjg3NjA4MiwgLTExOC4yMjI1MDNdLAogICAgICAgICAgICAgICAge30KICAgICAgICAgICAgKS5hZGRUbyhtYXBfYzQ5YzgzZGYwNDM5NDBkNmJiZDc0NDlmZWYzM2U4MWYpOwogICAgICAgIAogICAgCiAgICAgICAgICAgIHZhciBpY29uX2UxMTA2YzNjNWRhNTRjYjRhZjZlZDk1NmI2MzZlOTU0ID0gTC5Bd2Vzb21lTWFya2Vycy5pY29uKAogICAgICAgICAgICAgICAgeyJleHRyYUNsYXNzZXMiOiAiZmEtcm90YXRlLTAiLCAiaWNvbiI6ICJpbmZvLXNpZ24iLCAiaWNvbkNvbG9yIjogIndoaXRlIiwgIm1hcmtlckNvbG9yIjogImJsdWUiLCAicHJlZml4IjogImdseXBoaWNvbiJ9CiAgICAgICAgICAgICk7CiAgICAgICAgICAgIG1hcmtlcl9hODU2YjIzNWVhZDg0ODhkOTZmZmJkOGE1MjEwMjk0MS5zZXRJY29uKGljb25fZTExMDZjM2M1ZGE1NGNiNGFmNmVkOTU2YjYzNmU5NTQpOwogICAgICAgIAogICAgCiAgICAgICAgdmFyIHBvcHVwX2JmNTk5NGFkNzFjZTRiODA4YjcxMTM2ZGExNzJlODJhID0gTC5wb3B1cCh7Im1heFdpZHRoIjogIjEwMCUifSk7CgogICAgICAgIAogICAgICAgICAgICB2YXIgaHRtbF9lNzU1ZWFjYjI1ZDQ0ZmQ4ODc0YmFlNjFiNWMzNTQzMiA9ICQoYDxkaXYgaWQ9Imh0bWxfZTc1NWVhY2IyNWQ0NGZkODg3NGJhZTYxYjVjMzU0MzIiIHN0eWxlPSJ3aWR0aDogMTAwLjAlOyBoZWlnaHQ6IDEwMC4wJTsiPkFydGVzaWEgU3RhdGlvbjwvZGl2PmApWzBdOwogICAgICAgICAgICBwb3B1cF9iZjU5OTRhZDcxY2U0YjgwOGI3MTEzNmRhMTcyZTgyYS5zZXRDb250ZW50KGh0bWxfZTc1NWVhY2IyNWQ0NGZkODg3NGJhZTYxYjVjMzU0MzIpOwogICAgICAgIAoKICAgICAgICBtYXJrZXJfYTg1NmIyMzVlYWQ4NDg4ZDk2ZmZiZDhhNTIxMDI5NDEuYmluZFBvcHVwKHBvcHVwX2JmNTk5NGFkNzFjZTRiODA4YjcxMTM2ZGExNzJlODJhKQogICAgICAgIDsKCiAgICAgICAgCiAgICAKICAgIAogICAgICAgICAgICBtYXJrZXJfYTg1NmIyMzVlYWQ4NDg4ZDk2ZmZiZDhhNTIxMDI5NDEuYmluZFRvb2x0aXAoCiAgICAgICAgICAgICAgICBgPGRpdj4KICAgICAgICAgICAgICAgICAgICAgQmx1ZSBMaW5lOiBBcnRlc2lhIFN0YXRpb24KICAgICAgICAgICAgICAgICA8L2Rpdj5gLAogICAgICAgICAgICAgICAgeyJzdGlja3kiOiB0cnVlfQogICAgICAgICAgICApOwogICAgICAgIAogICAgCiAgICAgICAgICAgIHZhciBtYXJrZXJfY2E4OWNmNzM1M2Q4NGU3YmIxNzc5YWZkM2NlMTU1OWUgPSBMLm1hcmtlcigKICAgICAgICAgICAgICAgIFszMy44OTc0OSwgLTExOC4yMjQyNDldLAogICAgICAgICAgICAgICAge30KICAgICAgICAgICAgKS5hZGRUbyhtYXBfYzQ5YzgzZGYwNDM5NDBkNmJiZDc0NDlmZWYzM2U4MWYpOwogICAgICAgIAogICAgCiAgICAgICAgICAgIHZhciBpY29uX2M5OTBlMGE3YjZiMDQyNThiZTc4YjcyOGNiZTM2ZjM1ID0gTC5Bd2Vzb21lTWFya2Vycy5pY29uKAogICAgICAgICAgICAgICAgeyJleHRyYUNsYXNzZXMiOiAiZmEtcm90YXRlLTAiLCAiaWNvbiI6ICJpbmZvLXNpZ24iLCAiaWNvbkNvbG9yIjogIndoaXRlIiwgIm1hcmtlckNvbG9yIjogImJsdWUiLCAicHJlZml4IjogImdseXBoaWNvbiJ9CiAgICAgICAgICAgICk7CiAgICAgICAgICAgIG1hcmtlcl9jYTg5Y2Y3MzUzZDg0ZTdiYjE3NzlhZmQzY2UxNTU5ZS5zZXRJY29uKGljb25fYzk5MGUwYTdiNmIwNDI1OGJlNzhiNzI4Y2JlMzZmMzUpOwogICAgICAgIAogICAgCiAgICAgICAgdmFyIHBvcHVwXzg2OTNiOTc2OTRlMTQ0NjliMWJhM2Y1MzIyMDhjOGNhID0gTC5wb3B1cCh7Im1heFdpZHRoIjogIjEwMCUifSk7CgogICAgICAgIAogICAgICAgICAgICB2YXIgaHRtbF9mMzE3MjU3NmM5NTE0ZWVjYWQ0Y2E1NzJjN2Y0NmZhMyA9ICQoYDxkaXYgaWQ9Imh0bWxfZjMxNzI1NzZjOTUxNGVlY2FkNGNhNTcyYzdmNDZmYTMiIHN0eWxlPSJ3aWR0aDogMTAwLjAlOyBoZWlnaHQ6IDEwMC4wJTsiPkNvbXB0b24gU3RhdGlvbjwvZGl2PmApWzBdOwogICAgICAgICAgICBwb3B1cF84NjkzYjk3Njk0ZTE0NDY5YjFiYTNmNTMyMjA4YzhjYS5zZXRDb250ZW50KGh0bWxfZjMxNzI1NzZjOTUxNGVlY2FkNGNhNTcyYzdmNDZmYTMpOwogICAgICAgIAoKICAgICAgICBtYXJrZXJfY2E4OWNmNzM1M2Q4NGU3YmIxNzc5YWZkM2NlMTU1OWUuYmluZFBvcHVwKHBvcHVwXzg2OTNiOTc2OTRlMTQ0NjliMWJhM2Y1MzIyMDhjOGNhKQogICAgICAgIDsKCiAgICAgICAgCiAgICAKICAgIAogICAgICAgICAgICBtYXJrZXJfY2E4OWNmNzM1M2Q4NGU3YmIxNzc5YWZkM2NlMTU1OWUuYmluZFRvb2x0aXAoCiAgICAgICAgICAgICAgICBgPGRpdj4KICAgICAgICAgICAgICAgICAgICAgQmx1ZSBMaW5lOiBDb21wdG9uIFN0YXRpb24KICAgICAgICAgICAgICAgICA8L2Rpdj5gLAogICAgICAgICAgICAgICAgeyJzdGlja3kiOiB0cnVlfQogICAgICAgICAgICApOwogICAgICAgIAogICAgCiAgICAgICAgICAgIHZhciBtYXJrZXJfZTVmZTA2MzEyMmU1NGU1YzllMWZjYmE5NTU4M2RkMWMgPSBMLm1hcmtlcigKICAgICAgICAgICAgICAgIFszMy45MjgwNDgsIC0xMTguMjM3NTU1XSwKICAgICAgICAgICAgICAgIHt9CiAgICAgICAgICAgICkuYWRkVG8obWFwX2M0OWM4M2RmMDQzOTQwZDZiYmQ3NDQ5ZmVmMzNlODFmKTsKICAgICAgICAKICAgIAogICAgICAgICAgICB2YXIgaWNvbl81ZGZjMDNmMzM0NDI0NWJmOWUyM2IyODVmZmIyYjQ5ZiA9IEwuQXdlc29tZU1hcmtlcnMuaWNvbigKICAgICAgICAgICAgICAgIHsiZXh0cmFDbGFzc2VzIjogImZhLXJvdGF0ZS0wIiwgImljb24iOiAiaW5mby1zaWduIiwgImljb25Db2xvciI6ICJ3aGl0ZSIsICJtYXJrZXJDb2xvciI6ICJibHVlIiwgInByZWZpeCI6ICJnbHlwaGljb24ifQogICAgICAgICAgICApOwogICAgICAgICAgICBtYXJrZXJfZTVmZTA2MzEyMmU1NGU1YzllMWZjYmE5NTU4M2RkMWMuc2V0SWNvbihpY29uXzVkZmMwM2YzMzQ0MjQ1YmY5ZTIzYjI4NWZmYjJiNDlmKTsKICAgICAgICAKICAgIAogICAgICAgIHZhciBwb3B1cF83MGI5NDVjZTdiZGY0YzEyODBkNzQ2NDNlMzFmM2UzMiA9IEwucG9wdXAoeyJtYXhXaWR0aCI6ICIxMDAlIn0pOwoKICAgICAgICAKICAgICAgICAgICAgdmFyIGh0bWxfMGI5NGNhMTNmYWQyNDEyYWFiYTRkNGJhZDU0YTNlZjcgPSAkKGA8ZGl2IGlkPSJodG1sXzBiOTRjYTEzZmFkMjQxMmFhYmE0ZDRiYWQ1NGEzZWY3IiBzdHlsZT0id2lkdGg6IDEwMC4wJTsgaGVpZ2h0OiAxMDAuMCU7Ij5XaWxsb3dicm9vayAtIFJvc2EgUGFya3MgU3RhdGlvbiAtIE1ldHJvIEJsdWUgTGluZTwvZGl2PmApWzBdOwogICAgICAgICAgICBwb3B1cF83MGI5NDVjZTdiZGY0YzEyODBkNzQ2NDNlMzFmM2UzMi5zZXRDb250ZW50KGh0bWxfMGI5NGNhMTNmYWQyNDEyYWFiYTRkNGJhZDU0YTNlZjcpOwogICAgICAgIAoKICAgICAgICBtYXJrZXJfZTVmZTA2MzEyMmU1NGU1YzllMWZjYmE5NTU4M2RkMWMuYmluZFBvcHVwKHBvcHVwXzcwYjk0NWNlN2JkZjRjMTI4MGQ3NDY0M2UzMWYzZTMyKQogICAgICAgIDsKCiAgICAgICAgCiAgICAKICAgIAogICAgICAgICAgICBtYXJrZXJfZTVmZTA2MzEyMmU1NGU1YzllMWZjYmE5NTU4M2RkMWMuYmluZFRvb2x0aXAoCiAgICAgICAgICAgICAgICBgPGRpdj4KICAgICAgICAgICAgICAgICAgICAgQmx1ZSBMaW5lOiBXaWxsb3dicm9vayAtIFJvc2EgUGFya3MgU3RhdGlvbiAtIE1ldHJvIEJsdWUgTGluZQogICAgICAgICAgICAgICAgIDwvZGl2PmAsCiAgICAgICAgICAgICAgICB7InN0aWNreSI6IHRydWV9CiAgICAgICAgICAgICk7CiAgICAgICAgCiAgICAKICAgICAgICAgICAgdmFyIG1hcmtlcl9iMDVhNTYxZDlkODM0ZDZjOWIwNWVlNDMxZTNjYmMyMCA9IEwubWFya2VyKAogICAgICAgICAgICAgICAgWzMzLjk0MjIyLCAtMTE4LjI0MzE1OV0sCiAgICAgICAgICAgICAgICB7fQogICAgICAgICAgICApLmFkZFRvKG1hcF9jNDljODNkZjA0Mzk0MGQ2YmJkNzQ0OWZlZjMzZTgxZik7CiAgICAgICAgCiAgICAKICAgICAgICAgICAgdmFyIGljb25fYzliMzgwNjE1ODYyNGI0ZWFmNGZmNDVlMWQ5ZDdmZmMgPSBMLkF3ZXNvbWVNYXJrZXJzLmljb24oCiAgICAgICAgICAgICAgICB7ImV4dHJhQ2xhc3NlcyI6ICJmYS1yb3RhdGUtMCIsICJpY29uIjogImluZm8tc2lnbiIsICJpY29uQ29sb3IiOiAid2hpdGUiLCAibWFya2VyQ29sb3IiOiAiYmx1ZSIsICJwcmVmaXgiOiAiZ2x5cGhpY29uIn0KICAgICAgICAgICAgKTsKICAgICAgICAgICAgbWFya2VyX2IwNWE1NjFkOWQ4MzRkNmM5YjA1ZWU0MzFlM2NiYzIwLnNldEljb24oaWNvbl9jOWIzODA2MTU4NjI0YjRlYWY0ZmY0NWUxZDlkN2ZmYyk7CiAgICAgICAgCiAgICAKICAgICAgICB2YXIgcG9wdXBfM2Q5ODkxMjIxYWYxNDRhZjg4ZDYzYjk5YmU3MDJmYmUgPSBMLnBvcHVwKHsibWF4V2lkdGgiOiAiMTAwJSJ9KTsKCiAgICAgICAgCiAgICAgICAgICAgIHZhciBodG1sXzE0ZjNhMzY3ZGVkZTQ0ZmU5YzI4NTM5YTMyNDI1OWQ2ID0gJChgPGRpdiBpZD0iaHRtbF8xNGYzYTM2N2RlZGU0NGZlOWMyODUzOWEzMjQyNTlkNiIgc3R5bGU9IndpZHRoOiAxMDAuMCU7IGhlaWdodDogMTAwLjAlOyI+MTAzcmQgU3RyZWV0IC8gV2F0dHMgVG93ZXJzICBTdGF0aW9uPC9kaXY+YClbMF07CiAgICAgICAgICAgIHBvcHVwXzNkOTg5MTIyMWFmMTQ0YWY4OGQ2M2I5OWJlNzAyZmJlLnNldENvbnRlbnQoaHRtbF8xNGYzYTM2N2RlZGU0NGZlOWMyODUzOWEzMjQyNTlkNik7CiAgICAgICAgCgogICAgICAgIG1hcmtlcl9iMDVhNTYxZDlkODM0ZDZjOWIwNWVlNDMxZTNjYmMyMC5iaW5kUG9wdXAocG9wdXBfM2Q5ODkxMjIxYWYxNDRhZjg4ZDYzYjk5YmU3MDJmYmUpCiAgICAgICAgOwoKICAgICAgICAKICAgIAogICAgCiAgICAgICAgICAgIG1hcmtlcl9iMDVhNTYxZDlkODM0ZDZjOWIwNWVlNDMxZTNjYmMyMC5iaW5kVG9vbHRpcCgKICAgICAgICAgICAgICAgIGA8ZGl2PgogICAgICAgICAgICAgICAgICAgICBCbHVlIExpbmU6IDEwM3JkIFN0cmVldCAvIFdhdHRzIFRvd2VycyAgU3RhdGlvbgogICAgICAgICAgICAgICAgIDwvZGl2PmAsCiAgICAgICAgICAgICAgICB7InN0aWNreSI6IHRydWV9CiAgICAgICAgICAgICk7CiAgICAgICAgCiAgICAKICAgICAgICAgICAgdmFyIG1hcmtlcl9kMGRjOThmNmUxZmE0MWJkOTA4MGJiOGQ0Y2MxZjBiMCA9IEwubWFya2VyKAogICAgICAgICAgICAgICAgWzMzLjk1OTYxMSwgLTExOC4yNDMyMDVdLAogICAgICAgICAgICAgICAge30KICAgICAgICAgICAgKS5hZGRUbyhtYXBfYzQ5YzgzZGYwNDM5NDBkNmJiZDc0NDlmZWYzM2U4MWYpOwogICAgICAgIAogICAgCiAgICAgICAgICAgIHZhciBpY29uX2VkMzkxYjczOGY5YTQ3ZGRiNmYxZDllN2Y1YjdmNzIwID0gTC5Bd2Vzb21lTWFya2Vycy5pY29uKAogICAgICAgICAgICAgICAgeyJleHRyYUNsYXNzZXMiOiAiZmEtcm90YXRlLTAiLCAiaWNvbiI6ICJpbmZvLXNpZ24iLCAiaWNvbkNvbG9yIjogIndoaXRlIiwgIm1hcmtlckNvbG9yIjogImJsdWUiLCAicHJlZml4IjogImdseXBoaWNvbiJ9CiAgICAgICAgICAgICk7CiAgICAgICAgICAgIG1hcmtlcl9kMGRjOThmNmUxZmE0MWJkOTA4MGJiOGQ0Y2MxZjBiMC5zZXRJY29uKGljb25fZWQzOTFiNzM4ZjlhNDdkZGI2ZjFkOWU3ZjViN2Y3MjApOwogICAgICAgIAogICAgCiAgICAgICAgdmFyIHBvcHVwX2NlZmNkNTUyMzFjODQ0YjNiODRiYzBkZDlkNWY4NzEzID0gTC5wb3B1cCh7Im1heFdpZHRoIjogIjEwMCUifSk7CgogICAgICAgIAogICAgICAgICAgICB2YXIgaHRtbF8yZjYzZWZkMDNmM2I0YzA5YWI3YzBiYzRlYzFiNDU0NiA9ICQoYDxkaXYgaWQ9Imh0bWxfMmY2M2VmZDAzZjNiNGMwOWFiN2MwYmM0ZWMxYjQ1NDYiIHN0eWxlPSJ3aWR0aDogMTAwLjAlOyBoZWlnaHQ6IDEwMC4wJTsiPkZpcmVzdG9uZSBTdGF0aW9uPC9kaXY+YClbMF07CiAgICAgICAgICAgIHBvcHVwX2NlZmNkNTUyMzFjODQ0YjNiODRiYzBkZDlkNWY4NzEzLnNldENvbnRlbnQoaHRtbF8yZjYzZWZkMDNmM2I0YzA5YWI3YzBiYzRlYzFiNDU0Nik7CiAgICAgICAgCgogICAgICAgIG1hcmtlcl9kMGRjOThmNmUxZmE0MWJkOTA4MGJiOGQ0Y2MxZjBiMC5iaW5kUG9wdXAocG9wdXBfY2VmY2Q1NTIzMWM4NDRiM2I4NGJjMGRkOWQ1Zjg3MTMpCiAgICAgICAgOwoKICAgICAgICAKICAgIAogICAgCiAgICAgICAgICAgIG1hcmtlcl9kMGRjOThmNmUxZmE0MWJkOTA4MGJiOGQ0Y2MxZjBiMC5iaW5kVG9vbHRpcCgKICAgICAgICAgICAgICAgIGA8ZGl2PgogICAgICAgICAgICAgICAgICAgICBCbHVlIExpbmU6IEZpcmVzdG9uZSBTdGF0aW9uCiAgICAgICAgICAgICAgICAgPC9kaXY+YCwKICAgICAgICAgICAgICAgIHsic3RpY2t5IjogdHJ1ZX0KICAgICAgICAgICAgKTsKICAgICAgICAKICAgIAogICAgICAgICAgICB2YXIgbWFya2VyX2Q1NTlhOGNhMzE4MjQxY2M5NzAzMTkzMjg3ODAzMzBiID0gTC5tYXJrZXIoCiAgICAgICAgICAgICAgICBbMzMuOTczNzQsIC0xMTguMjQzMjcxXSwKICAgICAgICAgICAgICAgIHt9CiAgICAgICAgICAgICkuYWRkVG8obWFwX2M0OWM4M2RmMDQzOTQwZDZiYmQ3NDQ5ZmVmMzNlODFmKTsKICAgICAgICAKICAgIAogICAgICAgICAgICB2YXIgaWNvbl84NjI0NWQ2MzMwN2E0N2UxYjJkNDUzZjE0ZjY2NDRmYiA9IEwuQXdlc29tZU1hcmtlcnMuaWNvbigKICAgICAgICAgICAgICAgIHsiZXh0cmFDbGFzc2VzIjogImZhLXJvdGF0ZS0wIiwgImljb24iOiAiaW5mby1zaWduIiwgImljb25Db2xvciI6ICJ3aGl0ZSIsICJtYXJrZXJDb2xvciI6ICJibHVlIiwgInByZWZpeCI6ICJnbHlwaGljb24ifQogICAgICAgICAgICApOwogICAgICAgICAgICBtYXJrZXJfZDU1OWE4Y2EzMTgyNDFjYzk3MDMxOTMyODc4MDMzMGIuc2V0SWNvbihpY29uXzg2MjQ1ZDYzMzA3YTQ3ZTFiMmQ0NTNmMTRmNjY0NGZiKTsKICAgICAgICAKICAgIAogICAgICAgIHZhciBwb3B1cF9hN2E2NmY3NTU1ZTY0Y2I2OTBiOGE0NDkzNTljMzkyZSA9IEwucG9wdXAoeyJtYXhXaWR0aCI6ICIxMDAlIn0pOwoKICAgICAgICAKICAgICAgICAgICAgdmFyIGh0bWxfZDBlNTMwNzM2MjlmNDc2N2E0M2I5YTM2ZWE1MmYzYjggPSAkKGA8ZGl2IGlkPSJodG1sX2QwZTUzMDczNjI5ZjQ3NjdhNDNiOWEzNmVhNTJmM2I4IiBzdHlsZT0id2lkdGg6IDEwMC4wJTsgaGVpZ2h0OiAxMDAuMCU7Ij5GbG9yZW5jZSBTdGF0aW9uPC9kaXY+YClbMF07CiAgICAgICAgICAgIHBvcHVwX2E3YTY2Zjc1NTVlNjRjYjY5MGI4YTQ0OTM1OWMzOTJlLnNldENvbnRlbnQoaHRtbF9kMGU1MzA3MzYyOWY0NzY3YTQzYjlhMzZlYTUyZjNiOCk7CiAgICAgICAgCgogICAgICAgIG1hcmtlcl9kNTU5YThjYTMxODI0MWNjOTcwMzE5MzI4NzgwMzMwYi5iaW5kUG9wdXAocG9wdXBfYTdhNjZmNzU1NWU2NGNiNjkwYjhhNDQ5MzU5YzM5MmUpCiAgICAgICAgOwoKICAgICAgICAKICAgIAogICAgCiAgICAgICAgICAgIG1hcmtlcl9kNTU5YThjYTMxODI0MWNjOTcwMzE5MzI4NzgwMzMwYi5iaW5kVG9vbHRpcCgKICAgICAgICAgICAgICAgIGA8ZGl2PgogICAgICAgICAgICAgICAgICAgICBCbHVlIExpbmU6IEZsb3JlbmNlIFN0YXRpb24KICAgICAgICAgICAgICAgICA8L2Rpdj5gLAogICAgICAgICAgICAgICAgeyJzdGlja3kiOiB0cnVlfQogICAgICAgICAgICApOwogICAgICAgIAogICAgCiAgICAgICAgICAgIHZhciBtYXJrZXJfOWYwZjQ3ODBkMzlhNDM1OWE5OGExOTgwZGJhZDM0YjkgPSBMLm1hcmtlcigKICAgICAgICAgICAgICAgIFszMy45ODg3NiwgLTExOC4yNDMzOThdLAogICAgICAgICAgICAgICAge30KICAgICAgICAgICAgKS5hZGRUbyhtYXBfYzQ5YzgzZGYwNDM5NDBkNmJiZDc0NDlmZWYzM2U4MWYpOwogICAgICAgIAogICAgCiAgICAgICAgICAgIHZhciBpY29uXzc1ZDQ4ZjBmZDBjNzRkNzdhNjU1MGM1YWZlNjdkYWI1ID0gTC5Bd2Vzb21lTWFya2Vycy5pY29uKAogICAgICAgICAgICAgICAgeyJleHRyYUNsYXNzZXMiOiAiZmEtcm90YXRlLTAiLCAiaWNvbiI6ICJpbmZvLXNpZ24iLCAiaWNvbkNvbG9yIjogIndoaXRlIiwgIm1hcmtlckNvbG9yIjogImJsdWUiLCAicHJlZml4IjogImdseXBoaWNvbiJ9CiAgICAgICAgICAgICk7CiAgICAgICAgICAgIG1hcmtlcl85ZjBmNDc4MGQzOWE0MzU5YTk4YTE5ODBkYmFkMzRiOS5zZXRJY29uKGljb25fNzVkNDhmMGZkMGM3NGQ3N2E2NTUwYzVhZmU2N2RhYjUpOwogICAgICAgIAogICAgCiAgICAgICAgdmFyIHBvcHVwXzRkMzUyOWI4MmZlMDRiOGRiOTljNWVkZWU0YjBiNDZlID0gTC5wb3B1cCh7Im1heFdpZHRoIjogIjEwMCUifSk7CgogICAgICAgIAogICAgICAgICAgICB2YXIgaHRtbF85YTE1Y2M3ZDM3M2E0NzllYWViMGM3MGRhZjcyZTAyMyA9ICQoYDxkaXYgaWQ9Imh0bWxfOWExNWNjN2QzNzNhNDc5ZWFlYjBjNzBkYWY3MmUwMjMiIHN0eWxlPSJ3aWR0aDogMTAwLjAlOyBoZWlnaHQ6IDEwMC4wJTsiPlNsYXVzb24gU3RhdGlvbjwvZGl2PmApWzBdOwogICAgICAgICAgICBwb3B1cF80ZDM1MjliODJmZTA0YjhkYjk5YzVlZGVlNGIwYjQ2ZS5zZXRDb250ZW50KGh0bWxfOWExNWNjN2QzNzNhNDc5ZWFlYjBjNzBkYWY3MmUwMjMpOwogICAgICAgIAoKICAgICAgICBtYXJrZXJfOWYwZjQ3ODBkMzlhNDM1OWE5OGExOTgwZGJhZDM0YjkuYmluZFBvcHVwKHBvcHVwXzRkMzUyOWI4MmZlMDRiOGRiOTljNWVkZWU0YjBiNDZlKQogICAgICAgIDsKCiAgICAgICAgCiAgICAKICAgIAogICAgICAgICAgICBtYXJrZXJfOWYwZjQ3ODBkMzlhNDM1OWE5OGExOTgwZGJhZDM0YjkuYmluZFRvb2x0aXAoCiAgICAgICAgICAgICAgICBgPGRpdj4KICAgICAgICAgICAgICAgICAgICAgQmx1ZSBMaW5lOiBTbGF1c29uIFN0YXRpb24KICAgICAgICAgICAgICAgICA8L2Rpdj5gLAogICAgICAgICAgICAgICAgeyJzdGlja3kiOiB0cnVlfQogICAgICAgICAgICApOwogICAgICAgIAogICAgCiAgICAgICAgICAgIHZhciBtYXJrZXJfMDNjNTdkNTg1OWZmNGE2MGFjZTA2YTA3MDIzZTdjZjkgPSBMLm1hcmtlcigKICAgICAgICAgICAgICAgIFszNC4wMDI5MiwgLTExOC4yNDMzMDNdLAogICAgICAgICAgICAgICAge30KICAgICAgICAgICAgKS5hZGRUbyhtYXBfYzQ5YzgzZGYwNDM5NDBkNmJiZDc0NDlmZWYzM2U4MWYpOwogICAgICAgIAogICAgCiAgICAgICAgICAgIHZhciBpY29uX2EyZDkwMGJkMGFjZDQyM2E4ZTUyY2U0MTE2NjAwYzEwID0gTC5Bd2Vzb21lTWFya2Vycy5pY29uKAogICAgICAgICAgICAgICAgeyJleHRyYUNsYXNzZXMiOiAiZmEtcm90YXRlLTAiLCAiaWNvbiI6ICJpbmZvLXNpZ24iLCAiaWNvbkNvbG9yIjogIndoaXRlIiwgIm1hcmtlckNvbG9yIjogImJsdWUiLCAicHJlZml4IjogImdseXBoaWNvbiJ9CiAgICAgICAgICAgICk7CiAgICAgICAgICAgIG1hcmtlcl8wM2M1N2Q1ODU5ZmY0YTYwYWNlMDZhMDcwMjNlN2NmOS5zZXRJY29uKGljb25fYTJkOTAwYmQwYWNkNDIzYThlNTJjZTQxMTY2MDBjMTApOwogICAgICAgIAogICAgCiAgICAgICAgdmFyIHBvcHVwXzcxMjI5OWY2Nzg5ODQ4MDk4ZWNmZWZiMWE4MDlmNWQxID0gTC5wb3B1cCh7Im1heFdpZHRoIjogIjEwMCUifSk7CgogICAgICAgIAogICAgICAgICAgICB2YXIgaHRtbF9hZjk4ZWZkNDQ1N2I0MGVmOTQyZTU3ZWNjZGU3ZTkwMSA9ICQoYDxkaXYgaWQ9Imh0bWxfYWY5OGVmZDQ0NTdiNDBlZjk0MmU1N2VjY2RlN2U5MDEiIHN0eWxlPSJ3aWR0aDogMTAwLjAlOyBoZWlnaHQ6IDEwMC4wJTsiPlZlcm5vbiBTdGF0aW9uPC9kaXY+YClbMF07CiAgICAgICAgICAgIHBvcHVwXzcxMjI5OWY2Nzg5ODQ4MDk4ZWNmZWZiMWE4MDlmNWQxLnNldENvbnRlbnQoaHRtbF9hZjk4ZWZkNDQ1N2I0MGVmOTQyZTU3ZWNjZGU3ZTkwMSk7CiAgICAgICAgCgogICAgICAgIG1hcmtlcl8wM2M1N2Q1ODU5ZmY0YTYwYWNlMDZhMDcwMjNlN2NmOS5iaW5kUG9wdXAocG9wdXBfNzEyMjk5ZjY3ODk4NDgwOThlY2ZlZmIxYTgwOWY1ZDEpCiAgICAgICAgOwoKICAgICAgICAKICAgIAogICAgCiAgICAgICAgICAgIG1hcmtlcl8wM2M1N2Q1ODU5ZmY0YTYwYWNlMDZhMDcwMjNlN2NmOS5iaW5kVG9vbHRpcCgKICAgICAgICAgICAgICAgIGA8ZGl2PgogICAgICAgICAgICAgICAgICAgICBCbHVlIExpbmU6IFZlcm5vbiBTdGF0aW9uCiAgICAgICAgICAgICAgICAgPC9kaXY+YCwKICAgICAgICAgICAgICAgIHsic3RpY2t5IjogdHJ1ZX0KICAgICAgICAgICAgKTsKICAgICAgICAKICAgIAogICAgICAgICAgICB2YXIgbWFya2VyXzY2ZDdhYTUzNjZlZjQxY2FiODAxYzA1YTZiYmEwZmQ2ID0gTC5tYXJrZXIoCiAgICAgICAgICAgICAgICBbMzQuMDE5NjUsIC0xMTguMjQzMDg0XSwKICAgICAgICAgICAgICAgIHt9CiAgICAgICAgICAgICkuYWRkVG8obWFwX2M0OWM4M2RmMDQzOTQwZDZiYmQ3NDQ5ZmVmMzNlODFmKTsKICAgICAgICAKICAgIAogICAgICAgICAgICB2YXIgaWNvbl9hYzJmNmZhZDNjYzY0MDZlYWYxMDM0MjYxNjcyZjlhNyA9IEwuQXdlc29tZU1hcmtlcnMuaWNvbigKICAgICAgICAgICAgICAgIHsiZXh0cmFDbGFzc2VzIjogImZhLXJvdGF0ZS0wIiwgImljb24iOiAiaW5mby1zaWduIiwgImljb25Db2xvciI6ICJ3aGl0ZSIsICJtYXJrZXJDb2xvciI6ICJibHVlIiwgInByZWZpeCI6ICJnbHlwaGljb24ifQogICAgICAgICAgICApOwogICAgICAgICAgICBtYXJrZXJfNjZkN2FhNTM2NmVmNDFjYWI4MDFjMDVhNmJiYTBmZDYuc2V0SWNvbihpY29uX2FjMmY2ZmFkM2NjNjQwNmVhZjEwMzQyNjE2NzJmOWE3KTsKICAgICAgICAKICAgIAogICAgICAgIHZhciBwb3B1cF9mNGYxY2E4ZjljZDI0ZWY5ODcyM2RhOThjZDZjYjQ0MCA9IEwucG9wdXAoeyJtYXhXaWR0aCI6ICIxMDAlIn0pOwoKICAgICAgICAKICAgICAgICAgICAgdmFyIGh0bWxfYzk2ZWIzNTAyMWFhNGEyNjliODg0N2JkMWQ1NWZmNDIgPSAkKGA8ZGl2IGlkPSJodG1sX2M5NmViMzUwMjFhYTRhMjY5Yjg4NDdiZDFkNTVmZjQyIiBzdHlsZT0id2lkdGg6IDEwMC4wJTsgaGVpZ2h0OiAxMDAuMCU7Ij5XYXNoaW5ndG9uIFN0YXRpb248L2Rpdj5gKVswXTsKICAgICAgICAgICAgcG9wdXBfZjRmMWNhOGY5Y2QyNGVmOTg3MjNkYTk4Y2Q2Y2I0NDAuc2V0Q29udGVudChodG1sX2M5NmViMzUwMjFhYTRhMjY5Yjg4NDdiZDFkNTVmZjQyKTsKICAgICAgICAKCiAgICAgICAgbWFya2VyXzY2ZDdhYTUzNjZlZjQxY2FiODAxYzA1YTZiYmEwZmQ2LmJpbmRQb3B1cChwb3B1cF9mNGYxY2E4ZjljZDI0ZWY5ODcyM2RhOThjZDZjYjQ0MCkKICAgICAgICA7CgogICAgICAgIAogICAgCiAgICAKICAgICAgICAgICAgbWFya2VyXzY2ZDdhYTUzNjZlZjQxY2FiODAxYzA1YTZiYmEwZmQ2LmJpbmRUb29sdGlwKAogICAgICAgICAgICAgICAgYDxkaXY+CiAgICAgICAgICAgICAgICAgICAgIEJsdWUgTGluZTogV2FzaGluZ3RvbiBTdGF0aW9uCiAgICAgICAgICAgICAgICAgPC9kaXY+YCwKICAgICAgICAgICAgICAgIHsic3RpY2t5IjogdHJ1ZX0KICAgICAgICAgICAgKTsKICAgICAgICAKICAgIAogICAgICAgICAgICB2YXIgbWFya2VyXzAzOGYzYTJmOTQ5MzRjNmI4Zjk5YWQzZGMxYzIwZjMyID0gTC5tYXJrZXIoCiAgICAgICAgICAgICAgICBbMzQuMDI2ODA3LCAtMTE4LjI1NTUwNV0sCiAgICAgICAgICAgICAgICB7fQogICAgICAgICAgICApLmFkZFRvKG1hcF9jNDljODNkZjA0Mzk0MGQ2YmJkNzQ0OWZlZjMzZTgxZik7CiAgICAgICAgCiAgICAKICAgICAgICAgICAgdmFyIGljb25fZGQ2NDMxMzc0NDE2NDRjMTk5NGRlZTcxOGIwMDg3YTQgPSBMLkF3ZXNvbWVNYXJrZXJzLmljb24oCiAgICAgICAgICAgICAgICB7ImV4dHJhQ2xhc3NlcyI6ICJmYS1yb3RhdGUtMCIsICJpY29uIjogImluZm8tc2lnbiIsICJpY29uQ29sb3IiOiAid2hpdGUiLCAibWFya2VyQ29sb3IiOiAiYmx1ZSIsICJwcmVmaXgiOiAiZ2x5cGhpY29uIn0KICAgICAgICAgICAgKTsKICAgICAgICAgICAgbWFya2VyXzAzOGYzYTJmOTQ5MzRjNmI4Zjk5YWQzZGMxYzIwZjMyLnNldEljb24oaWNvbl9kZDY0MzEzNzQ0MTY0NGMxOTk0ZGVlNzE4YjAwODdhNCk7CiAgICAgICAgCiAgICAKICAgICAgICB2YXIgcG9wdXBfOGMzZmI0OWNiOGVmNDljODlkMzZjYWQxNTExOTBjZGQgPSBMLnBvcHVwKHsibWF4V2lkdGgiOiAiMTAwJSJ9KTsKCiAgICAgICAgCiAgICAgICAgICAgIHZhciBodG1sXzIxNzE5NDM5NDUzMDRmZTU5OWExNDM4YzEwZmE4MWQyID0gJChgPGRpdiBpZD0iaHRtbF8yMTcxOTQzOTQ1MzA0ZmU1OTlhMTQzOGMxMGZhODFkMiIgc3R5bGU9IndpZHRoOiAxMDAuMCU7IGhlaWdodDogMTAwLjAlOyI+U2FuIFBlZHJvIFN0cmVldCBTdGF0aW9uPC9kaXY+YClbMF07CiAgICAgICAgICAgIHBvcHVwXzhjM2ZiNDljYjhlZjQ5Yzg5ZDM2Y2FkMTUxMTkwY2RkLnNldENvbnRlbnQoaHRtbF8yMTcxOTQzOTQ1MzA0ZmU1OTlhMTQzOGMxMGZhODFkMik7CiAgICAgICAgCgogICAgICAgIG1hcmtlcl8wMzhmM2EyZjk0OTM0YzZiOGY5OWFkM2RjMWMyMGYzMi5iaW5kUG9wdXAocG9wdXBfOGMzZmI0OWNiOGVmNDljODlkMzZjYWQxNTExOTBjZGQpCiAgICAgICAgOwoKICAgICAgICAKICAgIAogICAgCiAgICAgICAgICAgIG1hcmtlcl8wMzhmM2EyZjk0OTM0YzZiOGY5OWFkM2RjMWMyMGYzMi5iaW5kVG9vbHRpcCgKICAgICAgICAgICAgICAgIGA8ZGl2PgogICAgICAgICAgICAgICAgICAgICBCbHVlIExpbmU6IFNhbiBQZWRybyBTdHJlZXQgU3RhdGlvbgogICAgICAgICAgICAgICAgIDwvZGl2PmAsCiAgICAgICAgICAgICAgICB7InN0aWNreSI6IHRydWV9CiAgICAgICAgICAgICk7CiAgICAgICAgCiAgICAKICAgICAgICAgICAgdmFyIG1hcmtlcl9jZjVmZjVlM2E5NmY0MWExODIwN2I0YWQ1MWY4NGNlZCA9IEwubWFya2VyKAogICAgICAgICAgICAgICAgWzM0LjAzMzE1NSwgLTExOC4yNjkzMzNdLAogICAgICAgICAgICAgICAge30KICAgICAgICAgICAgKS5hZGRUbyhtYXBfYzQ5YzgzZGYwNDM5NDBkNmJiZDc0NDlmZWYzM2U4MWYpOwogICAgICAgIAogICAgCiAgICAgICAgICAgIHZhciBpY29uXzRkNmQ4MmE3NmU3NTRiNjk5ZWZhZjIxMTM1NDBkMmQ4ID0gTC5Bd2Vzb21lTWFya2Vycy5pY29uKAogICAgICAgICAgICAgICAgeyJleHRyYUNsYXNzZXMiOiAiZmEtcm90YXRlLTAiLCAiaWNvbiI6ICJpbmZvLXNpZ24iLCAiaWNvbkNvbG9yIjogIndoaXRlIiwgIm1hcmtlckNvbG9yIjogImJsdWUiLCAicHJlZml4IjogImdseXBoaWNvbiJ9CiAgICAgICAgICAgICk7CiAgICAgICAgICAgIG1hcmtlcl9jZjVmZjVlM2E5NmY0MWExODIwN2I0YWQ1MWY4NGNlZC5zZXRJY29uKGljb25fNGQ2ZDgyYTc2ZTc1NGI2OTllZmFmMjExMzU0MGQyZDgpOwogICAgICAgIAogICAgCiAgICAgICAgdmFyIHBvcHVwX2YyNDc5YzZjNzhhODQ4MzFhNTUzMjdmY2VmMTQ1MjI4ID0gTC5wb3B1cCh7Im1heFdpZHRoIjogIjEwMCUifSk7CgogICAgICAgIAogICAgICAgICAgICB2YXIgaHRtbF85MjIxNDJlMWRhNTM0OTFiYjgyN2JmZmZkZDhlMGNlNiA9ICQoYDxkaXYgaWQ9Imh0bWxfOTIyMTQyZTFkYTUzNDkxYmI4MjdiZmZmZGQ4ZTBjZTYiIHN0eWxlPSJ3aWR0aDogMTAwLjAlOyBoZWlnaHQ6IDEwMC4wJTsiPkdyYW5kIC8gTEFUVEMgU3RhdGlvbjwvZGl2PmApWzBdOwogICAgICAgICAgICBwb3B1cF9mMjQ3OWM2Yzc4YTg0ODMxYTU1MzI3ZmNlZjE0NTIyOC5zZXRDb250ZW50KGh0bWxfOTIyMTQyZTFkYTUzNDkxYmI4MjdiZmZmZGQ4ZTBjZTYpOwogICAgICAgIAoKICAgICAgICBtYXJrZXJfY2Y1ZmY1ZTNhOTZmNDFhMTgyMDdiNGFkNTFmODRjZWQuYmluZFBvcHVwKHBvcHVwX2YyNDc5YzZjNzhhODQ4MzFhNTUzMjdmY2VmMTQ1MjI4KQogICAgICAgIDsKCiAgICAgICAgCiAgICAKICAgIAogICAgICAgICAgICBtYXJrZXJfY2Y1ZmY1ZTNhOTZmNDFhMTgyMDdiNGFkNTFmODRjZWQuYmluZFRvb2x0aXAoCiAgICAgICAgICAgICAgICBgPGRpdj4KICAgICAgICAgICAgICAgICAgICAgQmx1ZSBMaW5lOiBHcmFuZCAvIExBVFRDIFN0YXRpb24KICAgICAgICAgICAgICAgICA8L2Rpdj5gLAogICAgICAgICAgICAgICAgeyJzdGlja3kiOiB0cnVlfQogICAgICAgICAgICApOwogICAgICAgIAogICAgCiAgICAgICAgICAgIHZhciBtYXJrZXJfYTQwNjkwNDE1NDcwNDA3ZWJiNDA4OWNkZjY4ZDcwZmIgPSBMLm1hcmtlcigKICAgICAgICAgICAgICAgIFszNC4wNDA3MzUsIC0xMTguMjY2MTE4XSwKICAgICAgICAgICAgICAgIHt9CiAgICAgICAgICAgICkuYWRkVG8obWFwX2M0OWM4M2RmMDQzOTQwZDZiYmQ3NDQ5ZmVmMzNlODFmKTsKICAgICAgICAKICAgIAogICAgICAgICAgICB2YXIgaWNvbl8zMzdlMTI4MjM2NGY0YTNkYmU1NWY5Y2QwMTZhYjg0OCA9IEwuQXdlc29tZU1hcmtlcnMuaWNvbigKICAgICAgICAgICAgICAgIHsiZXh0cmFDbGFzc2VzIjogImZhLXJvdGF0ZS0wIiwgImljb24iOiAiaW5mby1zaWduIiwgImljb25Db2xvciI6ICJ3aGl0ZSIsICJtYXJrZXJDb2xvciI6ICJjYWRldGJsdWUiLCAicHJlZml4IjogImdseXBoaWNvbiJ9CiAgICAgICAgICAgICk7CiAgICAgICAgICAgIG1hcmtlcl9hNDA2OTA0MTU0NzA0MDdlYmI0MDg5Y2RmNjhkNzBmYi5zZXRJY29uKGljb25fMzM3ZTEyODIzNjRmNGEzZGJlNTVmOWNkMDE2YWI4NDgpOwogICAgICAgIAogICAgCiAgICAgICAgdmFyIHBvcHVwXzA2MWI2NTI4M2FjOTQ4MzFhNzQ4YjQzOWQ4ZTM5ZGU4ID0gTC5wb3B1cCh7Im1heFdpZHRoIjogIjEwMCUifSk7CgogICAgICAgIAogICAgICAgICAgICB2YXIgaHRtbF85YmQzNDZjNjhkMjk0YWY3YWRjMTJmMDQwNjZhNzcwNiA9ICQoYDxkaXYgaWQ9Imh0bWxfOWJkMzQ2YzY4ZDI5NGFmN2FkYzEyZjA0MDY2YTc3MDYiIHN0eWxlPSJ3aWR0aDogMTAwLjAlOyBoZWlnaHQ6IDEwMC4wJTsiPlBpY28gU3RhdGlvbjwvZGl2PmApWzBdOwogICAgICAgICAgICBwb3B1cF8wNjFiNjUyODNhYzk0ODMxYTc0OGI0MzlkOGUzOWRlOC5zZXRDb250ZW50KGh0bWxfOWJkMzQ2YzY4ZDI5NGFmN2FkYzEyZjA0MDY2YTc3MDYpOwogICAgICAgIAoKICAgICAgICBtYXJrZXJfYTQwNjkwNDE1NDcwNDA3ZWJiNDA4OWNkZjY4ZDcwZmIuYmluZFBvcHVwKHBvcHVwXzA2MWI2NTI4M2FjOTQ4MzFhNzQ4YjQzOWQ4ZTM5ZGU4KQogICAgICAgIDsKCiAgICAgICAgCiAgICAKICAgIAogICAgICAgICAgICBtYXJrZXJfYTQwNjkwNDE1NDcwNDA3ZWJiNDA4OWNkZjY4ZDcwZmIuYmluZFRvb2x0aXAoCiAgICAgICAgICAgICAgICBgPGRpdj4KICAgICAgICAgICAgICAgICAgICAgQmx1ZS9FWFBPIExpbmU6IFBpY28gU3RhdGlvbgogICAgICAgICAgICAgICAgIDwvZGl2PmAsCiAgICAgICAgICAgICAgICB7InN0aWNreSI6IHRydWV9CiAgICAgICAgICAgICk7CiAgICAgICAgCiAgICAKICAgICAgICAgICAgdmFyIG1hcmtlcl8xNTM4ZTgyN2E3MWU0ODU0OTg5NWYzYzNlOGE0ZDRlNSA9IEwubWFya2VyKAogICAgICAgICAgICAgICAgWzM0LjA0ODYxLCAtMTE4LjI1ODgyMl0sCiAgICAgICAgICAgICAgICB7fQogICAgICAgICAgICApLmFkZFRvKG1hcF9jNDljODNkZjA0Mzk0MGQ2YmJkNzQ0OWZlZjMzZTgxZik7CiAgICAgICAgCiAgICAKICAgICAgICAgICAgdmFyIGljb25fZGM5OTRkZjY1OTIxNDU1YmE1MTE1Y2ZhODg4ZGIzYTkgPSBMLkF3ZXNvbWVNYXJrZXJzLmljb24oCiAgICAgICAgICAgICAgICB7ImV4dHJhQ2xhc3NlcyI6ICJmYS1yb3RhdGUtMCIsICJpY29uIjogImluZm8tc2lnbiIsICJpY29uQ29sb3IiOiAid2hpdGUiLCAibWFya2VyQ29sb3IiOiAiY2FkZXRibHVlIiwgInByZWZpeCI6ICJnbHlwaGljb24ifQogICAgICAgICAgICApOwogICAgICAgICAgICBtYXJrZXJfMTUzOGU4MjdhNzFlNDg1NDk4OTVmM2MzZThhNGQ0ZTUuc2V0SWNvbihpY29uX2RjOTk0ZGY2NTkyMTQ1NWJhNTExNWNmYTg4OGRiM2E5KTsKICAgICAgICAKICAgIAogICAgICAgIHZhciBwb3B1cF9jOTgzYzdhODM0YzE0Njc3OTFiM2QyMThlMzc3ODk1NCA9IEwucG9wdXAoeyJtYXhXaWR0aCI6ICIxMDAlIn0pOwoKICAgICAgICAKICAgICAgICAgICAgdmFyIGh0bWxfNjAzN2E2ZWEzM2ZiNGJkOWEzOTYzZjJiMWY2MzA4NmYgPSAkKGA8ZGl2IGlkPSJodG1sXzYwMzdhNmVhMzNmYjRiZDlhMzk2M2YyYjFmNjMwODZmIiBzdHlsZT0id2lkdGg6IDEwMC4wJTsgaGVpZ2h0OiAxMDAuMCU7Ij43dGggU3RyZWV0IC8gTWV0cm8gQ2VudGVyIFN0YXRpb24gLSBNZXRybyBCbHVlICYgRXhwbyBMaW5lczwvZGl2PmApWzBdOwogICAgICAgICAgICBwb3B1cF9jOTgzYzdhODM0YzE0Njc3OTFiM2QyMThlMzc3ODk1NC5zZXRDb250ZW50KGh0bWxfNjAzN2E2ZWEzM2ZiNGJkOWEzOTYzZjJiMWY2MzA4NmYpOwogICAgICAgIAoKICAgICAgICBtYXJrZXJfMTUzOGU4MjdhNzFlNDg1NDk4OTVmM2MzZThhNGQ0ZTUuYmluZFBvcHVwKHBvcHVwX2M5ODNjN2E4MzRjMTQ2Nzc5MWIzZDIxOGUzNzc4OTU0KQogICAgICAgIDsKCiAgICAgICAgCiAgICAKICAgIAogICAgICAgICAgICBtYXJrZXJfMTUzOGU4MjdhNzFlNDg1NDk4OTVmM2MzZThhNGQ0ZTUuYmluZFRvb2x0aXAoCiAgICAgICAgICAgICAgICBgPGRpdj4KICAgICAgICAgICAgICAgICAgICAgQmx1ZS9FWFBPIExpbmU6IDd0aCBTdHJlZXQgLyBNZXRybyBDZW50ZXIgU3RhdGlvbiAtIE1ldHJvIEJsdWUgJiBFeHBvIExpbmVzCiAgICAgICAgICAgICAgICAgPC9kaXY+YCwKICAgICAgICAgICAgICAgIHsic3RpY2t5IjogdHJ1ZX0KICAgICAgICAgICAgKTsKICAgICAgICAKICAgIAogICAgICAgICAgICB2YXIgbWFya2VyX2JkNDM3NGE2NGEyNjRiZDJhNzVjOGYxZmU2YzQ3YmIzID0gTC5tYXJrZXIoCiAgICAgICAgICAgICAgICBbMzQuMDI5MTEyLCAtMTE4LjI3MzYwM10sCiAgICAgICAgICAgICAgICB7fQogICAgICAgICAgICApLmFkZFRvKG1hcF9jNDljODNkZjA0Mzk0MGQ2YmJkNzQ0OWZlZjMzZTgxZik7CiAgICAgICAgCiAgICAKICAgICAgICAgICAgdmFyIGljb25fZTg0MTZkZDE1NDM3NDEyOWEzZWU4ZGQ3YjIwZTU3YzcgPSBMLkF3ZXNvbWVNYXJrZXJzLmljb24oCiAgICAgICAgICAgICAgICB7ImV4dHJhQ2xhc3NlcyI6ICJmYS1yb3RhdGUtMCIsICJpY29uIjogImluZm8tc2lnbiIsICJpY29uQ29sb3IiOiAid2hpdGUiLCAibWFya2VyQ29sb3IiOiAib3JhbmdlIiwgInByZWZpeCI6ICJnbHlwaGljb24ifQogICAgICAgICAgICApOwogICAgICAgICAgICBtYXJrZXJfYmQ0Mzc0YTY0YTI2NGJkMmE3NWM4ZjFmZTZjNDdiYjMuc2V0SWNvbihpY29uX2U4NDE2ZGQxNTQzNzQxMjlhM2VlOGRkN2IyMGU1N2M3KTsKICAgICAgICAKICAgIAogICAgICAgIHZhciBwb3B1cF83MDczYTAzNDI0ZjU0ZDRhYTNlMWU3ZGNhNjQ0YWEyNSA9IEwucG9wdXAoeyJtYXhXaWR0aCI6ICIxMDAlIn0pOwoKICAgICAgICAKICAgICAgICAgICAgdmFyIGh0bWxfZmU3OTI1MzllZjVjNGUzMTgxODc2YTljNDNjMDU1Y2MgPSAkKGA8ZGl2IGlkPSJodG1sX2ZlNzkyNTM5ZWY1YzRlMzE4MTg3NmE5YzQzYzA1NWNjIiBzdHlsZT0id2lkdGg6IDEwMC4wJTsgaGVpZ2h0OiAxMDAuMCU7Ij5MQVRUQyAvIE9ydGhvIEluc3RpdHV0ZSBTdGF0aW9uPC9kaXY+YClbMF07CiAgICAgICAgICAgIHBvcHVwXzcwNzNhMDM0MjRmNTRkNGFhM2UxZTdkY2E2NDRhYTI1LnNldENvbnRlbnQoaHRtbF9mZTc5MjUzOWVmNWM0ZTMxODE4NzZhOWM0M2MwNTVjYyk7CiAgICAgICAgCgogICAgICAgIG1hcmtlcl9iZDQzNzRhNjRhMjY0YmQyYTc1YzhmMWZlNmM0N2JiMy5iaW5kUG9wdXAocG9wdXBfNzA3M2EwMzQyNGY1NGQ0YWEzZTFlN2RjYTY0NGFhMjUpCiAgICAgICAgOwoKICAgICAgICAKICAgIAogICAgCiAgICAgICAgICAgIG1hcmtlcl9iZDQzNzRhNjRhMjY0YmQyYTc1YzhmMWZlNmM0N2JiMy5iaW5kVG9vbHRpcCgKICAgICAgICAgICAgICAgIGA8ZGl2PgogICAgICAgICAgICAgICAgICAgICBFWFBPIExpbmU6IExBVFRDIC8gT3J0aG8gSW5zdGl0dXRlIFN0YXRpb24KICAgICAgICAgICAgICAgICA8L2Rpdj5gLAogICAgICAgICAgICAgICAgeyJzdGlja3kiOiB0cnVlfQogICAgICAgICAgICApOwogICAgICAgIAogICAgCiAgICAgICAgICAgIHZhciBtYXJrZXJfNjcyZmFiN2MxOWIwNDQ0N2I2ZGNjMDkzNjMxNGNhNDcgPSBMLm1hcmtlcigKICAgICAgICAgICAgICAgIFszNC4wMjIxMjMsIC0xMTguMjc4MTE4XSwKICAgICAgICAgICAgICAgIHt9CiAgICAgICAgICAgICkuYWRkVG8obWFwX2M0OWM4M2RmMDQzOTQwZDZiYmQ3NDQ5ZmVmMzNlODFmKTsKICAgICAgICAKICAgIAogICAgICAgICAgICB2YXIgaWNvbl8wZWY5ODkwYzE2ZTE0YWU5Yjg0MmQ2ZWJjNTJlMzQ5MyA9IEwuQXdlc29tZU1hcmtlcnMuaWNvbigKICAgICAgICAgICAgICAgIHsiZXh0cmFDbGFzc2VzIjogImZhLXJvdGF0ZS0wIiwgImljb24iOiAiaW5mby1zaWduIiwgImljb25Db2xvciI6ICJ3aGl0ZSIsICJtYXJrZXJDb2xvciI6ICJvcmFuZ2UiLCAicHJlZml4IjogImdseXBoaWNvbiJ9CiAgICAgICAgICAgICk7CiAgICAgICAgICAgIG1hcmtlcl82NzJmYWI3YzE5YjA0NDQ3YjZkY2MwOTM2MzE0Y2E0Ny5zZXRJY29uKGljb25fMGVmOTg5MGMxNmUxNGFlOWI4NDJkNmViYzUyZTM0OTMpOwogICAgICAgIAogICAgCiAgICAgICAgdmFyIHBvcHVwXzNlNDVkNmE5MGQ3NzRhNmY4MWJmZTY1OTA1M2FkMDNkID0gTC5wb3B1cCh7Im1heFdpZHRoIjogIjEwMCUifSk7CgogICAgICAgIAogICAgICAgICAgICB2YXIgaHRtbF9hMzhkMjA0NWZlOWQ0YmMwYTVjZGQyZDljZjVjY2FmYyA9ICQoYDxkaXYgaWQ9Imh0bWxfYTM4ZDIwNDVmZTlkNGJjMGE1Y2RkMmQ5Y2Y1Y2NhZmMiIHN0eWxlPSJ3aWR0aDogMTAwLjAlOyBoZWlnaHQ6IDEwMC4wJTsiPkplZmZlcnNvbiAvIFVTQyBTdGF0aW9uPC9kaXY+YClbMF07CiAgICAgICAgICAgIHBvcHVwXzNlNDVkNmE5MGQ3NzRhNmY4MWJmZTY1OTA1M2FkMDNkLnNldENvbnRlbnQoaHRtbF9hMzhkMjA0NWZlOWQ0YmMwYTVjZGQyZDljZjVjY2FmYyk7CiAgICAgICAgCgogICAgICAgIG1hcmtlcl82NzJmYWI3YzE5YjA0NDQ3YjZkY2MwOTM2MzE0Y2E0Ny5iaW5kUG9wdXAocG9wdXBfM2U0NWQ2YTkwZDc3NGE2ZjgxYmZlNjU5MDUzYWQwM2QpCiAgICAgICAgOwoKICAgICAgICAKICAgIAogICAgCiAgICAgICAgICAgIG1hcmtlcl82NzJmYWI3YzE5YjA0NDQ3YjZkY2MwOTM2MzE0Y2E0Ny5iaW5kVG9vbHRpcCgKICAgICAgICAgICAgICAgIGA8ZGl2PgogICAgICAgICAgICAgICAgICAgICBFWFBPIExpbmU6IEplZmZlcnNvbiAvIFVTQyBTdGF0aW9uCiAgICAgICAgICAgICAgICAgPC9kaXY+YCwKICAgICAgICAgICAgICAgIHsic3RpY2t5IjogdHJ1ZX0KICAgICAgICAgICAgKTsKICAgICAgICAKICAgIAogICAgICAgICAgICB2YXIgbWFya2VyXzY3ODlhYTc4NmU0NzQ0YjQ5NTY2NTVjY2MwODNlMTU4ID0gTC5tYXJrZXIoCiAgICAgICAgICAgICAgICBbMzQuMDE4MjI3LCAtMTE4LjI4NTczNF0sCiAgICAgICAgICAgICAgICB7fQogICAgICAgICAgICApLmFkZFRvKG1hcF9jNDljODNkZjA0Mzk0MGQ2YmJkNzQ0OWZlZjMzZTgxZik7CiAgICAgICAgCiAgICAKICAgICAgICAgICAgdmFyIGljb25fNmM1ODZiNjZiMGIyNGEyM2I1N2I4MzQ5Y2JhYmIyYjIgPSBMLkF3ZXNvbWVNYXJrZXJzLmljb24oCiAgICAgICAgICAgICAgICB7ImV4dHJhQ2xhc3NlcyI6ICJmYS1yb3RhdGUtMCIsICJpY29uIjogImluZm8tc2lnbiIsICJpY29uQ29sb3IiOiAid2hpdGUiLCAibWFya2VyQ29sb3IiOiAib3JhbmdlIiwgInByZWZpeCI6ICJnbHlwaGljb24ifQogICAgICAgICAgICApOwogICAgICAgICAgICBtYXJrZXJfNjc4OWFhNzg2ZTQ3NDRiNDk1NjY1NWNjYzA4M2UxNTguc2V0SWNvbihpY29uXzZjNTg2YjY2YjBiMjRhMjNiNTdiODM0OWNiYWJiMmIyKTsKICAgICAgICAKICAgIAogICAgICAgIHZhciBwb3B1cF82ZjczZmYyMTBkYjM0Yzg5ODJjZTNiZjczZDI1OGYwNyA9IEwucG9wdXAoeyJtYXhXaWR0aCI6ICIxMDAlIn0pOwoKICAgICAgICAKICAgICAgICAgICAgdmFyIGh0bWxfMWY0YmNmMDY4NjhjNGU5NDk5MGI0MTdmM2E3MDVjZDYgPSAkKGA8ZGl2IGlkPSJodG1sXzFmNGJjZjA2ODY4YzRlOTQ5OTBiNDE3ZjNhNzA1Y2Q2IiBzdHlsZT0id2lkdGg6IDEwMC4wJTsgaGVpZ2h0OiAxMDAuMCU7Ij5FeHBvIFBhcmsgLyBVU0MgU3RhdGlvbjwvZGl2PmApWzBdOwogICAgICAgICAgICBwb3B1cF82ZjczZmYyMTBkYjM0Yzg5ODJjZTNiZjczZDI1OGYwNy5zZXRDb250ZW50KGh0bWxfMWY0YmNmMDY4NjhjNGU5NDk5MGI0MTdmM2E3MDVjZDYpOwogICAgICAgIAoKICAgICAgICBtYXJrZXJfNjc4OWFhNzg2ZTQ3NDRiNDk1NjY1NWNjYzA4M2UxNTguYmluZFBvcHVwKHBvcHVwXzZmNzNmZjIxMGRiMzRjODk4MmNlM2JmNzNkMjU4ZjA3KQogICAgICAgIDsKCiAgICAgICAgCiAgICAKICAgIAogICAgICAgICAgICBtYXJrZXJfNjc4OWFhNzg2ZTQ3NDRiNDk1NjY1NWNjYzA4M2UxNTguYmluZFRvb2x0aXAoCiAgICAgICAgICAgICAgICBgPGRpdj4KICAgICAgICAgICAgICAgICAgICAgRVhQTyBMaW5lOiBFeHBvIFBhcmsgLyBVU0MgU3RhdGlvbgogICAgICAgICAgICAgICAgIDwvZGl2PmAsCiAgICAgICAgICAgICAgICB7InN0aWNreSI6IHRydWV9CiAgICAgICAgICAgICk7CiAgICAgICAgCiAgICAKICAgICAgICAgICAgdmFyIG1hcmtlcl81ZTRjMTNmMTlhOTg0YjlmYTQ1NmIyYjk3OTBlOWY4NCA9IEwubWFya2VyKAogICAgICAgICAgICAgICAgWzM0LjAxODI0NSwgLTExOC4yOTE1NF0sCiAgICAgICAgICAgICAgICB7fQogICAgICAgICAgICApLmFkZFRvKG1hcF9jNDljODNkZjA0Mzk0MGQ2YmJkNzQ0OWZlZjMzZTgxZik7CiAgICAgICAgCiAgICAKICAgICAgICAgICAgdmFyIGljb25fYWJjOWY0N2ViY2QyNDYwOTljNDU3MjY4YzNhNzUyNmIgPSBMLkF3ZXNvbWVNYXJrZXJzLmljb24oCiAgICAgICAgICAgICAgICB7ImV4dHJhQ2xhc3NlcyI6ICJmYS1yb3RhdGUtMCIsICJpY29uIjogImluZm8tc2lnbiIsICJpY29uQ29sb3IiOiAid2hpdGUiLCAibWFya2VyQ29sb3IiOiAib3JhbmdlIiwgInByZWZpeCI6ICJnbHlwaGljb24ifQogICAgICAgICAgICApOwogICAgICAgICAgICBtYXJrZXJfNWU0YzEzZjE5YTk4NGI5ZmE0NTZiMmI5NzkwZTlmODQuc2V0SWNvbihpY29uX2FiYzlmNDdlYmNkMjQ2MDk5YzQ1NzI2OGMzYTc1MjZiKTsKICAgICAgICAKICAgIAogICAgICAgIHZhciBwb3B1cF83ZWJmMTg5M2E4MmU0YmNiOGFjMGJiYjEyZGI2NzIwNyA9IEwucG9wdXAoeyJtYXhXaWR0aCI6ICIxMDAlIn0pOwoKICAgICAgICAKICAgICAgICAgICAgdmFyIGh0bWxfZDdhNDdjYzg1MTI0NDZmNjk3ZmY5MTlhMGFlZGRiMTggPSAkKGA8ZGl2IGlkPSJodG1sX2Q3YTQ3Y2M4NTEyNDQ2ZjY5N2ZmOTE5YTBhZWRkYjE4IiBzdHlsZT0id2lkdGg6IDEwMC4wJTsgaGVpZ2h0OiAxMDAuMCU7Ij5FeHBvIC8gVmVybW9udCBTdGF0aW9uPC9kaXY+YClbMF07CiAgICAgICAgICAgIHBvcHVwXzdlYmYxODkzYTgyZTRiY2I4YWMwYmJiMTJkYjY3MjA3LnNldENvbnRlbnQoaHRtbF9kN2E0N2NjODUxMjQ0NmY2OTdmZjkxOWEwYWVkZGIxOCk7CiAgICAgICAgCgogICAgICAgIG1hcmtlcl81ZTRjMTNmMTlhOTg0YjlmYTQ1NmIyYjk3OTBlOWY4NC5iaW5kUG9wdXAocG9wdXBfN2ViZjE4OTNhODJlNGJjYjhhYzBiYmIxMmRiNjcyMDcpCiAgICAgICAgOwoKICAgICAgICAKICAgIAogICAgCiAgICAgICAgICAgIG1hcmtlcl81ZTRjMTNmMTlhOTg0YjlmYTQ1NmIyYjk3OTBlOWY4NC5iaW5kVG9vbHRpcCgKICAgICAgICAgICAgICAgIGA8ZGl2PgogICAgICAgICAgICAgICAgICAgICBFWFBPIExpbmU6IEV4cG8gLyBWZXJtb250IFN0YXRpb24KICAgICAgICAgICAgICAgICA8L2Rpdj5gLAogICAgICAgICAgICAgICAgeyJzdGlja3kiOiB0cnVlfQogICAgICAgICAgICApOwogICAgICAgIAogICAgCiAgICAgICAgICAgIHZhciBtYXJrZXJfODI4MmY2N2MwM2M5NDdjMGFjNTc1MGMyMTAwNWVlZWIgPSBMLm1hcmtlcigKICAgICAgICAgICAgICAgIFszNC4wMTgzMzEsIC0xMTguMzA4OTFdLAogICAgICAgICAgICAgICAge30KICAgICAgICAgICAgKS5hZGRUbyhtYXBfYzQ5YzgzZGYwNDM5NDBkNmJiZDc0NDlmZWYzM2U4MWYpOwogICAgICAgIAogICAgCiAgICAgICAgICAgIHZhciBpY29uXzYwMTVmMTA1MDNmMDRiM2JiZjNjNDY5M2ZlYWFlODQzID0gTC5Bd2Vzb21lTWFya2Vycy5pY29uKAogICAgICAgICAgICAgICAgeyJleHRyYUNsYXNzZXMiOiAiZmEtcm90YXRlLTAiLCAiaWNvbiI6ICJpbmZvLXNpZ24iLCAiaWNvbkNvbG9yIjogIndoaXRlIiwgIm1hcmtlckNvbG9yIjogIm9yYW5nZSIsICJwcmVmaXgiOiAiZ2x5cGhpY29uIn0KICAgICAgICAgICAgKTsKICAgICAgICAgICAgbWFya2VyXzgyODJmNjdjMDNjOTQ3YzBhYzU3NTBjMjEwMDVlZWViLnNldEljb24oaWNvbl82MDE1ZjEwNTAzZjA0YjNiYmYzYzQ2OTNmZWFhZTg0Myk7CiAgICAgICAgCiAgICAKICAgICAgICB2YXIgcG9wdXBfNGRjZWUyY2JmMDMxNDk5ZmJlNTA2MTI5NTY5YTc1NWUgPSBMLnBvcHVwKHsibWF4V2lkdGgiOiAiMTAwJSJ9KTsKCiAgICAgICAgCiAgICAgICAgICAgIHZhciBodG1sXzA5NjUyMTk4ODVmMDQ2NDZhYTUxNGQzOTgyZTU2ZjUwID0gJChgPGRpdiBpZD0iaHRtbF8wOTY1MjE5ODg1ZjA0NjQ2YWE1MTRkMzk4MmU1NmY1MCIgc3R5bGU9IndpZHRoOiAxMDAuMCU7IGhlaWdodDogMTAwLjAlOyI+RXhwbyAvIFdlc3Rlcm4gU3RhdGlvbjwvZGl2PmApWzBdOwogICAgICAgICAgICBwb3B1cF80ZGNlZTJjYmYwMzE0OTlmYmU1MDYxMjk1NjlhNzU1ZS5zZXRDb250ZW50KGh0bWxfMDk2NTIxOTg4NWYwNDY0NmFhNTE0ZDM5ODJlNTZmNTApOwogICAgICAgIAoKICAgICAgICBtYXJrZXJfODI4MmY2N2MwM2M5NDdjMGFjNTc1MGMyMTAwNWVlZWIuYmluZFBvcHVwKHBvcHVwXzRkY2VlMmNiZjAzMTQ5OWZiZTUwNjEyOTU2OWE3NTVlKQogICAgICAgIDsKCiAgICAgICAgCiAgICAKICAgIAogICAgICAgICAgICBtYXJrZXJfODI4MmY2N2MwM2M5NDdjMGFjNTc1MGMyMTAwNWVlZWIuYmluZFRvb2x0aXAoCiAgICAgICAgICAgICAgICBgPGRpdj4KICAgICAgICAgICAgICAgICAgICAgRVhQTyBMaW5lOiBFeHBvIC8gV2VzdGVybiBTdGF0aW9uCiAgICAgICAgICAgICAgICAgPC9kaXY+YCwKICAgICAgICAgICAgICAgIHsic3RpY2t5IjogdHJ1ZX0KICAgICAgICAgICAgKTsKICAgICAgICAKICAgIAogICAgICAgICAgICB2YXIgbWFya2VyXzJiYzZmNTBiNGU4MDRhNmI5NGRiZmI4YzFiNTk5NWIwID0gTC5tYXJrZXIoCiAgICAgICAgICAgICAgICBbMzQuMDIyNTI2LCAtMTE4LjMzNTA3OF0sCiAgICAgICAgICAgICAgICB7fQogICAgICAgICAgICApLmFkZFRvKG1hcF9jNDljODNkZjA0Mzk0MGQ2YmJkNzQ0OWZlZjMzZTgxZik7CiAgICAgICAgCiAgICAKICAgICAgICAgICAgdmFyIGljb25fZDI5ZTVmNjkxNzIxNGJiNmI2NGU1MGUxMTMzMTQzYTMgPSBMLkF3ZXNvbWVNYXJrZXJzLmljb24oCiAgICAgICAgICAgICAgICB7ImV4dHJhQ2xhc3NlcyI6ICJmYS1yb3RhdGUtMCIsICJpY29uIjogImluZm8tc2lnbiIsICJpY29uQ29sb3IiOiAid2hpdGUiLCAibWFya2VyQ29sb3IiOiAib3JhbmdlIiwgInByZWZpeCI6ICJnbHlwaGljb24ifQogICAgICAgICAgICApOwogICAgICAgICAgICBtYXJrZXJfMmJjNmY1MGI0ZTgwNGE2Yjk0ZGJmYjhjMWI1OTk1YjAuc2V0SWNvbihpY29uX2QyOWU1ZjY5MTcyMTRiYjZiNjRlNTBlMTEzMzE0M2EzKTsKICAgICAgICAKICAgIAogICAgICAgIHZhciBwb3B1cF81YjgyZDQ3ZmM3NGE0YzE1YmE4NjY4NjM2MmJmZGE2MSA9IEwucG9wdXAoeyJtYXhXaWR0aCI6ICIxMDAlIn0pOwoKICAgICAgICAKICAgICAgICAgICAgdmFyIGh0bWxfODRkODVhYTI4OTAxNDRjM2I5MTIxZTg3NzlmZmVkNmEgPSAkKGA8ZGl2IGlkPSJodG1sXzg0ZDg1YWEyODkwMTQ0YzNiOTEyMWU4Nzc5ZmZlZDZhIiBzdHlsZT0id2lkdGg6IDEwMC4wJTsgaGVpZ2h0OiAxMDAuMCU7Ij5FeHBvIC8gQ3JlbnNoYXcgU3RhdGlvbjwvZGl2PmApWzBdOwogICAgICAgICAgICBwb3B1cF81YjgyZDQ3ZmM3NGE0YzE1YmE4NjY4NjM2MmJmZGE2MS5zZXRDb250ZW50KGh0bWxfODRkODVhYTI4OTAxNDRjM2I5MTIxZTg3NzlmZmVkNmEpOwogICAgICAgIAoKICAgICAgICBtYXJrZXJfMmJjNmY1MGI0ZTgwNGE2Yjk0ZGJmYjhjMWI1OTk1YjAuYmluZFBvcHVwKHBvcHVwXzViODJkNDdmYzc0YTRjMTViYTg2Njg2MzYyYmZkYTYxKQogICAgICAgIDsKCiAgICAgICAgCiAgICAKICAgIAogICAgICAgICAgICBtYXJrZXJfMmJjNmY1MGI0ZTgwNGE2Yjk0ZGJmYjhjMWI1OTk1YjAuYmluZFRvb2x0aXAoCiAgICAgICAgICAgICAgICBgPGRpdj4KICAgICAgICAgICAgICAgICAgICAgRVhQTyBMaW5lOiBFeHBvIC8gQ3JlbnNoYXcgU3RhdGlvbgogICAgICAgICAgICAgICAgIDwvZGl2PmAsCiAgICAgICAgICAgICAgICB7InN0aWNreSI6IHRydWV9CiAgICAgICAgICAgICk7CiAgICAgICAgCiAgICAKICAgICAgICAgICAgdmFyIG1hcmtlcl8zNjc3NDM3MTUwNzA0N2M5OWVmY2ExNzk4YTE5ZDE4OSA9IEwubWFya2VyKAogICAgICAgICAgICAgICAgWzM0LjAyMzk4MSwgLTExOC4zNDYwOTVdLAogICAgICAgICAgICAgICAge30KICAgICAgICAgICAgKS5hZGRUbyhtYXBfYzQ5YzgzZGYwNDM5NDBkNmJiZDc0NDlmZWYzM2U4MWYpOwogICAgICAgIAogICAgCiAgICAgICAgICAgIHZhciBpY29uX2ExMzgzMTIwNjU2ZDQzMDg4NjMwODI2NWY2MTQwOWViID0gTC5Bd2Vzb21lTWFya2Vycy5pY29uKAogICAgICAgICAgICAgICAgeyJleHRyYUNsYXNzZXMiOiAiZmEtcm90YXRlLTAiLCAiaWNvbiI6ICJpbmZvLXNpZ24iLCAiaWNvbkNvbG9yIjogIndoaXRlIiwgIm1hcmtlckNvbG9yIjogIm9yYW5nZSIsICJwcmVmaXgiOiAiZ2x5cGhpY29uIn0KICAgICAgICAgICAgKTsKICAgICAgICAgICAgbWFya2VyXzM2Nzc0MzcxNTA3MDQ3Yzk5ZWZjYTE3OThhMTlkMTg5LnNldEljb24oaWNvbl9hMTM4MzEyMDY1NmQ0MzA4ODYzMDgyNjVmNjE0MDllYik7CiAgICAgICAgCiAgICAKICAgICAgICB2YXIgcG9wdXBfMDM2OGQ1MGRlOWUyNGNiMzk2NjFjYWYzNmFlOTcwYWYgPSBMLnBvcHVwKHsibWF4V2lkdGgiOiAiMTAwJSJ9KTsKCiAgICAgICAgCiAgICAgICAgICAgIHZhciBodG1sXzk1M2RhMzdjZmU4NDRkM2ZhN2M3NDU4NGM3OTYzNGZiID0gJChgPGRpdiBpZD0iaHRtbF85NTNkYTM3Y2ZlODQ0ZDNmYTdjNzQ1ODRjNzk2MzRmYiIgc3R5bGU9IndpZHRoOiAxMDAuMCU7IGhlaWdodDogMTAwLjAlOyI+RmFybWRhbGUgU3RhdGlvbjwvZGl2PmApWzBdOwogICAgICAgICAgICBwb3B1cF8wMzY4ZDUwZGU5ZTI0Y2IzOTY2MWNhZjM2YWU5NzBhZi5zZXRDb250ZW50KGh0bWxfOTUzZGEzN2NmZTg0NGQzZmE3Yzc0NTg0Yzc5NjM0ZmIpOwogICAgICAgIAoKICAgICAgICBtYXJrZXJfMzY3NzQzNzE1MDcwNDdjOTllZmNhMTc5OGExOWQxODkuYmluZFBvcHVwKHBvcHVwXzAzNjhkNTBkZTllMjRjYjM5NjYxY2FmMzZhZTk3MGFmKQogICAgICAgIDsKCiAgICAgICAgCiAgICAKICAgIAogICAgICAgICAgICBtYXJrZXJfMzY3NzQzNzE1MDcwNDdjOTllZmNhMTc5OGExOWQxODkuYmluZFRvb2x0aXAoCiAgICAgICAgICAgICAgICBgPGRpdj4KICAgICAgICAgICAgICAgICAgICAgRVhQTyBMaW5lOiBGYXJtZGFsZSBTdGF0aW9uCiAgICAgICAgICAgICAgICAgPC9kaXY+YCwKICAgICAgICAgICAgICAgIHsic3RpY2t5IjogdHJ1ZX0KICAgICAgICAgICAgKTsKICAgICAgICAKICAgIAogICAgICAgICAgICB2YXIgbWFya2VyXzdkZWFhMDhlY2FiNjQ3MTdiNzYxZTkzODcyMzg5NmExID0gTC5tYXJrZXIoCiAgICAgICAgICAgICAgICBbMzQuMDI0ODAzLCAtMTE4LjM1NTE1OV0sCiAgICAgICAgICAgICAgICB7fQogICAgICAgICAgICApLmFkZFRvKG1hcF9jNDljODNkZjA0Mzk0MGQ2YmJkNzQ0OWZlZjMzZTgxZik7CiAgICAgICAgCiAgICAKICAgICAgICAgICAgdmFyIGljb25fOTk2NzEyZTA0ZjM1NGYyZWIxMGVkZDgwNmNlZjQ3MjEgPSBMLkF3ZXNvbWVNYXJrZXJzLmljb24oCiAgICAgICAgICAgICAgICB7ImV4dHJhQ2xhc3NlcyI6ICJmYS1yb3RhdGUtMCIsICJpY29uIjogImluZm8tc2lnbiIsICJpY29uQ29sb3IiOiAid2hpdGUiLCAibWFya2VyQ29sb3IiOiAib3JhbmdlIiwgInByZWZpeCI6ICJnbHlwaGljb24ifQogICAgICAgICAgICApOwogICAgICAgICAgICBtYXJrZXJfN2RlYWEwOGVjYWI2NDcxN2I3NjFlOTM4NzIzODk2YTEuc2V0SWNvbihpY29uXzk5NjcxMmUwNGYzNTRmMmViMTBlZGQ4MDZjZWY0NzIxKTsKICAgICAgICAKICAgIAogICAgICAgIHZhciBwb3B1cF85NjdlNWRiOTBjY2Y0ODk2YTQ3ZTdjY2Q1OGIwYmI0MSA9IEwucG9wdXAoeyJtYXhXaWR0aCI6ICIxMDAlIn0pOwoKICAgICAgICAKICAgICAgICAgICAgdmFyIGh0bWxfZDM2ZDc1ZDMyYjY3NGM1M2EyNGQyMTFhOGNjYzYyYTggPSAkKGA8ZGl2IGlkPSJodG1sX2QzNmQ3NWQzMmI2NzRjNTNhMjRkMjExYThjY2M2MmE4IiBzdHlsZT0id2lkdGg6IDEwMC4wJTsgaGVpZ2h0OiAxMDAuMCU7Ij5FeHBvIC8gTGEgQnJlYSAvIEV0aGVsIEJyYWRsZXkgU3RhdGlvbjwvZGl2PmApWzBdOwogICAgICAgICAgICBwb3B1cF85NjdlNWRiOTBjY2Y0ODk2YTQ3ZTdjY2Q1OGIwYmI0MS5zZXRDb250ZW50KGh0bWxfZDM2ZDc1ZDMyYjY3NGM1M2EyNGQyMTFhOGNjYzYyYTgpOwogICAgICAgIAoKICAgICAgICBtYXJrZXJfN2RlYWEwOGVjYWI2NDcxN2I3NjFlOTM4NzIzODk2YTEuYmluZFBvcHVwKHBvcHVwXzk2N2U1ZGI5MGNjZjQ4OTZhNDdlN2NjZDU4YjBiYjQxKQogICAgICAgIDsKCiAgICAgICAgCiAgICAKICAgIAogICAgICAgICAgICBtYXJrZXJfN2RlYWEwOGVjYWI2NDcxN2I3NjFlOTM4NzIzODk2YTEuYmluZFRvb2x0aXAoCiAgICAgICAgICAgICAgICBgPGRpdj4KICAgICAgICAgICAgICAgICAgICAgRVhQTyBMaW5lOiBFeHBvIC8gTGEgQnJlYSAvIEV0aGVsIEJyYWRsZXkgU3RhdGlvbgogICAgICAgICAgICAgICAgIDwvZGl2PmAsCiAgICAgICAgICAgICAgICB7InN0aWNreSI6IHRydWV9CiAgICAgICAgICAgICk7CiAgICAgICAgCiAgICAKICAgICAgICAgICAgdmFyIG1hcmtlcl83Y2RlMTExMmJlMTg0MTc2OWE2Yzk1ODA4MDc2YzE5YSA9IEwubWFya2VyKAogICAgICAgICAgICAgICAgWzM0LjAyNjM1NSwgLTExOC4zNzIxMl0sCiAgICAgICAgICAgICAgICB7fQogICAgICAgICAgICApLmFkZFRvKG1hcF9jNDljODNkZjA0Mzk0MGQ2YmJkNzQ0OWZlZjMzZTgxZik7CiAgICAgICAgCiAgICAKICAgICAgICAgICAgdmFyIGljb25fNTI2ODdjNmYwZWJjNGEyZWE0NTFiY2E0NTlmYTVhOGQgPSBMLkF3ZXNvbWVNYXJrZXJzLmljb24oCiAgICAgICAgICAgICAgICB7ImV4dHJhQ2xhc3NlcyI6ICJmYS1yb3RhdGUtMCIsICJpY29uIjogImluZm8tc2lnbiIsICJpY29uQ29sb3IiOiAid2hpdGUiLCAibWFya2VyQ29sb3IiOiAib3JhbmdlIiwgInByZWZpeCI6ICJnbHlwaGljb24ifQogICAgICAgICAgICApOwogICAgICAgICAgICBtYXJrZXJfN2NkZTExMTJiZTE4NDE3NjlhNmM5NTgwODA3NmMxOWEuc2V0SWNvbihpY29uXzUyNjg3YzZmMGViYzRhMmVhNDUxYmNhNDU5ZmE1YThkKTsKICAgICAgICAKICAgIAogICAgICAgIHZhciBwb3B1cF8xNTJhNzc4NzhkMzU0NDQ1OTFkZWU0ZDEwYjVhM2I1MyA9IEwucG9wdXAoeyJtYXhXaWR0aCI6ICIxMDAlIn0pOwoKICAgICAgICAKICAgICAgICAgICAgdmFyIGh0bWxfYmI0ZWE0M2JiNTI4NGNmNWFkYjRjNmJhN2IxZDNhNGMgPSAkKGA8ZGl2IGlkPSJodG1sX2JiNGVhNDNiYjUyODRjZjVhZGI0YzZiYTdiMWQzYTRjIiBzdHlsZT0id2lkdGg6IDEwMC4wJTsgaGVpZ2h0OiAxMDAuMCU7Ij5MYSBDaWVuZWdhIC8gSmVmZmVyc29uIFN0YXRpb248L2Rpdj5gKVswXTsKICAgICAgICAgICAgcG9wdXBfMTUyYTc3ODc4ZDM1NDQ0NTkxZGVlNGQxMGI1YTNiNTMuc2V0Q29udGVudChodG1sX2JiNGVhNDNiYjUyODRjZjVhZGI0YzZiYTdiMWQzYTRjKTsKICAgICAgICAKCiAgICAgICAgbWFya2VyXzdjZGUxMTEyYmUxODQxNzY5YTZjOTU4MDgwNzZjMTlhLmJpbmRQb3B1cChwb3B1cF8xNTJhNzc4NzhkMzU0NDQ1OTFkZWU0ZDEwYjVhM2I1MykKICAgICAgICA7CgogICAgICAgIAogICAgCiAgICAKICAgICAgICAgICAgbWFya2VyXzdjZGUxMTEyYmUxODQxNzY5YTZjOTU4MDgwNzZjMTlhLmJpbmRUb29sdGlwKAogICAgICAgICAgICAgICAgYDxkaXY+CiAgICAgICAgICAgICAgICAgICAgIEVYUE8gTGluZTogTGEgQ2llbmVnYSAvIEplZmZlcnNvbiBTdGF0aW9uCiAgICAgICAgICAgICAgICAgPC9kaXY+YCwKICAgICAgICAgICAgICAgIHsic3RpY2t5IjogdHJ1ZX0KICAgICAgICAgICAgKTsKICAgICAgICAKICAgIAogICAgICAgICAgICB2YXIgbWFya2VyX2Y2OWQxOWE4YTZmMjRlZGFiNGJhNWIzMTYzZTlkNWViID0gTC5tYXJrZXIoCiAgICAgICAgICAgICAgICBbMzQuMDI3ODk2LCAtMTE4LjM4ODk4Nl0sCiAgICAgICAgICAgICAgICB7fQogICAgICAgICAgICApLmFkZFRvKG1hcF9jNDljODNkZjA0Mzk0MGQ2YmJkNzQ0OWZlZjMzZTgxZik7CiAgICAgICAgCiAgICAKICAgICAgICAgICAgdmFyIGljb25fZDg0MWVlZDgxNTg5NDBkN2IxNDc0ZGYzZGQ4ZGMzNTkgPSBMLkF3ZXNvbWVNYXJrZXJzLmljb24oCiAgICAgICAgICAgICAgICB7ImV4dHJhQ2xhc3NlcyI6ICJmYS1yb3RhdGUtMCIsICJpY29uIjogImluZm8tc2lnbiIsICJpY29uQ29sb3IiOiAid2hpdGUiLCAibWFya2VyQ29sb3IiOiAib3JhbmdlIiwgInByZWZpeCI6ICJnbHlwaGljb24ifQogICAgICAgICAgICApOwogICAgICAgICAgICBtYXJrZXJfZjY5ZDE5YThhNmYyNGVkYWI0YmE1YjMxNjNlOWQ1ZWIuc2V0SWNvbihpY29uX2Q4NDFlZWQ4MTU4OTQwZDdiMTQ3NGRmM2RkOGRjMzU5KTsKICAgICAgICAKICAgIAogICAgICAgIHZhciBwb3B1cF84MmJiNjc0MWE0ZGY0MTUwOTNjMWU0ZmM1NmEwYjBiZiA9IEwucG9wdXAoeyJtYXhXaWR0aCI6ICIxMDAlIn0pOwoKICAgICAgICAKICAgICAgICAgICAgdmFyIGh0bWxfNDY3ODMwNzBhYWU5NGQ5ZTlkYzcyMzhjNzcwOTk0YmMgPSAkKGA8ZGl2IGlkPSJodG1sXzQ2NzgzMDcwYWFlOTRkOWU5ZGM3MjM4Yzc3MDk5NGJjIiBzdHlsZT0id2lkdGg6IDEwMC4wJTsgaGVpZ2h0OiAxMDAuMCU7Ij5DdWx2ZXIgQ2l0eSBTdGF0aW9uPC9kaXY+YClbMF07CiAgICAgICAgICAgIHBvcHVwXzgyYmI2NzQxYTRkZjQxNTA5M2MxZTRmYzU2YTBiMGJmLnNldENvbnRlbnQoaHRtbF80Njc4MzA3MGFhZTk0ZDllOWRjNzIzOGM3NzA5OTRiYyk7CiAgICAgICAgCgogICAgICAgIG1hcmtlcl9mNjlkMTlhOGE2ZjI0ZWRhYjRiYTViMzE2M2U5ZDVlYi5iaW5kUG9wdXAocG9wdXBfODJiYjY3NDFhNGRmNDE1MDkzYzFlNGZjNTZhMGIwYmYpCiAgICAgICAgOwoKICAgICAgICAKICAgIAogICAgCiAgICAgICAgICAgIG1hcmtlcl9mNjlkMTlhOGE2ZjI0ZWRhYjRiYTViMzE2M2U5ZDVlYi5iaW5kVG9vbHRpcCgKICAgICAgICAgICAgICAgIGA8ZGl2PgogICAgICAgICAgICAgICAgICAgICBFWFBPIExpbmU6IEN1bHZlciBDaXR5IFN0YXRpb24KICAgICAgICAgICAgICAgICA8L2Rpdj5gLAogICAgICAgICAgICAgICAgeyJzdGlja3kiOiB0cnVlfQogICAgICAgICAgICApOwogICAgICAgIAogICAgCiAgICAgICAgICAgIHZhciBtYXJrZXJfYTM5ZjlkNGY0NjgzNGM4ZjlhNjA2ZGQyYzBiMDJiY2YgPSBMLm1hcmtlcigKICAgICAgICAgICAgICAgIFszMy43Njg3NCwgLTExOC4xODkzNjJdLAogICAgICAgICAgICAgICAge30KICAgICAgICAgICAgKS5hZGRUbyhtYXBfYzQ5YzgzZGYwNDM5NDBkNmJiZDc0NDlmZWYzM2U4MWYpOwogICAgICAgIAogICAgCiAgICAgICAgICAgIHZhciBpY29uX2EzMjAyYWVhZDg0MTQ4ZmI5MzM4ZmZjMzJiOTE4ZGMxID0gTC5Bd2Vzb21lTWFya2Vycy5pY29uKAogICAgICAgICAgICAgICAgeyJleHRyYUNsYXNzZXMiOiAiZmEtcm90YXRlLTAiLCAiaWNvbiI6ICJpbmZvLXNpZ24iLCAiaWNvbkNvbG9yIjogIndoaXRlIiwgIm1hcmtlckNvbG9yIjogImJsdWUiLCAicHJlZml4IjogImdseXBoaWNvbiJ9CiAgICAgICAgICAgICk7CiAgICAgICAgICAgIG1hcmtlcl9hMzlmOWQ0ZjQ2ODM0YzhmOWE2MDZkZDJjMGIwMmJjZi5zZXRJY29uKGljb25fYTMyMDJhZWFkODQxNDhmYjkzMzhmZmMzMmI5MThkYzEpOwogICAgICAgIAogICAgCiAgICAgICAgdmFyIHBvcHVwX2ZmNzA3MTgxYTYzYzQ5NDk4YjY0MWE3NTYyMjljOTAwID0gTC5wb3B1cCh7Im1heFdpZHRoIjogIjEwMCUifSk7CgogICAgICAgIAogICAgICAgICAgICB2YXIgaHRtbF9lYzA3ZTdiOWM2NjE0MWM3YjU0NTRiMzNlOTIxMGRhMiA9ICQoYDxkaXYgaWQ9Imh0bWxfZWMwN2U3YjljNjYxNDFjN2I1NDU0YjMzZTkyMTBkYTIiIHN0eWxlPSJ3aWR0aDogMTAwLjAlOyBoZWlnaHQ6IDEwMC4wJTsiPjFzdCBTdHJlZXQgU3RhdGlvbjwvZGl2PmApWzBdOwogICAgICAgICAgICBwb3B1cF9mZjcwNzE4MWE2M2M0OTQ5OGI2NDFhNzU2MjI5YzkwMC5zZXRDb250ZW50KGh0bWxfZWMwN2U3YjljNjYxNDFjN2I1NDU0YjMzZTkyMTBkYTIpOwogICAgICAgIAoKICAgICAgICBtYXJrZXJfYTM5ZjlkNGY0NjgzNGM4ZjlhNjA2ZGQyYzBiMDJiY2YuYmluZFBvcHVwKHBvcHVwX2ZmNzA3MTgxYTYzYzQ5NDk4YjY0MWE3NTYyMjljOTAwKQogICAgICAgIDsKCiAgICAgICAgCiAgICAKICAgIAogICAgICAgICAgICBtYXJrZXJfYTM5ZjlkNGY0NjgzNGM4ZjlhNjA2ZGQyYzBiMDJiY2YuYmluZFRvb2x0aXAoCiAgICAgICAgICAgICAgICBgPGRpdj4KICAgICAgICAgICAgICAgICAgICAgQmx1ZSBMaW5lOiAxc3QgU3RyZWV0IFN0YXRpb24KICAgICAgICAgICAgICAgICA8L2Rpdj5gLAogICAgICAgICAgICAgICAgeyJzdGlja3kiOiB0cnVlfQogICAgICAgICAgICApOwogICAgICAgIAogICAgCiAgICAgICAgICAgIHZhciBtYXJrZXJfMTFlM2M3MDA3YWUzNGI5NjhmZjA0ZTZkNzBkNzUzYzEgPSBMLm1hcmtlcigKICAgICAgICAgICAgICAgIFszMy43NzM1OTgsIC0xMTguMTg5NDEyXSwKICAgICAgICAgICAgICAgIHt9CiAgICAgICAgICAgICkuYWRkVG8obWFwX2M0OWM4M2RmMDQzOTQwZDZiYmQ3NDQ5ZmVmMzNlODFmKTsKICAgICAgICAKICAgIAogICAgICAgICAgICB2YXIgaWNvbl8zNTI4N2QxMzIwYjA0N2VlOGU4M2Y5MDE5OWZiNWFiNyA9IEwuQXdlc29tZU1hcmtlcnMuaWNvbigKICAgICAgICAgICAgICAgIHsiZXh0cmFDbGFzc2VzIjogImZhLXJvdGF0ZS0wIiwgImljb24iOiAiaW5mby1zaWduIiwgImljb25Db2xvciI6ICJ3aGl0ZSIsICJtYXJrZXJDb2xvciI6ICJibHVlIiwgInByZWZpeCI6ICJnbHlwaGljb24ifQogICAgICAgICAgICApOwogICAgICAgICAgICBtYXJrZXJfMTFlM2M3MDA3YWUzNGI5NjhmZjA0ZTZkNzBkNzUzYzEuc2V0SWNvbihpY29uXzM1Mjg3ZDEzMjBiMDQ3ZWU4ZTgzZjkwMTk5ZmI1YWI3KTsKICAgICAgICAKICAgIAogICAgICAgIHZhciBwb3B1cF8yNGU4ZmQ4ZmFmZTI0NmExOGExNTljNDAzMjA1YjFmMyA9IEwucG9wdXAoeyJtYXhXaWR0aCI6ICIxMDAlIn0pOwoKICAgICAgICAKICAgICAgICAgICAgdmFyIGh0bWxfZjEyY2MyMGY1YjViNDIxNWJiNDI2ZGYzMDEzZmRiYWUgPSAkKGA8ZGl2IGlkPSJodG1sX2YxMmNjMjBmNWI1YjQyMTViYjQyNmRmMzAxM2ZkYmFlIiBzdHlsZT0id2lkdGg6IDEwMC4wJTsgaGVpZ2h0OiAxMDAuMCU7Ij41dGggU3RyZWV0IFN0YXRpb248L2Rpdj5gKVswXTsKICAgICAgICAgICAgcG9wdXBfMjRlOGZkOGZhZmUyNDZhMThhMTU5YzQwMzIwNWIxZjMuc2V0Q29udGVudChodG1sX2YxMmNjMjBmNWI1YjQyMTViYjQyNmRmMzAxM2ZkYmFlKTsKICAgICAgICAKCiAgICAgICAgbWFya2VyXzExZTNjNzAwN2FlMzRiOTY4ZmYwNGU2ZDcwZDc1M2MxLmJpbmRQb3B1cChwb3B1cF8yNGU4ZmQ4ZmFmZTI0NmExOGExNTljNDAzMjA1YjFmMykKICAgICAgICA7CgogICAgICAgIAogICAgCiAgICAKICAgICAgICAgICAgbWFya2VyXzExZTNjNzAwN2FlMzRiOTY4ZmYwNGU2ZDcwZDc1M2MxLmJpbmRUb29sdGlwKAogICAgICAgICAgICAgICAgYDxkaXY+CiAgICAgICAgICAgICAgICAgICAgIEJsdWUgTGluZTogNXRoIFN0cmVldCBTdGF0aW9uCiAgICAgICAgICAgICAgICAgPC9kaXY+YCwKICAgICAgICAgICAgICAgIHsic3RpY2t5IjogdHJ1ZX0KICAgICAgICAgICAgKTsKICAgICAgICAKICAgIAogICAgICAgICAgICB2YXIgbWFya2VyXzg3YjM5NTI2NWJhZTRiNTg5YmQ4MGFhMDA1N2YwMmQzID0gTC5tYXJrZXIoCiAgICAgICAgICAgICAgICBbMzQuMTY4NTA0LCAtMTE4LjM3NjgwOF0sCiAgICAgICAgICAgICAgICB7fQogICAgICAgICAgICApLmFkZFRvKG1hcF9jNDljODNkZjA0Mzk0MGQ2YmJkNzQ0OWZlZjMzZTgxZik7CiAgICAgICAgCiAgICAKICAgICAgICAgICAgdmFyIGljb25fYzg0NWZmYzkyNWE5NDAyYzgxZTVkM2M0M2RhM2FjMjEgPSBMLkF3ZXNvbWVNYXJrZXJzLmljb24oCiAgICAgICAgICAgICAgICB7ImV4dHJhQ2xhc3NlcyI6ICJmYS1yb3RhdGUtMCIsICJpY29uIjogImluZm8tc2lnbiIsICJpY29uQ29sb3IiOiAid2hpdGUiLCAibWFya2VyQ29sb3IiOiAicmVkIiwgInByZWZpeCI6ICJnbHlwaGljb24ifQogICAgICAgICAgICApOwogICAgICAgICAgICBtYXJrZXJfODdiMzk1MjY1YmFlNGI1ODliZDgwYWEwMDU3ZjAyZDMuc2V0SWNvbihpY29uX2M4NDVmZmM5MjVhOTQwMmM4MWU1ZDNjNDNkYTNhYzIxKTsKICAgICAgICAKICAgIAogICAgICAgIHZhciBwb3B1cF83YTFlMzk2YjNlMzg0NTIyYjY2ODQ1MDU2ZTE1YjhlOSA9IEwucG9wdXAoeyJtYXhXaWR0aCI6ICIxMDAlIn0pOwoKICAgICAgICAKICAgICAgICAgICAgdmFyIGh0bWxfYTVkZDhlMjRjN2JkNGQ1M2I3YTc0Nzk5NmRmZDk0ZTcgPSAkKGA8ZGl2IGlkPSJodG1sX2E1ZGQ4ZTI0YzdiZDRkNTNiN2E3NDc5OTZkZmQ5NGU3IiBzdHlsZT0id2lkdGg6IDEwMC4wJTsgaGVpZ2h0OiAxMDAuMCU7Ij5Ob3J0aCBIb2xseXdvb2QgU3RhdGlvbjwvZGl2PmApWzBdOwogICAgICAgICAgICBwb3B1cF83YTFlMzk2YjNlMzg0NTIyYjY2ODQ1MDU2ZTE1YjhlOS5zZXRDb250ZW50KGh0bWxfYTVkZDhlMjRjN2JkNGQ1M2I3YTc0Nzk5NmRmZDk0ZTcpOwogICAgICAgIAoKICAgICAgICBtYXJrZXJfODdiMzk1MjY1YmFlNGI1ODliZDgwYWEwMDU3ZjAyZDMuYmluZFBvcHVwKHBvcHVwXzdhMWUzOTZiM2UzODQ1MjJiNjY4NDUwNTZlMTViOGU5KQogICAgICAgIDsKCiAgICAgICAgCiAgICAKICAgIAogICAgICAgICAgICBtYXJrZXJfODdiMzk1MjY1YmFlNGI1ODliZDgwYWEwMDU3ZjAyZDMuYmluZFRvb2x0aXAoCiAgICAgICAgICAgICAgICBgPGRpdj4KICAgICAgICAgICAgICAgICAgICAgUmVkIExpbmU6IE5vcnRoIEhvbGx5d29vZCBTdGF0aW9uCiAgICAgICAgICAgICAgICAgPC9kaXY+YCwKICAgICAgICAgICAgICAgIHsic3RpY2t5IjogdHJ1ZX0KICAgICAgICAgICAgKTsKICAgICAgICAKICAgIAogICAgICAgICAgICB2YXIgbWFya2VyXzVlY2JlNjNjZmIwMDQyNDViMmJiZDlhODk0MzY1N2Q3ID0gTC5tYXJrZXIoCiAgICAgICAgICAgICAgICBbMzQuMTQwMDAyLCAtMTE4LjM2MjY5OV0sCiAgICAgICAgICAgICAgICB7fQogICAgICAgICAgICApLmFkZFRvKG1hcF9jNDljODNkZjA0Mzk0MGQ2YmJkNzQ0OWZlZjMzZTgxZik7CiAgICAgICAgCiAgICAKICAgICAgICAgICAgdmFyIGljb25fNTU2ODRlZGExZjM3NGY5NGEyNTdjODZjNDYxZDdmOTUgPSBMLkF3ZXNvbWVNYXJrZXJzLmljb24oCiAgICAgICAgICAgICAgICB7ImV4dHJhQ2xhc3NlcyI6ICJmYS1yb3RhdGUtMCIsICJpY29uIjogImluZm8tc2lnbiIsICJpY29uQ29sb3IiOiAid2hpdGUiLCAibWFya2VyQ29sb3IiOiAicmVkIiwgInByZWZpeCI6ICJnbHlwaGljb24ifQogICAgICAgICAgICApOwogICAgICAgICAgICBtYXJrZXJfNWVjYmU2M2NmYjAwNDI0NWIyYmJkOWE4OTQzNjU3ZDcuc2V0SWNvbihpY29uXzU1Njg0ZWRhMWYzNzRmOTRhMjU3Yzg2YzQ2MWQ3Zjk1KTsKICAgICAgICAKICAgIAogICAgICAgIHZhciBwb3B1cF8zYmYzMWVhNDlmNjE0MGU5OGNkMDkyOTU1ODA0OWI5NyA9IEwucG9wdXAoeyJtYXhXaWR0aCI6ICIxMDAlIn0pOwoKICAgICAgICAKICAgICAgICAgICAgdmFyIGh0bWxfNTQyMDZlYzkxNGQ0NDkzNzlkODQ3YmZjYTNhOTM1M2YgPSAkKGA8ZGl2IGlkPSJodG1sXzU0MjA2ZWM5MTRkNDQ5Mzc5ZDg0N2JmY2EzYTkzNTNmIiBzdHlsZT0id2lkdGg6IDEwMC4wJTsgaGVpZ2h0OiAxMDAuMCU7Ij5Vbml2ZXJzYWwgLyBTdHVkaW8gQ2l0eSBTdGF0aW9uPC9kaXY+YClbMF07CiAgICAgICAgICAgIHBvcHVwXzNiZjMxZWE0OWY2MTQwZTk4Y2QwOTI5NTU4MDQ5Yjk3LnNldENvbnRlbnQoaHRtbF81NDIwNmVjOTE0ZDQ0OTM3OWQ4NDdiZmNhM2E5MzUzZik7CiAgICAgICAgCgogICAgICAgIG1hcmtlcl81ZWNiZTYzY2ZiMDA0MjQ1YjJiYmQ5YTg5NDM2NTdkNy5iaW5kUG9wdXAocG9wdXBfM2JmMzFlYTQ5ZjYxNDBlOThjZDA5Mjk1NTgwNDliOTcpCiAgICAgICAgOwoKICAgICAgICAKICAgIAogICAgCiAgICAgICAgICAgIG1hcmtlcl81ZWNiZTYzY2ZiMDA0MjQ1YjJiYmQ5YTg5NDM2NTdkNy5iaW5kVG9vbHRpcCgKICAgICAgICAgICAgICAgIGA8ZGl2PgogICAgICAgICAgICAgICAgICAgICBSZWQgTGluZTogVW5pdmVyc2FsIC8gU3R1ZGlvIENpdHkgU3RhdGlvbgogICAgICAgICAgICAgICAgIDwvZGl2PmAsCiAgICAgICAgICAgICAgICB7InN0aWNreSI6IHRydWV9CiAgICAgICAgICAgICk7CiAgICAgICAgCiAgICAKICAgICAgICAgICAgdmFyIG1hcmtlcl81YTdlMjBlZDM0YjY0MzU2OTM5ZTg0YjQ4ODAxZGM0NCA9IEwubWFya2VyKAogICAgICAgICAgICAgICAgWzM0LjEwMTU0NywgLTExOC4zMzg1NDldLAogICAgICAgICAgICAgICAge30KICAgICAgICAgICAgKS5hZGRUbyhtYXBfYzQ5YzgzZGYwNDM5NDBkNmJiZDc0NDlmZWYzM2U4MWYpOwogICAgICAgIAogICAgCiAgICAgICAgICAgIHZhciBpY29uX2I3YzA1MjY3ZGE5YzQ3MWZiNmE4NDZiMDBjNWJhY2E5ID0gTC5Bd2Vzb21lTWFya2Vycy5pY29uKAogICAgICAgICAgICAgICAgeyJleHRyYUNsYXNzZXMiOiAiZmEtcm90YXRlLTAiLCAiaWNvbiI6ICJpbmZvLXNpZ24iLCAiaWNvbkNvbG9yIjogIndoaXRlIiwgIm1hcmtlckNvbG9yIjogInJlZCIsICJwcmVmaXgiOiAiZ2x5cGhpY29uIn0KICAgICAgICAgICAgKTsKICAgICAgICAgICAgbWFya2VyXzVhN2UyMGVkMzRiNjQzNTY5MzllODRiNDg4MDFkYzQ0LnNldEljb24oaWNvbl9iN2MwNTI2N2RhOWM0NzFmYjZhODQ2YjAwYzViYWNhOSk7CiAgICAgICAgCiAgICAKICAgICAgICB2YXIgcG9wdXBfMWFkMTRkOWM3M2Y5NDc0MjgxOTU4Nzk2ZWYxMDcwZDIgPSBMLnBvcHVwKHsibWF4V2lkdGgiOiAiMTAwJSJ9KTsKCiAgICAgICAgCiAgICAgICAgICAgIHZhciBodG1sX2RkYWVlNGQyNzdjNDRhYWFiMjRhNDI1Nzc0MGZhN2Q5ID0gJChgPGRpdiBpZD0iaHRtbF9kZGFlZTRkMjc3YzQ0YWFhYjI0YTQyNTc3NDBmYTdkOSIgc3R5bGU9IndpZHRoOiAxMDAuMCU7IGhlaWdodDogMTAwLjAlOyI+SG9sbHl3b29kIC8gSGlnaGxhbmQgU3RhdGlvbjwvZGl2PmApWzBdOwogICAgICAgICAgICBwb3B1cF8xYWQxNGQ5YzczZjk0NzQyODE5NTg3OTZlZjEwNzBkMi5zZXRDb250ZW50KGh0bWxfZGRhZWU0ZDI3N2M0NGFhYWIyNGE0MjU3NzQwZmE3ZDkpOwogICAgICAgIAoKICAgICAgICBtYXJrZXJfNWE3ZTIwZWQzNGI2NDM1NjkzOWU4NGI0ODgwMWRjNDQuYmluZFBvcHVwKHBvcHVwXzFhZDE0ZDljNzNmOTQ3NDI4MTk1ODc5NmVmMTA3MGQyKQogICAgICAgIDsKCiAgICAgICAgCiAgICAKICAgIAogICAgICAgICAgICBtYXJrZXJfNWE3ZTIwZWQzNGI2NDM1NjkzOWU4NGI0ODgwMWRjNDQuYmluZFRvb2x0aXAoCiAgICAgICAgICAgICAgICBgPGRpdj4KICAgICAgICAgICAgICAgICAgICAgUmVkIExpbmU6IEhvbGx5d29vZCAvIEhpZ2hsYW5kIFN0YXRpb24KICAgICAgICAgICAgICAgICA8L2Rpdj5gLAogICAgICAgICAgICAgICAgeyJzdGlja3kiOiB0cnVlfQogICAgICAgICAgICApOwogICAgICAgIAogICAgCiAgICAgICAgICAgIHZhciBtYXJrZXJfOWZmNWExMjdmODAyNDAwYmE0ZDUzMGNhMWUzMTYzZTggPSBMLm1hcmtlcigKICAgICAgICAgICAgICAgIFszNC4xMDE2MywgLTExOC4zMjUxOF0sCiAgICAgICAgICAgICAgICB7fQogICAgICAgICAgICApLmFkZFRvKG1hcF9jNDljODNkZjA0Mzk0MGQ2YmJkNzQ0OWZlZjMzZTgxZik7CiAgICAgICAgCiAgICAKICAgICAgICAgICAgdmFyIGljb25fODQyNDdjMjEyOThlNDVmZDgxMmZjZWEyYzcxOTEwM2EgPSBMLkF3ZXNvbWVNYXJrZXJzLmljb24oCiAgICAgICAgICAgICAgICB7ImV4dHJhQ2xhc3NlcyI6ICJmYS1yb3RhdGUtMCIsICJpY29uIjogImluZm8tc2lnbiIsICJpY29uQ29sb3IiOiAid2hpdGUiLCAibWFya2VyQ29sb3IiOiAicmVkIiwgInByZWZpeCI6ICJnbHlwaGljb24ifQogICAgICAgICAgICApOwogICAgICAgICAgICBtYXJrZXJfOWZmNWExMjdmODAyNDAwYmE0ZDUzMGNhMWUzMTYzZTguc2V0SWNvbihpY29uXzg0MjQ3YzIxMjk4ZTQ1ZmQ4MTJmY2VhMmM3MTkxMDNhKTsKICAgICAgICAKICAgIAogICAgICAgIHZhciBwb3B1cF83N2MwMmU5ZDhkZGE0ZWI0YjNlZWE5MzI2ZTA1OTM4NCA9IEwucG9wdXAoeyJtYXhXaWR0aCI6ICIxMDAlIn0pOwoKICAgICAgICAKICAgICAgICAgICAgdmFyIGh0bWxfYTNjMjNjZTZlYmQ4NGEyMTljZWQ5ZDhhNWEzYmYxNzUgPSAkKGA8ZGl2IGlkPSJodG1sX2EzYzIzY2U2ZWJkODRhMjE5Y2VkOWQ4YTVhM2JmMTc1IiBzdHlsZT0id2lkdGg6IDEwMC4wJTsgaGVpZ2h0OiAxMDAuMCU7Ij5Ib2xseXdvb2QgLyBWaW5lIFN0YXRpb248L2Rpdj5gKVswXTsKICAgICAgICAgICAgcG9wdXBfNzdjMDJlOWQ4ZGRhNGViNGIzZWVhOTMyNmUwNTkzODQuc2V0Q29udGVudChodG1sX2EzYzIzY2U2ZWJkODRhMjE5Y2VkOWQ4YTVhM2JmMTc1KTsKICAgICAgICAKCiAgICAgICAgbWFya2VyXzlmZjVhMTI3ZjgwMjQwMGJhNGQ1MzBjYTFlMzE2M2U4LmJpbmRQb3B1cChwb3B1cF83N2MwMmU5ZDhkZGE0ZWI0YjNlZWE5MzI2ZTA1OTM4NCkKICAgICAgICA7CgogICAgICAgIAogICAgCiAgICAKICAgICAgICAgICAgbWFya2VyXzlmZjVhMTI3ZjgwMjQwMGJhNGQ1MzBjYTFlMzE2M2U4LmJpbmRUb29sdGlwKAogICAgICAgICAgICAgICAgYDxkaXY+CiAgICAgICAgICAgICAgICAgICAgIFJlZCBMaW5lOiBIb2xseXdvb2QgLyBWaW5lIFN0YXRpb24KICAgICAgICAgICAgICAgICA8L2Rpdj5gLAogICAgICAgICAgICAgICAgeyJzdGlja3kiOiB0cnVlfQogICAgICAgICAgICApOwogICAgICAgIAogICAgCiAgICAgICAgICAgIHZhciBtYXJrZXJfYjkzYjI2YmY1N2E3NDE1YmI3MDY3YWU0ZmNhM2U4OWIgPSBMLm1hcmtlcigKICAgICAgICAgICAgICAgIFszNC4xMDE3MzcsIC0xMTguMzA4MTE3XSwKICAgICAgICAgICAgICAgIHt9CiAgICAgICAgICAgICkuYWRkVG8obWFwX2M0OWM4M2RmMDQzOTQwZDZiYmQ3NDQ5ZmVmMzNlODFmKTsKICAgICAgICAKICAgIAogICAgICAgICAgICB2YXIgaWNvbl84YzliZTMxNjAyMjM0ZjZhYTVmZTVkMGRjYzBkN2RlYyA9IEwuQXdlc29tZU1hcmtlcnMuaWNvbigKICAgICAgICAgICAgICAgIHsiZXh0cmFDbGFzc2VzIjogImZhLXJvdGF0ZS0wIiwgImljb24iOiAiaW5mby1zaWduIiwgImljb25Db2xvciI6ICJ3aGl0ZSIsICJtYXJrZXJDb2xvciI6ICJyZWQiLCAicHJlZml4IjogImdseXBoaWNvbiJ9CiAgICAgICAgICAgICk7CiAgICAgICAgICAgIG1hcmtlcl9iOTNiMjZiZjU3YTc0MTViYjcwNjdhZTRmY2EzZTg5Yi5zZXRJY29uKGljb25fOGM5YmUzMTYwMjIzNGY2YWE1ZmU1ZDBkY2MwZDdkZWMpOwogICAgICAgIAogICAgCiAgICAgICAgdmFyIHBvcHVwXzM3OGIxNDBkNWI1NDRmN2Q5MWQ5M2QyNDI3MTg5MzllID0gTC5wb3B1cCh7Im1heFdpZHRoIjogIjEwMCUifSk7CgogICAgICAgIAogICAgICAgICAgICB2YXIgaHRtbF82MjQ4MTJmMTM2NjI0OGQ2OGIxZjQ1NGQ4ZTE2OGY1NSA9ICQoYDxkaXYgaWQ9Imh0bWxfNjI0ODEyZjEzNjYyNDhkNjhiMWY0NTRkOGUxNjhmNTUiIHN0eWxlPSJ3aWR0aDogMTAwLjAlOyBoZWlnaHQ6IDEwMC4wJTsiPkhvbGx5d29vZCAvIFdlc3Rlcm4gU3RhdGlvbjwvZGl2PmApWzBdOwogICAgICAgICAgICBwb3B1cF8zNzhiMTQwZDViNTQ0ZjdkOTFkOTNkMjQyNzE4OTM5ZS5zZXRDb250ZW50KGh0bWxfNjI0ODEyZjEzNjYyNDhkNjhiMWY0NTRkOGUxNjhmNTUpOwogICAgICAgIAoKICAgICAgICBtYXJrZXJfYjkzYjI2YmY1N2E3NDE1YmI3MDY3YWU0ZmNhM2U4OWIuYmluZFBvcHVwKHBvcHVwXzM3OGIxNDBkNWI1NDRmN2Q5MWQ5M2QyNDI3MTg5MzllKQogICAgICAgIDsKCiAgICAgICAgCiAgICAKICAgIAogICAgICAgICAgICBtYXJrZXJfYjkzYjI2YmY1N2E3NDE1YmI3MDY3YWU0ZmNhM2U4OWIuYmluZFRvb2x0aXAoCiAgICAgICAgICAgICAgICBgPGRpdj4KICAgICAgICAgICAgICAgICAgICAgUmVkIExpbmU6IEhvbGx5d29vZCAvIFdlc3Rlcm4gU3RhdGlvbgogICAgICAgICAgICAgICAgIDwvZGl2PmAsCiAgICAgICAgICAgICAgICB7InN0aWNreSI6IHRydWV9CiAgICAgICAgICAgICk7CiAgICAgICAgCiAgICAKICAgICAgICAgICAgdmFyIG1hcmtlcl8xOWIyY2RhY2Y1YjM0ZmViYjk2YmEzNjM1Njc2YWRkYiA9IEwubWFya2VyKAogICAgICAgICAgICAgICAgWzM0LjA5NzcwOCwgLTExOC4yOTE3NTZdLAogICAgICAgICAgICAgICAge30KICAgICAgICAgICAgKS5hZGRUbyhtYXBfYzQ5YzgzZGYwNDM5NDBkNmJiZDc0NDlmZWYzM2U4MWYpOwogICAgICAgIAogICAgCiAgICAgICAgICAgIHZhciBpY29uX2U3YjFjOWRjOTk2ODQ0NDViNzcyYjIwMjBiNGJmYTc0ID0gTC5Bd2Vzb21lTWFya2Vycy5pY29uKAogICAgICAgICAgICAgICAgeyJleHRyYUNsYXNzZXMiOiAiZmEtcm90YXRlLTAiLCAiaWNvbiI6ICJpbmZvLXNpZ24iLCAiaWNvbkNvbG9yIjogIndoaXRlIiwgIm1hcmtlckNvbG9yIjogInJlZCIsICJwcmVmaXgiOiAiZ2x5cGhpY29uIn0KICAgICAgICAgICAgKTsKICAgICAgICAgICAgbWFya2VyXzE5YjJjZGFjZjViMzRmZWJiOTZiYTM2MzU2NzZhZGRiLnNldEljb24oaWNvbl9lN2IxYzlkYzk5Njg0NDQ1Yjc3MmIyMDIwYjRiZmE3NCk7CiAgICAgICAgCiAgICAKICAgICAgICB2YXIgcG9wdXBfNjZkZTgzYjg5NThhNDhhNDkxMWM1NGUyMTRlZWM4MzQgPSBMLnBvcHVwKHsibWF4V2lkdGgiOiAiMTAwJSJ9KTsKCiAgICAgICAgCiAgICAgICAgICAgIHZhciBodG1sXzlkMDU5MmQ1YzQ3YjRjMGQ4NmI1ZWM5OGMyNzdhOWM3ID0gJChgPGRpdiBpZD0iaHRtbF85ZDA1OTJkNWM0N2I0YzBkODZiNWVjOThjMjc3YTljNyIgc3R5bGU9IndpZHRoOiAxMDAuMCU7IGhlaWdodDogMTAwLjAlOyI+VmVybW9udCAvIFN1bnNldCBTdGF0aW9uPC9kaXY+YClbMF07CiAgICAgICAgICAgIHBvcHVwXzY2ZGU4M2I4OTU4YTQ4YTQ5MTFjNTRlMjE0ZWVjODM0LnNldENvbnRlbnQoaHRtbF85ZDA1OTJkNWM0N2I0YzBkODZiNWVjOThjMjc3YTljNyk7CiAgICAgICAgCgogICAgICAgIG1hcmtlcl8xOWIyY2RhY2Y1YjM0ZmViYjk2YmEzNjM1Njc2YWRkYi5iaW5kUG9wdXAocG9wdXBfNjZkZTgzYjg5NThhNDhhNDkxMWM1NGUyMTRlZWM4MzQpCiAgICAgICAgOwoKICAgICAgICAKICAgIAogICAgCiAgICAgICAgICAgIG1hcmtlcl8xOWIyY2RhY2Y1YjM0ZmViYjk2YmEzNjM1Njc2YWRkYi5iaW5kVG9vbHRpcCgKICAgICAgICAgICAgICAgIGA8ZGl2PgogICAgICAgICAgICAgICAgICAgICBSZWQgTGluZTogVmVybW9udCAvIFN1bnNldCBTdGF0aW9uCiAgICAgICAgICAgICAgICAgPC9kaXY+YCwKICAgICAgICAgICAgICAgIHsic3RpY2t5IjogdHJ1ZX0KICAgICAgICAgICAgKTsKICAgICAgICAKICAgIAogICAgICAgICAgICB2YXIgbWFya2VyX2RjZTg5MTRkOTY2OTRhNzg5MTg5ZWJjNmY5MTkwZDViID0gTC5tYXJrZXIoCiAgICAgICAgICAgICAgICBbMzQuMDg5OTEsIC0xMTguMjkxNzNdLAogICAgICAgICAgICAgICAge30KICAgICAgICAgICAgKS5hZGRUbyhtYXBfYzQ5YzgzZGYwNDM5NDBkNmJiZDc0NDlmZWYzM2U4MWYpOwogICAgICAgIAogICAgCiAgICAgICAgICAgIHZhciBpY29uXzkwNWNjYjJkYjE2YTRiMTM4NTQ2M2QwY2I3Y2NjNTI1ID0gTC5Bd2Vzb21lTWFya2Vycy5pY29uKAogICAgICAgICAgICAgICAgeyJleHRyYUNsYXNzZXMiOiAiZmEtcm90YXRlLTAiLCAiaWNvbiI6ICJpbmZvLXNpZ24iLCAiaWNvbkNvbG9yIjogIndoaXRlIiwgIm1hcmtlckNvbG9yIjogInJlZCIsICJwcmVmaXgiOiAiZ2x5cGhpY29uIn0KICAgICAgICAgICAgKTsKICAgICAgICAgICAgbWFya2VyX2RjZTg5MTRkOTY2OTRhNzg5MTg5ZWJjNmY5MTkwZDViLnNldEljb24oaWNvbl85MDVjY2IyZGIxNmE0YjEzODU0NjNkMGNiN2NjYzUyNSk7CiAgICAgICAgCiAgICAKICAgICAgICB2YXIgcG9wdXBfMTA3ZjFkNzM2MGRiNDYwMzkxNDFhZjQwYmMyYjIwNTIgPSBMLnBvcHVwKHsibWF4V2lkdGgiOiAiMTAwJSJ9KTsKCiAgICAgICAgCiAgICAgICAgICAgIHZhciBodG1sXzgyMGVmZmEzNmE0ZDQyY2FhZGZiYWM5ZmI0ZTUyMzI5ID0gJChgPGRpdiBpZD0iaHRtbF84MjBlZmZhMzZhNGQ0MmNhYWRmYmFjOWZiNGU1MjMyOSIgc3R5bGU9IndpZHRoOiAxMDAuMCU7IGhlaWdodDogMTAwLjAlOyI+VmVybW9udCAvIFNhbnRhIE1vbmljYSBTdGF0aW9uPC9kaXY+YClbMF07CiAgICAgICAgICAgIHBvcHVwXzEwN2YxZDczNjBkYjQ2MDM5MTQxYWY0MGJjMmIyMDUyLnNldENvbnRlbnQoaHRtbF84MjBlZmZhMzZhNGQ0MmNhYWRmYmFjOWZiNGU1MjMyOSk7CiAgICAgICAgCgogICAgICAgIG1hcmtlcl9kY2U4OTE0ZDk2Njk0YTc4OTE4OWViYzZmOTE5MGQ1Yi5iaW5kUG9wdXAocG9wdXBfMTA3ZjFkNzM2MGRiNDYwMzkxNDFhZjQwYmMyYjIwNTIpCiAgICAgICAgOwoKICAgICAgICAKICAgIAogICAgCiAgICAgICAgICAgIG1hcmtlcl9kY2U4OTE0ZDk2Njk0YTc4OTE4OWViYzZmOTE5MGQ1Yi5iaW5kVG9vbHRpcCgKICAgICAgICAgICAgICAgIGA8ZGl2PgogICAgICAgICAgICAgICAgICAgICBSZWQgTGluZTogVmVybW9udCAvIFNhbnRhIE1vbmljYSBTdGF0aW9uCiAgICAgICAgICAgICAgICAgPC9kaXY+YCwKICAgICAgICAgICAgICAgIHsic3RpY2t5IjogdHJ1ZX0KICAgICAgICAgICAgKTsKICAgICAgICAKICAgIAogICAgICAgICAgICB2YXIgbWFya2VyX2YxYmY0ZGMzNmNiNzRhNzI5YTljZTA1OTU5Y2I5NzUyID0gTC5tYXJrZXIoCiAgICAgICAgICAgICAgICBbMzQuMDc2NTI2LCAtMTE4LjI5MTY4Nl0sCiAgICAgICAgICAgICAgICB7fQogICAgICAgICAgICApLmFkZFRvKG1hcF9jNDljODNkZjA0Mzk0MGQ2YmJkNzQ0OWZlZjMzZTgxZik7CiAgICAgICAgCiAgICAKICAgICAgICAgICAgdmFyIGljb25fYTIwMjBkZTZkZTJhNGE0ZGI5NzEzNGNmZGU1Y2RjZGUgPSBMLkF3ZXNvbWVNYXJrZXJzLmljb24oCiAgICAgICAgICAgICAgICB7ImV4dHJhQ2xhc3NlcyI6ICJmYS1yb3RhdGUtMCIsICJpY29uIjogImluZm8tc2lnbiIsICJpY29uQ29sb3IiOiAid2hpdGUiLCAibWFya2VyQ29sb3IiOiAicmVkIiwgInByZWZpeCI6ICJnbHlwaGljb24ifQogICAgICAgICAgICApOwogICAgICAgICAgICBtYXJrZXJfZjFiZjRkYzM2Y2I3NGE3MjlhOWNlMDU5NTljYjk3NTIuc2V0SWNvbihpY29uX2EyMDIwZGU2ZGUyYTRhNGRiOTcxMzRjZmRlNWNkY2RlKTsKICAgICAgICAKICAgIAogICAgICAgIHZhciBwb3B1cF9hOWFjMmU5OWQ2ODk0OWY3OWMwZmNmYmVlZmI4YTlkYyA9IEwucG9wdXAoeyJtYXhXaWR0aCI6ICIxMDAlIn0pOwoKICAgICAgICAKICAgICAgICAgICAgdmFyIGh0bWxfMGI5NzI5YTYwYmRiNGQzZWFhODBlMmFmYjZjMGFhNWIgPSAkKGA8ZGl2IGlkPSJodG1sXzBiOTcyOWE2MGJkYjRkM2VhYTgwZTJhZmI2YzBhYTViIiBzdHlsZT0id2lkdGg6IDEwMC4wJTsgaGVpZ2h0OiAxMDAuMCU7Ij5WZXJtb250IC8gQmV2ZXJseSBTdGF0aW9uPC9kaXY+YClbMF07CiAgICAgICAgICAgIHBvcHVwX2E5YWMyZTk5ZDY4OTQ5Zjc5YzBmY2ZiZWVmYjhhOWRjLnNldENvbnRlbnQoaHRtbF8wYjk3MjlhNjBiZGI0ZDNlYWE4MGUyYWZiNmMwYWE1Yik7CiAgICAgICAgCgogICAgICAgIG1hcmtlcl9mMWJmNGRjMzZjYjc0YTcyOWE5Y2UwNTk1OWNiOTc1Mi5iaW5kUG9wdXAocG9wdXBfYTlhYzJlOTlkNjg5NDlmNzljMGZjZmJlZWZiOGE5ZGMpCiAgICAgICAgOwoKICAgICAgICAKICAgIAogICAgCiAgICAgICAgICAgIG1hcmtlcl9mMWJmNGRjMzZjYjc0YTcyOWE5Y2UwNTk1OWNiOTc1Mi5iaW5kVG9vbHRpcCgKICAgICAgICAgICAgICAgIGA8ZGl2PgogICAgICAgICAgICAgICAgICAgICBSZWQgTGluZTogVmVybW9udCAvIEJldmVybHkgU3RhdGlvbgogICAgICAgICAgICAgICAgIDwvZGl2PmAsCiAgICAgICAgICAgICAgICB7InN0aWNreSI6IHRydWV9CiAgICAgICAgICAgICk7CiAgICAgICAgCiAgICAKICAgICAgICAgICAgdmFyIG1hcmtlcl9jYzc1NGNmZmUzZDY0MjRhOTY5MDgyZTc1ZDEyYjRiMCA9IEwubWFya2VyKAogICAgICAgICAgICAgICAgWzM0LjA2MjcwMSwgLTExOC4yOTAwODJdLAogICAgICAgICAgICAgICAge30KICAgICAgICAgICAgKS5hZGRUbyhtYXBfYzQ5YzgzZGYwNDM5NDBkNmJiZDc0NDlmZWYzM2U4MWYpOwogICAgICAgIAogICAgCiAgICAgICAgICAgIHZhciBpY29uXzE2OGIzNDNkODg4ODQwZmY5ZmI5NDczZWMxMTQ1ZDg5ID0gTC5Bd2Vzb21lTWFya2Vycy5pY29uKAogICAgICAgICAgICAgICAgeyJleHRyYUNsYXNzZXMiOiAiZmEtcm90YXRlLTAiLCAiaWNvbiI6ICJpbmZvLXNpZ24iLCAiaWNvbkNvbG9yIjogIndoaXRlIiwgIm1hcmtlckNvbG9yIjogImRhcmtyZWQiLCAicHJlZml4IjogImdseXBoaWNvbiJ9CiAgICAgICAgICAgICk7CiAgICAgICAgICAgIG1hcmtlcl9jYzc1NGNmZmUzZDY0MjRhOTY5MDgyZTc1ZDEyYjRiMC5zZXRJY29uKGljb25fMTY4YjM0M2Q4ODg4NDBmZjlmYjk0NzNlYzExNDVkODkpOwogICAgICAgIAogICAgCiAgICAgICAgdmFyIHBvcHVwXzE5OTAyNDI0NDg5YTQ0YjJiOGE0ZmEzOTM0YThiNmIzID0gTC5wb3B1cCh7Im1heFdpZHRoIjogIjEwMCUifSk7CgogICAgICAgIAogICAgICAgICAgICB2YXIgaHRtbF9kZDhkNzA4MzM2M2I0NWE2OTRhMGFkYWNlNjY4YmVjNiA9ICQoYDxkaXYgaWQ9Imh0bWxfZGQ4ZDcwODMzNjNiNDVhNjk0YTBhZGFjZTY2OGJlYzYiIHN0eWxlPSJ3aWR0aDogMTAwLjAlOyBoZWlnaHQ6IDEwMC4wJTsiPldpbHNoaXJlIC8gVmVybW9udCBTdGF0aW9uPC9kaXY+YClbMF07CiAgICAgICAgICAgIHBvcHVwXzE5OTAyNDI0NDg5YTQ0YjJiOGE0ZmEzOTM0YThiNmIzLnNldENvbnRlbnQoaHRtbF9kZDhkNzA4MzM2M2I0NWE2OTRhMGFkYWNlNjY4YmVjNik7CiAgICAgICAgCgogICAgICAgIG1hcmtlcl9jYzc1NGNmZmUzZDY0MjRhOTY5MDgyZTc1ZDEyYjRiMC5iaW5kUG9wdXAocG9wdXBfMTk5MDI0MjQ0ODlhNDRiMmI4YTRmYTM5MzRhOGI2YjMpCiAgICAgICAgOwoKICAgICAgICAKICAgIAogICAgCiAgICAgICAgICAgIG1hcmtlcl9jYzc1NGNmZmUzZDY0MjRhOTY5MDgyZTc1ZDEyYjRiMC5iaW5kVG9vbHRpcCgKICAgICAgICAgICAgICAgIGA8ZGl2PgogICAgICAgICAgICAgICAgICAgICBSZWQvUHVycGxlIExpbmU6IFdpbHNoaXJlIC8gVmVybW9udCBTdGF0aW9uCiAgICAgICAgICAgICAgICAgPC9kaXY+YCwKICAgICAgICAgICAgICAgIHsic3RpY2t5IjogdHJ1ZX0KICAgICAgICAgICAgKTsKICAgICAgICAKICAgIAogICAgICAgICAgICB2YXIgbWFya2VyX2MzY2U4ZmI1MGU2ZTQ4MWZiOWExZTI3Yzc1MDFiMDkxID0gTC5tYXJrZXIoCiAgICAgICAgICAgICAgICBbMzQuMDU2MzY4LCAtMTE4LjI3NDg3OV0sCiAgICAgICAgICAgICAgICB7fQogICAgICAgICAgICApLmFkZFRvKG1hcF9jNDljODNkZjA0Mzk0MGQ2YmJkNzQ0OWZlZjMzZTgxZik7CiAgICAgICAgCiAgICAKICAgICAgICAgICAgdmFyIGljb25fMTFkY2VmY2IxNmZhNDFmMDk1MzE4MWFmMmViYzEzYjcgPSBMLkF3ZXNvbWVNYXJrZXJzLmljb24oCiAgICAgICAgICAgICAgICB7ImV4dHJhQ2xhc3NlcyI6ICJmYS1yb3RhdGUtMCIsICJpY29uIjogImluZm8tc2lnbiIsICJpY29uQ29sb3IiOiAid2hpdGUiLCAibWFya2VyQ29sb3IiOiAiZGFya3JlZCIsICJwcmVmaXgiOiAiZ2x5cGhpY29uIn0KICAgICAgICAgICAgKTsKICAgICAgICAgICAgbWFya2VyX2MzY2U4ZmI1MGU2ZTQ4MWZiOWExZTI3Yzc1MDFiMDkxLnNldEljb24oaWNvbl8xMWRjZWZjYjE2ZmE0MWYwOTUzMTgxYWYyZWJjMTNiNyk7CiAgICAgICAgCiAgICAKICAgICAgICB2YXIgcG9wdXBfZGNlYWRhY2U2Y2ViNDAwMmE1MDc2OGYwNGU1NTM4NTEgPSBMLnBvcHVwKHsibWF4V2lkdGgiOiAiMTAwJSJ9KTsKCiAgICAgICAgCiAgICAgICAgICAgIHZhciBodG1sXzFlNWYzMDQ4ZDY2MzQ2ODM5YWZjZDcxNjQ1ODAyZjMzID0gJChgPGRpdiBpZD0iaHRtbF8xZTVmMzA0OGQ2NjM0NjgzOWFmY2Q3MTY0NTgwMmYzMyIgc3R5bGU9IndpZHRoOiAxMDAuMCU7IGhlaWdodDogMTAwLjAlOyI+V2VzdGxha2UgLyBNYWNBcnRodXIgUGFyayBTdGF0aW9uPC9kaXY+YClbMF07CiAgICAgICAgICAgIHBvcHVwX2RjZWFkYWNlNmNlYjQwMDJhNTA3NjhmMDRlNTUzODUxLnNldENvbnRlbnQoaHRtbF8xZTVmMzA0OGQ2NjM0NjgzOWFmY2Q3MTY0NTgwMmYzMyk7CiAgICAgICAgCgogICAgICAgIG1hcmtlcl9jM2NlOGZiNTBlNmU0ODFmYjlhMWUyN2M3NTAxYjA5MS5iaW5kUG9wdXAocG9wdXBfZGNlYWRhY2U2Y2ViNDAwMmE1MDc2OGYwNGU1NTM4NTEpCiAgICAgICAgOwoKICAgICAgICAKICAgIAogICAgCiAgICAgICAgICAgIG1hcmtlcl9jM2NlOGZiNTBlNmU0ODFmYjlhMWUyN2M3NTAxYjA5MS5iaW5kVG9vbHRpcCgKICAgICAgICAgICAgICAgIGA8ZGl2PgogICAgICAgICAgICAgICAgICAgICBSZWQvUHVycGxlIExpbmU6IFdlc3RsYWtlIC8gTWFjQXJ0aHVyIFBhcmsgU3RhdGlvbgogICAgICAgICAgICAgICAgIDwvZGl2PmAsCiAgICAgICAgICAgICAgICB7InN0aWNreSI6IHRydWV9CiAgICAgICAgICAgICk7CiAgICAgICAgCiAgICAKICAgICAgICAgICAgdmFyIG1hcmtlcl9jNmMyYzFjODVkNTI0ZjU2OTI5ZDJlYmI3YjcwZjJhNSA9IEwubWFya2VyKAogICAgICAgICAgICAgICAgWzM0LjA0ODYzNCwgLTExOC4yNTg2ODJdLAogICAgICAgICAgICAgICAge30KICAgICAgICAgICAgKS5hZGRUbyhtYXBfYzQ5YzgzZGYwNDM5NDBkNmJiZDc0NDlmZWYzM2U4MWYpOwogICAgICAgIAogICAgCiAgICAgICAgICAgIHZhciBpY29uX2E1NTJmMzc5YTgxZDQxYTE4YzQ1M2YwYzAzMmQwNWI4ID0gTC5Bd2Vzb21lTWFya2Vycy5pY29uKAogICAgICAgICAgICAgICAgeyJleHRyYUNsYXNzZXMiOiAiZmEtcm90YXRlLTAiLCAiaWNvbiI6ICJpbmZvLXNpZ24iLCAiaWNvbkNvbG9yIjogIndoaXRlIiwgIm1hcmtlckNvbG9yIjogImRhcmtyZWQiLCAicHJlZml4IjogImdseXBoaWNvbiJ9CiAgICAgICAgICAgICk7CiAgICAgICAgICAgIG1hcmtlcl9jNmMyYzFjODVkNTI0ZjU2OTI5ZDJlYmI3YjcwZjJhNS5zZXRJY29uKGljb25fYTU1MmYzNzlhODFkNDFhMThjNDUzZjBjMDMyZDA1YjgpOwogICAgICAgIAogICAgCiAgICAgICAgdmFyIHBvcHVwXzhmZmI5MjQ0YjY3YjQ4MjVhNGQ4MGZjZjg5YjVkMGVlID0gTC5wb3B1cCh7Im1heFdpZHRoIjogIjEwMCUifSk7CgogICAgICAgIAogICAgICAgICAgICB2YXIgaHRtbF9iYzI2ZjBlMzBlNDM0MTA0YTdiMWRlYWRlZGVlYTVlYyA9ICQoYDxkaXYgaWQ9Imh0bWxfYmMyNmYwZTMwZTQzNDEwNGE3YjFkZWFkZWRlZWE1ZWMiIHN0eWxlPSJ3aWR0aDogMTAwLjAlOyBoZWlnaHQ6IDEwMC4wJTsiPjd0aCBTdHJlZXQgLyBNZXRybyBDZW50ZXIgU3RhdGlvbiAtIE1ldHJvIFJlZCAmIFB1cnBsZSBMaW5lczwvZGl2PmApWzBdOwogICAgICAgICAgICBwb3B1cF84ZmZiOTI0NGI2N2I0ODI1YTRkODBmY2Y4OWI1ZDBlZS5zZXRDb250ZW50KGh0bWxfYmMyNmYwZTMwZTQzNDEwNGE3YjFkZWFkZWRlZWE1ZWMpOwogICAgICAgIAoKICAgICAgICBtYXJrZXJfYzZjMmMxYzg1ZDUyNGY1NjkyOWQyZWJiN2I3MGYyYTUuYmluZFBvcHVwKHBvcHVwXzhmZmI5MjQ0YjY3YjQ4MjVhNGQ4MGZjZjg5YjVkMGVlKQogICAgICAgIDsKCiAgICAgICAgCiAgICAKICAgIAogICAgICAgICAgICBtYXJrZXJfYzZjMmMxYzg1ZDUyNGY1NjkyOWQyZWJiN2I3MGYyYTUuYmluZFRvb2x0aXAoCiAgICAgICAgICAgICAgICBgPGRpdj4KICAgICAgICAgICAgICAgICAgICAgUmVkL1B1cnBsZSBMaW5lOiA3dGggU3RyZWV0IC8gTWV0cm8gQ2VudGVyIFN0YXRpb24gLSBNZXRybyBSZWQgJiBQdXJwbGUgTGluZXMKICAgICAgICAgICAgICAgICA8L2Rpdj5gLAogICAgICAgICAgICAgICAgeyJzdGlja3kiOiB0cnVlfQogICAgICAgICAgICApOwogICAgICAgIAogICAgCiAgICAgICAgICAgIHZhciBtYXJrZXJfNjk1MmY0OTlkYzViNDZhMjlkMThjY2VkYTc5YzA1MzkgPSBMLm1hcmtlcigKICAgICAgICAgICAgICAgIFszNC4wNDkzMTYsIC0xMTguMjUxMjU5XSwKICAgICAgICAgICAgICAgIHt9CiAgICAgICAgICAgICkuYWRkVG8obWFwX2M0OWM4M2RmMDQzOTQwZDZiYmQ3NDQ5ZmVmMzNlODFmKTsKICAgICAgICAKICAgIAogICAgICAgICAgICB2YXIgaWNvbl9iYTY4ZTlkMGZhNTE0NzNhOGRjZDYwMmM5Y2I5MDQ2MSA9IEwuQXdlc29tZU1hcmtlcnMuaWNvbigKICAgICAgICAgICAgICAgIHsiZXh0cmFDbGFzc2VzIjogImZhLXJvdGF0ZS0wIiwgImljb24iOiAiaW5mby1zaWduIiwgImljb25Db2xvciI6ICJ3aGl0ZSIsICJtYXJrZXJDb2xvciI6ICJkYXJrcmVkIiwgInByZWZpeCI6ICJnbHlwaGljb24ifQogICAgICAgICAgICApOwogICAgICAgICAgICBtYXJrZXJfNjk1MmY0OTlkYzViNDZhMjlkMThjY2VkYTc5YzA1Mzkuc2V0SWNvbihpY29uX2JhNjhlOWQwZmE1MTQ3M2E4ZGNkNjAyYzljYjkwNDYxKTsKICAgICAgICAKICAgIAogICAgICAgIHZhciBwb3B1cF9kNTA2N2FkZGI4YTU0NGNkYjJhZTRjNWM2MTIyMTFlOCA9IEwucG9wdXAoeyJtYXhXaWR0aCI6ICIxMDAlIn0pOwoKICAgICAgICAKICAgICAgICAgICAgdmFyIGh0bWxfM2EwOThkNDBiNGNjNDVkYWEzNTAwZmJlYzkzNDA1MTQgPSAkKGA8ZGl2IGlkPSJodG1sXzNhMDk4ZDQwYjRjYzQ1ZGFhMzUwMGZiZWM5MzQwNTE0IiBzdHlsZT0id2lkdGg6IDEwMC4wJTsgaGVpZ2h0OiAxMDAuMCU7Ij5QZXJzaGluZyBTcXVhcmUgU3RhdGlvbjwvZGl2PmApWzBdOwogICAgICAgICAgICBwb3B1cF9kNTA2N2FkZGI4YTU0NGNkYjJhZTRjNWM2MTIyMTFlOC5zZXRDb250ZW50KGh0bWxfM2EwOThkNDBiNGNjNDVkYWEzNTAwZmJlYzkzNDA1MTQpOwogICAgICAgIAoKICAgICAgICBtYXJrZXJfNjk1MmY0OTlkYzViNDZhMjlkMThjY2VkYTc5YzA1MzkuYmluZFBvcHVwKHBvcHVwX2Q1MDY3YWRkYjhhNTQ0Y2RiMmFlNGM1YzYxMjIxMWU4KQogICAgICAgIDsKCiAgICAgICAgCiAgICAKICAgIAogICAgICAgICAgICBtYXJrZXJfNjk1MmY0OTlkYzViNDZhMjlkMThjY2VkYTc5YzA1MzkuYmluZFRvb2x0aXAoCiAgICAgICAgICAgICAgICBgPGRpdj4KICAgICAgICAgICAgICAgICAgICAgUmVkL1B1cnBsZSBMaW5lOiBQZXJzaGluZyBTcXVhcmUgU3RhdGlvbgogICAgICAgICAgICAgICAgIDwvZGl2PmAsCiAgICAgICAgICAgICAgICB7InN0aWNreSI6IHRydWV9CiAgICAgICAgICAgICk7CiAgICAgICAgCiAgICAKICAgICAgICAgICAgdmFyIG1hcmtlcl84YjcxZDZkNDQ3YmE0NDI4YmJhY2I2OTQ2YjZkYWIzYiA9IEwubWFya2VyKAogICAgICAgICAgICAgICAgWzM0LjA1NDksIC0xMTguMjQ2MDU3XSwKICAgICAgICAgICAgICAgIHt9CiAgICAgICAgICAgICkuYWRkVG8obWFwX2M0OWM4M2RmMDQzOTQwZDZiYmQ3NDQ5ZmVmMzNlODFmKTsKICAgICAgICAKICAgIAogICAgICAgICAgICB2YXIgaWNvbl9lODI5OTY3NTFiNDY0MmQ1YmM3MTgzNDA1MzY5YmIyYyA9IEwuQXdlc29tZU1hcmtlcnMuaWNvbigKICAgICAgICAgICAgICAgIHsiZXh0cmFDbGFzc2VzIjogImZhLXJvdGF0ZS0wIiwgImljb24iOiAiaW5mby1zaWduIiwgImljb25Db2xvciI6ICJ3aGl0ZSIsICJtYXJrZXJDb2xvciI6ICJkYXJrcmVkIiwgInByZWZpeCI6ICJnbHlwaGljb24ifQogICAgICAgICAgICApOwogICAgICAgICAgICBtYXJrZXJfOGI3MWQ2ZDQ0N2JhNDQyOGJiYWNiNjk0NmI2ZGFiM2Iuc2V0SWNvbihpY29uX2U4Mjk5Njc1MWI0NjQyZDViYzcxODM0MDUzNjliYjJjKTsKICAgICAgICAKICAgIAogICAgICAgIHZhciBwb3B1cF8wOTExOGE1YzFjZmY0NmIxYjk2ZjgwZGQyNTA1NTg0YyA9IEwucG9wdXAoeyJtYXhXaWR0aCI6ICIxMDAlIn0pOwoKICAgICAgICAKICAgICAgICAgICAgdmFyIGh0bWxfOWI2YzZiOGFkNzFkNDM5NGE4M2JlNTUxY2M2YmM4YTUgPSAkKGA8ZGl2IGlkPSJodG1sXzliNmM2YjhhZDcxZDQzOTRhODNiZTU1MWNjNmJjOGE1IiBzdHlsZT0id2lkdGg6IDEwMC4wJTsgaGVpZ2h0OiAxMDAuMCU7Ij5DaXZpYyBDZW50ZXIgLyBHcmFuZCBQYXJrIFN0YXRpb248L2Rpdj5gKVswXTsKICAgICAgICAgICAgcG9wdXBfMDkxMThhNWMxY2ZmNDZiMWI5NmY4MGRkMjUwNTU4NGMuc2V0Q29udGVudChodG1sXzliNmM2YjhhZDcxZDQzOTRhODNiZTU1MWNjNmJjOGE1KTsKICAgICAgICAKCiAgICAgICAgbWFya2VyXzhiNzFkNmQ0NDdiYTQ0MjhiYmFjYjY5NDZiNmRhYjNiLmJpbmRQb3B1cChwb3B1cF8wOTExOGE1YzFjZmY0NmIxYjk2ZjgwZGQyNTA1NTg0YykKICAgICAgICA7CgogICAgICAgIAogICAgCiAgICAKICAgICAgICAgICAgbWFya2VyXzhiNzFkNmQ0NDdiYTQ0MjhiYmFjYjY5NDZiNmRhYjNiLmJpbmRUb29sdGlwKAogICAgICAgICAgICAgICAgYDxkaXY+CiAgICAgICAgICAgICAgICAgICAgIFJlZC9QdXJwbGUgTGluZTogQ2l2aWMgQ2VudGVyIC8gR3JhbmQgUGFyayBTdGF0aW9uCiAgICAgICAgICAgICAgICAgPC9kaXY+YCwKICAgICAgICAgICAgICAgIHsic3RpY2t5IjogdHJ1ZX0KICAgICAgICAgICAgKTsKICAgICAgICAKICAgIAogICAgICAgICAgICB2YXIgbWFya2VyXzYyMWIwODUzNTgwZjRkOWRiNjdhMWExYjhjZTBiYTJjID0gTC5tYXJrZXIoCiAgICAgICAgICAgICAgICBbMzQuMDU2MTk3LCAtMTE4LjIzNDI0OV0sCiAgICAgICAgICAgICAgICB7fQogICAgICAgICAgICApLmFkZFRvKG1hcF9jNDljODNkZjA0Mzk0MGQ2YmJkNzQ0OWZlZjMzZTgxZik7CiAgICAgICAgCiAgICAKICAgICAgICAgICAgdmFyIGljb25fMWU0ZTFkNTE3Y2EyNGFhZDg2NGYxMjY4NjliMTNkZDEgPSBMLkF3ZXNvbWVNYXJrZXJzLmljb24oCiAgICAgICAgICAgICAgICB7ImV4dHJhQ2xhc3NlcyI6ICJmYS1yb3RhdGUtMCIsICJpY29uIjogImluZm8tc2lnbiIsICJpY29uQ29sb3IiOiAid2hpdGUiLCAibWFya2VyQ29sb3IiOiAiZGFya3JlZCIsICJwcmVmaXgiOiAiZ2x5cGhpY29uIn0KICAgICAgICAgICAgKTsKICAgICAgICAgICAgbWFya2VyXzYyMWIwODUzNTgwZjRkOWRiNjdhMWExYjhjZTBiYTJjLnNldEljb24oaWNvbl8xZTRlMWQ1MTdjYTI0YWFkODY0ZjEyNjg2OWIxM2RkMSk7CiAgICAgICAgCiAgICAKICAgICAgICB2YXIgcG9wdXBfYjBmOTc4M2YwNDAwNGYwOGJlNzQ0YTMzZDNmODc3NmUgPSBMLnBvcHVwKHsibWF4V2lkdGgiOiAiMTAwJSJ9KTsKCiAgICAgICAgCiAgICAgICAgICAgIHZhciBodG1sXzNhZWJiY2RjMzQ5YTRhMWE5MzYwMDdmNDdmMzExMTg3ID0gJChgPGRpdiBpZD0iaHRtbF8zYWViYmNkYzM0OWE0YTFhOTM2MDA3ZjQ3ZjMxMTE4NyIgc3R5bGU9IndpZHRoOiAxMDAuMCU7IGhlaWdodDogMTAwLjAlOyI+VW5pb24gU3RhdGlvbiAtIE1ldHJvIFJlZCAmIFB1cnBsZSBMaW5lczwvZGl2PmApWzBdOwogICAgICAgICAgICBwb3B1cF9iMGY5NzgzZjA0MDA0ZjA4YmU3NDRhMzNkM2Y4Nzc2ZS5zZXRDb250ZW50KGh0bWxfM2FlYmJjZGMzNDlhNGExYTkzNjAwN2Y0N2YzMTExODcpOwogICAgICAgIAoKICAgICAgICBtYXJrZXJfNjIxYjA4NTM1ODBmNGQ5ZGI2N2ExYTFiOGNlMGJhMmMuYmluZFBvcHVwKHBvcHVwX2IwZjk3ODNmMDQwMDRmMDhiZTc0NGEzM2QzZjg3NzZlKQogICAgICAgIDsKCiAgICAgICAgCiAgICAKICAgIAogICAgICAgICAgICBtYXJrZXJfNjIxYjA4NTM1ODBmNGQ5ZGI2N2ExYTFiOGNlMGJhMmMuYmluZFRvb2x0aXAoCiAgICAgICAgICAgICAgICBgPGRpdj4KICAgICAgICAgICAgICAgICAgICAgUmVkL1B1cnBsZSBMaW5lOiBVbmlvbiBTdGF0aW9uIC0gTWV0cm8gUmVkICYgUHVycGxlIExpbmVzCiAgICAgICAgICAgICAgICAgPC9kaXY+YCwKICAgICAgICAgICAgICAgIHsic3RpY2t5IjogdHJ1ZX0KICAgICAgICAgICAgKTsKICAgICAgICAKICAgIAogICAgICAgICAgICB2YXIgbWFya2VyX2Y0ZGViZmJhMDUyMzQ1NzFhMjE3MzRkZTUwZjBlOTk5ID0gTC5tYXJrZXIoCiAgICAgICAgICAgICAgICBbMzQuMDYxNzUzLCAtMTE4LjMwMTQ1OF0sCiAgICAgICAgICAgICAgICB7fQogICAgICAgICAgICApLmFkZFRvKG1hcF9jNDljODNkZjA0Mzk0MGQ2YmJkNzQ0OWZlZjMzZTgxZik7CiAgICAgICAgCiAgICAKICAgICAgICAgICAgdmFyIGljb25fMmQ0NjIxODhlZWMzNDg0ZmI1NDI5NTAzZjE0YjVjYjEgPSBMLkF3ZXNvbWVNYXJrZXJzLmljb24oCiAgICAgICAgICAgICAgICB7ImV4dHJhQ2xhc3NlcyI6ICJmYS1yb3RhdGUtMCIsICJpY29uIjogImluZm8tc2lnbiIsICJpY29uQ29sb3IiOiAid2hpdGUiLCAibWFya2VyQ29sb3IiOiAicHVycGxlIiwgInByZWZpeCI6ICJnbHlwaGljb24ifQogICAgICAgICAgICApOwogICAgICAgICAgICBtYXJrZXJfZjRkZWJmYmEwNTIzNDU3MWEyMTczNGRlNTBmMGU5OTkuc2V0SWNvbihpY29uXzJkNDYyMTg4ZWVjMzQ4NGZiNTQyOTUwM2YxNGI1Y2IxKTsKICAgICAgICAKICAgIAogICAgICAgIHZhciBwb3B1cF8wNzZiM2NhNDNlMzU0ZWUwYjMwNDUzZjc5NjMwNzY1MiA9IEwucG9wdXAoeyJtYXhXaWR0aCI6ICIxMDAlIn0pOwoKICAgICAgICAKICAgICAgICAgICAgdmFyIGh0bWxfYmM1YTQ5YzE5Nzg4NGViYWJmODNjODNiYjE3MDljYWEgPSAkKGA8ZGl2IGlkPSJodG1sX2JjNWE0OWMxOTc4ODRlYmFiZjgzYzgzYmIxNzA5Y2FhIiBzdHlsZT0id2lkdGg6IDEwMC4wJTsgaGVpZ2h0OiAxMDAuMCU7Ij5XaWxzaGlyZSAvIE5vcm1hbmRpZSBTdGF0aW9uPC9kaXY+YClbMF07CiAgICAgICAgICAgIHBvcHVwXzA3NmIzY2E0M2UzNTRlZTBiMzA0NTNmNzk2MzA3NjUyLnNldENvbnRlbnQoaHRtbF9iYzVhNDljMTk3ODg0ZWJhYmY4M2M4M2JiMTcwOWNhYSk7CiAgICAgICAgCgogICAgICAgIG1hcmtlcl9mNGRlYmZiYTA1MjM0NTcxYTIxNzM0ZGU1MGYwZTk5OS5iaW5kUG9wdXAocG9wdXBfMDc2YjNjYTQzZTM1NGVlMGIzMDQ1M2Y3OTYzMDc2NTIpCiAgICAgICAgOwoKICAgICAgICAKICAgIAogICAgCiAgICAgICAgICAgIG1hcmtlcl9mNGRlYmZiYTA1MjM0NTcxYTIxNzM0ZGU1MGYwZTk5OS5iaW5kVG9vbHRpcCgKICAgICAgICAgICAgICAgIGA8ZGl2PgogICAgICAgICAgICAgICAgICAgICBQdXJwbGUgTGluZTogV2lsc2hpcmUgLyBOb3JtYW5kaWUgU3RhdGlvbgogICAgICAgICAgICAgICAgIDwvZGl2PmAsCiAgICAgICAgICAgICAgICB7InN0aWNreSI6IHRydWV9CiAgICAgICAgICAgICk7CiAgICAgICAgCiAgICAKICAgICAgICAgICAgdmFyIG1hcmtlcl84MjU4MTIwOGE2NGU0NWIxOTE3OGM2MjllNjI5ZTdmYSA9IEwubWFya2VyKAogICAgICAgICAgICAgICAgWzM0LjA2MTY4OSwgLTExOC4zMDg3NTZdLAogICAgICAgICAgICAgICAge30KICAgICAgICAgICAgKS5hZGRUbyhtYXBfYzQ5YzgzZGYwNDM5NDBkNmJiZDc0NDlmZWYzM2U4MWYpOwogICAgICAgIAogICAgCiAgICAgICAgICAgIHZhciBpY29uXzY5ZmNhOTVlNzg2YTQ1ZWI5NmFkZDFhY2ZiZGMyNTQ5ID0gTC5Bd2Vzb21lTWFya2Vycy5pY29uKAogICAgICAgICAgICAgICAgeyJleHRyYUNsYXNzZXMiOiAiZmEtcm90YXRlLTAiLCAiaWNvbiI6ICJpbmZvLXNpZ24iLCAiaWNvbkNvbG9yIjogIndoaXRlIiwgIm1hcmtlckNvbG9yIjogInB1cnBsZSIsICJwcmVmaXgiOiAiZ2x5cGhpY29uIn0KICAgICAgICAgICAgKTsKICAgICAgICAgICAgbWFya2VyXzgyNTgxMjA4YTY0ZTQ1YjE5MTc4YzYyOWU2MjllN2ZhLnNldEljb24oaWNvbl82OWZjYTk1ZTc4NmE0NWViOTZhZGQxYWNmYmRjMjU0OSk7CiAgICAgICAgCiAgICAKICAgICAgICB2YXIgcG9wdXBfNjljMDZiN2ZiZTJjNGNlM2E4NmE2NDczYjU0NWJlMDEgPSBMLnBvcHVwKHsibWF4V2lkdGgiOiAiMTAwJSJ9KTsKCiAgICAgICAgCiAgICAgICAgICAgIHZhciBodG1sX2JjNjYzYTdhNDExNzRmNWFiM2VkODg3NzFlYzgwNmY0ID0gJChgPGRpdiBpZD0iaHRtbF9iYzY2M2E3YTQxMTc0ZjVhYjNlZDg4NzcxZWM4MDZmNCIgc3R5bGU9IndpZHRoOiAxMDAuMCU7IGhlaWdodDogMTAwLjAlOyI+V2lsc2hpcmUgLyBXZXN0ZXJuIFN0YXRpb248L2Rpdj5gKVswXTsKICAgICAgICAgICAgcG9wdXBfNjljMDZiN2ZiZTJjNGNlM2E4NmE2NDczYjU0NWJlMDEuc2V0Q29udGVudChodG1sX2JjNjYzYTdhNDExNzRmNWFiM2VkODg3NzFlYzgwNmY0KTsKICAgICAgICAKCiAgICAgICAgbWFya2VyXzgyNTgxMjA4YTY0ZTQ1YjE5MTc4YzYyOWU2MjllN2ZhLmJpbmRQb3B1cChwb3B1cF82OWMwNmI3ZmJlMmM0Y2UzYTg2YTY0NzNiNTQ1YmUwMSkKICAgICAgICA7CgogICAgICAgIAogICAgCiAgICAKICAgICAgICAgICAgbWFya2VyXzgyNTgxMjA4YTY0ZTQ1YjE5MTc4YzYyOWU2MjllN2ZhLmJpbmRUb29sdGlwKAogICAgICAgICAgICAgICAgYDxkaXY+CiAgICAgICAgICAgICAgICAgICAgIFB1cnBsZSBMaW5lOiBXaWxzaGlyZSAvIFdlc3Rlcm4gU3RhdGlvbgogICAgICAgICAgICAgICAgIDwvZGl2PmAsCiAgICAgICAgICAgICAgICB7InN0aWNreSI6IHRydWV9CiAgICAgICAgICAgICk7CiAgICAgICAgCiAgICAKICAgICAgICAgICAgdmFyIG1hcmtlcl81ZWQzNzJkYTk4NTI0NDcwYjExMjdmZGIwNmQ1ZjVhMCA9IEwubWFya2VyKAogICAgICAgICAgICAgICAgWzMzLjg5NDY0LCAtMTE4LjM2OTE5Nl0sCiAgICAgICAgICAgICAgICB7fQogICAgICAgICAgICApLmFkZFRvKG1hcF9jNDljODNkZjA0Mzk0MGQ2YmJkNzQ0OWZlZjMzZTgxZik7CiAgICAgICAgCiAgICAKICAgICAgICAgICAgdmFyIGljb25fMzI4ZTExNTliZGUwNDcyM2E5MjRjOTQ2OGE0NmNkNTMgPSBMLkF3ZXNvbWVNYXJrZXJzLmljb24oCiAgICAgICAgICAgICAgICB7ImV4dHJhQ2xhc3NlcyI6ICJmYS1yb3RhdGUtMCIsICJpY29uIjogImluZm8tc2lnbiIsICJpY29uQ29sb3IiOiAid2hpdGUiLCAibWFya2VyQ29sb3IiOiAiZ3JlZW4iLCAicHJlZml4IjogImdseXBoaWNvbiJ9CiAgICAgICAgICAgICk7CiAgICAgICAgICAgIG1hcmtlcl81ZWQzNzJkYTk4NTI0NDcwYjExMjdmZGIwNmQ1ZjVhMC5zZXRJY29uKGljb25fMzI4ZTExNTliZGUwNDcyM2E5MjRjOTQ2OGE0NmNkNTMpOwogICAgICAgIAogICAgCiAgICAgICAgdmFyIHBvcHVwX2JkYjk3M2E4MWU2NDRiNzRiNzBkY2ViMjFmODdmZjZiID0gTC5wb3B1cCh7Im1heFdpZHRoIjogIjEwMCUifSk7CgogICAgICAgIAogICAgICAgICAgICB2YXIgaHRtbF9jZWRhZTRhZTA0NjU0MWY2ODU1YWY4ZmNmZjFlMzE0OCA9ICQoYDxkaXYgaWQ9Imh0bWxfY2VkYWU0YWUwNDY1NDFmNjg1NWFmOGZjZmYxZTMxNDgiIHN0eWxlPSJ3aWR0aDogMTAwLjAlOyBoZWlnaHQ6IDEwMC4wJTsiPlJlZG9uZG8gQmVhY2ggU3RhdGlvbjwvZGl2PmApWzBdOwogICAgICAgICAgICBwb3B1cF9iZGI5NzNhODFlNjQ0Yjc0YjcwZGNlYjIxZjg3ZmY2Yi5zZXRDb250ZW50KGh0bWxfY2VkYWU0YWUwNDY1NDFmNjg1NWFmOGZjZmYxZTMxNDgpOwogICAgICAgIAoKICAgICAgICBtYXJrZXJfNWVkMzcyZGE5ODUyNDQ3MGIxMTI3ZmRiMDZkNWY1YTAuYmluZFBvcHVwKHBvcHVwX2JkYjk3M2E4MWU2NDRiNzRiNzBkY2ViMjFmODdmZjZiKQogICAgICAgIDsKCiAgICAgICAgCiAgICAKICAgIAogICAgICAgICAgICBtYXJrZXJfNWVkMzcyZGE5ODUyNDQ3MGIxMTI3ZmRiMDZkNWY1YTAuYmluZFRvb2x0aXAoCiAgICAgICAgICAgICAgICBgPGRpdj4KICAgICAgICAgICAgICAgICAgICAgR3JlZW4gTGluZTogUmVkb25kbyBCZWFjaCBTdGF0aW9uCiAgICAgICAgICAgICAgICAgPC9kaXY+YCwKICAgICAgICAgICAgICAgIHsic3RpY2t5IjogdHJ1ZX0KICAgICAgICAgICAgKTsKICAgICAgICAKICAgIAogICAgICAgICAgICB2YXIgbWFya2VyXzExNTg2ZDY0NzUwOTQ0ZTBiYzY2M2VmM2I2NmNkYjFkID0gTC5tYXJrZXIoCiAgICAgICAgICAgICAgICBbMzMuOTA1Mjk5LCAtMTE4LjM4MzExM10sCiAgICAgICAgICAgICAgICB7fQogICAgICAgICAgICApLmFkZFRvKG1hcF9jNDljODNkZjA0Mzk0MGQ2YmJkNzQ0OWZlZjMzZTgxZik7CiAgICAgICAgCiAgICAKICAgICAgICAgICAgdmFyIGljb25fNzcxNmNiMmExNzA4NDg2MmEzZDMxOGQ2NDdmMTdlOTIgPSBMLkF3ZXNvbWVNYXJrZXJzLmljb24oCiAgICAgICAgICAgICAgICB7ImV4dHJhQ2xhc3NlcyI6ICJmYS1yb3RhdGUtMCIsICJpY29uIjogImluZm8tc2lnbiIsICJpY29uQ29sb3IiOiAid2hpdGUiLCAibWFya2VyQ29sb3IiOiAiZ3JlZW4iLCAicHJlZml4IjogImdseXBoaWNvbiJ9CiAgICAgICAgICAgICk7CiAgICAgICAgICAgIG1hcmtlcl8xMTU4NmQ2NDc1MDk0NGUwYmM2NjNlZjNiNjZjZGIxZC5zZXRJY29uKGljb25fNzcxNmNiMmExNzA4NDg2MmEzZDMxOGQ2NDdmMTdlOTIpOwogICAgICAgIAogICAgCiAgICAgICAgdmFyIHBvcHVwXzA5N2Q1NzVmOGI3ZDQwMGM4YzcyYThmMmU4ODRjM2RkID0gTC5wb3B1cCh7Im1heFdpZHRoIjogIjEwMCUifSk7CgogICAgICAgIAogICAgICAgICAgICB2YXIgaHRtbF82MTVlOWNmMzgwZDA0OGFhYWJiY2M4NDM2MzIxZDIwYyA9ICQoYDxkaXYgaWQ9Imh0bWxfNjE1ZTljZjM4MGQwNDhhYWFiYmNjODQzNjMyMWQyMGMiIHN0eWxlPSJ3aWR0aDogMTAwLjAlOyBoZWlnaHQ6IDEwMC4wJTsiPkRvdWdsYXMgU3RhdGlvbjwvZGl2PmApWzBdOwogICAgICAgICAgICBwb3B1cF8wOTdkNTc1ZjhiN2Q0MDBjOGM3MmE4ZjJlODg0YzNkZC5zZXRDb250ZW50KGh0bWxfNjE1ZTljZjM4MGQwNDhhYWFiYmNjODQzNjMyMWQyMGMpOwogICAgICAgIAoKICAgICAgICBtYXJrZXJfMTE1ODZkNjQ3NTA5NDRlMGJjNjYzZWYzYjY2Y2RiMWQuYmluZFBvcHVwKHBvcHVwXzA5N2Q1NzVmOGI3ZDQwMGM4YzcyYThmMmU4ODRjM2RkKQogICAgICAgIDsKCiAgICAgICAgCiAgICAKICAgIAogICAgICAgICAgICBtYXJrZXJfMTE1ODZkNjQ3NTA5NDRlMGJjNjYzZWYzYjY2Y2RiMWQuYmluZFRvb2x0aXAoCiAgICAgICAgICAgICAgICBgPGRpdj4KICAgICAgICAgICAgICAgICAgICAgR3JlZW4gTGluZTogRG91Z2xhcyBTdGF0aW9uCiAgICAgICAgICAgICAgICAgPC9kaXY+YCwKICAgICAgICAgICAgICAgIHsic3RpY2t5IjogdHJ1ZX0KICAgICAgICAgICAgKTsKICAgICAgICAKICAgIAogICAgICAgICAgICB2YXIgbWFya2VyXzIzNmNlZWVlNjA5NTQzM2I5YTlkZGZhMTczMGIyM2M4ID0gTC5tYXJrZXIoCiAgICAgICAgICAgICAgICBbMzMuOTE2MDYzLCAtMTE4LjM4NjUzOV0sCiAgICAgICAgICAgICAgICB7fQogICAgICAgICAgICApLmFkZFRvKG1hcF9jNDljODNkZjA0Mzk0MGQ2YmJkNzQ0OWZlZjMzZTgxZik7CiAgICAgICAgCiAgICAKICAgICAgICAgICAgdmFyIGljb25fMGRiNWEwYTlmY2Q4NDE1NDkxZjZlMGQwODgzZjMyZjQgPSBMLkF3ZXNvbWVNYXJrZXJzLmljb24oCiAgICAgICAgICAgICAgICB7ImV4dHJhQ2xhc3NlcyI6ICJmYS1yb3RhdGUtMCIsICJpY29uIjogImluZm8tc2lnbiIsICJpY29uQ29sb3IiOiAid2hpdGUiLCAibWFya2VyQ29sb3IiOiAiZ3JlZW4iLCAicHJlZml4IjogImdseXBoaWNvbiJ9CiAgICAgICAgICAgICk7CiAgICAgICAgICAgIG1hcmtlcl8yMzZjZWVlZTYwOTU0MzNiOWE5ZGRmYTE3MzBiMjNjOC5zZXRJY29uKGljb25fMGRiNWEwYTlmY2Q4NDE1NDkxZjZlMGQwODgzZjMyZjQpOwogICAgICAgIAogICAgCiAgICAgICAgdmFyIHBvcHVwXzZjMDM3MTFjYjYzODRiYjZiMTY0YWU5YWZjZDkyOGUxID0gTC5wb3B1cCh7Im1heFdpZHRoIjogIjEwMCUifSk7CgogICAgICAgIAogICAgICAgICAgICB2YXIgaHRtbF80ZmY0Njk3MTE1NTY0ZmQ5YWRhNzc2Y2NjMWU4MDJmYSA9ICQoYDxkaXYgaWQ9Imh0bWxfNGZmNDY5NzExNTU2NGZkOWFkYTc3NmNjYzFlODAyZmEiIHN0eWxlPSJ3aWR0aDogMTAwLjAlOyBoZWlnaHQ6IDEwMC4wJTsiPkVsIFNlZ3VuZG8gU3RhdGlvbjwvZGl2PmApWzBdOwogICAgICAgICAgICBwb3B1cF82YzAzNzExY2I2Mzg0YmI2YjE2NGFlOWFmY2Q5MjhlMS5zZXRDb250ZW50KGh0bWxfNGZmNDY5NzExNTU2NGZkOWFkYTc3NmNjYzFlODAyZmEpOwogICAgICAgIAoKICAgICAgICBtYXJrZXJfMjM2Y2VlZWU2MDk1NDMzYjlhOWRkZmExNzMwYjIzYzguYmluZFBvcHVwKHBvcHVwXzZjMDM3MTFjYjYzODRiYjZiMTY0YWU5YWZjZDkyOGUxKQogICAgICAgIDsKCiAgICAgICAgCiAgICAKICAgIAogICAgICAgICAgICBtYXJrZXJfMjM2Y2VlZWU2MDk1NDMzYjlhOWRkZmExNzMwYjIzYzguYmluZFRvb2x0aXAoCiAgICAgICAgICAgICAgICBgPGRpdj4KICAgICAgICAgICAgICAgICAgICAgR3JlZW4gTGluZTogRWwgU2VndW5kbyBTdGF0aW9uCiAgICAgICAgICAgICAgICAgPC9kaXY+YCwKICAgICAgICAgICAgICAgIHsic3RpY2t5IjogdHJ1ZX0KICAgICAgICAgICAgKTsKICAgICAgICAKICAgIAogICAgICAgICAgICB2YXIgbWFya2VyXzhmMTJhYzJlY2JmMjRmMzM4ZDY4MTRlNTgyYTQ1OGU0ID0gTC5tYXJrZXIoCiAgICAgICAgICAgICAgICBbMzMuOTIzMiwgLTExOC4zODc1NzJdLAogICAgICAgICAgICAgICAge30KICAgICAgICAgICAgKS5hZGRUbyhtYXBfYzQ5YzgzZGYwNDM5NDBkNmJiZDc0NDlmZWYzM2U4MWYpOwogICAgICAgIAogICAgCiAgICAgICAgICAgIHZhciBpY29uXzJkNmZlNjRhYzZiNjRiZWM4ZGViMjY1OTdiOTFmNzBhID0gTC5Bd2Vzb21lTWFya2Vycy5pY29uKAogICAgICAgICAgICAgICAgeyJleHRyYUNsYXNzZXMiOiAiZmEtcm90YXRlLTAiLCAiaWNvbiI6ICJpbmZvLXNpZ24iLCAiaWNvbkNvbG9yIjogIndoaXRlIiwgIm1hcmtlckNvbG9yIjogImdyZWVuIiwgInByZWZpeCI6ICJnbHlwaGljb24ifQogICAgICAgICAgICApOwogICAgICAgICAgICBtYXJrZXJfOGYxMmFjMmVjYmYyNGYzMzhkNjgxNGU1ODJhNDU4ZTQuc2V0SWNvbihpY29uXzJkNmZlNjRhYzZiNjRiZWM4ZGViMjY1OTdiOTFmNzBhKTsKICAgICAgICAKICAgIAogICAgICAgIHZhciBwb3B1cF85NzM4MDc3MTA1YjU0OTU4OGIwMjU5Mjg4MDA5NjQ5YiA9IEwucG9wdXAoeyJtYXhXaWR0aCI6ICIxMDAlIn0pOwoKICAgICAgICAKICAgICAgICAgICAgdmFyIGh0bWxfZWQ3M2ExYzNiYjM1NGE4M2I5NjFhNDU1YTk1MTg0NzAgPSAkKGA8ZGl2IGlkPSJodG1sX2VkNzNhMWMzYmIzNTRhODNiOTYxYTQ1NWE5NTE4NDcwIiBzdHlsZT0id2lkdGg6IDEwMC4wJTsgaGVpZ2h0OiAxMDAuMCU7Ij5NYXJpcG9zYSBTdGF0aW9uPC9kaXY+YClbMF07CiAgICAgICAgICAgIHBvcHVwXzk3MzgwNzcxMDViNTQ5NTg4YjAyNTkyODgwMDk2NDliLnNldENvbnRlbnQoaHRtbF9lZDczYTFjM2JiMzU0YTgzYjk2MWE0NTVhOTUxODQ3MCk7CiAgICAgICAgCgogICAgICAgIG1hcmtlcl84ZjEyYWMyZWNiZjI0ZjMzOGQ2ODE0ZTU4MmE0NThlNC5iaW5kUG9wdXAocG9wdXBfOTczODA3NzEwNWI1NDk1ODhiMDI1OTI4ODAwOTY0OWIpCiAgICAgICAgOwoKICAgICAgICAKICAgIAogICAgCiAgICAgICAgICAgIG1hcmtlcl84ZjEyYWMyZWNiZjI0ZjMzOGQ2ODE0ZTU4MmE0NThlNC5iaW5kVG9vbHRpcCgKICAgICAgICAgICAgICAgIGA8ZGl2PgogICAgICAgICAgICAgICAgICAgICBHcmVlbiBMaW5lOiBNYXJpcG9zYSBTdGF0aW9uCiAgICAgICAgICAgICAgICAgPC9kaXY+YCwKICAgICAgICAgICAgICAgIHsic3RpY2t5IjogdHJ1ZX0KICAgICAgICAgICAgKTsKICAgICAgICAKICAgIAogICAgICAgICAgICB2YXIgbWFya2VyXzA4ZjM3NTkzOGU3NTQyMGU5NTMwMDM2MzJiMmQzNGY0ID0gTC5tYXJrZXIoCiAgICAgICAgICAgICAgICBbMzMuOTI5NjIxLCAtMTE4LjM3NzEzNF0sCiAgICAgICAgICAgICAgICB7fQogICAgICAgICAgICApLmFkZFRvKG1hcF9jNDljODNkZjA0Mzk0MGQ2YmJkNzQ0OWZlZjMzZTgxZik7CiAgICAgICAgCiAgICAKICAgICAgICAgICAgdmFyIGljb25fNDE3NjAyMGNjMmVlNDAxNmIyYjU2YmNlMmUwZjI2MDEgPSBMLkF3ZXNvbWVNYXJrZXJzLmljb24oCiAgICAgICAgICAgICAgICB7ImV4dHJhQ2xhc3NlcyI6ICJmYS1yb3RhdGUtMCIsICJpY29uIjogImluZm8tc2lnbiIsICJpY29uQ29sb3IiOiAid2hpdGUiLCAibWFya2VyQ29sb3IiOiAiZ3JlZW4iLCAicHJlZml4IjogImdseXBoaWNvbiJ9CiAgICAgICAgICAgICk7CiAgICAgICAgICAgIG1hcmtlcl8wOGYzNzU5MzhlNzU0MjBlOTUzMDAzNjMyYjJkMzRmNC5zZXRJY29uKGljb25fNDE3NjAyMGNjMmVlNDAxNmIyYjU2YmNlMmUwZjI2MDEpOwogICAgICAgIAogICAgCiAgICAgICAgdmFyIHBvcHVwXzQyYWZhOGUwNmUxZTRkMjI5NjhlOTE1YTNhYWIxZjE5ID0gTC5wb3B1cCh7Im1heFdpZHRoIjogIjEwMCUifSk7CgogICAgICAgIAogICAgICAgICAgICB2YXIgaHRtbF83MGQ0MDQwZWJiOWQ0ZDFiYjhiNWE1MjUyNjAxNzdhOCA9ICQoYDxkaXYgaWQ9Imh0bWxfNzBkNDA0MGViYjlkNGQxYmI4YjVhNTI1MjYwMTc3YTgiIHN0eWxlPSJ3aWR0aDogMTAwLjAlOyBoZWlnaHQ6IDEwMC4wJTsiPkF2aWF0aW9uIC8gTEFYIFN0YXRpb248L2Rpdj5gKVswXTsKICAgICAgICAgICAgcG9wdXBfNDJhZmE4ZTA2ZTFlNGQyMjk2OGU5MTVhM2FhYjFmMTkuc2V0Q29udGVudChodG1sXzcwZDQwNDBlYmI5ZDRkMWJiOGI1YTUyNTI2MDE3N2E4KTsKICAgICAgICAKCiAgICAgICAgbWFya2VyXzA4ZjM3NTkzOGU3NTQyMGU5NTMwMDM2MzJiMmQzNGY0LmJpbmRQb3B1cChwb3B1cF80MmFmYThlMDZlMWU0ZDIyOTY4ZTkxNWEzYWFiMWYxOSkKICAgICAgICA7CgogICAgICAgIAogICAgCiAgICAKICAgICAgICAgICAgbWFya2VyXzA4ZjM3NTkzOGU3NTQyMGU5NTMwMDM2MzJiMmQzNGY0LmJpbmRUb29sdGlwKAogICAgICAgICAgICAgICAgYDxkaXY+CiAgICAgICAgICAgICAgICAgICAgIEdyZWVuIExpbmU6IEF2aWF0aW9uIC8gTEFYIFN0YXRpb24KICAgICAgICAgICAgICAgICA8L2Rpdj5gLAogICAgICAgICAgICAgICAgeyJzdGlja3kiOiB0cnVlfQogICAgICAgICAgICApOwogICAgICAgIAogICAgCiAgICAgICAgICAgIHZhciBtYXJrZXJfNmExMmViZDAwMGU2NDU2ODhkNjBhZjcwYWZjNjI1YzggPSBMLm1hcmtlcigKICAgICAgICAgICAgICAgIFszMy45MzM0MDgsIC0xMTguMzUxNjAyXSwKICAgICAgICAgICAgICAgIHt9CiAgICAgICAgICAgICkuYWRkVG8obWFwX2M0OWM4M2RmMDQzOTQwZDZiYmQ3NDQ5ZmVmMzNlODFmKTsKICAgICAgICAKICAgIAogICAgICAgICAgICB2YXIgaWNvbl85MjZmMmNhYjMyMDY0YTk0ODE4NjI5OTQzNzIzZTM3MSA9IEwuQXdlc29tZU1hcmtlcnMuaWNvbigKICAgICAgICAgICAgICAgIHsiZXh0cmFDbGFzc2VzIjogImZhLXJvdGF0ZS0wIiwgImljb24iOiAiaW5mby1zaWduIiwgImljb25Db2xvciI6ICJ3aGl0ZSIsICJtYXJrZXJDb2xvciI6ICJncmVlbiIsICJwcmVmaXgiOiAiZ2x5cGhpY29uIn0KICAgICAgICAgICAgKTsKICAgICAgICAgICAgbWFya2VyXzZhMTJlYmQwMDBlNjQ1Njg4ZDYwYWY3MGFmYzYyNWM4LnNldEljb24oaWNvbl85MjZmMmNhYjMyMDY0YTk0ODE4NjI5OTQzNzIzZTM3MSk7CiAgICAgICAgCiAgICAKICAgICAgICB2YXIgcG9wdXBfMzk3MjQ1MGQxODY1NDQ2NmI5NjBkYmY1MjIyMTBlYjAgPSBMLnBvcHVwKHsibWF4V2lkdGgiOiAiMTAwJSJ9KTsKCiAgICAgICAgCiAgICAgICAgICAgIHZhciBodG1sXzM1MWRiOWIyNDRjOTRjOGFiYTJlZjVlMzQ2NzA3ODk4ID0gJChgPGRpdiBpZD0iaHRtbF8zNTFkYjliMjQ0Yzk0YzhhYmEyZWY1ZTM0NjcwNzg5OCIgc3R5bGU9IndpZHRoOiAxMDAuMCU7IGhlaWdodDogMTAwLjAlOyI+SGF3dGhvcm5lIC8gTGVubm94IFN0YXRpb248L2Rpdj5gKVswXTsKICAgICAgICAgICAgcG9wdXBfMzk3MjQ1MGQxODY1NDQ2NmI5NjBkYmY1MjIyMTBlYjAuc2V0Q29udGVudChodG1sXzM1MWRiOWIyNDRjOTRjOGFiYTJlZjVlMzQ2NzA3ODk4KTsKICAgICAgICAKCiAgICAgICAgbWFya2VyXzZhMTJlYmQwMDBlNjQ1Njg4ZDYwYWY3MGFmYzYyNWM4LmJpbmRQb3B1cChwb3B1cF8zOTcyNDUwZDE4NjU0NDY2Yjk2MGRiZjUyMjIxMGViMCkKICAgICAgICA7CgogICAgICAgIAogICAgCiAgICAKICAgICAgICAgICAgbWFya2VyXzZhMTJlYmQwMDBlNjQ1Njg4ZDYwYWY3MGFmYzYyNWM4LmJpbmRUb29sdGlwKAogICAgICAgICAgICAgICAgYDxkaXY+CiAgICAgICAgICAgICAgICAgICAgIEdyZWVuIExpbmU6IEhhd3Rob3JuZSAvIExlbm5veCBTdGF0aW9uCiAgICAgICAgICAgICAgICAgPC9kaXY+YCwKICAgICAgICAgICAgICAgIHsic3RpY2t5IjogdHJ1ZX0KICAgICAgICAgICAgKTsKICAgICAgICAKICAgIAogICAgICAgICAgICB2YXIgbWFya2VyX2Y3MWNiZjE4MTc0ODQyYjBiZDZmMjVkZDFhYjQwYzY3ID0gTC5tYXJrZXIoCiAgICAgICAgICAgICAgICBbMzMuOTI1MjAxLCAtMTE4LjMyNjU1XSwKICAgICAgICAgICAgICAgIHt9CiAgICAgICAgICAgICkuYWRkVG8obWFwX2M0OWM4M2RmMDQzOTQwZDZiYmQ3NDQ5ZmVmMzNlODFmKTsKICAgICAgICAKICAgIAogICAgICAgICAgICB2YXIgaWNvbl9hYmJlMzI2NWU2MDY0Yzk4OTIzMjNjZGMxMzU4NWRmNSA9IEwuQXdlc29tZU1hcmtlcnMuaWNvbigKICAgICAgICAgICAgICAgIHsiZXh0cmFDbGFzc2VzIjogImZhLXJvdGF0ZS0wIiwgImljb24iOiAiaW5mby1zaWduIiwgImljb25Db2xvciI6ICJ3aGl0ZSIsICJtYXJrZXJDb2xvciI6ICJncmVlbiIsICJwcmVmaXgiOiAiZ2x5cGhpY29uIn0KICAgICAgICAgICAgKTsKICAgICAgICAgICAgbWFya2VyX2Y3MWNiZjE4MTc0ODQyYjBiZDZmMjVkZDFhYjQwYzY3LnNldEljb24oaWNvbl9hYmJlMzI2NWU2MDY0Yzk4OTIzMjNjZGMxMzU4NWRmNSk7CiAgICAgICAgCiAgICAKICAgICAgICB2YXIgcG9wdXBfY2NiZTMwMWI1NzcyNDM1NjlkMzlhYTA1NzcyZDI2NmIgPSBMLnBvcHVwKHsibWF4V2lkdGgiOiAiMTAwJSJ9KTsKCiAgICAgICAgCiAgICAgICAgICAgIHZhciBodG1sX2ZjOTg1ODczY2RjMDRiZmY5NGRhMjFiYTI1ZmZiMmQxID0gJChgPGRpdiBpZD0iaHRtbF9mYzk4NTg3M2NkYzA0YmZmOTRkYTIxYmEyNWZmYjJkMSIgc3R5bGU9IndpZHRoOiAxMDAuMCU7IGhlaWdodDogMTAwLjAlOyI+Q3JlbnNoYXcgU3RhdGlvbjwvZGl2PmApWzBdOwogICAgICAgICAgICBwb3B1cF9jY2JlMzAxYjU3NzI0MzU2OWQzOWFhMDU3NzJkMjY2Yi5zZXRDb250ZW50KGh0bWxfZmM5ODU4NzNjZGMwNGJmZjk0ZGEyMWJhMjVmZmIyZDEpOwogICAgICAgIAoKICAgICAgICBtYXJrZXJfZjcxY2JmMTgxNzQ4NDJiMGJkNmYyNWRkMWFiNDBjNjcuYmluZFBvcHVwKHBvcHVwX2NjYmUzMDFiNTc3MjQzNTY5ZDM5YWEwNTc3MmQyNjZiKQogICAgICAgIDsKCiAgICAgICAgCiAgICAKICAgIAogICAgICAgICAgICBtYXJrZXJfZjcxY2JmMTgxNzQ4NDJiMGJkNmYyNWRkMWFiNDBjNjcuYmluZFRvb2x0aXAoCiAgICAgICAgICAgICAgICBgPGRpdj4KICAgICAgICAgICAgICAgICAgICAgR3JlZW4gTGluZTogQ3JlbnNoYXcgU3RhdGlvbgogICAgICAgICAgICAgICAgIDwvZGl2PmAsCiAgICAgICAgICAgICAgICB7InN0aWNreSI6IHRydWV9CiAgICAgICAgICAgICk7CiAgICAgICAgCiAgICAKICAgICAgICAgICAgdmFyIG1hcmtlcl8xYTlkNDU4ZjY2ODM0N2M5OWU1Zjk2MzdjM2MyMDBmOSA9IEwubWFya2VyKAogICAgICAgICAgICAgICAgWzMzLjkyODY4MywgLTExOC4yOTE3MzNdLAogICAgICAgICAgICAgICAge30KICAgICAgICAgICAgKS5hZGRUbyhtYXBfYzQ5YzgzZGYwNDM5NDBkNmJiZDc0NDlmZWYzM2U4MWYpOwogICAgICAgIAogICAgCiAgICAgICAgICAgIHZhciBpY29uXzgxNmViMmQxZWIxNDQyYzY4YjQ3MDU1MzAzYWE4MDI1ID0gTC5Bd2Vzb21lTWFya2Vycy5pY29uKAogICAgICAgICAgICAgICAgeyJleHRyYUNsYXNzZXMiOiAiZmEtcm90YXRlLTAiLCAiaWNvbiI6ICJpbmZvLXNpZ24iLCAiaWNvbkNvbG9yIjogIndoaXRlIiwgIm1hcmtlckNvbG9yIjogImdyZWVuIiwgInByZWZpeCI6ICJnbHlwaGljb24ifQogICAgICAgICAgICApOwogICAgICAgICAgICBtYXJrZXJfMWE5ZDQ1OGY2NjgzNDdjOTllNWY5NjM3YzNjMjAwZjkuc2V0SWNvbihpY29uXzgxNmViMmQxZWIxNDQyYzY4YjQ3MDU1MzAzYWE4MDI1KTsKICAgICAgICAKICAgIAogICAgICAgIHZhciBwb3B1cF9hZmMxYzNiMzc1YWE0MDdmYTE4MmUwOTJhMjQ4YmJjYiA9IEwucG9wdXAoeyJtYXhXaWR0aCI6ICIxMDAlIn0pOwoKICAgICAgICAKICAgICAgICAgICAgdmFyIGh0bWxfMDVkMGExMGRlMDg5NDYzY2E0NWQ2ODY1MmE5ZGNhOGQgPSAkKGA8ZGl2IGlkPSJodG1sXzA1ZDBhMTBkZTA4OTQ2M2NhNDVkNjg2NTJhOWRjYThkIiBzdHlsZT0id2lkdGg6IDEwMC4wJTsgaGVpZ2h0OiAxMDAuMCU7Ij5WZXJtb250IC8gQXRoZW5zIFN0YXRpb248L2Rpdj5gKVswXTsKICAgICAgICAgICAgcG9wdXBfYWZjMWMzYjM3NWFhNDA3ZmExODJlMDkyYTI0OGJiY2Iuc2V0Q29udGVudChodG1sXzA1ZDBhMTBkZTA4OTQ2M2NhNDVkNjg2NTJhOWRjYThkKTsKICAgICAgICAKCiAgICAgICAgbWFya2VyXzFhOWQ0NThmNjY4MzQ3Yzk5ZTVmOTYzN2MzYzIwMGY5LmJpbmRQb3B1cChwb3B1cF9hZmMxYzNiMzc1YWE0MDdmYTE4MmUwOTJhMjQ4YmJjYikKICAgICAgICA7CgogICAgICAgIAogICAgCiAgICAKICAgICAgICAgICAgbWFya2VyXzFhOWQ0NThmNjY4MzQ3Yzk5ZTVmOTYzN2MzYzIwMGY5LmJpbmRUb29sdGlwKAogICAgICAgICAgICAgICAgYDxkaXY+CiAgICAgICAgICAgICAgICAgICAgIEdyZWVuIExpbmU6IFZlcm1vbnQgLyBBdGhlbnMgU3RhdGlvbgogICAgICAgICAgICAgICAgIDwvZGl2PmAsCiAgICAgICAgICAgICAgICB7InN0aWNreSI6IHRydWV9CiAgICAgICAgICAgICk7CiAgICAgICAgCiAgICAKICAgICAgICAgICAgdmFyIG1hcmtlcl80MjBiNjc0NWIxMDk0MTgyODAwOWRiODk1OWY1OTAzYiA9IEwubWFya2VyKAogICAgICAgICAgICAgICAgWzMzLjkyODcxNCwgLTExOC4yODExXSwKICAgICAgICAgICAgICAgIHt9CiAgICAgICAgICAgICkuYWRkVG8obWFwX2M0OWM4M2RmMDQzOTQwZDZiYmQ3NDQ5ZmVmMzNlODFmKTsKICAgICAgICAKICAgIAogICAgICAgICAgICB2YXIgaWNvbl8xNmNjZTMzNGI2NjU0MWJlYjk4Mzk0MzA5ZGI1ZTU5OCA9IEwuQXdlc29tZU1hcmtlcnMuaWNvbigKICAgICAgICAgICAgICAgIHsiZXh0cmFDbGFzc2VzIjogImZhLXJvdGF0ZS0wIiwgImljb24iOiAiaW5mby1zaWduIiwgImljb25Db2xvciI6ICJ3aGl0ZSIsICJtYXJrZXJDb2xvciI6ICJncmVlbiIsICJwcmVmaXgiOiAiZ2x5cGhpY29uIn0KICAgICAgICAgICAgKTsKICAgICAgICAgICAgbWFya2VyXzQyMGI2NzQ1YjEwOTQxODI4MDA5ZGI4OTU5ZjU5MDNiLnNldEljb24oaWNvbl8xNmNjZTMzNGI2NjU0MWJlYjk4Mzk0MzA5ZGI1ZTU5OCk7CiAgICAgICAgCiAgICAKICAgICAgICB2YXIgcG9wdXBfZmU4ZWRhMGZmMmQyNDg3NmEwMTI0ODNlYmQzYWNkNTAgPSBMLnBvcHVwKHsibWF4V2lkdGgiOiAiMTAwJSJ9KTsKCiAgICAgICAgCiAgICAgICAgICAgIHZhciBodG1sXzcxODc3MGRhNTcwYjRmYjc5NjdhNzEyN2FiYWYyMWY1ID0gJChgPGRpdiBpZD0iaHRtbF83MTg3NzBkYTU3MGI0ZmI3OTY3YTcxMjdhYmFmMjFmNSIgc3R5bGU9IndpZHRoOiAxMDAuMCU7IGhlaWdodDogMTAwLjAlOyI+SGFyYm9yIEZyZWV3YXkgU3RhdGlvbjwvZGl2PmApWzBdOwogICAgICAgICAgICBwb3B1cF9mZThlZGEwZmYyZDI0ODc2YTAxMjQ4M2ViZDNhY2Q1MC5zZXRDb250ZW50KGh0bWxfNzE4NzcwZGE1NzBiNGZiNzk2N2E3MTI3YWJhZjIxZjUpOwogICAgICAgIAoKICAgICAgICBtYXJrZXJfNDIwYjY3NDViMTA5NDE4MjgwMDlkYjg5NTlmNTkwM2IuYmluZFBvcHVwKHBvcHVwX2ZlOGVkYTBmZjJkMjQ4NzZhMDEyNDgzZWJkM2FjZDUwKQogICAgICAgIDsKCiAgICAgICAgCiAgICAKICAgIAogICAgICAgICAgICBtYXJrZXJfNDIwYjY3NDViMTA5NDE4MjgwMDlkYjg5NTlmNTkwM2IuYmluZFRvb2x0aXAoCiAgICAgICAgICAgICAgICBgPGRpdj4KICAgICAgICAgICAgICAgICAgICAgR3JlZW4gTGluZTogSGFyYm9yIEZyZWV3YXkgU3RhdGlvbgogICAgICAgICAgICAgICAgIDwvZGl2PmAsCiAgICAgICAgICAgICAgICB7InN0aWNreSI6IHRydWV9CiAgICAgICAgICAgICk7CiAgICAgICAgCiAgICAKICAgICAgICAgICAgdmFyIG1hcmtlcl84ZDIxNTE1YmRjZjA0M2U4OTgxNzgwODU4NGQ4NDc2NCA9IEwubWFya2VyKAogICAgICAgICAgICAgICAgWzMzLjkyNzQ2NSwgLTExOC4yNjUyMTddLAogICAgICAgICAgICAgICAge30KICAgICAgICAgICAgKS5hZGRUbyhtYXBfYzQ5YzgzZGYwNDM5NDBkNmJiZDc0NDlmZWYzM2U4MWYpOwogICAgICAgIAogICAgCiAgICAgICAgICAgIHZhciBpY29uXzNlMmM3OWVkNzgwZTRiNzk5YjNlODQ3NTU3OWNiY2EwID0gTC5Bd2Vzb21lTWFya2Vycy5pY29uKAogICAgICAgICAgICAgICAgeyJleHRyYUNsYXNzZXMiOiAiZmEtcm90YXRlLTAiLCAiaWNvbiI6ICJpbmZvLXNpZ24iLCAiaWNvbkNvbG9yIjogIndoaXRlIiwgIm1hcmtlckNvbG9yIjogImdyZWVuIiwgInByZWZpeCI6ICJnbHlwaGljb24ifQogICAgICAgICAgICApOwogICAgICAgICAgICBtYXJrZXJfOGQyMTUxNWJkY2YwNDNlODk4MTc4MDg1ODRkODQ3NjQuc2V0SWNvbihpY29uXzNlMmM3OWVkNzgwZTRiNzk5YjNlODQ3NTU3OWNiY2EwKTsKICAgICAgICAKICAgIAogICAgICAgIHZhciBwb3B1cF8wNDE1MDNhNTVhNWQ0NDMyYTk0YTkyYWZmZGE4NDI2YSA9IEwucG9wdXAoeyJtYXhXaWR0aCI6ICIxMDAlIn0pOwoKICAgICAgICAKICAgICAgICAgICAgdmFyIGh0bWxfNGE0ODc2M2Q1YzdkNGIyNThkNzVkMjNjOTg3ZGY3NGQgPSAkKGA8ZGl2IGlkPSJodG1sXzRhNDg3NjNkNWM3ZDRiMjU4ZDc1ZDIzYzk4N2RmNzRkIiBzdHlsZT0id2lkdGg6IDEwMC4wJTsgaGVpZ2h0OiAxMDAuMCU7Ij5BdmFsb24gU3RhdGlvbjwvZGl2PmApWzBdOwogICAgICAgICAgICBwb3B1cF8wNDE1MDNhNTVhNWQ0NDMyYTk0YTkyYWZmZGE4NDI2YS5zZXRDb250ZW50KGh0bWxfNGE0ODc2M2Q1YzdkNGIyNThkNzVkMjNjOTg3ZGY3NGQpOwogICAgICAgIAoKICAgICAgICBtYXJrZXJfOGQyMTUxNWJkY2YwNDNlODk4MTc4MDg1ODRkODQ3NjQuYmluZFBvcHVwKHBvcHVwXzA0MTUwM2E1NWE1ZDQ0MzJhOTRhOTJhZmZkYTg0MjZhKQogICAgICAgIDsKCiAgICAgICAgCiAgICAKICAgIAogICAgICAgICAgICBtYXJrZXJfOGQyMTUxNWJkY2YwNDNlODk4MTc4MDg1ODRkODQ3NjQuYmluZFRvb2x0aXAoCiAgICAgICAgICAgICAgICBgPGRpdj4KICAgICAgICAgICAgICAgICAgICAgR3JlZW4gTGluZTogQXZhbG9uIFN0YXRpb24KICAgICAgICAgICAgICAgICA8L2Rpdj5gLAogICAgICAgICAgICAgICAgeyJzdGlja3kiOiB0cnVlfQogICAgICAgICAgICApOwogICAgICAgIAogICAgCiAgICAgICAgICAgIHZhciBtYXJrZXJfNThmNDY0N2U5YTJmNDg0NmE1YjhkODU1YTRiMTFjZmIgPSBMLm1hcmtlcigKICAgICAgICAgICAgICAgIFszMy45MjgyNTgsIC0xMTguMjM4MDUyXSwKICAgICAgICAgICAgICAgIHt9CiAgICAgICAgICAgICkuYWRkVG8obWFwX2M0OWM4M2RmMDQzOTQwZDZiYmQ3NDQ5ZmVmMzNlODFmKTsKICAgICAgICAKICAgIAogICAgICAgICAgICB2YXIgaWNvbl85YzdlMmQ2MGEwZDk0NjU4YjQyNGQ4ZmQzMmJiMGNlOCA9IEwuQXdlc29tZU1hcmtlcnMuaWNvbigKICAgICAgICAgICAgICAgIHsiZXh0cmFDbGFzc2VzIjogImZhLXJvdGF0ZS0wIiwgImljb24iOiAiaW5mby1zaWduIiwgImljb25Db2xvciI6ICJ3aGl0ZSIsICJtYXJrZXJDb2xvciI6ICJncmVlbiIsICJwcmVmaXgiOiAiZ2x5cGhpY29uIn0KICAgICAgICAgICAgKTsKICAgICAgICAgICAgbWFya2VyXzU4ZjQ2NDdlOWEyZjQ4NDZhNWI4ZDg1NWE0YjExY2ZiLnNldEljb24oaWNvbl85YzdlMmQ2MGEwZDk0NjU4YjQyNGQ4ZmQzMmJiMGNlOCk7CiAgICAgICAgCiAgICAKICAgICAgICB2YXIgcG9wdXBfMmMxN2NmZjBhOTk0NDgzZDg2YjA1OTk3ZmRjOGJlN2QgPSBMLnBvcHVwKHsibWF4V2lkdGgiOiAiMTAwJSJ9KTsKCiAgICAgICAgCiAgICAgICAgICAgIHZhciBodG1sXzY4ZDJiZWUzMGQwNDQ5ZWE5MWRhM2IzNWI2ZTdmNTZkID0gJChgPGRpdiBpZD0iaHRtbF82OGQyYmVlMzBkMDQ0OWVhOTFkYTNiMzViNmU3ZjU2ZCIgc3R5bGU9IndpZHRoOiAxMDAuMCU7IGhlaWdodDogMTAwLjAlOyI+V2lsbG93YnJvb2sgLSBSb3NhIFBhcmtzIFN0YXRpb24gLSBNZXRybyBHcmVlbiBMaW5lPC9kaXY+YClbMF07CiAgICAgICAgICAgIHBvcHVwXzJjMTdjZmYwYTk5NDQ4M2Q4NmIwNTk5N2ZkYzhiZTdkLnNldENvbnRlbnQoaHRtbF82OGQyYmVlMzBkMDQ0OWVhOTFkYTNiMzViNmU3ZjU2ZCk7CiAgICAgICAgCgogICAgICAgIG1hcmtlcl81OGY0NjQ3ZTlhMmY0ODQ2YTViOGQ4NTVhNGIxMWNmYi5iaW5kUG9wdXAocG9wdXBfMmMxN2NmZjBhOTk0NDgzZDg2YjA1OTk3ZmRjOGJlN2QpCiAgICAgICAgOwoKICAgICAgICAKICAgIAogICAgCiAgICAgICAgICAgIG1hcmtlcl81OGY0NjQ3ZTlhMmY0ODQ2YTViOGQ4NTVhNGIxMWNmYi5iaW5kVG9vbHRpcCgKICAgICAgICAgICAgICAgIGA8ZGl2PgogICAgICAgICAgICAgICAgICAgICBHcmVlbiBMaW5lOiBXaWxsb3dicm9vayAtIFJvc2EgUGFya3MgU3RhdGlvbiAtIE1ldHJvIEdyZWVuIExpbmUKICAgICAgICAgICAgICAgICA8L2Rpdj5gLAogICAgICAgICAgICAgICAgeyJzdGlja3kiOiB0cnVlfQogICAgICAgICAgICApOwogICAgICAgIAogICAgCiAgICAgICAgICAgIHZhciBtYXJrZXJfNTNhNjI2ZDI3YjVkNGE3NmE0YWMwMGI3MzQ1MmVjZTQgPSBMLm1hcmtlcigKICAgICAgICAgICAgICAgIFszMy45MjQ4OCwgLTExOC4yMDk5NDVdLAogICAgICAgICAgICAgICAge30KICAgICAgICAgICAgKS5hZGRUbyhtYXBfYzQ5YzgzZGYwNDM5NDBkNmJiZDc0NDlmZWYzM2U4MWYpOwogICAgICAgIAogICAgCiAgICAgICAgICAgIHZhciBpY29uXzIyYmQ0ZjQwYWMyYjQ2NDRiN2YzZjhhYzdhZThlNjU0ID0gTC5Bd2Vzb21lTWFya2Vycy5pY29uKAogICAgICAgICAgICAgICAgeyJleHRyYUNsYXNzZXMiOiAiZmEtcm90YXRlLTAiLCAiaWNvbiI6ICJpbmZvLXNpZ24iLCAiaWNvbkNvbG9yIjogIndoaXRlIiwgIm1hcmtlckNvbG9yIjogImdyZWVuIiwgInByZWZpeCI6ICJnbHlwaGljb24ifQogICAgICAgICAgICApOwogICAgICAgICAgICBtYXJrZXJfNTNhNjI2ZDI3YjVkNGE3NmE0YWMwMGI3MzQ1MmVjZTQuc2V0SWNvbihpY29uXzIyYmQ0ZjQwYWMyYjQ2NDRiN2YzZjhhYzdhZThlNjU0KTsKICAgICAgICAKICAgIAogICAgICAgIHZhciBwb3B1cF8zMjc0NDA2NmI0MDY0YmIwYTk2MzdiZDRlYzY3Yzg5MSA9IEwucG9wdXAoeyJtYXhXaWR0aCI6ICIxMDAlIn0pOwoKICAgICAgICAKICAgICAgICAgICAgdmFyIGh0bWxfYmQ3MWM2ZWE1NTEyNDVhMTg2YTBjMWJhMDkwNTYwNmEgPSAkKGA8ZGl2IGlkPSJodG1sX2JkNzFjNmVhNTUxMjQ1YTE4NmEwYzFiYTA5MDU2MDZhIiBzdHlsZT0id2lkdGg6IDEwMC4wJTsgaGVpZ2h0OiAxMDAuMCU7Ij5Mb25nIEJlYWNoIEJsdmQgU3RhdGlvbjwvZGl2PmApWzBdOwogICAgICAgICAgICBwb3B1cF8zMjc0NDA2NmI0MDY0YmIwYTk2MzdiZDRlYzY3Yzg5MS5zZXRDb250ZW50KGh0bWxfYmQ3MWM2ZWE1NTEyNDVhMTg2YTBjMWJhMDkwNTYwNmEpOwogICAgICAgIAoKICAgICAgICBtYXJrZXJfNTNhNjI2ZDI3YjVkNGE3NmE0YWMwMGI3MzQ1MmVjZTQuYmluZFBvcHVwKHBvcHVwXzMyNzQ0MDY2YjQwNjRiYjBhOTYzN2JkNGVjNjdjODkxKQogICAgICAgIDsKCiAgICAgICAgCiAgICAKICAgIAogICAgICAgICAgICBtYXJrZXJfNTNhNjI2ZDI3YjVkNGE3NmE0YWMwMGI3MzQ1MmVjZTQuYmluZFRvb2x0aXAoCiAgICAgICAgICAgICAgICBgPGRpdj4KICAgICAgICAgICAgICAgICAgICAgR3JlZW4gTGluZTogTG9uZyBCZWFjaCBCbHZkIFN0YXRpb24KICAgICAgICAgICAgICAgICA8L2Rpdj5gLAogICAgICAgICAgICAgICAgeyJzdGlja3kiOiB0cnVlfQogICAgICAgICAgICApOwogICAgICAgIAogICAgCiAgICAgICAgICAgIHZhciBtYXJrZXJfNTAxYTU1ZTkyODk5NGIxNjg4YTdlMDBhNGE4ZmQ5MmUgPSBMLm1hcmtlcigKICAgICAgICAgICAgICAgIFszMy45MTMwNywgLTExOC4xNDA2XSwKICAgICAgICAgICAgICAgIHt9CiAgICAgICAgICAgICkuYWRkVG8obWFwX2M0OWM4M2RmMDQzOTQwZDZiYmQ3NDQ5ZmVmMzNlODFmKTsKICAgICAgICAKICAgIAogICAgICAgICAgICB2YXIgaWNvbl85NTFhNTJhZWU1NDg0NGVjODM3NDg2ZWI3NGU0NjA4NiA9IEwuQXdlc29tZU1hcmtlcnMuaWNvbigKICAgICAgICAgICAgICAgIHsiZXh0cmFDbGFzc2VzIjogImZhLXJvdGF0ZS0wIiwgImljb24iOiAiaW5mby1zaWduIiwgImljb25Db2xvciI6ICJ3aGl0ZSIsICJtYXJrZXJDb2xvciI6ICJncmVlbiIsICJwcmVmaXgiOiAiZ2x5cGhpY29uIn0KICAgICAgICAgICAgKTsKICAgICAgICAgICAgbWFya2VyXzUwMWE1NWU5Mjg5OTRiMTY4OGE3ZTAwYTRhOGZkOTJlLnNldEljb24oaWNvbl85NTFhNTJhZWU1NDg0NGVjODM3NDg2ZWI3NGU0NjA4Nik7CiAgICAgICAgCiAgICAKICAgICAgICB2YXIgcG9wdXBfN2MzNTU1ZjlmNjIyNGRhY2JjNzg1MzUxMmQ2YWQ1MDkgPSBMLnBvcHVwKHsibWF4V2lkdGgiOiAiMTAwJSJ9KTsKCiAgICAgICAgCiAgICAgICAgICAgIHZhciBodG1sX2FjYzc1M2ExY2IyZTQ2NDM5M2FmNWI1ZDllNDhlMzFlID0gJChgPGRpdiBpZD0iaHRtbF9hY2M3NTNhMWNiMmU0NjQzOTNhZjViNWQ5ZTQ4ZTMxZSIgc3R5bGU9IndpZHRoOiAxMDAuMCU7IGhlaWdodDogMTAwLjAlOyI+TGFrZXdvb2QgQmx2ZCBTdGF0aW9uPC9kaXY+YClbMF07CiAgICAgICAgICAgIHBvcHVwXzdjMzU1NWY5ZjYyMjRkYWNiYzc4NTM1MTJkNmFkNTA5LnNldENvbnRlbnQoaHRtbF9hY2M3NTNhMWNiMmU0NjQzOTNhZjViNWQ5ZTQ4ZTMxZSk7CiAgICAgICAgCgogICAgICAgIG1hcmtlcl81MDFhNTVlOTI4OTk0YjE2ODhhN2UwMGE0YThmZDkyZS5iaW5kUG9wdXAocG9wdXBfN2MzNTU1ZjlmNjIyNGRhY2JjNzg1MzUxMmQ2YWQ1MDkpCiAgICAgICAgOwoKICAgICAgICAKICAgIAogICAgCiAgICAgICAgICAgIG1hcmtlcl81MDFhNTVlOTI4OTk0YjE2ODhhN2UwMGE0YThmZDkyZS5iaW5kVG9vbHRpcCgKICAgICAgICAgICAgICAgIGA8ZGl2PgogICAgICAgICAgICAgICAgICAgICBHcmVlbiBMaW5lOiBMYWtld29vZCBCbHZkIFN0YXRpb24KICAgICAgICAgICAgICAgICA8L2Rpdj5gLAogICAgICAgICAgICAgICAgeyJzdGlja3kiOiB0cnVlfQogICAgICAgICAgICApOwogICAgICAgIAogICAgCiAgICAgICAgICAgIHZhciBtYXJrZXJfNjZmMDIwODZkNmNhNDNhZWI2YjQxNzFhYzM1YmZkODAgPSBMLm1hcmtlcigKICAgICAgICAgICAgICAgIFszMy45MTQwMzMsIC0xMTguMTA0NzE3XSwKICAgICAgICAgICAgICAgIHt9CiAgICAgICAgICAgICkuYWRkVG8obWFwX2M0OWM4M2RmMDQzOTQwZDZiYmQ3NDQ5ZmVmMzNlODFmKTsKICAgICAgICAKICAgIAogICAgICAgICAgICB2YXIgaWNvbl8zYjllYWZlMjIwZDU0ODAzOGJmYzhlNGFjZGE3NDk1MyA9IEwuQXdlc29tZU1hcmtlcnMuaWNvbigKICAgICAgICAgICAgICAgIHsiZXh0cmFDbGFzc2VzIjogImZhLXJvdGF0ZS0wIiwgImljb24iOiAiaW5mby1zaWduIiwgImljb25Db2xvciI6ICJ3aGl0ZSIsICJtYXJrZXJDb2xvciI6ICJncmVlbiIsICJwcmVmaXgiOiAiZ2x5cGhpY29uIn0KICAgICAgICAgICAgKTsKICAgICAgICAgICAgbWFya2VyXzY2ZjAyMDg2ZDZjYTQzYWViNmI0MTcxYWMzNWJmZDgwLnNldEljb24oaWNvbl8zYjllYWZlMjIwZDU0ODAzOGJmYzhlNGFjZGE3NDk1Myk7CiAgICAgICAgCiAgICAKICAgICAgICB2YXIgcG9wdXBfYzU3NDU0YjQyZTQ2NGQ0ZWI3YzAwZDI0Mjg2YTg1ZGMgPSBMLnBvcHVwKHsibWF4V2lkdGgiOiAiMTAwJSJ9KTsKCiAgICAgICAgCiAgICAgICAgICAgIHZhciBodG1sXzkzMTFhODRmODkzOTRmN2ZiNGRhNDBjNzA3YWI1ZTVmID0gJChgPGRpdiBpZD0iaHRtbF85MzExYTg0Zjg5Mzk0ZjdmYjRkYTQwYzcwN2FiNWU1ZiIgc3R5bGU9IndpZHRoOiAxMDAuMCU7IGhlaWdodDogMTAwLjAlOyI+Tm9yd2FsayBTdGF0aW9uPC9kaXY+YClbMF07CiAgICAgICAgICAgIHBvcHVwX2M1NzQ1NGI0MmU0NjRkNGViN2MwMGQyNDI4NmE4NWRjLnNldENvbnRlbnQoaHRtbF85MzExYTg0Zjg5Mzk0ZjdmYjRkYTQwYzcwN2FiNWU1Zik7CiAgICAgICAgCgogICAgICAgIG1hcmtlcl82NmYwMjA4NmQ2Y2E0M2FlYjZiNDE3MWFjMzViZmQ4MC5iaW5kUG9wdXAocG9wdXBfYzU3NDU0YjQyZTQ2NGQ0ZWI3YzAwZDI0Mjg2YTg1ZGMpCiAgICAgICAgOwoKICAgICAgICAKICAgIAogICAgCiAgICAgICAgICAgIG1hcmtlcl82NmYwMjA4NmQ2Y2E0M2FlYjZiNDE3MWFjMzViZmQ4MC5iaW5kVG9vbHRpcCgKICAgICAgICAgICAgICAgIGA8ZGl2PgogICAgICAgICAgICAgICAgICAgICBHcmVlbiBMaW5lOiBOb3J3YWxrIFN0YXRpb24KICAgICAgICAgICAgICAgICA8L2Rpdj5gLAogICAgICAgICAgICAgICAgeyJzdGlja3kiOiB0cnVlfQogICAgICAgICAgICApOwogICAgICAgIAogICAgCiAgICAgICAgICAgIHZhciBtYXJrZXJfM2ExNzYwNjM2NGFlNGViNWJmNzRhNGQ4YTQ5OWYwYjIgPSBMLm1hcmtlcigKICAgICAgICAgICAgICAgIFszNC4wMzMzOTgsIC0xMTguMTU0NDY5XSwKICAgICAgICAgICAgICAgIHt9CiAgICAgICAgICAgICkuYWRkVG8obWFwX2M0OWM4M2RmMDQzOTQwZDZiYmQ3NDQ5ZmVmMzNlODFmKTsKICAgICAgICAKICAgIAogICAgICAgICAgICB2YXIgaWNvbl80NWVkMzY2ZGY2OWQ0NmU2OTFhZmMzMDBmNWFjMjJmYSA9IEwuQXdlc29tZU1hcmtlcnMuaWNvbigKICAgICAgICAgICAgICAgIHsiZXh0cmFDbGFzc2VzIjogImZhLXJvdGF0ZS0wIiwgImljb24iOiAiaW5mby1zaWduIiwgImljb25Db2xvciI6ICJ3aGl0ZSIsICJtYXJrZXJDb2xvciI6ICJiZWlnZSIsICJwcmVmaXgiOiAiZ2x5cGhpY29uIn0KICAgICAgICAgICAgKTsKICAgICAgICAgICAgbWFya2VyXzNhMTc2MDYzNjRhZTRlYjViZjc0YTRkOGE0OTlmMGIyLnNldEljb24oaWNvbl80NWVkMzY2ZGY2OWQ0NmU2OTFhZmMzMDBmNWFjMjJmYSk7CiAgICAgICAgCiAgICAKICAgICAgICB2YXIgcG9wdXBfZDk3OWFiZDM1YjU0NDk5Zjk4NzgwYWViYzA0YWYyMTMgPSBMLnBvcHVwKHsibWF4V2lkdGgiOiAiMTAwJSJ9KTsKCiAgICAgICAgCiAgICAgICAgICAgIHZhciBodG1sXzllMmYxMTQwMmUyOTRjYWE5OTBkMzdjMTM2MWRjOGE0ID0gJChgPGRpdiBpZD0iaHRtbF85ZTJmMTE0MDJlMjk0Y2FhOTkwZDM3YzEzNjFkYzhhNCIgc3R5bGU9IndpZHRoOiAxMDAuMCU7IGhlaWdodDogMTAwLjAlOyI+QXRsYW50aWMgU3RhdGlvbjwvZGl2PmApWzBdOwogICAgICAgICAgICBwb3B1cF9kOTc5YWJkMzViNTQ0OTlmOTg3ODBhZWJjMDRhZjIxMy5zZXRDb250ZW50KGh0bWxfOWUyZjExNDAyZTI5NGNhYTk5MGQzN2MxMzYxZGM4YTQpOwogICAgICAgIAoKICAgICAgICBtYXJrZXJfM2ExNzYwNjM2NGFlNGViNWJmNzRhNGQ4YTQ5OWYwYjIuYmluZFBvcHVwKHBvcHVwX2Q5NzlhYmQzNWI1NDQ5OWY5ODc4MGFlYmMwNGFmMjEzKQogICAgICAgIDsKCiAgICAgICAgCiAgICAKICAgIAogICAgICAgICAgICBtYXJrZXJfM2ExNzYwNjM2NGFlNGViNWJmNzRhNGQ4YTQ5OWYwYjIuYmluZFRvb2x0aXAoCiAgICAgICAgICAgICAgICBgPGRpdj4KICAgICAgICAgICAgICAgICAgICAgR29sZCBMaW5lOiBBdGxhbnRpYyBTdGF0aW9uCiAgICAgICAgICAgICAgICAgPC9kaXY+YCwKICAgICAgICAgICAgICAgIHsic3RpY2t5IjogdHJ1ZX0KICAgICAgICAgICAgKTsKICAgICAgICAKICAgIAogICAgICAgICAgICB2YXIgbWFya2VyX2U0YmI0YTY0MGFkMzRjZDI5YjliMzkwODQwYTc0NTA2ID0gTC5tYXJrZXIoCiAgICAgICAgICAgICAgICBbMzQuMDMzMzY0LCAtMTE4LjE2MTIwNl0sCiAgICAgICAgICAgICAgICB7fQogICAgICAgICAgICApLmFkZFRvKG1hcF9jNDljODNkZjA0Mzk0MGQ2YmJkNzQ0OWZlZjMzZTgxZik7CiAgICAgICAgCiAgICAKICAgICAgICAgICAgdmFyIGljb25fMGFjNGZhMTc2ZWEzNDNlOGI0NDFkM2RlNGMyZGViOTQgPSBMLkF3ZXNvbWVNYXJrZXJzLmljb24oCiAgICAgICAgICAgICAgICB7ImV4dHJhQ2xhc3NlcyI6ICJmYS1yb3RhdGUtMCIsICJpY29uIjogImluZm8tc2lnbiIsICJpY29uQ29sb3IiOiAid2hpdGUiLCAibWFya2VyQ29sb3IiOiAiYmVpZ2UiLCAicHJlZml4IjogImdseXBoaWNvbiJ9CiAgICAgICAgICAgICk7CiAgICAgICAgICAgIG1hcmtlcl9lNGJiNGE2NDBhZDM0Y2QyOWI5YjM5MDg0MGE3NDUwNi5zZXRJY29uKGljb25fMGFjNGZhMTc2ZWEzNDNlOGI0NDFkM2RlNGMyZGViOTQpOwogICAgICAgIAogICAgCiAgICAgICAgdmFyIHBvcHVwXzc4M2Q2ZjkwYTM4MDRkZDQ4NmY1NGIyY2U2N2RlYmQ2ID0gTC5wb3B1cCh7Im1heFdpZHRoIjogIjEwMCUifSk7CgogICAgICAgIAogICAgICAgICAgICB2YXIgaHRtbF84NjFkNDE0ZmY1MzI0NmIzOGFkYzY2NWUwNjUwNjljNCA9ICQoYDxkaXYgaWQ9Imh0bWxfODYxZDQxNGZmNTMyNDZiMzhhZGM2NjVlMDY1MDY5YzQiIHN0eWxlPSJ3aWR0aDogMTAwLjAlOyBoZWlnaHQ6IDEwMC4wJTsiPkVhc3QgTEEgQ2l2aWMgQ2VudGVyIFN0YXRpb248L2Rpdj5gKVswXTsKICAgICAgICAgICAgcG9wdXBfNzgzZDZmOTBhMzgwNGRkNDg2ZjU0YjJjZTY3ZGViZDYuc2V0Q29udGVudChodG1sXzg2MWQ0MTRmZjUzMjQ2YjM4YWRjNjY1ZTA2NTA2OWM0KTsKICAgICAgICAKCiAgICAgICAgbWFya2VyX2U0YmI0YTY0MGFkMzRjZDI5YjliMzkwODQwYTc0NTA2LmJpbmRQb3B1cChwb3B1cF83ODNkNmY5MGEzODA0ZGQ0ODZmNTRiMmNlNjdkZWJkNikKICAgICAgICA7CgogICAgICAgIAogICAgCiAgICAKICAgICAgICAgICAgbWFya2VyX2U0YmI0YTY0MGFkMzRjZDI5YjliMzkwODQwYTc0NTA2LmJpbmRUb29sdGlwKAogICAgICAgICAgICAgICAgYDxkaXY+CiAgICAgICAgICAgICAgICAgICAgIEdvbGQgTGluZTogRWFzdCBMQSBDaXZpYyBDZW50ZXIgU3RhdGlvbgogICAgICAgICAgICAgICAgIDwvZGl2PmAsCiAgICAgICAgICAgICAgICB7InN0aWNreSI6IHRydWV9CiAgICAgICAgICAgICk7CiAgICAgICAgCiAgICAKICAgICAgICAgICAgdmFyIG1hcmtlcl9jNjliNThjY2Q3NzI0YzNjOTBlNGE0ZGNiNGVlZmY2YiA9IEwubWFya2VyKAogICAgICAgICAgICAgICAgWzM0LjAzMzMxOSwgLTExOC4xNjgxNF0sCiAgICAgICAgICAgICAgICB7fQogICAgICAgICAgICApLmFkZFRvKG1hcF9jNDljODNkZjA0Mzk0MGQ2YmJkNzQ0OWZlZjMzZTgxZik7CiAgICAgICAgCiAgICAKICAgICAgICAgICAgdmFyIGljb25fNTc2ODhmOGE5ZjMxNDcxZTk3ODNjMTZiZGQ3ZDZkODYgPSBMLkF3ZXNvbWVNYXJrZXJzLmljb24oCiAgICAgICAgICAgICAgICB7ImV4dHJhQ2xhc3NlcyI6ICJmYS1yb3RhdGUtMCIsICJpY29uIjogImluZm8tc2lnbiIsICJpY29uQ29sb3IiOiAid2hpdGUiLCAibWFya2VyQ29sb3IiOiAiYmVpZ2UiLCAicHJlZml4IjogImdseXBoaWNvbiJ9CiAgICAgICAgICAgICk7CiAgICAgICAgICAgIG1hcmtlcl9jNjliNThjY2Q3NzI0YzNjOTBlNGE0ZGNiNGVlZmY2Yi5zZXRJY29uKGljb25fNTc2ODhmOGE5ZjMxNDcxZTk3ODNjMTZiZGQ3ZDZkODYpOwogICAgICAgIAogICAgCiAgICAgICAgdmFyIHBvcHVwXzZjZDA2ZmNmMTE0NTRmMDY4ODkyYmVlZDA4ODQxYzA5ID0gTC5wb3B1cCh7Im1heFdpZHRoIjogIjEwMCUifSk7CgogICAgICAgIAogICAgICAgICAgICB2YXIgaHRtbF9hNmQ2OTYzODgzMjc0OGUzOGQ3ZTA5NmQ0ZmI1YzE1YyA9ICQoYDxkaXYgaWQ9Imh0bWxfYTZkNjk2Mzg4MzI3NDhlMzhkN2UwOTZkNGZiNWMxNWMiIHN0eWxlPSJ3aWR0aDogMTAwLjAlOyBoZWlnaHQ6IDEwMC4wJTsiPk1hcmF2aWxsYSBTdGF0aW9uPC9kaXY+YClbMF07CiAgICAgICAgICAgIHBvcHVwXzZjZDA2ZmNmMTE0NTRmMDY4ODkyYmVlZDA4ODQxYzA5LnNldENvbnRlbnQoaHRtbF9hNmQ2OTYzODgzMjc0OGUzOGQ3ZTA5NmQ0ZmI1YzE1Yyk7CiAgICAgICAgCgogICAgICAgIG1hcmtlcl9jNjliNThjY2Q3NzI0YzNjOTBlNGE0ZGNiNGVlZmY2Yi5iaW5kUG9wdXAocG9wdXBfNmNkMDZmY2YxMTQ1NGYwNjg4OTJiZWVkMDg4NDFjMDkpCiAgICAgICAgOwoKICAgICAgICAKICAgIAogICAgCiAgICAgICAgICAgIG1hcmtlcl9jNjliNThjY2Q3NzI0YzNjOTBlNGE0ZGNiNGVlZmY2Yi5iaW5kVG9vbHRpcCgKICAgICAgICAgICAgICAgIGA8ZGl2PgogICAgICAgICAgICAgICAgICAgICBHb2xkIExpbmU6IE1hcmF2aWxsYSBTdGF0aW9uCiAgICAgICAgICAgICAgICAgPC9kaXY+YCwKICAgICAgICAgICAgICAgIHsic3RpY2t5IjogdHJ1ZX0KICAgICAgICAgICAgKTsKICAgICAgICAKICAgIAogICAgICAgICAgICB2YXIgbWFya2VyXzQ4NDk1ZGJlZjk1NzQ1MTJhOTMxODk0OGE3MWE1MTZkID0gTC5tYXJrZXIoCiAgICAgICAgICAgICAgICBbMzQuMDM0MywgLTExOC4xOTIxODJdLAogICAgICAgICAgICAgICAge30KICAgICAgICAgICAgKS5hZGRUbyhtYXBfYzQ5YzgzZGYwNDM5NDBkNmJiZDc0NDlmZWYzM2U4MWYpOwogICAgICAgIAogICAgCiAgICAgICAgICAgIHZhciBpY29uX2ViZWM1MWYwOTAyMjRmODQ4M2Q1NzgyYjU4ODc5ZjI2ID0gTC5Bd2Vzb21lTWFya2Vycy5pY29uKAogICAgICAgICAgICAgICAgeyJleHRyYUNsYXNzZXMiOiAiZmEtcm90YXRlLTAiLCAiaWNvbiI6ICJpbmZvLXNpZ24iLCAiaWNvbkNvbG9yIjogIndoaXRlIiwgIm1hcmtlckNvbG9yIjogImJlaWdlIiwgInByZWZpeCI6ICJnbHlwaGljb24ifQogICAgICAgICAgICApOwogICAgICAgICAgICBtYXJrZXJfNDg0OTVkYmVmOTU3NDUxMmE5MzE4OTQ4YTcxYTUxNmQuc2V0SWNvbihpY29uX2ViZWM1MWYwOTAyMjRmODQ4M2Q1NzgyYjU4ODc5ZjI2KTsKICAgICAgICAKICAgIAogICAgICAgIHZhciBwb3B1cF8zYWFhYTcxYWJkZGI0MmZiYmJiZGEwOTZiOWVjY2M4NiA9IEwucG9wdXAoeyJtYXhXaWR0aCI6ICIxMDAlIn0pOwoKICAgICAgICAKICAgICAgICAgICAgdmFyIGh0bWxfMTJjNmI1OGJlNTA5NDkxNmJhZmQ3ODkyNmQ5YWI5M2YgPSAkKGA8ZGl2IGlkPSJodG1sXzEyYzZiNThiZTUwOTQ5MTZiYWZkNzg5MjZkOWFiOTNmIiBzdHlsZT0id2lkdGg6IDEwMC4wJTsgaGVpZ2h0OiAxMDAuMCU7Ij5JbmRpYW5hIFN0YXRpb248L2Rpdj5gKVswXTsKICAgICAgICAgICAgcG9wdXBfM2FhYWE3MWFiZGRiNDJmYmJiYmRhMDk2YjllY2NjODYuc2V0Q29udGVudChodG1sXzEyYzZiNThiZTUwOTQ5MTZiYWZkNzg5MjZkOWFiOTNmKTsKICAgICAgICAKCiAgICAgICAgbWFya2VyXzQ4NDk1ZGJlZjk1NzQ1MTJhOTMxODk0OGE3MWE1MTZkLmJpbmRQb3B1cChwb3B1cF8zYWFhYTcxYWJkZGI0MmZiYmJiZGEwOTZiOWVjY2M4NikKICAgICAgICA7CgogICAgICAgIAogICAgCiAgICAKICAgICAgICAgICAgbWFya2VyXzQ4NDk1ZGJlZjk1NzQ1MTJhOTMxODk0OGE3MWE1MTZkLmJpbmRUb29sdGlwKAogICAgICAgICAgICAgICAgYDxkaXY+CiAgICAgICAgICAgICAgICAgICAgIEdvbGQgTGluZTogSW5kaWFuYSBTdGF0aW9uCiAgICAgICAgICAgICAgICAgPC9kaXY+YCwKICAgICAgICAgICAgICAgIHsic3RpY2t5IjogdHJ1ZX0KICAgICAgICAgICAgKTsKICAgICAgICAKICAgIAogICAgICAgICAgICB2YXIgbWFya2VyXzFlMzg4MDcwNjI3YTRiZDA4NzZjZTk2OWJmMjg0NzkzID0gTC5tYXJrZXIoCiAgICAgICAgICAgICAgICBbMzQuMDQzNzQ3LCAtMTE4LjIxMDA2MV0sCiAgICAgICAgICAgICAgICB7fQogICAgICAgICAgICApLmFkZFRvKG1hcF9jNDljODNkZjA0Mzk0MGQ2YmJkNzQ0OWZlZjMzZTgxZik7CiAgICAgICAgCiAgICAKICAgICAgICAgICAgdmFyIGljb25fMDk3NTcwMjQ0ZjYyNDNmNzlkMzc1MDU5OGViOGVjMzMgPSBMLkF3ZXNvbWVNYXJrZXJzLmljb24oCiAgICAgICAgICAgICAgICB7ImV4dHJhQ2xhc3NlcyI6ICJmYS1yb3RhdGUtMCIsICJpY29uIjogImluZm8tc2lnbiIsICJpY29uQ29sb3IiOiAid2hpdGUiLCAibWFya2VyQ29sb3IiOiAiYmVpZ2UiLCAicHJlZml4IjogImdseXBoaWNvbiJ9CiAgICAgICAgICAgICk7CiAgICAgICAgICAgIG1hcmtlcl8xZTM4ODA3MDYyN2E0YmQwODc2Y2U5NjliZjI4NDc5My5zZXRJY29uKGljb25fMDk3NTcwMjQ0ZjYyNDNmNzlkMzc1MDU5OGViOGVjMzMpOwogICAgICAgIAogICAgCiAgICAgICAgdmFyIHBvcHVwX2Y4ZDNjZTc5NzAxMTQyZWRiZTBmMDU0Y2RhYjRhOTRjID0gTC5wb3B1cCh7Im1heFdpZHRoIjogIjEwMCUifSk7CgogICAgICAgIAogICAgICAgICAgICB2YXIgaHRtbF9jZjUxMTdlZTYxOTQ0N2MzYjE0ZTcwYTMyZjJiZTlkMyA9ICQoYDxkaXYgaWQ9Imh0bWxfY2Y1MTE3ZWU2MTk0NDdjM2IxNGU3MGEzMmYyYmU5ZDMiIHN0eWxlPSJ3aWR0aDogMTAwLjAlOyBoZWlnaHQ6IDEwMC4wJTsiPlNvdG8gU3RhdGlvbjwvZGl2PmApWzBdOwogICAgICAgICAgICBwb3B1cF9mOGQzY2U3OTcwMTE0MmVkYmUwZjA1NGNkYWI0YTk0Yy5zZXRDb250ZW50KGh0bWxfY2Y1MTE3ZWU2MTk0NDdjM2IxNGU3MGEzMmYyYmU5ZDMpOwogICAgICAgIAoKICAgICAgICBtYXJrZXJfMWUzODgwNzA2MjdhNGJkMDg3NmNlOTY5YmYyODQ3OTMuYmluZFBvcHVwKHBvcHVwX2Y4ZDNjZTc5NzAxMTQyZWRiZTBmMDU0Y2RhYjRhOTRjKQogICAgICAgIDsKCiAgICAgICAgCiAgICAKICAgIAogICAgICAgICAgICBtYXJrZXJfMWUzODgwNzA2MjdhNGJkMDg3NmNlOTY5YmYyODQ3OTMuYmluZFRvb2x0aXAoCiAgICAgICAgICAgICAgICBgPGRpdj4KICAgICAgICAgICAgICAgICAgICAgR29sZCBMaW5lOiBTb3RvIFN0YXRpb24KICAgICAgICAgICAgICAgICA8L2Rpdj5gLAogICAgICAgICAgICAgICAgeyJzdGlja3kiOiB0cnVlfQogICAgICAgICAgICApOwogICAgICAgIAogICAgCiAgICAgICAgICAgIHZhciBtYXJrZXJfYjU5OTg4N2JjMjczNDVhOGE4ODliNTY4YWUxYzRlY2QgPSBMLm1hcmtlcigKICAgICAgICAgICAgICAgIFszNC4wNDcyMTUsIC0xMTguMjE5NjQ4XSwKICAgICAgICAgICAgICAgIHt9CiAgICAgICAgICAgICkuYWRkVG8obWFwX2M0OWM4M2RmMDQzOTQwZDZiYmQ3NDQ5ZmVmMzNlODFmKTsKICAgICAgICAKICAgIAogICAgICAgICAgICB2YXIgaWNvbl84MmEwZGU0ZDBhZTM0NWNkOTM3YTIwYTgxMmZhNGQ4NSA9IEwuQXdlc29tZU1hcmtlcnMuaWNvbigKICAgICAgICAgICAgICAgIHsiZXh0cmFDbGFzc2VzIjogImZhLXJvdGF0ZS0wIiwgImljb24iOiAiaW5mby1zaWduIiwgImljb25Db2xvciI6ICJ3aGl0ZSIsICJtYXJrZXJDb2xvciI6ICJiZWlnZSIsICJwcmVmaXgiOiAiZ2x5cGhpY29uIn0KICAgICAgICAgICAgKTsKICAgICAgICAgICAgbWFya2VyX2I1OTk4ODdiYzI3MzQ1YThhODg5YjU2OGFlMWM0ZWNkLnNldEljb24oaWNvbl84MmEwZGU0ZDBhZTM0NWNkOTM3YTIwYTgxMmZhNGQ4NSk7CiAgICAgICAgCiAgICAKICAgICAgICB2YXIgcG9wdXBfNTg2N2YwYjRiZGYzNGZmNmI1M2U2N2VmNDg2ZWFjNjEgPSBMLnBvcHVwKHsibWF4V2lkdGgiOiAiMTAwJSJ9KTsKCiAgICAgICAgCiAgICAgICAgICAgIHZhciBodG1sXzRhMTVmZDYzZjBiZDQ4N2ZiYmVmMmQ2M2FiZjk1MzNhID0gJChgPGRpdiBpZD0iaHRtbF80YTE1ZmQ2M2YwYmQ0ODdmYmJlZjJkNjNhYmY5NTMzYSIgc3R5bGU9IndpZHRoOiAxMDAuMCU7IGhlaWdodDogMTAwLjAlOyI+TWFyaWFjaGkgUGxhemEgLyBCb3lsZSBIZWlnaHRzIFN0YXRpb248L2Rpdj5gKVswXTsKICAgICAgICAgICAgcG9wdXBfNTg2N2YwYjRiZGYzNGZmNmI1M2U2N2VmNDg2ZWFjNjEuc2V0Q29udGVudChodG1sXzRhMTVmZDYzZjBiZDQ4N2ZiYmVmMmQ2M2FiZjk1MzNhKTsKICAgICAgICAKCiAgICAgICAgbWFya2VyX2I1OTk4ODdiYzI3MzQ1YThhODg5YjU2OGFlMWM0ZWNkLmJpbmRQb3B1cChwb3B1cF81ODY3ZjBiNGJkZjM0ZmY2YjUzZTY3ZWY0ODZlYWM2MSkKICAgICAgICA7CgogICAgICAgIAogICAgCiAgICAKICAgICAgICAgICAgbWFya2VyX2I1OTk4ODdiYzI3MzQ1YThhODg5YjU2OGFlMWM0ZWNkLmJpbmRUb29sdGlwKAogICAgICAgICAgICAgICAgYDxkaXY+CiAgICAgICAgICAgICAgICAgICAgIEdvbGQgTGluZTogTWFyaWFjaGkgUGxhemEgLyBCb3lsZSBIZWlnaHRzIFN0YXRpb24KICAgICAgICAgICAgICAgICA8L2Rpdj5gLAogICAgICAgICAgICAgICAgeyJzdGlja3kiOiB0cnVlfQogICAgICAgICAgICApOwogICAgICAgIAogICAgCiAgICAgICAgICAgIHZhciBtYXJrZXJfMDExZWUyM2Q1ZGU5NDU0NWJmYzQ2YWI1MGIyNDVmNzcgPSBMLm1hcmtlcigKICAgICAgICAgICAgICAgIFszNC4wNDc2MzQsIC0xMTguMjI1OTRdLAogICAgICAgICAgICAgICAge30KICAgICAgICAgICAgKS5hZGRUbyhtYXBfYzQ5YzgzZGYwNDM5NDBkNmJiZDc0NDlmZWYzM2U4MWYpOwogICAgICAgIAogICAgCiAgICAgICAgICAgIHZhciBpY29uXzQ2MDYyMWYyMzQ4ZjQ1OGE4OGNjNzBlYmZhYmRkYmFlID0gTC5Bd2Vzb21lTWFya2Vycy5pY29uKAogICAgICAgICAgICAgICAgeyJleHRyYUNsYXNzZXMiOiAiZmEtcm90YXRlLTAiLCAiaWNvbiI6ICJpbmZvLXNpZ24iLCAiaWNvbkNvbG9yIjogIndoaXRlIiwgIm1hcmtlckNvbG9yIjogImJlaWdlIiwgInByZWZpeCI6ICJnbHlwaGljb24ifQogICAgICAgICAgICApOwogICAgICAgICAgICBtYXJrZXJfMDExZWUyM2Q1ZGU5NDU0NWJmYzQ2YWI1MGIyNDVmNzcuc2V0SWNvbihpY29uXzQ2MDYyMWYyMzQ4ZjQ1OGE4OGNjNzBlYmZhYmRkYmFlKTsKICAgICAgICAKICAgIAogICAgICAgIHZhciBwb3B1cF81ZDQ0NDU2ZDhlZmY0MDdhYWZjMzNmMGUyMTA0MmFmZCA9IEwucG9wdXAoeyJtYXhXaWR0aCI6ICIxMDAlIn0pOwoKICAgICAgICAKICAgICAgICAgICAgdmFyIGh0bWxfODViZjJiN2ZiOTAzNGIwMGI2YTNhMGVlNWM2ZTg1N2MgPSAkKGA8ZGl2IGlkPSJodG1sXzg1YmYyYjdmYjkwMzRiMDBiNmEzYTBlZTVjNmU4NTdjIiBzdHlsZT0id2lkdGg6IDEwMC4wJTsgaGVpZ2h0OiAxMDAuMCU7Ij5QaWNvIC8gQWxpc28gU3RhdGlvbjwvZGl2PmApWzBdOwogICAgICAgICAgICBwb3B1cF81ZDQ0NDU2ZDhlZmY0MDdhYWZjMzNmMGUyMTA0MmFmZC5zZXRDb250ZW50KGh0bWxfODViZjJiN2ZiOTAzNGIwMGI2YTNhMGVlNWM2ZTg1N2MpOwogICAgICAgIAoKICAgICAgICBtYXJrZXJfMDExZWUyM2Q1ZGU5NDU0NWJmYzQ2YWI1MGIyNDVmNzcuYmluZFBvcHVwKHBvcHVwXzVkNDQ0NTZkOGVmZjQwN2FhZmMzM2YwZTIxMDQyYWZkKQogICAgICAgIDsKCiAgICAgICAgCiAgICAKICAgIAogICAgICAgICAgICBtYXJrZXJfMDExZWUyM2Q1ZGU5NDU0NWJmYzQ2YWI1MGIyNDVmNzcuYmluZFRvb2x0aXAoCiAgICAgICAgICAgICAgICBgPGRpdj4KICAgICAgICAgICAgICAgICAgICAgR29sZCBMaW5lOiBQaWNvIC8gQWxpc28gU3RhdGlvbgogICAgICAgICAgICAgICAgIDwvZGl2PmAsCiAgICAgICAgICAgICAgICB7InN0aWNreSI6IHRydWV9CiAgICAgICAgICAgICk7CiAgICAgICAgCiAgICAKICAgICAgICAgICAgdmFyIG1hcmtlcl9hMTI1YjJkMjlmNjg0ZDdlODk4M2U3OTE1NWFiOTU4ZiA9IEwubWFya2VyKAogICAgICAgICAgICAgICAgWzM0LjA1MDEsIC0xMTguMjM3OTAxXSwKICAgICAgICAgICAgICAgIHt9CiAgICAgICAgICAgICkuYWRkVG8obWFwX2M0OWM4M2RmMDQzOTQwZDZiYmQ3NDQ5ZmVmMzNlODFmKTsKICAgICAgICAKICAgIAogICAgICAgICAgICB2YXIgaWNvbl9kZWU4NmU2OTI5M2E0MTcyYWNhMDY1ZTgzN2IyZmQyMCA9IEwuQXdlc29tZU1hcmtlcnMuaWNvbigKICAgICAgICAgICAgICAgIHsiZXh0cmFDbGFzc2VzIjogImZhLXJvdGF0ZS0wIiwgImljb24iOiAiaW5mby1zaWduIiwgImljb25Db2xvciI6ICJ3aGl0ZSIsICJtYXJrZXJDb2xvciI6ICJiZWlnZSIsICJwcmVmaXgiOiAiZ2x5cGhpY29uIn0KICAgICAgICAgICAgKTsKICAgICAgICAgICAgbWFya2VyX2ExMjViMmQyOWY2ODRkN2U4OTgzZTc5MTU1YWI5NThmLnNldEljb24oaWNvbl9kZWU4NmU2OTI5M2E0MTcyYWNhMDY1ZTgzN2IyZmQyMCk7CiAgICAgICAgCiAgICAKICAgICAgICB2YXIgcG9wdXBfNThiM2I5ZTg3ODY2NGRjZmE1MjRmZDQ3Njg4MWZjN2YgPSBMLnBvcHVwKHsibWF4V2lkdGgiOiAiMTAwJSJ9KTsKCiAgICAgICAgCiAgICAgICAgICAgIHZhciBodG1sXzFhODU1NzMwMzIzMDRjZjg4YjQ4NTQ5MWE4YWJlOWIxID0gJChgPGRpdiBpZD0iaHRtbF8xYTg1NTczMDMyMzA0Y2Y4OGI0ODU0OTFhOGFiZTliMSIgc3R5bGU9IndpZHRoOiAxMDAuMCU7IGhlaWdodDogMTAwLjAlOyI+TGl0dGxlIFRva3lvIC8gQXJ0cyBEaXN0cmljdCBTdGF0aW9uPC9kaXY+YClbMF07CiAgICAgICAgICAgIHBvcHVwXzU4YjNiOWU4Nzg2NjRkY2ZhNTI0ZmQ0NzY4ODFmYzdmLnNldENvbnRlbnQoaHRtbF8xYTg1NTczMDMyMzA0Y2Y4OGI0ODU0OTFhOGFiZTliMSk7CiAgICAgICAgCgogICAgICAgIG1hcmtlcl9hMTI1YjJkMjlmNjg0ZDdlODk4M2U3OTE1NWFiOTU4Zi5iaW5kUG9wdXAocG9wdXBfNThiM2I5ZTg3ODY2NGRjZmE1MjRmZDQ3Njg4MWZjN2YpCiAgICAgICAgOwoKICAgICAgICAKICAgIAogICAgCiAgICAgICAgICAgIG1hcmtlcl9hMTI1YjJkMjlmNjg0ZDdlODk4M2U3OTE1NWFiOTU4Zi5iaW5kVG9vbHRpcCgKICAgICAgICAgICAgICAgIGA8ZGl2PgogICAgICAgICAgICAgICAgICAgICBHb2xkIExpbmU6IExpdHRsZSBUb2t5byAvIEFydHMgRGlzdHJpY3QgU3RhdGlvbgogICAgICAgICAgICAgICAgIDwvZGl2PmAsCiAgICAgICAgICAgICAgICB7InN0aWNreSI6IHRydWV9CiAgICAgICAgICAgICk7CiAgICAgICAgCiAgICAKICAgICAgICAgICAgdmFyIG1hcmtlcl82YmRkMTRkNjUyZjY0MTFhOTRiZDRlMWEyM2U0Y2E1YiA9IEwubWFya2VyKAogICAgICAgICAgICAgICAgWzM0LjA1NjA2MSwgLTExOC4yMzQ3NTldLAogICAgICAgICAgICAgICAge30KICAgICAgICAgICAgKS5hZGRUbyhtYXBfYzQ5YzgzZGYwNDM5NDBkNmJiZDc0NDlmZWYzM2U4MWYpOwogICAgICAgIAogICAgCiAgICAgICAgICAgIHZhciBpY29uXzhlM2E4Y2Y5OTYyNTQ3Njg5ZTliODRmMDhlYmIxY2QxID0gTC5Bd2Vzb21lTWFya2Vycy5pY29uKAogICAgICAgICAgICAgICAgeyJleHRyYUNsYXNzZXMiOiAiZmEtcm90YXRlLTAiLCAiaWNvbiI6ICJpbmZvLXNpZ24iLCAiaWNvbkNvbG9yIjogIndoaXRlIiwgIm1hcmtlckNvbG9yIjogImJlaWdlIiwgInByZWZpeCI6ICJnbHlwaGljb24ifQogICAgICAgICAgICApOwogICAgICAgICAgICBtYXJrZXJfNmJkZDE0ZDY1MmY2NDExYTk0YmQ0ZTFhMjNlNGNhNWIuc2V0SWNvbihpY29uXzhlM2E4Y2Y5OTYyNTQ3Njg5ZTliODRmMDhlYmIxY2QxKTsKICAgICAgICAKICAgIAogICAgICAgIHZhciBwb3B1cF9lNjkxZTViOGRjOGI0ZjEwODFiYmZhOGM0OWU5MjU1MiA9IEwucG9wdXAoeyJtYXhXaWR0aCI6ICIxMDAlIn0pOwoKICAgICAgICAKICAgICAgICAgICAgdmFyIGh0bWxfYzBjYzk2Y2Q4YzkwNDc3ZDhiYTljNDIyZWZjYWM3ZWIgPSAkKGA8ZGl2IGlkPSJodG1sX2MwY2M5NmNkOGM5MDQ3N2Q4YmE5YzQyMmVmY2FjN2ViIiBzdHlsZT0id2lkdGg6IDEwMC4wJTsgaGVpZ2h0OiAxMDAuMCU7Ij5VbmlvbiBTdGF0aW9uIC0gTWV0cm8gR29sZCBMaW5lPC9kaXY+YClbMF07CiAgICAgICAgICAgIHBvcHVwX2U2OTFlNWI4ZGM4YjRmMTA4MWJiZmE4YzQ5ZTkyNTUyLnNldENvbnRlbnQoaHRtbF9jMGNjOTZjZDhjOTA0NzdkOGJhOWM0MjJlZmNhYzdlYik7CiAgICAgICAgCgogICAgICAgIG1hcmtlcl82YmRkMTRkNjUyZjY0MTFhOTRiZDRlMWEyM2U0Y2E1Yi5iaW5kUG9wdXAocG9wdXBfZTY5MWU1YjhkYzhiNGYxMDgxYmJmYThjNDllOTI1NTIpCiAgICAgICAgOwoKICAgICAgICAKICAgIAogICAgCiAgICAgICAgICAgIG1hcmtlcl82YmRkMTRkNjUyZjY0MTFhOTRiZDRlMWEyM2U0Y2E1Yi5iaW5kVG9vbHRpcCgKICAgICAgICAgICAgICAgIGA8ZGl2PgogICAgICAgICAgICAgICAgICAgICBHb2xkIExpbmU6IFVuaW9uIFN0YXRpb24gLSBNZXRybyBHb2xkIExpbmUKICAgICAgICAgICAgICAgICA8L2Rpdj5gLAogICAgICAgICAgICAgICAgeyJzdGlja3kiOiB0cnVlfQogICAgICAgICAgICApOwogICAgICAgIAogICAgCiAgICAgICAgICAgIHZhciBtYXJrZXJfN2NmYmJhNmNlYWEwNDJmNmI1YjFmODJiNzMwNTM1OGIgPSBMLm1hcmtlcigKICAgICAgICAgICAgICAgIFszNC4wNjM4NjEsIC0xMTguMjM1ODRdLAogICAgICAgICAgICAgICAge30KICAgICAgICAgICAgKS5hZGRUbyhtYXBfYzQ5YzgzZGYwNDM5NDBkNmJiZDc0NDlmZWYzM2U4MWYpOwogICAgICAgIAogICAgCiAgICAgICAgICAgIHZhciBpY29uXzE5Mjg4MjJhZGYzZTQzNzlhNTY5ZTFjN2M0YTI3NjFmID0gTC5Bd2Vzb21lTWFya2Vycy5pY29uKAogICAgICAgICAgICAgICAgeyJleHRyYUNsYXNzZXMiOiAiZmEtcm90YXRlLTAiLCAiaWNvbiI6ICJpbmZvLXNpZ24iLCAiaWNvbkNvbG9yIjogIndoaXRlIiwgIm1hcmtlckNvbG9yIjogImJlaWdlIiwgInByZWZpeCI6ICJnbHlwaGljb24ifQogICAgICAgICAgICApOwogICAgICAgICAgICBtYXJrZXJfN2NmYmJhNmNlYWEwNDJmNmI1YjFmODJiNzMwNTM1OGIuc2V0SWNvbihpY29uXzE5Mjg4MjJhZGYzZTQzNzlhNTY5ZTFjN2M0YTI3NjFmKTsKICAgICAgICAKICAgIAogICAgICAgIHZhciBwb3B1cF8zMDI0ZDVjM2U4Njg0OGZkODBjMjYzYThhNjZiNWJiNCA9IEwucG9wdXAoeyJtYXhXaWR0aCI6ICIxMDAlIn0pOwoKICAgICAgICAKICAgICAgICAgICAgdmFyIGh0bWxfNDJjZjgxZGEwMzA5NDU5YWE4ZGE4ZDFjNjc5NDZlNzAgPSAkKGA8ZGl2IGlkPSJodG1sXzQyY2Y4MWRhMDMwOTQ1OWFhOGRhOGQxYzY3OTQ2ZTcwIiBzdHlsZT0id2lkdGg6IDEwMC4wJTsgaGVpZ2h0OiAxMDAuMCU7Ij5DaGluYXRvd24gU3RhdGlvbjwvZGl2PmApWzBdOwogICAgICAgICAgICBwb3B1cF8zMDI0ZDVjM2U4Njg0OGZkODBjMjYzYThhNjZiNWJiNC5zZXRDb250ZW50KGh0bWxfNDJjZjgxZGEwMzA5NDU5YWE4ZGE4ZDFjNjc5NDZlNzApOwogICAgICAgIAoKICAgICAgICBtYXJrZXJfN2NmYmJhNmNlYWEwNDJmNmI1YjFmODJiNzMwNTM1OGIuYmluZFBvcHVwKHBvcHVwXzMwMjRkNWMzZTg2ODQ4ZmQ4MGMyNjNhOGE2NmI1YmI0KQogICAgICAgIDsKCiAgICAgICAgCiAgICAKICAgIAogICAgICAgICAgICBtYXJrZXJfN2NmYmJhNmNlYWEwNDJmNmI1YjFmODJiNzMwNTM1OGIuYmluZFRvb2x0aXAoCiAgICAgICAgICAgICAgICBgPGRpdj4KICAgICAgICAgICAgICAgICAgICAgR29sZCBMaW5lOiBDaGluYXRvd24gU3RhdGlvbgogICAgICAgICAgICAgICAgIDwvZGl2PmAsCiAgICAgICAgICAgICAgICB7InN0aWNreSI6IHRydWV9CiAgICAgICAgICAgICk7CiAgICAgICAgCiAgICAKICAgICAgICAgICAgdmFyIG1hcmtlcl9mMjJhZDg1OGM0MmI0MDE3YmEwYmNiYjI5Y2RkNGY1YSA9IEwubWFya2VyKAogICAgICAgICAgICAgICAgWzM0LjA4MDk0OSwgLTExOC4yMjA0MjldLAogICAgICAgICAgICAgICAge30KICAgICAgICAgICAgKS5hZGRUbyhtYXBfYzQ5YzgzZGYwNDM5NDBkNmJiZDc0NDlmZWYzM2U4MWYpOwogICAgICAgIAogICAgCiAgICAgICAgICAgIHZhciBpY29uXzJiYTcxZjhiYjlmNzRkODU5ZDc1ZTVhOTdlMzEyZTBmID0gTC5Bd2Vzb21lTWFya2Vycy5pY29uKAogICAgICAgICAgICAgICAgeyJleHRyYUNsYXNzZXMiOiAiZmEtcm90YXRlLTAiLCAiaWNvbiI6ICJpbmZvLXNpZ24iLCAiaWNvbkNvbG9yIjogIndoaXRlIiwgIm1hcmtlckNvbG9yIjogImJlaWdlIiwgInByZWZpeCI6ICJnbHlwaGljb24ifQogICAgICAgICAgICApOwogICAgICAgICAgICBtYXJrZXJfZjIyYWQ4NThjNDJiNDAxN2JhMGJjYmIyOWNkZDRmNWEuc2V0SWNvbihpY29uXzJiYTcxZjhiYjlmNzRkODU5ZDc1ZTVhOTdlMzEyZTBmKTsKICAgICAgICAKICAgIAogICAgICAgIHZhciBwb3B1cF9kNWZkMjU1YjVkZTU0YWUzYmQ3ODBiODVjZWY4NjYzMCA9IEwucG9wdXAoeyJtYXhXaWR0aCI6ICIxMDAlIn0pOwoKICAgICAgICAKICAgICAgICAgICAgdmFyIGh0bWxfZDI1MDIxZTgzODI2NDk1Mzk0NzY5ZTdlNjdiMWY4ZDkgPSAkKGA8ZGl2IGlkPSJodG1sX2QyNTAyMWU4MzgyNjQ5NTM5NDc2OWU3ZTY3YjFmOGQ5IiBzdHlsZT0id2lkdGg6IDEwMC4wJTsgaGVpZ2h0OiAxMDAuMCU7Ij5MaW5jb2xuIEhlaWdodHMgLyBDeXByZXNzIFBhcmsgU3RhdGlvbjwvZGl2PmApWzBdOwogICAgICAgICAgICBwb3B1cF9kNWZkMjU1YjVkZTU0YWUzYmQ3ODBiODVjZWY4NjYzMC5zZXRDb250ZW50KGh0bWxfZDI1MDIxZTgzODI2NDk1Mzk0NzY5ZTdlNjdiMWY4ZDkpOwogICAgICAgIAoKICAgICAgICBtYXJrZXJfZjIyYWQ4NThjNDJiNDAxN2JhMGJjYmIyOWNkZDRmNWEuYmluZFBvcHVwKHBvcHVwX2Q1ZmQyNTViNWRlNTRhZTNiZDc4MGI4NWNlZjg2NjMwKQogICAgICAgIDsKCiAgICAgICAgCiAgICAKICAgIAogICAgICAgICAgICBtYXJrZXJfZjIyYWQ4NThjNDJiNDAxN2JhMGJjYmIyOWNkZDRmNWEuYmluZFRvb2x0aXAoCiAgICAgICAgICAgICAgICBgPGRpdj4KICAgICAgICAgICAgICAgICAgICAgR29sZCBMaW5lOiBMaW5jb2xuIEhlaWdodHMgLyBDeXByZXNzIFBhcmsgU3RhdGlvbgogICAgICAgICAgICAgICAgIDwvZGl2PmAsCiAgICAgICAgICAgICAgICB7InN0aWNreSI6IHRydWV9CiAgICAgICAgICAgICk7CiAgICAgICAgCiAgICAKICAgICAgICAgICAgdmFyIG1hcmtlcl84NmFiZGUzZjdkNTk0MmRiOGJkNzZjNmY1OGI0MDhhNyA9IEwubWFya2VyKAogICAgICAgICAgICAgICAgWzM0LjA4NzIyNywgLTExOC4yMTMyMTNdLAogICAgICAgICAgICAgICAge30KICAgICAgICAgICAgKS5hZGRUbyhtYXBfYzQ5YzgzZGYwNDM5NDBkNmJiZDc0NDlmZWYzM2U4MWYpOwogICAgICAgIAogICAgCiAgICAgICAgICAgIHZhciBpY29uX2M2ZmYzYWM3MWM5MDQyMTI4MTIwMTdkNjFjNDc3OTdhID0gTC5Bd2Vzb21lTWFya2Vycy5pY29uKAogICAgICAgICAgICAgICAgeyJleHRyYUNsYXNzZXMiOiAiZmEtcm90YXRlLTAiLCAiaWNvbiI6ICJpbmZvLXNpZ24iLCAiaWNvbkNvbG9yIjogIndoaXRlIiwgIm1hcmtlckNvbG9yIjogImJlaWdlIiwgInByZWZpeCI6ICJnbHlwaGljb24ifQogICAgICAgICAgICApOwogICAgICAgICAgICBtYXJrZXJfODZhYmRlM2Y3ZDU5NDJkYjhiZDc2YzZmNThiNDA4YTcuc2V0SWNvbihpY29uX2M2ZmYzYWM3MWM5MDQyMTI4MTIwMTdkNjFjNDc3OTdhKTsKICAgICAgICAKICAgIAogICAgICAgIHZhciBwb3B1cF8wZjBkNDc1OTcwMjI0MDA3OWVjMjg2ZmVkNzg5ZjBhNyA9IEwucG9wdXAoeyJtYXhXaWR0aCI6ICIxMDAlIn0pOwoKICAgICAgICAKICAgICAgICAgICAgdmFyIGh0bWxfMzBmODI1YzgzNzUyNGNmMGJlN2E1NWY5OWRlZmM3OGUgPSAkKGA8ZGl2IGlkPSJodG1sXzMwZjgyNWM4Mzc1MjRjZjBiZTdhNTVmOTlkZWZjNzhlIiBzdHlsZT0id2lkdGg6IDEwMC4wJTsgaGVpZ2h0OiAxMDAuMCU7Ij5IZXJpdGFnZSBTcXVhcmUgLyBBcnJveW8gU3RhdGlvbjwvZGl2PmApWzBdOwogICAgICAgICAgICBwb3B1cF8wZjBkNDc1OTcwMjI0MDA3OWVjMjg2ZmVkNzg5ZjBhNy5zZXRDb250ZW50KGh0bWxfMzBmODI1YzgzNzUyNGNmMGJlN2E1NWY5OWRlZmM3OGUpOwogICAgICAgIAoKICAgICAgICBtYXJrZXJfODZhYmRlM2Y3ZDU5NDJkYjhiZDc2YzZmNThiNDA4YTcuYmluZFBvcHVwKHBvcHVwXzBmMGQ0NzU5NzAyMjQwMDc5ZWMyODZmZWQ3ODlmMGE3KQogICAgICAgIDsKCiAgICAgICAgCiAgICAKICAgIAogICAgICAgICAgICBtYXJrZXJfODZhYmRlM2Y3ZDU5NDJkYjhiZDc2YzZmNThiNDA4YTcuYmluZFRvb2x0aXAoCiAgICAgICAgICAgICAgICBgPGRpdj4KICAgICAgICAgICAgICAgICAgICAgR29sZCBMaW5lOiBIZXJpdGFnZSBTcXVhcmUgLyBBcnJveW8gU3RhdGlvbgogICAgICAgICAgICAgICAgIDwvZGl2PmAsCiAgICAgICAgICAgICAgICB7InN0aWNreSI6IHRydWV9CiAgICAgICAgICAgICk7CiAgICAgICAgCiAgICAKICAgICAgICAgICAgdmFyIG1hcmtlcl8xYWQ4ZDcxODI4ZTg0ZTc5YmY1YTE2NWQxMDY1MTU1ZCA9IEwubWFya2VyKAogICAgICAgICAgICAgICAgWzM0LjA5ODI0MywgLTExOC4yMDY3MTJdLAogICAgICAgICAgICAgICAge30KICAgICAgICAgICAgKS5hZGRUbyhtYXBfYzQ5YzgzZGYwNDM5NDBkNmJiZDc0NDlmZWYzM2U4MWYpOwogICAgICAgIAogICAgCiAgICAgICAgICAgIHZhciBpY29uXzhiY2JhOWU1ZGNmMjRkNmNhNzVlMTZhZDJjZjExZTRhID0gTC5Bd2Vzb21lTWFya2Vycy5pY29uKAogICAgICAgICAgICAgICAgeyJleHRyYUNsYXNzZXMiOiAiZmEtcm90YXRlLTAiLCAiaWNvbiI6ICJpbmZvLXNpZ24iLCAiaWNvbkNvbG9yIjogIndoaXRlIiwgIm1hcmtlckNvbG9yIjogImJlaWdlIiwgInByZWZpeCI6ICJnbHlwaGljb24ifQogICAgICAgICAgICApOwogICAgICAgICAgICBtYXJrZXJfMWFkOGQ3MTgyOGU4NGU3OWJmNWExNjVkMTA2NTE1NWQuc2V0SWNvbihpY29uXzhiY2JhOWU1ZGNmMjRkNmNhNzVlMTZhZDJjZjExZTRhKTsKICAgICAgICAKICAgIAogICAgICAgIHZhciBwb3B1cF8yZDZmMzA5ZTcxZmY0ZTczYmFiYjRjN2Q0NzFlMmNhNSA9IEwucG9wdXAoeyJtYXhXaWR0aCI6ICIxMDAlIn0pOwoKICAgICAgICAKICAgICAgICAgICAgdmFyIGh0bWxfZDIzOTEyOTA3ZmI0NDViNTk2ZjQ4YjliNmUxYTY4YWYgPSAkKGA8ZGl2IGlkPSJodG1sX2QyMzkxMjkwN2ZiNDQ1YjU5NmY0OGI5YjZlMWE2OGFmIiBzdHlsZT0id2lkdGg6IDEwMC4wJTsgaGVpZ2h0OiAxMDAuMCU7Ij5Tb3V0aHdlc3QgTXVzZXVtIFN0YXRpb248L2Rpdj5gKVswXTsKICAgICAgICAgICAgcG9wdXBfMmQ2ZjMwOWU3MWZmNGU3M2JhYmI0YzdkNDcxZTJjYTUuc2V0Q29udGVudChodG1sX2QyMzkxMjkwN2ZiNDQ1YjU5NmY0OGI5YjZlMWE2OGFmKTsKICAgICAgICAKCiAgICAgICAgbWFya2VyXzFhZDhkNzE4MjhlODRlNzliZjVhMTY1ZDEwNjUxNTVkLmJpbmRQb3B1cChwb3B1cF8yZDZmMzA5ZTcxZmY0ZTczYmFiYjRjN2Q0NzFlMmNhNSkKICAgICAgICA7CgogICAgICAgIAogICAgCiAgICAKICAgICAgICAgICAgbWFya2VyXzFhZDhkNzE4MjhlODRlNzliZjVhMTY1ZDEwNjUxNTVkLmJpbmRUb29sdGlwKAogICAgICAgICAgICAgICAgYDxkaXY+CiAgICAgICAgICAgICAgICAgICAgIEdvbGQgTGluZTogU291dGh3ZXN0IE11c2V1bSBTdGF0aW9uCiAgICAgICAgICAgICAgICAgPC9kaXY+YCwKICAgICAgICAgICAgICAgIHsic3RpY2t5IjogdHJ1ZX0KICAgICAgICAgICAgKTsKICAgICAgICAKICAgIAogICAgICAgICAgICB2YXIgbWFya2VyXzE1MjRjYzY5YjJkMzRjZGQ5MGUyMTNiNmRiZTdiZGE4ID0gTC5tYXJrZXIoCiAgICAgICAgICAgICAgICBbMzQuMTExMTc5LCAtMTE4LjE5MjYwNl0sCiAgICAgICAgICAgICAgICB7fQogICAgICAgICAgICApLmFkZFRvKG1hcF9jNDljODNkZjA0Mzk0MGQ2YmJkNzQ0OWZlZjMzZTgxZik7CiAgICAgICAgCiAgICAKICAgICAgICAgICAgdmFyIGljb25fNGU3ZGUxYjczY2FhNGJkNDgwYzM3OTdjZjcwNjQ1MmMgPSBMLkF3ZXNvbWVNYXJrZXJzLmljb24oCiAgICAgICAgICAgICAgICB7ImV4dHJhQ2xhc3NlcyI6ICJmYS1yb3RhdGUtMCIsICJpY29uIjogImluZm8tc2lnbiIsICJpY29uQ29sb3IiOiAid2hpdGUiLCAibWFya2VyQ29sb3IiOiAiYmVpZ2UiLCAicHJlZml4IjogImdseXBoaWNvbiJ9CiAgICAgICAgICAgICk7CiAgICAgICAgICAgIG1hcmtlcl8xNTI0Y2M2OWIyZDM0Y2RkOTBlMjEzYjZkYmU3YmRhOC5zZXRJY29uKGljb25fNGU3ZGUxYjczY2FhNGJkNDgwYzM3OTdjZjcwNjQ1MmMpOwogICAgICAgIAogICAgCiAgICAgICAgdmFyIHBvcHVwXzQzZTlkNGMxZmQ3NzRkYWE5ODNkOTY4ZDYxY2E0OGZiID0gTC5wb3B1cCh7Im1heFdpZHRoIjogIjEwMCUifSk7CgogICAgICAgIAogICAgICAgICAgICB2YXIgaHRtbF8wZDUwOWQzOWZmY2M0YzMyOTM5MGY0ZWMwNDRhOGQwYiA9ICQoYDxkaXYgaWQ9Imh0bWxfMGQ1MDlkMzlmZmNjNGMzMjkzOTBmNGVjMDQ0YThkMGIiIHN0eWxlPSJ3aWR0aDogMTAwLjAlOyBoZWlnaHQ6IDEwMC4wJTsiPkhpZ2hsYW5kIFBhcmsgU3RhdGlvbjwvZGl2PmApWzBdOwogICAgICAgICAgICBwb3B1cF80M2U5ZDRjMWZkNzc0ZGFhOTgzZDk2OGQ2MWNhNDhmYi5zZXRDb250ZW50KGh0bWxfMGQ1MDlkMzlmZmNjNGMzMjkzOTBmNGVjMDQ0YThkMGIpOwogICAgICAgIAoKICAgICAgICBtYXJrZXJfMTUyNGNjNjliMmQzNGNkZDkwZTIxM2I2ZGJlN2JkYTguYmluZFBvcHVwKHBvcHVwXzQzZTlkNGMxZmQ3NzRkYWE5ODNkOTY4ZDYxY2E0OGZiKQogICAgICAgIDsKCiAgICAgICAgCiAgICAKICAgIAogICAgICAgICAgICBtYXJrZXJfMTUyNGNjNjliMmQzNGNkZDkwZTIxM2I2ZGJlN2JkYTguYmluZFRvb2x0aXAoCiAgICAgICAgICAgICAgICBgPGRpdj4KICAgICAgICAgICAgICAgICAgICAgR29sZCBMaW5lOiBIaWdobGFuZCBQYXJrIFN0YXRpb24KICAgICAgICAgICAgICAgICA8L2Rpdj5gLAogICAgICAgICAgICAgICAgeyJzdGlja3kiOiB0cnVlfQogICAgICAgICAgICApOwogICAgICAgIAogICAgCiAgICAgICAgICAgIHZhciBtYXJrZXJfYWJhNGJjNTY2NGRmNDQyMzhhMDE5MGJjMTIwNzFjZDUgPSBMLm1hcmtlcigKICAgICAgICAgICAgICAgIFszNC4xMTUxODYsIC0xMTguMTU3ODg2XSwKICAgICAgICAgICAgICAgIHt9CiAgICAgICAgICAgICkuYWRkVG8obWFwX2M0OWM4M2RmMDQzOTQwZDZiYmQ3NDQ5ZmVmMzNlODFmKTsKICAgICAgICAKICAgIAogICAgICAgICAgICB2YXIgaWNvbl8xZDA2YzAyZWNmNjg0OTA3YTQ3NDZlZWJmMGYxM2I5YyA9IEwuQXdlc29tZU1hcmtlcnMuaWNvbigKICAgICAgICAgICAgICAgIHsiZXh0cmFDbGFzc2VzIjogImZhLXJvdGF0ZS0wIiwgImljb24iOiAiaW5mby1zaWduIiwgImljb25Db2xvciI6ICJ3aGl0ZSIsICJtYXJrZXJDb2xvciI6ICJiZWlnZSIsICJwcmVmaXgiOiAiZ2x5cGhpY29uIn0KICAgICAgICAgICAgKTsKICAgICAgICAgICAgbWFya2VyX2FiYTRiYzU2NjRkZjQ0MjM4YTAxOTBiYzEyMDcxY2Q1LnNldEljb24oaWNvbl8xZDA2YzAyZWNmNjg0OTA3YTQ3NDZlZWJmMGYxM2I5Yyk7CiAgICAgICAgCiAgICAKICAgICAgICB2YXIgcG9wdXBfY2QwZjU3ODIyOTQyNDQ5MWI3ODk0OWQ5MzczYzlmNTggPSBMLnBvcHVwKHsibWF4V2lkdGgiOiAiMTAwJSJ9KTsKCiAgICAgICAgCiAgICAgICAgICAgIHZhciBodG1sX2ZhNjQ3OWE2MzM3ZDRkMjE4Y2EzNDY1MzllMTg0YTBjID0gJChgPGRpdiBpZD0iaHRtbF9mYTY0NzlhNjMzN2Q0ZDIxOGNhMzQ2NTM5ZTE4NGEwYyIgc3R5bGU9IndpZHRoOiAxMDAuMCU7IGhlaWdodDogMTAwLjAlOyI+U291dGggUGFzYWRlbmEgU3RhdGlvbjwvZGl2PmApWzBdOwogICAgICAgICAgICBwb3B1cF9jZDBmNTc4MjI5NDI0NDkxYjc4OTQ5ZDkzNzNjOWY1OC5zZXRDb250ZW50KGh0bWxfZmE2NDc5YTYzMzdkNGQyMThjYTM0NjUzOWUxODRhMGMpOwogICAgICAgIAoKICAgICAgICBtYXJrZXJfYWJhNGJjNTY2NGRmNDQyMzhhMDE5MGJjMTIwNzFjZDUuYmluZFBvcHVwKHBvcHVwX2NkMGY1NzgyMjk0MjQ0OTFiNzg5NDlkOTM3M2M5ZjU4KQogICAgICAgIDsKCiAgICAgICAgCiAgICAKICAgIAogICAgICAgICAgICBtYXJrZXJfYWJhNGJjNTY2NGRmNDQyMzhhMDE5MGJjMTIwNzFjZDUuYmluZFRvb2x0aXAoCiAgICAgICAgICAgICAgICBgPGRpdj4KICAgICAgICAgICAgICAgICAgICAgR29sZCBMaW5lOiBTb3V0aCBQYXNhZGVuYSBTdGF0aW9uCiAgICAgICAgICAgICAgICAgPC9kaXY+YCwKICAgICAgICAgICAgICAgIHsic3RpY2t5IjogdHJ1ZX0KICAgICAgICAgICAgKTsKICAgICAgICAKICAgIAogICAgICAgICAgICB2YXIgbWFya2VyX2I5NzE0NzUxZDZjNjQ4MmRhYmJkYTBjZWJkOWIzZjBhID0gTC5tYXJrZXIoCiAgICAgICAgICAgICAgICBbMzQuMTMzNTIxLCAtMTE4LjE0ODEyNl0sCiAgICAgICAgICAgICAgICB7fQogICAgICAgICAgICApLmFkZFRvKG1hcF9jNDljODNkZjA0Mzk0MGQ2YmJkNzQ0OWZlZjMzZTgxZik7CiAgICAgICAgCiAgICAKICAgICAgICAgICAgdmFyIGljb25fNjQ3ZTRlYjkyZWJmNGExMWFiZWYzMTM3Yzk1ZmE5NjQgPSBMLkF3ZXNvbWVNYXJrZXJzLmljb24oCiAgICAgICAgICAgICAgICB7ImV4dHJhQ2xhc3NlcyI6ICJmYS1yb3RhdGUtMCIsICJpY29uIjogImluZm8tc2lnbiIsICJpY29uQ29sb3IiOiAid2hpdGUiLCAibWFya2VyQ29sb3IiOiAiYmVpZ2UiLCAicHJlZml4IjogImdseXBoaWNvbiJ9CiAgICAgICAgICAgICk7CiAgICAgICAgICAgIG1hcmtlcl9iOTcxNDc1MWQ2YzY0ODJkYWJiZGEwY2ViZDliM2YwYS5zZXRJY29uKGljb25fNjQ3ZTRlYjkyZWJmNGExMWFiZWYzMTM3Yzk1ZmE5NjQpOwogICAgICAgIAogICAgCiAgICAgICAgdmFyIHBvcHVwXzhkZTljNDY1NjIzZjRiNTA4MDcyMDgyZWY3OGYyNTYzID0gTC5wb3B1cCh7Im1heFdpZHRoIjogIjEwMCUifSk7CgogICAgICAgIAogICAgICAgICAgICB2YXIgaHRtbF80MjY0NzlkNmRhYjE0MjZjYjliMTQ4ZWM3M2JmMTIyZiA9ICQoYDxkaXYgaWQ9Imh0bWxfNDI2NDc5ZDZkYWIxNDI2Y2I5YjE0OGVjNzNiZjEyMmYiIHN0eWxlPSJ3aWR0aDogMTAwLjAlOyBoZWlnaHQ6IDEwMC4wJTsiPkZpbGxtb3JlIFN0YXRpb248L2Rpdj5gKVswXTsKICAgICAgICAgICAgcG9wdXBfOGRlOWM0NjU2MjNmNGI1MDgwNzIwODJlZjc4ZjI1NjMuc2V0Q29udGVudChodG1sXzQyNjQ3OWQ2ZGFiMTQyNmNiOWIxNDhlYzczYmYxMjJmKTsKICAgICAgICAKCiAgICAgICAgbWFya2VyX2I5NzE0NzUxZDZjNjQ4MmRhYmJkYTBjZWJkOWIzZjBhLmJpbmRQb3B1cChwb3B1cF84ZGU5YzQ2NTYyM2Y0YjUwODA3MjA4MmVmNzhmMjU2MykKICAgICAgICA7CgogICAgICAgIAogICAgCiAgICAKICAgICAgICAgICAgbWFya2VyX2I5NzE0NzUxZDZjNjQ4MmRhYmJkYTBjZWJkOWIzZjBhLmJpbmRUb29sdGlwKAogICAgICAgICAgICAgICAgYDxkaXY+CiAgICAgICAgICAgICAgICAgICAgIEdvbGQgTGluZTogRmlsbG1vcmUgU3RhdGlvbgogICAgICAgICAgICAgICAgIDwvZGl2PmAsCiAgICAgICAgICAgICAgICB7InN0aWNreSI6IHRydWV9CiAgICAgICAgICAgICk7CiAgICAgICAgCiAgICAKICAgICAgICAgICAgdmFyIG1hcmtlcl80YjA0Y2QzNzEwZDU0MTg1YTcwOGE4Yzk1Y2JlZDliYiA9IEwubWFya2VyKAogICAgICAgICAgICAgICAgWzM0LjE0MTkxLCAtMTE4LjE0ODIxNF0sCiAgICAgICAgICAgICAgICB7fQogICAgICAgICAgICApLmFkZFRvKG1hcF9jNDljODNkZjA0Mzk0MGQ2YmJkNzQ0OWZlZjMzZTgxZik7CiAgICAgICAgCiAgICAKICAgICAgICAgICAgdmFyIGljb25fMzVmZTIwNTcyZmNhNGY5Zjk5MzkzMzdjMmUzZWZjYzYgPSBMLkF3ZXNvbWVNYXJrZXJzLmljb24oCiAgICAgICAgICAgICAgICB7ImV4dHJhQ2xhc3NlcyI6ICJmYS1yb3RhdGUtMCIsICJpY29uIjogImluZm8tc2lnbiIsICJpY29uQ29sb3IiOiAid2hpdGUiLCAibWFya2VyQ29sb3IiOiAiYmVpZ2UiLCAicHJlZml4IjogImdseXBoaWNvbiJ9CiAgICAgICAgICAgICk7CiAgICAgICAgICAgIG1hcmtlcl80YjA0Y2QzNzEwZDU0MTg1YTcwOGE4Yzk1Y2JlZDliYi5zZXRJY29uKGljb25fMzVmZTIwNTcyZmNhNGY5Zjk5MzkzMzdjMmUzZWZjYzYpOwogICAgICAgIAogICAgCiAgICAgICAgdmFyIHBvcHVwX2FiOTMzNzkwZjNlMjRjZDU5Yzk2NmZlNTc3NGU4ZjBmID0gTC5wb3B1cCh7Im1heFdpZHRoIjogIjEwMCUifSk7CgogICAgICAgIAogICAgICAgICAgICB2YXIgaHRtbF84Nzc2ZjE3MWU1NDc0YzZkYTA2Njk2ZGM0ZWM2MTVmYSA9ICQoYDxkaXYgaWQ9Imh0bWxfODc3NmYxNzFlNTQ3NGM2ZGEwNjY5NmRjNGVjNjE1ZmEiIHN0eWxlPSJ3aWR0aDogMTAwLjAlOyBoZWlnaHQ6IDEwMC4wJTsiPkRlbCBNYXIgU3RhdGlvbjwvZGl2PmApWzBdOwogICAgICAgICAgICBwb3B1cF9hYjkzMzc5MGYzZTI0Y2Q1OWM5NjZmZTU3NzRlOGYwZi5zZXRDb250ZW50KGh0bWxfODc3NmYxNzFlNTQ3NGM2ZGEwNjY5NmRjNGVjNjE1ZmEpOwogICAgICAgIAoKICAgICAgICBtYXJrZXJfNGIwNGNkMzcxMGQ1NDE4NWE3MDhhOGM5NWNiZWQ5YmIuYmluZFBvcHVwKHBvcHVwX2FiOTMzNzkwZjNlMjRjZDU5Yzk2NmZlNTc3NGU4ZjBmKQogICAgICAgIDsKCiAgICAgICAgCiAgICAKICAgIAogICAgICAgICAgICBtYXJrZXJfNGIwNGNkMzcxMGQ1NDE4NWE3MDhhOGM5NWNiZWQ5YmIuYmluZFRvb2x0aXAoCiAgICAgICAgICAgICAgICBgPGRpdj4KICAgICAgICAgICAgICAgICAgICAgR29sZCBMaW5lOiBEZWwgTWFyIFN0YXRpb24KICAgICAgICAgICAgICAgICA8L2Rpdj5gLAogICAgICAgICAgICAgICAgeyJzdGlja3kiOiB0cnVlfQogICAgICAgICAgICApOwogICAgICAgIAogICAgCiAgICAgICAgICAgIHZhciBtYXJrZXJfYWJjNTEwMDU5MjAzNDcyNTg5MzNlODhkMWVmYzk1N2MgPSBMLm1hcmtlcigKICAgICAgICAgICAgICAgIFszNC4xNDgzNTYsIC0xMTguMTQ3NTEyXSwKICAgICAgICAgICAgICAgIHt9CiAgICAgICAgICAgICkuYWRkVG8obWFwX2M0OWM4M2RmMDQzOTQwZDZiYmQ3NDQ5ZmVmMzNlODFmKTsKICAgICAgICAKICAgIAogICAgICAgICAgICB2YXIgaWNvbl8yNzdjNWI3YmRhMDA0YTgzOWZjM2I2OGFhMmY2OTJiMCA9IEwuQXdlc29tZU1hcmtlcnMuaWNvbigKICAgICAgICAgICAgICAgIHsiZXh0cmFDbGFzc2VzIjogImZhLXJvdGF0ZS0wIiwgImljb24iOiAiaW5mby1zaWduIiwgImljb25Db2xvciI6ICJ3aGl0ZSIsICJtYXJrZXJDb2xvciI6ICJiZWlnZSIsICJwcmVmaXgiOiAiZ2x5cGhpY29uIn0KICAgICAgICAgICAgKTsKICAgICAgICAgICAgbWFya2VyX2FiYzUxMDA1OTIwMzQ3MjU4OTMzZTg4ZDFlZmM5NTdjLnNldEljb24oaWNvbl8yNzdjNWI3YmRhMDA0YTgzOWZjM2I2OGFhMmY2OTJiMCk7CiAgICAgICAgCiAgICAKICAgICAgICB2YXIgcG9wdXBfNzU5OWU3NWJhM2UwNGIwYzk0ODdlNzFlNmZhNDViNjQgPSBMLnBvcHVwKHsibWF4V2lkdGgiOiAiMTAwJSJ9KTsKCiAgICAgICAgCiAgICAgICAgICAgIHZhciBodG1sXzkyNDhlODc4MGJmNTRiY2U5Mjk0MzViMmRmNTg5YTlmID0gJChgPGRpdiBpZD0iaHRtbF85MjQ4ZTg3ODBiZjU0YmNlOTI5NDM1YjJkZjU4OWE5ZiIgc3R5bGU9IndpZHRoOiAxMDAuMCU7IGhlaWdodDogMTAwLjAlOyI+TWVtb3JpYWwgUGFyayBTdGF0aW9uPC9kaXY+YClbMF07CiAgICAgICAgICAgIHBvcHVwXzc1OTllNzViYTNlMDRiMGM5NDg3ZTcxZTZmYTQ1YjY0LnNldENvbnRlbnQoaHRtbF85MjQ4ZTg3ODBiZjU0YmNlOTI5NDM1YjJkZjU4OWE5Zik7CiAgICAgICAgCgogICAgICAgIG1hcmtlcl9hYmM1MTAwNTkyMDM0NzI1ODkzM2U4OGQxZWZjOTU3Yy5iaW5kUG9wdXAocG9wdXBfNzU5OWU3NWJhM2UwNGIwYzk0ODdlNzFlNmZhNDViNjQpCiAgICAgICAgOwoKICAgICAgICAKICAgIAogICAgCiAgICAgICAgICAgIG1hcmtlcl9hYmM1MTAwNTkyMDM0NzI1ODkzM2U4OGQxZWZjOTU3Yy5iaW5kVG9vbHRpcCgKICAgICAgICAgICAgICAgIGA8ZGl2PgogICAgICAgICAgICAgICAgICAgICBHb2xkIExpbmU6IE1lbW9yaWFsIFBhcmsgU3RhdGlvbgogICAgICAgICAgICAgICAgIDwvZGl2PmAsCiAgICAgICAgICAgICAgICB7InN0aWNreSI6IHRydWV9CiAgICAgICAgICAgICk7CiAgICAgICAgCiAgICAKICAgICAgICAgICAgdmFyIG1hcmtlcl9kMWVkOWRkM2I3OGM0NzhlYjMxZTQzNGUyNDM1OTA5YiA9IEwubWFya2VyKAogICAgICAgICAgICAgICAgWzM0LjE1MTgwNiwgLTExOC4xMzEzOV0sCiAgICAgICAgICAgICAgICB7fQogICAgICAgICAgICApLmFkZFRvKG1hcF9jNDljODNkZjA0Mzk0MGQ2YmJkNzQ0OWZlZjMzZTgxZik7CiAgICAgICAgCiAgICAKICAgICAgICAgICAgdmFyIGljb25fMzRlNzIwMGE2MmRlNDhhYThlNGFjMWU3NDQxNDkyZWUgPSBMLkF3ZXNvbWVNYXJrZXJzLmljb24oCiAgICAgICAgICAgICAgICB7ImV4dHJhQ2xhc3NlcyI6ICJmYS1yb3RhdGUtMCIsICJpY29uIjogImluZm8tc2lnbiIsICJpY29uQ29sb3IiOiAid2hpdGUiLCAibWFya2VyQ29sb3IiOiAiYmVpZ2UiLCAicHJlZml4IjogImdseXBoaWNvbiJ9CiAgICAgICAgICAgICk7CiAgICAgICAgICAgIG1hcmtlcl9kMWVkOWRkM2I3OGM0NzhlYjMxZTQzNGUyNDM1OTA5Yi5zZXRJY29uKGljb25fMzRlNzIwMGE2MmRlNDhhYThlNGFjMWU3NDQxNDkyZWUpOwogICAgICAgIAogICAgCiAgICAgICAgdmFyIHBvcHVwX2I3YjdiY2NhNzQ3ZTRkOTM5ZDdhM2FkZGFkMGQzZGE3ID0gTC5wb3B1cCh7Im1heFdpZHRoIjogIjEwMCUifSk7CgogICAgICAgIAogICAgICAgICAgICB2YXIgaHRtbF9iMjQ0MWI0OTU1YjE0ZDUzODdmYzE5YjNmNWZkYTM2MSA9ICQoYDxkaXYgaWQ9Imh0bWxfYjI0NDFiNDk1NWIxNGQ1Mzg3ZmMxOWIzZjVmZGEzNjEiIHN0eWxlPSJ3aWR0aDogMTAwLjAlOyBoZWlnaHQ6IDEwMC4wJTsiPkxha2UgU3RhdGlvbjwvZGl2PmApWzBdOwogICAgICAgICAgICBwb3B1cF9iN2I3YmNjYTc0N2U0ZDkzOWQ3YTNhZGRhZDBkM2RhNy5zZXRDb250ZW50KGh0bWxfYjI0NDFiNDk1NWIxNGQ1Mzg3ZmMxOWIzZjVmZGEzNjEpOwogICAgICAgIAoKICAgICAgICBtYXJrZXJfZDFlZDlkZDNiNzhjNDc4ZWIzMWU0MzRlMjQzNTkwOWIuYmluZFBvcHVwKHBvcHVwX2I3YjdiY2NhNzQ3ZTRkOTM5ZDdhM2FkZGFkMGQzZGE3KQogICAgICAgIDsKCiAgICAgICAgCiAgICAKICAgIAogICAgICAgICAgICBtYXJrZXJfZDFlZDlkZDNiNzhjNDc4ZWIzMWU0MzRlMjQzNTkwOWIuYmluZFRvb2x0aXAoCiAgICAgICAgICAgICAgICBgPGRpdj4KICAgICAgICAgICAgICAgICAgICAgR29sZCBMaW5lOiBMYWtlIFN0YXRpb24KICAgICAgICAgICAgICAgICA8L2Rpdj5gLAogICAgICAgICAgICAgICAgeyJzdGlja3kiOiB0cnVlfQogICAgICAgICAgICApOwogICAgICAgIAogICAgCiAgICAgICAgICAgIHZhciBtYXJrZXJfZjRiY2VhYjBjODQxNGMwOTk1MTlkZDdlZmU2OWY2NGEgPSBMLm1hcmtlcigKICAgICAgICAgICAgICAgIFszNC4xNTI0MTcsIC0xMTguMTE0MzQ4XSwKICAgICAgICAgICAgICAgIHt9CiAgICAgICAgICAgICkuYWRkVG8obWFwX2M0OWM4M2RmMDQzOTQwZDZiYmQ3NDQ5ZmVmMzNlODFmKTsKICAgICAgICAKICAgIAogICAgICAgICAgICB2YXIgaWNvbl84MTA1YjZhYjlkZjc0M2FkYjNkY2I5ZDcxYzI1ZTg3NiA9IEwuQXdlc29tZU1hcmtlcnMuaWNvbigKICAgICAgICAgICAgICAgIHsiZXh0cmFDbGFzc2VzIjogImZhLXJvdGF0ZS0wIiwgImljb24iOiAiaW5mby1zaWduIiwgImljb25Db2xvciI6ICJ3aGl0ZSIsICJtYXJrZXJDb2xvciI6ICJiZWlnZSIsICJwcmVmaXgiOiAiZ2x5cGhpY29uIn0KICAgICAgICAgICAgKTsKICAgICAgICAgICAgbWFya2VyX2Y0YmNlYWIwYzg0MTRjMDk5NTE5ZGQ3ZWZlNjlmNjRhLnNldEljb24oaWNvbl84MTA1YjZhYjlkZjc0M2FkYjNkY2I5ZDcxYzI1ZTg3Nik7CiAgICAgICAgCiAgICAKICAgICAgICB2YXIgcG9wdXBfZTQ2ZmY5NWM1MjI3NGIzYTliN2E3YzNiNzA3MTdiYWYgPSBMLnBvcHVwKHsibWF4V2lkdGgiOiAiMTAwJSJ9KTsKCiAgICAgICAgCiAgICAgICAgICAgIHZhciBodG1sXzk4ODRhOWYwM2VjNTRmOTA5MmVkMjMxZDIyZTRlZWM3ID0gJChgPGRpdiBpZD0iaHRtbF85ODg0YTlmMDNlYzU0ZjkwOTJlZDIzMWQyMmU0ZWVjNyIgc3R5bGU9IndpZHRoOiAxMDAuMCU7IGhlaWdodDogMTAwLjAlOyI+QWxsZW4gU3RhdGlvbjwvZGl2PmApWzBdOwogICAgICAgICAgICBwb3B1cF9lNDZmZjk1YzUyMjc0YjNhOWI3YTdjM2I3MDcxN2JhZi5zZXRDb250ZW50KGh0bWxfOTg4NGE5ZjAzZWM1NGY5MDkyZWQyMzFkMjJlNGVlYzcpOwogICAgICAgIAoKICAgICAgICBtYXJrZXJfZjRiY2VhYjBjODQxNGMwOTk1MTlkZDdlZmU2OWY2NGEuYmluZFBvcHVwKHBvcHVwX2U0NmZmOTVjNTIyNzRiM2E5YjdhN2MzYjcwNzE3YmFmKQogICAgICAgIDsKCiAgICAgICAgCiAgICAKICAgIAogICAgICAgICAgICBtYXJrZXJfZjRiY2VhYjBjODQxNGMwOTk1MTlkZDdlZmU2OWY2NGEuYmluZFRvb2x0aXAoCiAgICAgICAgICAgICAgICBgPGRpdj4KICAgICAgICAgICAgICAgICAgICAgR29sZCBMaW5lOiBBbGxlbiBTdGF0aW9uCiAgICAgICAgICAgICAgICAgPC9kaXY+YCwKICAgICAgICAgICAgICAgIHsic3RpY2t5IjogdHJ1ZX0KICAgICAgICAgICAgKTsKICAgICAgICAKICAgIAogICAgICAgICAgICB2YXIgbWFya2VyX2JjZTAyMjZkOGYyMjQ1MDk4MWVmZTk1MzE0YWQzNWRmID0gTC5tYXJrZXIoCiAgICAgICAgICAgICAgICBbMzQuMTQ3NzUyLCAtMTE4LjA4MTIxMl0sCiAgICAgICAgICAgICAgICB7fQogICAgICAgICAgICApLmFkZFRvKG1hcF9jNDljODNkZjA0Mzk0MGQ2YmJkNzQ0OWZlZjMzZTgxZik7CiAgICAgICAgCiAgICAKICAgICAgICAgICAgdmFyIGljb25fYTExZjI1OWY1ZDJhNDAzYzllOTk1Y2FmMGEzNzg5NDkgPSBMLkF3ZXNvbWVNYXJrZXJzLmljb24oCiAgICAgICAgICAgICAgICB7ImV4dHJhQ2xhc3NlcyI6ICJmYS1yb3RhdGUtMCIsICJpY29uIjogImluZm8tc2lnbiIsICJpY29uQ29sb3IiOiAid2hpdGUiLCAibWFya2VyQ29sb3IiOiAiYmVpZ2UiLCAicHJlZml4IjogImdseXBoaWNvbiJ9CiAgICAgICAgICAgICk7CiAgICAgICAgICAgIG1hcmtlcl9iY2UwMjI2ZDhmMjI0NTA5ODFlZmU5NTMxNGFkMzVkZi5zZXRJY29uKGljb25fYTExZjI1OWY1ZDJhNDAzYzllOTk1Y2FmMGEzNzg5NDkpOwogICAgICAgIAogICAgCiAgICAgICAgdmFyIHBvcHVwXzlkYjk4OTY4ZjhhNzQ1OTVhMWY5ZTRkOWJjODQ5OTI4ID0gTC5wb3B1cCh7Im1heFdpZHRoIjogIjEwMCUifSk7CgogICAgICAgIAogICAgICAgICAgICB2YXIgaHRtbF8wMDE0ZjBjNTJiMTc0MjFiYWJkZTJhZDM0YTcyOWZhMiA9ICQoYDxkaXYgaWQ9Imh0bWxfMDAxNGYwYzUyYjE3NDIxYmFiZGUyYWQzNGE3MjlmYTIiIHN0eWxlPSJ3aWR0aDogMTAwLjAlOyBoZWlnaHQ6IDEwMC4wJTsiPlNpZXJyYSBNYWRyZSBWaWxsYSBTdGF0aW9uPC9kaXY+YClbMF07CiAgICAgICAgICAgIHBvcHVwXzlkYjk4OTY4ZjhhNzQ1OTVhMWY5ZTRkOWJjODQ5OTI4LnNldENvbnRlbnQoaHRtbF8wMDE0ZjBjNTJiMTc0MjFiYWJkZTJhZDM0YTcyOWZhMik7CiAgICAgICAgCgogICAgICAgIG1hcmtlcl9iY2UwMjI2ZDhmMjI0NTA5ODFlZmU5NTMxNGFkMzVkZi5iaW5kUG9wdXAocG9wdXBfOWRiOTg5NjhmOGE3NDU5NWExZjllNGQ5YmM4NDk5MjgpCiAgICAgICAgOwoKICAgICAgICAKICAgIAogICAgCiAgICAgICAgICAgIG1hcmtlcl9iY2UwMjI2ZDhmMjI0NTA5ODFlZmU5NTMxNGFkMzVkZi5iaW5kVG9vbHRpcCgKICAgICAgICAgICAgICAgIGA8ZGl2PgogICAgICAgICAgICAgICAgICAgICBHb2xkIExpbmU6IFNpZXJyYSBNYWRyZSBWaWxsYSBTdGF0aW9uCiAgICAgICAgICAgICAgICAgPC9kaXY+YCwKICAgICAgICAgICAgICAgIHsic3RpY2t5IjogdHJ1ZX0KICAgICAgICAgICAgKTsKICAgICAgICAKPC9zY3JpcHQ+ onload=\"this.contentDocument.open();this.contentDocument.write(atob(this.getAttribute('data-html')));this.contentDocument.close();\" allowfullscreen webkitallowfullscreen mozallowfullscreen></iframe></div></div>"
      ],
      "text/plain": [
       "<folium.folium.Map at 0x7f19f54b9340>"
      ]
     },
     "execution_count": 62,
     "metadata": {},
     "output_type": "execute_result"
    }
   ],
   "source": [
    "# add the stations with color icons\n",
    "for index, row in metro_trimmed.iterrows():\n",
    "    tooltip_text = row.LINE + ' Line: ' + row.STATION\n",
    "    folium.Marker(\n",
    "        [row.LAT,row.LONG], \n",
    "        popup=row.STATION, \n",
    "        tooltip=tooltip_text,\n",
    "        icon=folium.Icon(color=row.color)\n",
    "    ).add_to(m)\n",
    "\n",
    "# show the map\n",
    "m"
   ]
  },
  {
   "cell_type": "markdown",
   "metadata": {
    "slideshow": {
     "slide_type": "slide"
    }
   },
   "source": [
    "### Saving your folium map as an HTML file"
   ]
  },
  {
   "cell_type": "code",
   "execution_count": null,
   "metadata": {
    "slideshow": {
     "slide_type": "-"
    }
   },
   "outputs": [],
   "source": [
    "# save the interactive maps as an html file\n",
    "m.save('metro.html')"
   ]
  }
 ],
 "metadata": {
  "celltoolbar": "Slideshow",
  "kernelspec": {
   "display_name": "Python 3",
   "language": "python",
   "name": "python3"
  },
  "language_info": {
   "codemirror_mode": {
    "name": "ipython",
    "version": 3
   },
   "file_extension": ".py",
   "mimetype": "text/x-python",
   "name": "python",
   "nbconvert_exporter": "python",
   "pygments_lexer": "ipython3",
   "version": "3.8.5"
  },
  "toc": {
   "base_numbering": 1,
   "nav_menu": {},
   "number_sections": true,
   "sideBar": true,
   "skip_h1_title": false,
   "title_cell": "Table of Contents",
   "title_sidebar": "Contents",
   "toc_cell": true,
   "toc_position": {
    "height": "757px",
    "left": "523px",
    "top": "110px",
    "width": "384px"
   },
   "toc_section_display": true,
   "toc_window_display": true
  }
 },
 "nbformat": 4,
 "nbformat_minor": 4
}
